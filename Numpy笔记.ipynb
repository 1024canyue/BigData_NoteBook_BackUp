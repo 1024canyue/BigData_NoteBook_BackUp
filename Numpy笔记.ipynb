{
 "cells": [
  {
   "cell_type": "markdown",
   "id": "9df07e48",
   "metadata": {},
   "source": [
    "笔记是看的是B站UP主:蚂蚁学Python的视频学习时所作 他的Github主页：https://github.com/peiss"
   ]
  },
  {
   "cell_type": "code",
   "execution_count": 1,
   "id": "8fa54935",
   "metadata": {},
   "outputs": [],
   "source": [
    "import numpy as np"
   ]
  },
  {
   "cell_type": "markdown",
   "id": "ff5951b1",
   "metadata": {},
   "source": [
    "# array 对象"
   ]
  },
  {
   "cell_type": "markdown",
   "id": "5a6d03c2",
   "metadata": {},
   "source": [
    "（来自B站UP主:蚂蚁学Python）\n",
    "#### array对象的背景     \n",
    "* Numpy的核心数据结构，就叫做array就是数组，array对象可以是一维数组，也可以是多维数组；\n",
    "* Python的List也可以实现相同的功能，但是array比List的优点在于性能好、包含数组元数据信息、大量的便捷函数\n",
    "* Numpy成为事实上的Scipy、Pandas、Scikit-Learn、Tensorflow、PaddlePaddle等框架的“通用底层语言”\n",
    "* Numpy的array和Python的List的一个区别，是它元素必须都是同一种数据类型，比如都是数字int类型，这也是Numpy高性能的一个原因；\n",
    "\n",
    "#### array本身的属性\n",
    "* shape：返回一个元组，表示array的维度\n",
    "* ndim：一个数字，表示array的维度的数目\n",
    "* size：一个数字，表示array中所有数据元素的数目\n",
    "#### 创建array的方法\n",
    "* 从Python的列表List和嵌套列表创建array\n",
    "* 使用预定函数arange、ones/ones_like、zeros/zeros_like、empty/empty_like、full/full_like、eye等函数创建\n",
    "* 生成随机数的np.random模块构建\n",
    "#### array本身支持的大量操作和函数\n",
    "* 直接逐元素的加减乘除等算数操作\n",
    "* 更好用的面向多维的数组索引\n",
    "* 求sum/mean等聚合函数\n",
    "* 线性代数函数，比如求解逆矩阵、求解方程组\""
   ]
  },
  {
   "cell_type": "markdown",
   "id": "63de2071",
   "metadata": {},
   "source": [
    "## 使用原生list创建array\n",
    "https://numpy.org/doc/stable/reference/generated/numpy.array.html?highlight=array#numpy.array"
   ]
  },
  {
   "cell_type": "code",
   "execution_count": 2,
   "id": "a3566a4f",
   "metadata": {},
   "outputs": [
    {
     "data": {
      "text/plain": [
       "array([1, 2, 3, 4, 5, 6, 7, 8, 9])"
      ]
     },
     "execution_count": 2,
     "metadata": {},
     "output_type": "execute_result"
    }
   ],
   "source": [
    "#使用原生一维list创建一维array\n",
    "x1 = np.array([1,2,3,4,5,6,7,8,9])\n",
    "x1"
   ]
  },
  {
   "cell_type": "code",
   "execution_count": 3,
   "id": "23e4a89f",
   "metadata": {},
   "outputs": [
    {
     "data": {
      "text/plain": [
       "array([[1, 2, 3, 4],\n",
       "       [5, 6, 7, 8]])"
      ]
     },
     "execution_count": 3,
     "metadata": {},
     "output_type": "execute_result"
    }
   ],
   "source": [
    "#使用原生多维列表创建多维数组\n",
    "x2 = np.array(\n",
    "    [\n",
    "        [1,2,3,4]\n",
    "        ,[5,6,7,8]\n",
    "    ]\n",
    ")\n",
    "x2"
   ]
  },
  {
   "cell_type": "markdown",
   "id": "645569e7",
   "metadata": {},
   "source": [
    "## array的属性"
   ]
  },
  {
   "cell_type": "code",
   "execution_count": 4,
   "id": "abfc71a4",
   "metadata": {},
   "outputs": [
    {
     "data": {
      "text/plain": [
       "(9,)"
      ]
     },
     "execution_count": 4,
     "metadata": {},
     "output_type": "execute_result"
    }
   ],
   "source": [
    "x1.shape   #一维向量只有一个方向，长度为9"
   ]
  },
  {
   "cell_type": "code",
   "execution_count": 5,
   "id": "68afffa6",
   "metadata": {},
   "outputs": [
    {
     "data": {
      "text/plain": [
       "(2, 4)"
      ]
     },
     "execution_count": 5,
     "metadata": {},
     "output_type": "execute_result"
    }
   ],
   "source": [
    "x2.shape    #二维数组有两个方向，2行4列"
   ]
  },
  {
   "cell_type": "code",
   "execution_count": 6,
   "id": "1a2ad11e",
   "metadata": {},
   "outputs": [
    {
     "data": {
      "text/plain": [
       "1"
      ]
     },
     "execution_count": 6,
     "metadata": {},
     "output_type": "execute_result"
    }
   ],
   "source": [
    "x1.ndim   #x1的维度是1"
   ]
  },
  {
   "cell_type": "code",
   "execution_count": 7,
   "id": "5a249bbd",
   "metadata": {},
   "outputs": [
    {
     "data": {
      "text/plain": [
       "2"
      ]
     },
     "execution_count": 7,
     "metadata": {},
     "output_type": "execute_result"
    }
   ],
   "source": [
    "x2.ndim   #x2的维度是2"
   ]
  },
  {
   "cell_type": "code",
   "execution_count": 8,
   "id": "6f164cef",
   "metadata": {},
   "outputs": [
    {
     "data": {
      "text/plain": [
       "9"
      ]
     },
     "execution_count": 8,
     "metadata": {},
     "output_type": "execute_result"
    }
   ],
   "source": [
    "x1.size    #x1总共有9个元素"
   ]
  },
  {
   "cell_type": "code",
   "execution_count": 9,
   "id": "85a003d6",
   "metadata": {},
   "outputs": [
    {
     "data": {
      "text/plain": [
       "8"
      ]
     },
     "execution_count": 9,
     "metadata": {},
     "output_type": "execute_result"
    }
   ],
   "source": [
    "x2.size     #x2总共有8个元素（2X4）"
   ]
  },
  {
   "cell_type": "code",
   "execution_count": 10,
   "id": "bc1f575f",
   "metadata": {},
   "outputs": [
    {
     "data": {
      "text/plain": [
       "dtype('int32')"
      ]
     },
     "execution_count": 10,
     "metadata": {},
     "output_type": "execute_result"
    }
   ],
   "source": [
    "x1.dtype     #这两个元组都是32位的整数类型"
   ]
  },
  {
   "cell_type": "code",
   "execution_count": 11,
   "id": "0627f55d",
   "metadata": {},
   "outputs": [
    {
     "data": {
      "text/plain": [
       "dtype('int32')"
      ]
     },
     "execution_count": 11,
     "metadata": {},
     "output_type": "execute_result"
    }
   ],
   "source": [
    "x2.dtype     #⚠array的元素必须都是同一种类型"
   ]
  },
  {
   "cell_type": "markdown",
   "id": "28e2d97a",
   "metadata": {},
   "source": [
    "## 如何便捷的创建array\n",
    "https://numpy.org/doc/stable/reference/generated/numpy.array.html?highlight=array#numpy.array"
   ]
  },
  {
   "cell_type": "markdown",
   "id": "cebdd822",
   "metadata": {},
   "source": [
    "* 创建一个有序的数字序列"
   ]
  },
  {
   "cell_type": "code",
   "execution_count": 12,
   "id": "b8920c81",
   "metadata": {},
   "outputs": [
    {
     "data": {
      "text/plain": [
       "array([0, 1, 2, 3, 4, 5, 6, 7, 8, 9])"
      ]
     },
     "execution_count": 12,
     "metadata": {},
     "output_type": "execute_result"
    }
   ],
   "source": [
    "np.arange(10)   #0-10(不包含)的等差序列  语法类似range(起始值,结束值,步长)创建list ⚠二者一样都不包含结束值"
   ]
  },
  {
   "cell_type": "code",
   "execution_count": 13,
   "id": "67165a2b",
   "metadata": {},
   "outputs": [
    {
     "data": {
      "text/plain": [
       "array([1, 3, 5, 7, 9])"
      ]
     },
     "execution_count": 13,
     "metadata": {},
     "output_type": "execute_result"
    }
   ],
   "source": [
    "np.arange(1,10,2)   #1-10（不包含）步长为2的等差序列"
   ]
  },
  {
   "cell_type": "markdown",
   "id": "3228c8e9",
   "metadata": {},
   "source": [
    "* 创建都是填充某一元素的array"
   ]
  },
  {
   "cell_type": "code",
   "execution_count": 14,
   "id": "f4056681",
   "metadata": {},
   "outputs": [
    {
     "data": {
      "text/plain": [
       "array([1., 1., 1., 1., 1., 1., 1., 1., 1., 1.])"
      ]
     },
     "execution_count": 14,
     "metadata": {},
     "output_type": "execute_result"
    }
   ],
   "source": [
    "np.ones(10)   #长度为10，填充1的array"
   ]
  },
  {
   "cell_type": "code",
   "execution_count": 15,
   "id": "a02f6de7",
   "metadata": {},
   "outputs": [
    {
     "data": {
      "text/plain": [
       "array([0., 0., 0., 0.])"
      ]
     },
     "execution_count": 15,
     "metadata": {},
     "output_type": "execute_result"
    }
   ],
   "source": [
    "np.zeros(4)   #长度为4，填充0的array"
   ]
  },
  {
   "cell_type": "code",
   "execution_count": 16,
   "id": "03709c45",
   "metadata": {},
   "outputs": [
    {
     "data": {
      "text/plain": [
       "array([[0., 0.],\n",
       "       [0., 0.],\n",
       "       [0., 0.],\n",
       "       [0., 0.],\n",
       "       [0., 0.],\n",
       "       [0., 0.]])"
      ]
     },
     "execution_count": 16,
     "metadata": {},
     "output_type": "execute_result"
    }
   ],
   "source": [
    "np.empty((6,2))   #四行两列，填充未初始化数据(可能是0.也有可能是随机数)，注意括号"
   ]
  },
  {
   "cell_type": "code",
   "execution_count": 17,
   "id": "96acd37c",
   "metadata": {},
   "outputs": [
    {
     "data": {
      "text/plain": [
       "array([6, 6, 6, 6, 6, 6, 6, 6, 6, 6])"
      ]
     },
     "execution_count": 17,
     "metadata": {},
     "output_type": "execute_result"
    }
   ],
   "source": [
    "np.full(10,6)   #长度为10,指定填充6"
   ]
  },
  {
   "cell_type": "code",
   "execution_count": 18,
   "id": "fcb31c20",
   "metadata": {},
   "outputs": [
    {
     "data": {
      "text/plain": [
       "array([[678, 678, 678],\n",
       "       [678, 678, 678],\n",
       "       [678, 678, 678]])"
      ]
     },
     "execution_count": 18,
     "metadata": {},
     "output_type": "execute_result"
    }
   ],
   "source": [
    "np.full((3,3),678)   #3X3 指定填充678"
   ]
  },
  {
   "cell_type": "code",
   "execution_count": 19,
   "id": "08b43805",
   "metadata": {},
   "outputs": [
    {
     "data": {
      "text/plain": [
       "array([[1, 1, 1, 1],\n",
       "       [1, 1, 1, 1]])"
      ]
     },
     "execution_count": 19,
     "metadata": {},
     "output_type": "execute_result"
    }
   ],
   "source": [
    "np.ones_like(x2)   #创建与x2形状一样的全是1的array"
   ]
  },
  {
   "cell_type": "code",
   "execution_count": 20,
   "id": "dbdbbef6",
   "metadata": {},
   "outputs": [
    {
     "data": {
      "text/plain": [
       "array([[777, 777, 777, 777],\n",
       "       [777, 777, 777, 777]])"
      ]
     },
     "execution_count": 20,
     "metadata": {},
     "output_type": "execute_result"
    }
   ],
   "source": [
    "np.full_like(x2,777)   #创建与x2形状一样的全是777的array"
   ]
  },
  {
   "cell_type": "code",
   "execution_count": 21,
   "id": "19ccf3d8",
   "metadata": {},
   "outputs": [
    {
     "data": {
      "text/plain": [
       "1.4544825172628715"
      ]
     },
     "execution_count": 21,
     "metadata": {},
     "output_type": "execute_result"
    }
   ],
   "source": [
    "np.random.randn()   #产生一个单精度浮点类型的随机数（不是数组）"
   ]
  },
  {
   "cell_type": "code",
   "execution_count": 22,
   "id": "acd13ae2",
   "metadata": {},
   "outputs": [
    {
     "data": {
      "text/plain": [
       "array([1.61351047, 0.82922823, 0.37546123])"
      ]
     },
     "execution_count": 22,
     "metadata": {},
     "output_type": "execute_result"
    }
   ],
   "source": [
    "np.random.randn(3)   # 长度为3填充随机数的数组"
   ]
  },
  {
   "cell_type": "code",
   "execution_count": 23,
   "id": "c1bf5b1c",
   "metadata": {},
   "outputs": [
    {
     "data": {
      "text/plain": [
       "array([[-0.60785901, -1.11111568, -2.23078278,  0.54873579],\n",
       "       [ 0.91568765,  0.56017519, -0.79466561,  0.34473807],\n",
       "       [-1.22942478, -0.24847822, -0.89828059, -0.55709382]])"
      ]
     },
     "execution_count": 23,
     "metadata": {},
     "output_type": "execute_result"
    }
   ],
   "source": [
    "np.random.randn(3,4)    #3x2的填充随机数的数组"
   ]
  },
  {
   "cell_type": "code",
   "execution_count": 24,
   "id": "e74be97b",
   "metadata": {},
   "outputs": [
    {
     "data": {
      "text/plain": [
       "array([0, 1, 2, 3, 4])"
      ]
     },
     "execution_count": 24,
     "metadata": {},
     "output_type": "execute_result"
    }
   ],
   "source": [
    "'''numpy.fromiter 方法从可迭代对象中建立 ndarray 对象，返回一维数组。'''\n",
    "list=range(5)# 使用迭代器生成0-5列表\n",
    "np.fromiter(list, dtype=int)"
   ]
  },
  {
   "cell_type": "markdown",
   "id": "78e2d307",
   "metadata": {},
   "source": [
    "# array相关的函数与数学运算|\n",
    "mumpy数组支持许多函数,相较元素列表,array使用方便,拥有更好的性能"
   ]
  },
  {
   "cell_type": "code",
   "execution_count": 25,
   "id": "fb5365f2",
   "metadata": {},
   "outputs": [
    {
     "data": {
      "text/plain": [
       "(array([0, 1, 2, 3, 4, 5, 6, 7, 8, 9]),\n",
       " array([[3, 3, 3],\n",
       "        [4, 4, 4]]))"
      ]
     },
     "execution_count": 25,
     "metadata": {},
     "output_type": "execute_result"
    }
   ],
   "source": [
    "X=np.arange(10)\n",
    "Y=np.array([[3,3,3],[4,4,4]])\n",
    "X,Y"
   ]
  },
  {
   "cell_type": "code",
   "execution_count": 26,
   "id": "03140540",
   "metadata": {},
   "outputs": [
    {
     "data": {
      "text/plain": [
       "array([[0, 1, 2, 3, 4],\n",
       "       [5, 6, 7, 8, 9]])"
      ]
     },
     "execution_count": 26,
     "metadata": {},
     "output_type": "execute_result"
    }
   ],
   "source": [
    "X.reshape(2,5)   #注意，这并不直接改变原始数据"
   ]
  },
  {
   "cell_type": "markdown",
   "id": "24b95249",
   "metadata": {},
   "source": [
    "⚠注意：重置它的形状需保证数据正好与该形状容量相同，否者将抛出ValueError异常"
   ]
  },
  {
   "cell_type": "code",
   "execution_count": 27,
   "id": "80d14918",
   "metadata": {},
   "outputs": [
    {
     "data": {
      "text/plain": [
       "0"
      ]
     },
     "execution_count": 27,
     "metadata": {},
     "output_type": "execute_result"
    }
   ],
   "source": [
    "X.min()    #可以使用min/max返回最小值/最大值"
   ]
  },
  {
   "cell_type": "code",
   "execution_count": 28,
   "id": "d4745d22",
   "metadata": {},
   "outputs": [
    {
     "data": {
      "text/plain": [
       "4"
      ]
     },
     "execution_count": 28,
     "metadata": {},
     "output_type": "execute_result"
    }
   ],
   "source": [
    "Y.max()      #包含多维度也没关系，会计算所有维度"
   ]
  },
  {
   "cell_type": "code",
   "execution_count": 29,
   "id": "bbb8056f",
   "metadata": {},
   "outputs": [
    {
     "name": "stdout",
     "output_type": "stream",
     "text": [
      "[ 9  1  6  8 12  3 17  5 15 16  0 18 19 13  2  7 11 14  4 10]\n",
      "[2 2 2 2 2 3 4 4 4 5 5 5 5 6 6 7 9 9 9 9]\n"
     ]
    }
   ],
   "source": [
    "Z=np.random.randint(1,10,20) #1-10之间，20个元素\n",
    "print(Z.argsort())   #返回升序排序后的index  ！！注意不是值\n",
    "print(Z[Z.argsort()])  #用神奇索引输出对应值(笔记下一小节知识点)"
   ]
  },
  {
   "cell_type": "code",
   "execution_count": 30,
   "id": "a8e0da53",
   "metadata": {},
   "outputs": [
    {
     "data": {
      "text/plain": [
       "array([ 2,  3,  4,  5,  6,  7,  8,  9, 10, 11])"
      ]
     },
     "execution_count": 30,
     "metadata": {},
     "output_type": "execute_result"
    }
   ],
   "source": [
    "X+2   #将每个元素+2    #注意，数学计算往往都是返回运算结果，并不直接修改原始数据"
   ]
  },
  {
   "cell_type": "code",
   "execution_count": 31,
   "id": "e5cee3f5",
   "metadata": {},
   "outputs": [
    {
     "data": {
      "text/plain": [
       "array([[ 9,  9,  9],\n",
       "       [12, 12, 12]])"
      ]
     },
     "execution_count": 31,
     "metadata": {},
     "output_type": "execute_result"
    }
   ],
   "source": [
    "Y*3   #每个元素X3"
   ]
  },
  {
   "cell_type": "markdown",
   "id": "d87c98ec",
   "metadata": {},
   "source": [
    "⚠ndarray类型支持与一个数进行运算（每个元素都对该数进行相应计算，所以也被称为广播）"
   ]
  },
  {
   "cell_type": "code",
   "execution_count": 32,
   "id": "372a44ed",
   "metadata": {},
   "outputs": [
    {
     "data": {
      "text/plain": [
       "array([ 2,  4,  6,  8, 10, 12, 14, 16, 18, 20])"
      ]
     },
     "execution_count": 32,
     "metadata": {},
     "output_type": "execute_result"
    }
   ],
   "source": [
    "Z=np.arange(10)+2\n",
    "X+Z    #两数组相加    对应值之间进行计算"
   ]
  },
  {
   "cell_type": "markdown",
   "id": "ec653f14",
   "metadata": {},
   "source": [
    "⚠两个相同尺寸的数组可以直接进行数学计算（同一位置的元素计算）"
   ]
  },
  {
   "cell_type": "code",
   "execution_count": 33,
   "id": "770fbcbe",
   "metadata": {},
   "outputs": [
    {
     "data": {
      "text/plain": [
       "array([[10, 10, 10],\n",
       "       [10, 10, 10],\n",
       "       [10, 10, 10]])"
      ]
     },
     "execution_count": 33,
     "metadata": {},
     "output_type": "execute_result"
    }
   ],
   "source": [
    "a=np.array([2,2,2],dtype=int)  #1X3数组\n",
    "b=np.array([[5],[5],[5]],dtype=int) #3X1\n",
    "a*b  #3X3"
   ]
  },
  {
   "cell_type": "markdown",
   "id": "8abea592",
   "metadata": {},
   "source": [
    "⚠若两数组尺寸并不相同，则会对数组中元素进行复制，使得两数组尺寸相同"
   ]
  },
  {
   "cell_type": "code",
   "execution_count": 34,
   "id": "ff3ae4df",
   "metadata": {
    "scrolled": false
   },
   "outputs": [
    {
     "data": {
      "text/plain": [
       "array([ 0.        ,  0.84147098,  0.90929743,  0.14112001, -0.7568025 ,\n",
       "       -0.95892427, -0.2794155 ,  0.6569866 ,  0.98935825,  0.41211849])"
      ]
     },
     "execution_count": 34,
     "metadata": {},
     "output_type": "execute_result"
    }
   ],
   "source": [
    "np.sin(X)   #将每个数进行正弦运算"
   ]
  },
  {
   "cell_type": "code",
   "execution_count": 35,
   "id": "6958eb26",
   "metadata": {},
   "outputs": [
    {
     "data": {
      "text/plain": [
       "array([1.41421356, 2.        , 3.        ])"
      ]
     },
     "execution_count": 35,
     "metadata": {},
     "output_type": "execute_result"
    }
   ],
   "source": [
    "a=np.array([2,4,9])   #平方根计算\n",
    "np.sqrt(a)"
   ]
  },
  {
   "cell_type": "code",
   "execution_count": 36,
   "id": "eaf63878",
   "metadata": {},
   "outputs": [
    {
     "name": "stdout",
     "output_type": "stream",
     "text": [
      "[ 4 16 81]\n"
     ]
    }
   ],
   "source": [
    "print(np.power(a,2))  #二次幂（平方）计算"
   ]
  },
  {
   "cell_type": "code",
   "execution_count": 37,
   "id": "db2a20a8",
   "metadata": {},
   "outputs": [
    {
     "data": {
      "text/plain": [
       "array([[19, 22],\n",
       "       [43, 50]])"
      ]
     },
     "execution_count": 37,
     "metadata": {},
     "output_type": "execute_result"
    }
   ],
   "source": [
    "a=np.array([[1,2],[3,4]])    #矩阵乘法\n",
    "b=np.array([[5,6],[7,8]]) #[[1*5+2*7,1*6+2*8],  [[19，22]\n",
    "a@b                       #[3*5+4*7,3*6+4*8]]   [43，50]]"
   ]
  },
  {
   "cell_type": "code",
   "execution_count": 38,
   "id": "4d780d7b",
   "metadata": {},
   "outputs": [
    {
     "data": {
      "text/plain": [
       "4.611111111111111"
      ]
     },
     "execution_count": 38,
     "metadata": {},
     "output_type": "execute_result"
    }
   ],
   "source": [
    "a=np.array([1,3,4,6,4,2,4,6,7,8,7,5,4,3,2,3,8,6])  #返回平均值\n",
    "np.mean(a)"
   ]
  },
  {
   "cell_type": "markdown",
   "id": "45f66d23",
   "metadata": {},
   "source": [
    "# array使用数组进行查询与切片"
   ]
  },
  {
   "cell_type": "code",
   "execution_count": 39,
   "id": "bb5b70b5",
   "metadata": {},
   "outputs": [
    {
     "data": {
      "text/plain": [
       "array([0, 1, 2, 3, 4, 5, 6, 7, 8, 9])"
      ]
     },
     "execution_count": 39,
     "metadata": {},
     "output_type": "execute_result"
    }
   ],
   "source": [
    "x1=np.arange(10)\n",
    "x1      #一维"
   ]
  },
  {
   "cell_type": "code",
   "execution_count": 40,
   "id": "a10b0f1c",
   "metadata": {},
   "outputs": [
    {
     "data": {
      "text/plain": [
       "array([[ 0,  1,  2,  3,  4],\n",
       "       [ 5,  6,  7,  8,  9],\n",
       "       [10, 11, 12, 13, 14],\n",
       "       [15, 16, 17, 18, 19]])"
      ]
     },
     "execution_count": 40,
     "metadata": {},
     "output_type": "execute_result"
    }
   ],
   "source": [
    "x2=np.arange(20).reshape(4,5)\n",
    "x2    #二维"
   ]
  },
  {
   "cell_type": "markdown",
   "id": "278a99b4",
   "metadata": {},
   "source": [
    "## 基础索引"
   ]
  },
  {
   "cell_type": "markdown",
   "id": "42497049",
   "metadata": {},
   "source": [
    "### 一维数组\n",
    "与原生list一样"
   ]
  },
  {
   "cell_type": "code",
   "execution_count": 41,
   "id": "3cb6442e",
   "metadata": {},
   "outputs": [
    {
     "data": {
      "text/plain": [
       "2"
      ]
     },
     "execution_count": 41,
     "metadata": {},
     "output_type": "execute_result"
    }
   ],
   "source": [
    "x1[2]  #下标为2的"
   ]
  },
  {
   "cell_type": "code",
   "execution_count": 42,
   "id": "5b4b324f",
   "metadata": {},
   "outputs": [
    {
     "data": {
      "text/plain": [
       "array([2, 3, 4])"
      ]
     },
     "execution_count": 42,
     "metadata": {},
     "output_type": "execute_result"
    }
   ],
   "source": [
    "x1[2:5]  #下标2-5(不包含)的元素"
   ]
  },
  {
   "cell_type": "code",
   "execution_count": 43,
   "id": "fd4ca50e",
   "metadata": {},
   "outputs": [
    {
     "data": {
      "text/plain": [
       "array([0, 1, 2, 3])"
      ]
     },
     "execution_count": 43,
     "metadata": {},
     "output_type": "execute_result"
    }
   ],
   "source": [
    "x1[:4]  #下标 起始-4（不包含）的元素"
   ]
  },
  {
   "cell_type": "code",
   "execution_count": 44,
   "id": "bf6d5134",
   "metadata": {},
   "outputs": [
    {
     "data": {
      "text/plain": [
       "array([9, 8, 7, 6, 5, 4, 3, 2, 1, 0])"
      ]
     },
     "execution_count": 44,
     "metadata": {},
     "output_type": "execute_result"
    }
   ],
   "source": [
    "x1[::-1]   #所有元素，步长-1"
   ]
  },
  {
   "cell_type": "markdown",
   "id": "048b2fc0",
   "metadata": {},
   "source": [
    "### 二维数组"
   ]
  },
  {
   "cell_type": "code",
   "execution_count": 45,
   "id": "e3ee97ac",
   "metadata": {},
   "outputs": [
    {
     "data": {
      "text/plain": [
       "array([[ 0,  1,  2,  3,  4],\n",
       "       [ 5,  6,  7,  8,  9],\n",
       "       [10, 11, 12, 13, 14],\n",
       "       [15, 16, 17, 18, 19]])"
      ]
     },
     "execution_count": 45,
     "metadata": {},
     "output_type": "execute_result"
    }
   ],
   "source": [
    "x2"
   ]
  },
  {
   "cell_type": "code",
   "execution_count": 46,
   "id": "eb6c4a30",
   "metadata": {},
   "outputs": [
    {
     "data": {
      "text/plain": [
       "13"
      ]
     },
     "execution_count": 46,
     "metadata": {},
     "output_type": "execute_result"
    }
   ],
   "source": [
    "x2[2,3]   #第二行，第三列的元素  x2[2][3]"
   ]
  },
  {
   "cell_type": "code",
   "execution_count": 47,
   "id": "45f02cc2",
   "metadata": {},
   "outputs": [
    {
     "data": {
      "text/plain": [
       "array([ 4,  9, 14, 19])"
      ]
     },
     "execution_count": 47,
     "metadata": {},
     "output_type": "execute_result"
    }
   ],
   "source": [
    "x2[:,-1]   #最后一列所有的元素 "
   ]
  },
  {
   "cell_type": "code",
   "execution_count": 48,
   "id": "6280b0d7",
   "metadata": {},
   "outputs": [
    {
     "data": {
      "text/plain": [
       "array([[ 0,  1,  2,  3,  4],\n",
       "       [ 5,  6,  7,  8,  9],\n",
       "       [10, 11, 12, 13, 14]])"
      ]
     },
     "execution_count": 48,
     "metadata": {},
     "output_type": "execute_result"
    }
   ],
   "source": [
    "x2[:-1]  #起始行到最后一行（不包含）"
   ]
  },
  {
   "cell_type": "code",
   "execution_count": 49,
   "id": "f81bf241",
   "metadata": {},
   "outputs": [
    {
     "data": {
      "text/plain": [
       "array([[15, 16, 17, 18, 19],\n",
       "       [10, 11, 12, 13, 14],\n",
       "       [ 5,  6,  7,  8,  9],\n",
       "       [ 0,  1,  2,  3,  4]])"
      ]
     },
     "execution_count": 49,
     "metadata": {},
     "output_type": "execute_result"
    }
   ],
   "source": [
    "x2[::-1]   #所有行，步长-1，即将行的位置倒序"
   ]
  },
  {
   "cell_type": "code",
   "execution_count": 50,
   "id": "0bf71012",
   "metadata": {},
   "outputs": [
    {
     "data": {
      "text/plain": [
       "array([[19, 18, 17, 16, 15],\n",
       "       [14, 13, 12, 11, 10],\n",
       "       [ 9,  8,  7,  6,  5],\n",
       "       [ 4,  3,  2,  1,  0]])"
      ]
     },
     "execution_count": 50,
     "metadata": {},
     "output_type": "execute_result"
    }
   ],
   "source": [
    "x2[::-1,::-1]   #行列倒序"
   ]
  },
  {
   "cell_type": "markdown",
   "id": "999b8a31",
   "metadata": {},
   "source": [
    "### ⚠注意：切片操作会修改原数据！！\n",
    "原因是numpy经常要处理大量数据，避免每次都复制"
   ]
  },
  {
   "cell_type": "code",
   "execution_count": 51,
   "id": "11daae7e",
   "metadata": {},
   "outputs": [
    {
     "data": {
      "text/plain": [
       "array([0, 1, 2, 3, 4, 5, 6, 7, 8, 9])"
      ]
     },
     "execution_count": 51,
     "metadata": {},
     "output_type": "execute_result"
    }
   ],
   "source": [
    "x1"
   ]
  },
  {
   "cell_type": "code",
   "execution_count": 52,
   "id": "e927d997",
   "metadata": {},
   "outputs": [
    {
     "data": {
      "text/plain": [
       "array([  0,   1, 666, 666,   4,   5,   6,   7,   8,   9])"
      ]
     },
     "execution_count": 52,
     "metadata": {},
     "output_type": "execute_result"
    }
   ],
   "source": [
    "x1[2:4]=666\n",
    "x1"
   ]
  },
  {
   "cell_type": "markdown",
   "id": "d57ea93b",
   "metadata": {},
   "source": [
    "对切片部分进行修改，会影响原始数据"
   ]
  },
  {
   "cell_type": "markdown",
   "id": "d17cb73f",
   "metadata": {},
   "source": [
    "## 神奇索引（有的地方叫花式索引）\n",
    "用整数数组进行索引"
   ]
  },
  {
   "cell_type": "markdown",
   "id": "8bcb1fe5",
   "metadata": {},
   "source": [
    "### 一维数组"
   ]
  },
  {
   "cell_type": "code",
   "execution_count": 53,
   "id": "421c3104",
   "metadata": {},
   "outputs": [
    {
     "data": {
      "text/plain": [
       "array([0, 1, 2, 3, 4, 5, 6, 7, 8, 9])"
      ]
     },
     "execution_count": 53,
     "metadata": {},
     "output_type": "execute_result"
    }
   ],
   "source": [
    "x1=np.arange(10)   #刚刚数据被破坏了，重置数据\n",
    "x1"
   ]
  },
  {
   "cell_type": "code",
   "execution_count": 54,
   "id": "fef0279c",
   "metadata": {},
   "outputs": [
    {
     "data": {
      "text/plain": [
       "array([3, 4, 7])"
      ]
     },
     "execution_count": 54,
     "metadata": {},
     "output_type": "execute_result"
    }
   ],
   "source": [
    "x1[[3,4,7]]  #取下标为3，4，7的元素"
   ]
  },
  {
   "cell_type": "code",
   "execution_count": 55,
   "id": "3fc0f9ae",
   "metadata": {},
   "outputs": [
    {
     "data": {
      "text/plain": [
       "array([[1, 4],\n",
       "       [2, 6]])"
      ]
     },
     "execution_count": 55,
     "metadata": {},
     "output_type": "execute_result"
    }
   ],
   "source": [
    "indexs = np.array([[1,4],[2,6]])\n",
    "x1[indexs]  #神奇的地方在这，返回的是一个二维数组，两个维度分别是下标1，4和下标2，6的元素"
   ]
  },
  {
   "cell_type": "markdown",
   "id": "3129e57e",
   "metadata": {},
   "source": [
    "### 二维数组"
   ]
  },
  {
   "cell_type": "code",
   "execution_count": 56,
   "id": "a0fcf29a",
   "metadata": {},
   "outputs": [
    {
     "data": {
      "text/plain": [
       "array([[ 0,  1,  2,  3,  4],\n",
       "       [ 5,  6,  7,  8,  9],\n",
       "       [10, 11, 12, 13, 14],\n",
       "       [15, 16, 17, 18, 19]])"
      ]
     },
     "execution_count": 56,
     "metadata": {},
     "output_type": "execute_result"
    }
   ],
   "source": [
    "x2"
   ]
  },
  {
   "cell_type": "code",
   "execution_count": 57,
   "id": "df4237ff",
   "metadata": {},
   "outputs": [
    {
     "data": {
      "text/plain": [
       "array([[ 0,  1,  2,  3,  4],\n",
       "       [15, 16, 17, 18, 19]])"
      ]
     },
     "execution_count": 57,
     "metadata": {},
     "output_type": "execute_result"
    }
   ],
   "source": [
    "x2[[0,3]]   #第0行和低3行"
   ]
  },
  {
   "cell_type": "code",
   "execution_count": 58,
   "id": "f202d6bb",
   "metadata": {},
   "outputs": [
    {
     "data": {
      "text/plain": [
       "array([[ 0,  3],\n",
       "       [ 5,  8],\n",
       "       [10, 13],\n",
       "       [15, 18]])"
      ]
     },
     "execution_count": 58,
     "metadata": {},
     "output_type": "execute_result"
    }
   ],
   "source": [
    "x2[:,[0,3]]   #第0，3列"
   ]
  },
  {
   "cell_type": "code",
   "execution_count": 59,
   "id": "f6cf3b30",
   "metadata": {},
   "outputs": [
    {
     "data": {
      "text/plain": [
       "array([ 5, 18])"
      ]
     },
     "execution_count": 59,
     "metadata": {},
     "output_type": "execute_result"
    }
   ],
   "source": [
    "x2[[1,3],[0,3]]  #第1行第0个，与第3行第3个"
   ]
  },
  {
   "cell_type": "markdown",
   "id": "4175a2c3",
   "metadata": {},
   "source": [
    "## 布尔索引|"
   ]
  },
  {
   "cell_type": "markdown",
   "id": "38c4c741",
   "metadata": {},
   "source": [
    "### 一维数组"
   ]
  },
  {
   "cell_type": "code",
   "execution_count": 60,
   "id": "eb57341a",
   "metadata": {},
   "outputs": [
    {
     "data": {
      "text/plain": [
       "array([0, 1, 2, 3, 4, 5, 6, 7, 8, 9])"
      ]
     },
     "execution_count": 60,
     "metadata": {},
     "output_type": "execute_result"
    }
   ],
   "source": [
    "x1"
   ]
  },
  {
   "cell_type": "code",
   "execution_count": 61,
   "id": "b751c3d2",
   "metadata": {},
   "outputs": [
    {
     "data": {
      "text/plain": [
       "array([False, False, False, False, False, False,  True,  True,  True,\n",
       "        True])"
      ]
     },
     "execution_count": 61,
     "metadata": {},
     "output_type": "execute_result"
    }
   ],
   "source": [
    "x1>5   #把数组每个元素进行条件运算，返回布尔类型数组"
   ]
  },
  {
   "cell_type": "code",
   "execution_count": 62,
   "id": "1376281e",
   "metadata": {},
   "outputs": [
    {
     "data": {
      "text/plain": [
       "array([6, 7, 8, 9])"
      ]
     },
     "execution_count": 62,
     "metadata": {},
     "output_type": "execute_result"
    }
   ],
   "source": [
    "x1[x1>5]    #返回的是大于5的元素   返回为True对应的下标"
   ]
  },
  {
   "cell_type": "markdown",
   "id": "e96e4d68",
   "metadata": {},
   "source": [
    "### 二维数组"
   ]
  },
  {
   "cell_type": "code",
   "execution_count": 63,
   "id": "0100a307",
   "metadata": {},
   "outputs": [
    {
     "data": {
      "text/plain": [
       "array([[ 0,  1,  2,  3,  4],\n",
       "       [ 5,  6,  7,  8,  9],\n",
       "       [10, 11, 12, 13, 14],\n",
       "       [15, 16, 17, 18, 19]])"
      ]
     },
     "execution_count": 63,
     "metadata": {},
     "output_type": "execute_result"
    }
   ],
   "source": [
    "x2"
   ]
  },
  {
   "cell_type": "code",
   "execution_count": 64,
   "id": "ff1595f8",
   "metadata": {},
   "outputs": [
    {
     "data": {
      "text/plain": [
       "array([[False, False, False, False, False],\n",
       "       [False,  True,  True,  True,  True],\n",
       "       [ True,  True,  True,  True,  True],\n",
       "       [ True,  True,  True,  True,  True]])"
      ]
     },
     "execution_count": 64,
     "metadata": {},
     "output_type": "execute_result"
    }
   ],
   "source": [
    "x2>5"
   ]
  },
  {
   "cell_type": "code",
   "execution_count": 65,
   "id": "91a95ed0",
   "metadata": {},
   "outputs": [
    {
     "data": {
      "text/plain": [
       "array([ 6,  7,  8,  9, 10, 11, 12, 13, 14, 15, 16, 17, 18, 19])"
      ]
     },
     "execution_count": 65,
     "metadata": {},
     "output_type": "execute_result"
    }
   ],
   "source": [
    "x2[x2>5]   #返回的是一个一维 的数组"
   ]
  },
  {
   "cell_type": "code",
   "execution_count": 66,
   "id": "845f1f5b",
   "metadata": {},
   "outputs": [
    {
     "data": {
      "text/plain": [
       "array([[ 5,  6,  7,  8,  9],\n",
       "       [10, 11, 12, 13, 14],\n",
       "       [15, 16, 17, 18, 19]])"
      ]
     },
     "execution_count": 66,
     "metadata": {},
     "output_type": "execute_result"
    }
   ],
   "source": [
    "indexs=np.array([False,  True,  True,  True])\n",
    "x2[indexs]   #返回后三行"
   ]
  },
  {
   "cell_type": "markdown",
   "id": "532c8474",
   "metadata": {},
   "source": [
    "# numpy 常用random随机函数\n",
    "官方帮助文档：https://numpy.org/doc/stable/reference/random/index.html?highlight=random#module-numpy.random"
   ]
  },
  {
   "cell_type": "code",
   "execution_count": 67,
   "id": "21d65ba6",
   "metadata": {},
   "outputs": [],
   "source": [
    "np.random.seed(666)   #设置随机数种子"
   ]
  },
  {
   "cell_type": "markdown",
   "id": "a277228e",
   "metadata": {},
   "source": [
    "## ramd(d0,d1,...,dn)\n",
    "指定n个维度的长度，返回一个0-1之间，具有均匀分布的array"
   ]
  },
  {
   "cell_type": "code",
   "execution_count": 68,
   "id": "9361b960",
   "metadata": {},
   "outputs": [
    {
     "data": {
      "text/plain": [
       "array([0.70043712, 0.84418664, 0.67651434])"
      ]
     },
     "execution_count": 68,
     "metadata": {},
     "output_type": "execute_result"
    }
   ],
   "source": [
    "np.random.rand(3)"
   ]
  },
  {
   "cell_type": "code",
   "execution_count": 69,
   "id": "3142bc81",
   "metadata": {},
   "outputs": [
    {
     "data": {
      "text/plain": [
       "array([[[0.72785806, 0.95145796, 0.0127032 , 0.4135877 ],\n",
       "        [0.04881279, 0.09992856, 0.50806631, 0.20024754],\n",
       "        [0.74415417, 0.192892  , 0.70084475, 0.29322811]],\n",
       "\n",
       "       [[0.77447945, 0.00510884, 0.11285765, 0.11095367],\n",
       "        [0.24766823, 0.0232363 , 0.72732115, 0.34003494],\n",
       "        [0.19750316, 0.90917959, 0.97834699, 0.53280254]]])"
      ]
     },
     "execution_count": 69,
     "metadata": {},
     "output_type": "execute_result"
    }
   ],
   "source": [
    "np.random.rand(2,3,4)"
   ]
  },
  {
   "cell_type": "markdown",
   "id": "d380fa74",
   "metadata": {},
   "source": [
    "## randn(d0,d1,...,dn)\n",
    "返回指定n个维度指定长度，具有标准正态分布(均值0，方差1)的array"
   ]
  },
  {
   "cell_type": "code",
   "execution_count": 70,
   "id": "2bd911cd",
   "metadata": {},
   "outputs": [
    {
     "data": {
      "text/plain": [
       "array([ 0.53928565, -1.54984701,  0.72946452, -0.32695477,  1.14133677])"
      ]
     },
     "execution_count": 70,
     "metadata": {},
     "output_type": "execute_result"
    }
   ],
   "source": [
    "np.random.randn(5)"
   ]
  },
  {
   "cell_type": "code",
   "execution_count": 71,
   "id": "f90b25f1",
   "metadata": {},
   "outputs": [
    {
     "data": {
      "text/plain": [
       "array([[ 0.45243662, -2.23496877,  1.27047766, -0.72928821],\n",
       "       [ 1.35925255, -1.20990266, -0.04618272, -0.44118244],\n",
       "       [ 0.46953431,  0.44325817, -1.66738875, -1.81731749]])"
      ]
     },
     "execution_count": 71,
     "metadata": {},
     "output_type": "execute_result"
    }
   ],
   "source": [
    "np.random.randn(3,4)"
   ]
  },
  {
   "cell_type": "markdown",
   "id": "06e174ba",
   "metadata": {},
   "source": [
    "## randint(low[,high,size,dtype])\n",
    "* 返回low-high(high不包含，如果未指定则从0-low(low不包含))的随机整数，\n",
    "* size参数可以指定维度以及各维度长度,返回array"
   ]
  },
  {
   "cell_type": "code",
   "execution_count": 72,
   "id": "fb406663",
   "metadata": {},
   "outputs": [
    {
     "data": {
      "text/plain": [
       "9"
      ]
     },
     "execution_count": 72,
     "metadata": {},
     "output_type": "execute_result"
    }
   ],
   "source": [
    "np.random.randint(12)    #0-12(不包含)之间的随机整数"
   ]
  },
  {
   "cell_type": "code",
   "execution_count": 73,
   "id": "bc66d9f6",
   "metadata": {},
   "outputs": [
    {
     "data": {
      "text/plain": [
       "8"
      ]
     },
     "execution_count": 73,
     "metadata": {},
     "output_type": "execute_result"
    }
   ],
   "source": [
    "np.random.randint(7,12)    #7-12(不包含)之间的随机整数"
   ]
  },
  {
   "cell_type": "code",
   "execution_count": 74,
   "id": "5a4a5a39",
   "metadata": {},
   "outputs": [
    {
     "data": {
      "text/plain": [
       "array([[11, 11, 11],\n",
       "       [ 9,  9, 11],\n",
       "       [11,  8, 10],\n",
       "       [ 9,  7, 11],\n",
       "       [ 8,  9,  9]])"
      ]
     },
     "execution_count": 74,
     "metadata": {},
     "output_type": "execute_result"
    }
   ],
   "source": [
    "np.random.randint(7,12,size=(5,3))    #7-12(不包含)之间的随机整数的二维数组"
   ]
  },
  {
   "cell_type": "markdown",
   "id": "9540f2ef",
   "metadata": {},
   "source": [
    "## ramdom(n[,size])\n",
    "* 返回一个0-1(不包含1)之间的随机数\n",
    "* size参数可以指定维度以及各维度长度,返回array"
   ]
  },
  {
   "cell_type": "code",
   "execution_count": 75,
   "id": "391a8a9c",
   "metadata": {},
   "outputs": [
    {
     "data": {
      "text/plain": [
       "0.6718813001186729"
      ]
     },
     "execution_count": 75,
     "metadata": {},
     "output_type": "execute_result"
    }
   ],
   "source": [
    "np.random.random()   #返回一个0-1之间不包含1的随机数"
   ]
  },
  {
   "cell_type": "code",
   "execution_count": 76,
   "id": "8ac3e9aa",
   "metadata": {},
   "outputs": [
    {
     "data": {
      "text/plain": [
       "array([0.25656363, 0.43080182, 0.01645358, 0.23499383])"
      ]
     },
     "execution_count": 76,
     "metadata": {},
     "output_type": "execute_result"
    }
   ],
   "source": [
    "np.random.random(4)   #返回一个0-1之间不包含1的随机数组成的一维长度为4的数组"
   ]
  },
  {
   "cell_type": "code",
   "execution_count": 77,
   "id": "7c57f483",
   "metadata": {},
   "outputs": [
    {
     "data": {
      "text/plain": [
       "array([[0.51117131, 0.29200924, 0.50189351, 0.49827313],\n",
       "       [0.10377152, 0.44644312, 0.96918917, 0.73847112]])"
      ]
     },
     "execution_count": 77,
     "metadata": {},
     "output_type": "execute_result"
    }
   ],
   "source": [
    "np.random.random(size=(2,4))  #等同于=np.random.random((2,4))"
   ]
  },
  {
   "cell_type": "markdown",
   "id": "b94b924c",
   "metadata": {},
   "source": [
    "## choice(a[,size,replace,p])\n",
    "* 参数a如果是数字，则从range(a)生成结果中随机挑选；如果是list/tuple，则从中挑选,返回一个元素\n",
    "* size参数可以指定维度以及各维度长度,若指定则返回array"
   ]
  },
  {
   "cell_type": "code",
   "execution_count": 78,
   "id": "75ac239e",
   "metadata": {},
   "outputs": [
    {
     "data": {
      "text/plain": [
       "4"
      ]
     },
     "execution_count": 78,
     "metadata": {},
     "output_type": "execute_result"
    }
   ],
   "source": [
    "#参数a是数字\n",
    "np.random.choice(5)"
   ]
  },
  {
   "cell_type": "code",
   "execution_count": 79,
   "id": "1adb3a32",
   "metadata": {},
   "outputs": [
    {
     "data": {
      "text/plain": [
       "array([[4, 3],\n",
       "       [2, 2]])"
      ]
     },
     "execution_count": 79,
     "metadata": {},
     "output_type": "execute_result"
    }
   ],
   "source": [
    "#参数a是列表或元组\n",
    "np.random.choice((2,3,4),(2,2))"
   ]
  },
  {
   "cell_type": "markdown",
   "id": "8f9abd9c",
   "metadata": {},
   "source": [
    "## shuffle(x)\n",
    "把数组x进行随机排序"
   ]
  },
  {
   "cell_type": "code",
   "execution_count": 80,
   "id": "f7a6d1a1",
   "metadata": {},
   "outputs": [
    {
     "data": {
      "text/plain": [
       "array([8, 3, 5, 7, 2, 1, 9, 6, 4, 0])"
      ]
     },
     "execution_count": 80,
     "metadata": {},
     "output_type": "execute_result"
    }
   ],
   "source": [
    "a=np.arange(10)\n",
    "np.random.shuffle(a)\n",
    "a    #注意，该操作会直接修改原始数据"
   ]
  },
  {
   "cell_type": "code",
   "execution_count": 81,
   "id": "f842ff8b",
   "metadata": {},
   "outputs": [
    {
     "data": {
      "text/plain": [
       "array([[10, 11, 12, 13, 14],\n",
       "       [15, 16, 17, 18, 19],\n",
       "       [ 5,  6,  7,  8,  9],\n",
       "       [ 0,  1,  2,  3,  4]])"
      ]
     },
     "execution_count": 81,
     "metadata": {},
     "output_type": "execute_result"
    }
   ],
   "source": [
    "a=np.arange(20).reshape(4,5)\n",
    "np.random.shuffle(a)\n",
    "a   #注意，如果数组是多维的，那么只会打散第一个维度(下列结果观察行顺序改变，里面元素顺序未改变)"
   ]
  },
  {
   "cell_type": "markdown",
   "id": "62c30252",
   "metadata": {},
   "source": [
    "## permutation(x)\n",
    "把一个数组x进行随机排列，或数组的全排列"
   ]
  },
  {
   "cell_type": "code",
   "execution_count": 82,
   "id": "d7d428a2",
   "metadata": {},
   "outputs": [
    {
     "data": {
      "text/plain": [
       "array([3, 7, 0, 8, 4, 9, 2, 1, 5, 6])"
      ]
     },
     "execution_count": 82,
     "metadata": {},
     "output_type": "execute_result"
    }
   ],
   "source": [
    "a=np.arange(10)\n",
    "np.random.permutation(a)"
   ]
  },
  {
   "cell_type": "code",
   "execution_count": 83,
   "id": "b298a35e",
   "metadata": {},
   "outputs": [
    {
     "data": {
      "text/plain": [
       "array([0, 1, 2, 3, 4, 5, 6, 7, 8, 9])"
      ]
     },
     "execution_count": 83,
     "metadata": {},
     "output_type": "execute_result"
    }
   ],
   "source": [
    "a"
   ]
  },
  {
   "cell_type": "markdown",
   "id": "6d5a31a9",
   "metadata": {},
   "source": [
    "性质类似shuffle，但它是重新生成一个array，而不修改原始数据"
   ]
  },
  {
   "cell_type": "code",
   "execution_count": 84,
   "id": "ce307fd8",
   "metadata": {},
   "outputs": [
    {
     "data": {
      "text/plain": [
       "array([[15, 16, 17, 18, 19],\n",
       "       [ 0,  1,  2,  3,  4],\n",
       "       [ 5,  6,  7,  8,  9],\n",
       "       [10, 11, 12, 13, 14]])"
      ]
     },
     "execution_count": 84,
     "metadata": {},
     "output_type": "execute_result"
    }
   ],
   "source": [
    "a=np.arange(20).reshape(4,5)\n",
    "np.random.permutation(a)#一样只会打散第一个维度"
   ]
  },
  {
   "cell_type": "markdown",
   "id": "c70c1da5",
   "metadata": {},
   "source": [
    "## normal([loc,scale,size])\n",
    "* 按照平均值loc和方差scale生成高斯分布的数字\n",
    "* size参数可以指定维度以及各维度长度,若指定则返回array"
   ]
  },
  {
   "cell_type": "code",
   "execution_count": 85,
   "id": "91d642bc",
   "metadata": {},
   "outputs": [
    {
     "data": {
      "text/plain": [
       "-12.975391594591953"
      ]
     },
     "execution_count": 85,
     "metadata": {},
     "output_type": "execute_result"
    }
   ],
   "source": [
    "np.random.normal(1,10)"
   ]
  },
  {
   "cell_type": "code",
   "execution_count": 86,
   "id": "63992320",
   "metadata": {},
   "outputs": [
    {
     "data": {
      "text/plain": [
       "array([[10.72379024,  9.44678758],\n",
       "       [13.31675159, 23.31759552]])"
      ]
     },
     "execution_count": 86,
     "metadata": {},
     "output_type": "execute_result"
    }
   ],
   "source": [
    "np.random.normal(1,10,(2,2))"
   ]
  },
  {
   "cell_type": "markdown",
   "id": "014375b7",
   "metadata": {},
   "source": [
    "## uniform([low,high,size])\n",
    "在low-high(不包含high)之间的均匀分布的数字"
   ]
  },
  {
   "cell_type": "code",
   "execution_count": 87,
   "id": "914c474f",
   "metadata": {},
   "outputs": [
    {
     "data": {
      "text/plain": [
       "1.7359588001906703"
      ]
     },
     "execution_count": 87,
     "metadata": {},
     "output_type": "execute_result"
    }
   ],
   "source": [
    "np.random.uniform(1,10)"
   ]
  },
  {
   "cell_type": "code",
   "execution_count": 88,
   "id": "362580df",
   "metadata": {},
   "outputs": [
    {
     "data": {
      "text/plain": [
       "array([[4.67676467, 6.68846414, 2.09519968],\n",
       "       [3.47327908, 1.69934542, 2.41539323],\n",
       "       [2.34802398, 4.46818303, 7.38473285]])"
      ]
     },
     "execution_count": 88,
     "metadata": {},
     "output_type": "execute_result"
    }
   ],
   "source": [
    "np.random.uniform(1,10,(3,3))"
   ]
  },
  {
   "cell_type": "markdown",
   "id": "7836a121",
   "metadata": {},
   "source": [
    "## 实例：对数组加入噪声"
   ]
  },
  {
   "cell_type": "code",
   "execution_count": 89,
   "id": "e1bf8d39",
   "metadata": {},
   "outputs": [],
   "source": [
    "import matplotlib.pyplot as plt"
   ]
  },
  {
   "cell_type": "code",
   "execution_count": 90,
   "id": "599ea920",
   "metadata": {},
   "outputs": [
    {
     "data": {
      "image/png": "[encoded data removed]",
      "text/plain": [
       "<Figure size 432x288 with 1 Axes>"
      ]
     },
     "metadata": {
      "needs_background": "light"
     },
     "output_type": "display_data"
    }
   ],
   "source": [
    "#sin曲线\n",
    "x=np.linspace(-10,10,100)\n",
    "y=np.sin(x)\n",
    "plt.plot(x,y)   #添加噪声前\n",
    "# 加入噪声\n",
    "y_zao=np.sin(x)+np.random.rand(len(x))\n",
    "plt.plot(x,y_zao)  #添加噪声后\n",
    "plt.show()"
   ]
  },
  {
   "cell_type": "markdown",
   "id": "97e3b201",
   "metadata": {},
   "source": [
    "# numpy常用数学统计函数\n",
    "##### 语法参考：\n",
    "* numpy.cumsum(array, axis=None, dtype=None, out=None)\n",
    "* array.cumsum(axis=None, dtype=None, out=None)"
   ]
  },
  {
   "cell_type": "code",
   "execution_count": 92,
   "id": "63b82d2d",
   "metadata": {},
   "outputs": [
    {
     "data": {
      "text/plain": [
       "array([[ 0,  1,  2,  3],\n",
       "       [ 4,  5,  6,  7],\n",
       "       [ 8,  9, 10, 11]])"
      ]
     },
     "execution_count": 92,
     "metadata": {},
     "output_type": "execute_result"
    }
   ],
   "source": [
    "arr = np.arange(12).reshape(3,4)\n",
    "arr"
   ]
  },
  {
   "cell_type": "markdown",
   "id": "efba0a37",
   "metadata": {},
   "source": [
    "numpy在进行数学运算的时候，axis=0，按照行累加。axis=1，按照列累加。axis不给定具体值，就把numpy数组当成一个一维数组"
   ]
  },
  {
   "cell_type": "code",
   "execution_count": 95,
   "id": "17e857f1",
   "metadata": {},
   "outputs": [
    {
     "data": {
      "text/plain": [
       "66"
      ]
     },
     "execution_count": 95,
     "metadata": {},
     "output_type": "execute_result"
    }
   ],
   "source": [
    "np.sum(arr)   #所有元素求和"
   ]
  },
  {
   "cell_type": "code",
   "execution_count": 116,
   "id": "2664629a",
   "metadata": {},
   "outputs": [
    {
     "data": {
      "text/plain": [
       "0"
      ]
     },
     "execution_count": 116,
     "metadata": {},
     "output_type": "execute_result"
    }
   ],
   "source": [
    "np.prod(arr)  #所有元素乘积"
   ]
  },
  {
   "cell_type": "code",
   "execution_count": 118,
   "id": "9b7a7833",
   "metadata": {},
   "outputs": [
    {
     "data": {
      "text/plain": [
       "array([ 0,  1,  3,  6, 10, 15, 21, 28, 36, 45, 55, 66], dtype=int32)"
      ]
     },
     "execution_count": 118,
     "metadata": {},
     "output_type": "execute_result"
    }
   ],
   "source": [
    "np.cumsum(arr)   #对所有元素进行累加(0 , 0+1 , 0+1+2 , 0+1+2+3  .......)"
   ]
  },
  {
   "cell_type": "code",
   "execution_count": 101,
   "id": "f0505249",
   "metadata": {},
   "outputs": [
    {
     "data": {
      "text/plain": [
       "array([0, 0, 0, 0, 0, 0, 0, 0, 0, 0, 0, 0], dtype=int32)"
      ]
     },
     "execution_count": 101,
     "metadata": {},
     "output_type": "execute_result"
    }
   ],
   "source": [
    "np.cumprod(arr)   #对所有元素进行累乘(0 , 0x1 , 0x1x2 , 0x1x2x3  .......)"
   ]
  },
  {
   "cell_type": "code",
   "execution_count": 102,
   "id": "1d4a84d7",
   "metadata": {},
   "outputs": [
    {
     "name": "stdout",
     "output_type": "stream",
     "text": [
      "0\n",
      "11\n"
     ]
    }
   ],
   "source": [
    "print(np.min(arr));print(np.max(arr))  #最小值；最大值"
   ]
  },
  {
   "cell_type": "code",
   "execution_count": 103,
   "id": "abde2327",
   "metadata": {},
   "outputs": [
    {
     "data": {
      "text/plain": [
       "array([2.75, 5.5 , 8.25])"
      ]
     },
     "execution_count": 103,
     "metadata": {},
     "output_type": "execute_result"
    }
   ],
   "source": [
    "np.percentile(arr,[25,50,75])   #25%位数 50%位数(中位数),75%位数"
   ]
  },
  {
   "cell_type": "code",
   "execution_count": 106,
   "id": "f3f5ee49",
   "metadata": {},
   "outputs": [
    {
     "data": {
      "text/plain": [
       "array([2.75, 5.5 , 8.25])"
      ]
     },
     "execution_count": 106,
     "metadata": {},
     "output_type": "execute_result"
    }
   ],
   "source": [
    "np.quantile(arr,[0.25,0.5,0.75])   #同上，只是使用方法略有不同"
   ]
  },
  {
   "cell_type": "markdown",
   "id": "6a4f1bc9",
   "metadata": {},
   "source": [
    "⚠为什么是5.5：因为如果数的个数是偶数，中位数是中间那两个数的平均数"
   ]
  },
  {
   "cell_type": "code",
   "execution_count": 109,
   "id": "a0b9f9fb",
   "metadata": {},
   "outputs": [
    {
     "data": {
      "text/plain": [
       "5.5"
      ]
     },
     "execution_count": 109,
     "metadata": {},
     "output_type": "execute_result"
    }
   ],
   "source": [
    "np.median(arr)   #返回中位数"
   ]
  },
  {
   "cell_type": "code",
   "execution_count": 110,
   "id": "2434f705",
   "metadata": {},
   "outputs": [
    {
     "data": {
      "text/plain": [
       "5.5"
      ]
     },
     "execution_count": 110,
     "metadata": {},
     "output_type": "execute_result"
    }
   ],
   "source": [
    "np.mean(arr)    #平均值"
   ]
  },
  {
   "cell_type": "code",
   "execution_count": 111,
   "id": "4fae941c",
   "metadata": {},
   "outputs": [
    {
     "data": {
      "text/plain": [
       "3.452052529534663"
      ]
     },
     "execution_count": 111,
     "metadata": {},
     "output_type": "execute_result"
    }
   ],
   "source": [
    "np.std(arr)    #标准差"
   ]
  },
  {
   "cell_type": "code",
   "execution_count": 112,
   "id": "8a80e990",
   "metadata": {},
   "outputs": [
    {
     "data": {
      "text/plain": [
       "11.916666666666666"
      ]
     },
     "execution_count": 112,
     "metadata": {},
     "output_type": "execute_result"
    }
   ],
   "source": [
    "np.var(arr)    #方差"
   ]
  },
  {
   "cell_type": "markdown",
   "id": "4da6d183",
   "metadata": {},
   "source": [
    "## ----axis参数"
   ]
  },
  {
   "cell_type": "markdown",
   "id": "ab7a2a15",
   "metadata": {},
   "source": [
    "##### axis=0代表行，axis=1代表列 ,缺省则把array中所有元素当作一个一维数组看待\n",
    "##### 对于sum/mean/media这类聚合函数来说\n",
    "* 理解1：axis=0代表将行消掉，axis=1代表将列消掉\n",
    "* 理解2：axis=0代表跨行计算，axis=1代表跨列计算"
   ]
  },
  {
   "cell_type": "code",
   "execution_count": 113,
   "id": "478641ad",
   "metadata": {},
   "outputs": [
    {
     "data": {
      "text/plain": [
       "array([[ 0,  1,  2,  3],\n",
       "       [ 4,  5,  6,  7],\n",
       "       [ 8,  9, 10, 11]])"
      ]
     },
     "execution_count": 113,
     "metadata": {},
     "output_type": "execute_result"
    }
   ],
   "source": [
    "arr"
   ]
  },
  {
   "cell_type": "code",
   "execution_count": 115,
   "id": "f631d3a9",
   "metadata": {},
   "outputs": [
    {
     "data": {
      "text/plain": [
       "array([12, 15, 18, 21])"
      ]
     },
     "execution_count": 115,
     "metadata": {},
     "output_type": "execute_result"
    }
   ],
   "source": [
    "np.sum(arr,axis=0)   #每一列之和"
   ]
  },
  {
   "cell_type": "code",
   "execution_count": 120,
   "id": "b79bf924",
   "metadata": {},
   "outputs": [
    {
     "data": {
      "text/plain": [
       "array([ 6, 22, 38])"
      ]
     },
     "execution_count": 120,
     "metadata": {},
     "output_type": "execute_result"
    }
   ],
   "source": [
    "np.sum(arr,axis=1)   #每一行之和"
   ]
  },
  {
   "cell_type": "code",
   "execution_count": 121,
   "id": "7bb85f0b",
   "metadata": {},
   "outputs": [
    {
     "data": {
      "text/plain": [
       "array([[ 0,  1,  2,  3],\n",
       "       [ 4,  6,  8, 10],\n",
       "       [12, 15, 18, 21]], dtype=int32)"
      ]
     },
     "execution_count": 121,
     "metadata": {},
     "output_type": "execute_result"
    }
   ],
   "source": [
    "arr.cumsum(axis=0)     #这里的4是0+4 12是0+4+8"
   ]
  },
  {
   "cell_type": "code",
   "execution_count": 122,
   "id": "743bfaaf",
   "metadata": {},
   "outputs": [
    {
     "data": {
      "text/plain": [
       "array([[ 0,  1,  3,  6],\n",
       "       [ 4,  9, 15, 22],\n",
       "       [ 8, 17, 27, 38]], dtype=int32)"
      ]
     },
     "execution_count": 122,
     "metadata": {},
     "output_type": "execute_result"
    }
   ],
   "source": [
    "arr.cumsum(axis=1)     #这里的3是0+1+2 6是0+1+2+3"
   ]
  },
  {
   "cell_type": "markdown",
   "id": "d188b336",
   "metadata": {},
   "source": [
    "# numpy统计数组中满足条件的元素的个数\n",
    "有一个非常庞大的数组，求出大于500的元素的数量"
   ]
  },
  {
   "cell_type": "markdown",
   "id": "25c78b49",
   "metadata": {},
   "source": [
    "### 随机生成一亿个随机数"
   ]
  },
  {
   "cell_type": "code",
   "execution_count": 3,
   "id": "581104c6",
   "metadata": {},
   "outputs": [],
   "source": [
    "arr = np.random.randint(1,10000,size=int(1e6))    #1-10000(不包含)之间的十万个随机数组成的array   （问就是一亿蓝屏了）"
   ]
  },
  {
   "cell_type": "code",
   "execution_count": 4,
   "id": "96bfce71",
   "metadata": {},
   "outputs": [
    {
     "data": {
      "text/plain": [
       "array([6560, 2767, 6241, 8382, 6011, 2893, 8804, 7942, 6730, 5071])"
      ]
     },
     "execution_count": 4,
     "metadata": {},
     "output_type": "execute_result"
    }
   ],
   "source": [
    "arr[:10]   #看看最后10个元素"
   ]
  },
  {
   "cell_type": "code",
   "execution_count": 5,
   "id": "03fda4c6",
   "metadata": {},
   "outputs": [
    {
     "data": {
      "text/plain": [
       "1000000"
      ]
     },
     "execution_count": 5,
     "metadata": {},
     "output_type": "execute_result"
    }
   ],
   "source": [
    "arr.size   #长度"
   ]
  },
  {
   "cell_type": "markdown",
   "id": "e21d6017",
   "metadata": {},
   "source": [
    "### 1-使用python原生语法实现"
   ]
  },
  {
   "cell_type": "code",
   "execution_count": 11,
   "id": "e9600ff2",
   "metadata": {},
   "outputs": [],
   "source": [
    "pyarr = arr.tolist()   #先转成原生列表"
   ]
  },
  {
   "cell_type": "code",
   "execution_count": 12,
   "id": "026ebe62",
   "metadata": {},
   "outputs": [
    {
     "name": "stdout",
     "output_type": "stream",
     "text": [
      "95.3 ms ± 2.84 ms per loop (mean ± std. dev. of 7 runs, 10 loops each)\n"
     ]
    }
   ],
   "source": [
    "%timeit len([x for x in pyarr if x>500])"
   ]
  },
  {
   "cell_type": "markdown",
   "id": "0c868860",
   "metadata": {},
   "source": [
    "### 2-使用numpy实现"
   ]
  },
  {
   "cell_type": "code",
   "execution_count": 13,
   "id": "aaf68b4c",
   "metadata": {},
   "outputs": [
    {
     "name": "stdout",
     "output_type": "stream",
     "text": [
      "4.22 ms ± 80.1 µs per loop (mean ± std. dev. of 7 runs, 100 loops each)\n"
     ]
    }
   ],
   "source": [
    "%timeit arr[arr>500].size"
   ]
  },
  {
   "cell_type": "markdown",
   "id": "01602442",
   "metadata": {},
   "source": [
    "使用numpy要快得多"
   ]
  },
  {
   "cell_type": "markdown",
   "id": "4632ef0c",
   "metadata": {},
   "source": [
    "# numpy怎么给数组增加一个维度"
   ]
  },
  {
   "cell_type": "code",
   "execution_count": 15,
   "id": "7b82ebca",
   "metadata": {},
   "outputs": [
    {
     "data": {
      "text/plain": [
       "array([0, 1, 2, 3, 4])"
      ]
     },
     "execution_count": 15,
     "metadata": {},
     "output_type": "execute_result"
    }
   ],
   "source": [
    "arr = np.arange(5)\n",
    "arr"
   ]
  },
  {
   "cell_type": "markdown",
   "id": "bd49b133",
   "metadata": {},
   "source": [
    "### 方法1：np.newaxis关键字"
   ]
  },
  {
   "cell_type": "markdown",
   "id": "8d630a82",
   "metadata": {},
   "source": [
    "--- 其实np.newaxis是None的别名"
   ]
  },
  {
   "cell_type": "code",
   "execution_count": 16,
   "id": "aac0ab4d",
   "metadata": {},
   "outputs": [
    {
     "data": {
      "text/plain": [
       "True"
      ]
     },
     "execution_count": 16,
     "metadata": {},
     "output_type": "execute_result"
    }
   ],
   "source": [
    "np.newaxis is None"
   ]
  },
  {
   "cell_type": "code",
   "execution_count": 17,
   "id": "e6483082",
   "metadata": {},
   "outputs": [
    {
     "data": {
      "text/plain": [
       "array([[0, 1, 2, 3, 4]])"
      ]
     },
     "execution_count": 17,
     "metadata": {},
     "output_type": "execute_result"
    }
   ],
   "source": [
    "arr[np.newaxis,:]  #给一维向量添加一个1行维度"
   ]
  },
  {
   "cell_type": "code",
   "execution_count": 20,
   "id": "7b4b0b17",
   "metadata": {},
   "outputs": [
    {
     "data": {
      "text/plain": [
       "(1, 5)"
      ]
     },
     "execution_count": 20,
     "metadata": {},
     "output_type": "execute_result"
    }
   ],
   "source": [
    "arr[np.newaxis,:].shape"
   ]
  },
  {
   "cell_type": "code",
   "execution_count": 19,
   "id": "023edecd",
   "metadata": {},
   "outputs": [
    {
     "data": {
      "text/plain": [
       "array([[0],\n",
       "       [1],\n",
       "       [2],\n",
       "       [3],\n",
       "       [4]])"
      ]
     },
     "execution_count": 19,
     "metadata": {},
     "output_type": "execute_result"
    }
   ],
   "source": [
    "arr[:,None]  #给一维向量添加一个列维度   （用None也行）"
   ]
  },
  {
   "cell_type": "code",
   "execution_count": 21,
   "id": "7b4df98d",
   "metadata": {},
   "outputs": [
    {
     "data": {
      "text/plain": [
       "(5, 1)"
      ]
     },
     "execution_count": 21,
     "metadata": {},
     "output_type": "execute_result"
    }
   ],
   "source": [
    "arr[:,None].shape"
   ]
  },
  {
   "cell_type": "markdown",
   "id": "0f34d676",
   "metadata": {},
   "source": [
    "### 方法2：np.expand_dims方法\n",
    "使用效果与np.newaxis相同"
   ]
  },
  {
   "cell_type": "code",
   "execution_count": 22,
   "id": "c854fb10",
   "metadata": {},
   "outputs": [
    {
     "data": {
      "text/plain": [
       "array([[0, 1, 2, 3, 4]])"
      ]
     },
     "execution_count": 22,
     "metadata": {},
     "output_type": "execute_result"
    }
   ],
   "source": [
    "np.expand_dims(arr,axis=0)   #添加一个列维度"
   ]
  },
  {
   "cell_type": "code",
   "execution_count": 24,
   "id": "2913475a",
   "metadata": {},
   "outputs": [
    {
     "data": {
      "text/plain": [
       "(1, 5)"
      ]
     },
     "execution_count": 24,
     "metadata": {},
     "output_type": "execute_result"
    }
   ],
   "source": [
    "np.expand_dims(arr,axis=0).shape"
   ]
  },
  {
   "cell_type": "code",
   "execution_count": 27,
   "id": "e77a0adb",
   "metadata": {},
   "outputs": [
    {
     "data": {
      "text/plain": [
       "array([[0],\n",
       "       [1],\n",
       "       [2],\n",
       "       [3],\n",
       "       [4]])"
      ]
     },
     "execution_count": 27,
     "metadata": {},
     "output_type": "execute_result"
    }
   ],
   "source": [
    "np.expand_dims(arr,axis=1)   #添加一个列维度"
   ]
  },
  {
   "cell_type": "code",
   "execution_count": 26,
   "id": "7262f2b2",
   "metadata": {},
   "outputs": [
    {
     "data": {
      "text/plain": [
       "(1, 5)"
      ]
     },
     "execution_count": 26,
     "metadata": {},
     "output_type": "execute_result"
    }
   ],
   "source": [
    "np.expand_dims(arr,axis=0).shape"
   ]
  },
  {
   "cell_type": "markdown",
   "id": "03066746",
   "metadata": {},
   "source": [
    "### 方法3：np.reshape方法"
   ]
  },
  {
   "cell_type": "code",
   "execution_count": 28,
   "id": "153fa831",
   "metadata": {},
   "outputs": [
    {
     "data": {
      "text/plain": [
       "array([[0, 1, 2, 3, 4]])"
      ]
     },
     "execution_count": 28,
     "metadata": {},
     "output_type": "execute_result"
    }
   ],
   "source": [
    "np.reshape(arr,(1,5))   #添加一个行维度"
   ]
  },
  {
   "cell_type": "code",
   "execution_count": 33,
   "id": "f4e220e3",
   "metadata": {},
   "outputs": [
    {
     "data": {
      "text/plain": [
       "array([[0, 1, 2, 3, 4]])"
      ]
     },
     "execution_count": 33,
     "metadata": {},
     "output_type": "execute_result"
    }
   ],
   "source": [
    "arr.reshape(1,-1)   #-1  => 自动计算几列（当然，要整除）"
   ]
  },
  {
   "cell_type": "code",
   "execution_count": 36,
   "id": "23993dbc",
   "metadata": {},
   "outputs": [
    {
     "data": {
      "text/plain": [
       "array([[0],\n",
       "       [1],\n",
       "       [2],\n",
       "       [3],\n",
       "       [4]])"
      ]
     },
     "execution_count": 36,
     "metadata": {},
     "output_type": "execute_result"
    }
   ],
   "source": [
    "arr.reshape(-1,1)  #添加一个列维度"
   ]
  },
  {
   "cell_type": "markdown",
   "id": "d8b0af35",
   "metadata": {},
   "source": [
    "# numpy数据合并\n",
    "* np.concatenate(array_list,axis):沿着指定的axis进行数据合并\n",
    "* np.vstack或np.row_stack(array_list):沿着垂直方向进行数据合并\n",
    "* np.hstack或np.column_stack(array_list):验证水平方向进行数据合并"
   ]
  },
  {
   "cell_type": "markdown",
   "id": "621c1fe2",
   "metadata": {},
   "source": [
    "### 怎么给数据添加新的多行"
   ]
  },
  {
   "cell_type": "code",
   "execution_count": 16,
   "id": "28227014",
   "metadata": {},
   "outputs": [],
   "source": [
    "a=np.arange(6).reshape(2,3)\n",
    "b=np.random.randint(10,20,size=(4,3))"
   ]
  },
  {
   "cell_type": "code",
   "execution_count": 17,
   "id": "3e0f6ad8",
   "metadata": {
    "scrolled": true
   },
   "outputs": [
    {
     "data": {
      "text/plain": [
       "array([[0, 1, 2],\n",
       "       [3, 4, 5]])"
      ]
     },
     "execution_count": 17,
     "metadata": {},
     "output_type": "execute_result"
    }
   ],
   "source": [
    "a"
   ]
  },
  {
   "cell_type": "code",
   "execution_count": 18,
   "id": "bf37a785",
   "metadata": {},
   "outputs": [
    {
     "data": {
      "text/plain": [
       "array([[19, 17, 14],\n",
       "       [10, 16, 15],\n",
       "       [18, 19, 16],\n",
       "       [13, 10, 11]])"
      ]
     },
     "execution_count": 18,
     "metadata": {},
     "output_type": "execute_result"
    }
   ],
   "source": [
    "b"
   ]
  },
  {
   "cell_type": "code",
   "execution_count": 19,
   "id": "1adf99c4",
   "metadata": {},
   "outputs": [
    {
     "data": {
      "text/plain": [
       "array([[ 0,  1,  2],\n",
       "       [ 3,  4,  5],\n",
       "       [19, 17, 14],\n",
       "       [10, 16, 15],\n",
       "       [18, 19, 16],\n",
       "       [13, 10, 11]])"
      ]
     },
     "execution_count": 19,
     "metadata": {},
     "output_type": "execute_result"
    }
   ],
   "source": [
    "#方法1\n",
    "np.concatenate([a,b])    #这里axis缺省=0"
   ]
  },
  {
   "cell_type": "code",
   "execution_count": 20,
   "id": "f88d5ada",
   "metadata": {},
   "outputs": [
    {
     "data": {
      "text/plain": [
       "array([[ 0,  1,  2],\n",
       "       [ 3,  4,  5],\n",
       "       [19, 17, 14],\n",
       "       [10, 16, 15],\n",
       "       [18, 19, 16],\n",
       "       [13, 10, 11]])"
      ]
     },
     "execution_count": 20,
     "metadata": {},
     "output_type": "execute_result"
    }
   ],
   "source": [
    "#方法2\n",
    "np.vstack([a,b])"
   ]
  },
  {
   "cell_type": "code",
   "execution_count": 21,
   "id": "a3e76434",
   "metadata": {},
   "outputs": [
    {
     "data": {
      "text/plain": [
       "array([[ 0,  1,  2],\n",
       "       [ 3,  4,  5],\n",
       "       [19, 17, 14],\n",
       "       [10, 16, 15],\n",
       "       [18, 19, 16],\n",
       "       [13, 10, 11]])"
      ]
     },
     "execution_count": 21,
     "metadata": {},
     "output_type": "execute_result"
    }
   ],
   "source": [
    "#方法3\n",
    "np.row_stack([a,b])"
   ]
  },
  {
   "cell_type": "markdown",
   "id": "cee1679d",
   "metadata": {},
   "source": [
    "### 怎么给数据添加新的多列"
   ]
  },
  {
   "cell_type": "code",
   "execution_count": 24,
   "id": "61a1cfb7",
   "metadata": {},
   "outputs": [],
   "source": [
    "a=np.arange(12).reshape(3,4)\n",
    "b=np.random.randint(10,20,size=(3,2))"
   ]
  },
  {
   "cell_type": "code",
   "execution_count": 26,
   "id": "6ac35fe6",
   "metadata": {},
   "outputs": [
    {
     "data": {
      "text/plain": [
       "array([[ 0,  1,  2,  3],\n",
       "       [ 4,  5,  6,  7],\n",
       "       [ 8,  9, 10, 11]])"
      ]
     },
     "execution_count": 26,
     "metadata": {},
     "output_type": "execute_result"
    }
   ],
   "source": [
    "a"
   ]
  },
  {
   "cell_type": "code",
   "execution_count": 27,
   "id": "4e14415e",
   "metadata": {},
   "outputs": [
    {
     "data": {
      "text/plain": [
       "array([[12, 10],\n",
       "       [16, 13],\n",
       "       [16, 10]])"
      ]
     },
     "execution_count": 27,
     "metadata": {},
     "output_type": "execute_result"
    }
   ],
   "source": [
    "b"
   ]
  },
  {
   "cell_type": "code",
   "execution_count": 25,
   "id": "51be7765",
   "metadata": {},
   "outputs": [
    {
     "data": {
      "text/plain": [
       "array([[ 0,  1,  2,  3, 12, 10],\n",
       "       [ 4,  5,  6,  7, 16, 13],\n",
       "       [ 8,  9, 10, 11, 16, 10]])"
      ]
     },
     "execution_count": 25,
     "metadata": {},
     "output_type": "execute_result"
    }
   ],
   "source": [
    "np.concatenate([a,b],axis=1)"
   ]
  },
  {
   "cell_type": "code",
   "execution_count": 28,
   "id": "92292ee9",
   "metadata": {},
   "outputs": [
    {
     "data": {
      "text/plain": [
       "array([[ 0,  1,  2,  3, 12, 10],\n",
       "       [ 4,  5,  6,  7, 16, 13],\n",
       "       [ 8,  9, 10, 11, 16, 10]])"
      ]
     },
     "execution_count": 28,
     "metadata": {},
     "output_type": "execute_result"
    }
   ],
   "source": [
    "np.hstack([a,b])"
   ]
  },
  {
   "cell_type": "code",
   "execution_count": 29,
   "id": "929e2c6e",
   "metadata": {},
   "outputs": [
    {
     "data": {
      "text/plain": [
       "array([[ 0,  1,  2,  3, 12, 10],\n",
       "       [ 4,  5,  6,  7, 16, 13],\n",
       "       [ 8,  9, 10, 11, 16, 10]])"
      ]
     },
     "execution_count": 29,
     "metadata": {},
     "output_type": "execute_result"
    }
   ],
   "source": [
    "np.column_stack([a,b])"
   ]
  }
 ],
 "metadata": {
  "kernelspec": {
   "display_name": "Python 3",
   "language": "python",
   "name": "python3"
  },
  "language_info": {
   "codemirror_mode": {
    "name": "ipython",
    "version": 3
   },
   "file_extension": ".py",
   "mimetype": "text/x-python",
   "name": "python",
   "nbconvert_exporter": "python",
   "pygments_lexer": "ipython3",
   "version": "3.8.8"
  }
 },
 "nbformat": 4,
 "nbformat_minor": 5
}
