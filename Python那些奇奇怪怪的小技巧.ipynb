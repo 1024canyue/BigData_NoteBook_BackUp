{
 "cells": [
  {
   "cell_type": "markdown",
   "id": "adde943c",
   "metadata": {},
   "source": [
    "# 使用get方法巧妙实现词频统计"
   ]
  },
  {
   "cell_type": "code",
   "execution_count": 6,
   "id": "e0c862cf",
   "metadata": {},
   "outputs": [],
   "source": [
    "name=[\"老师\",\"老师\",\"老师\",\"医生\",\"医生\",\"医生\",\"医生\"]"
   ]
  },
  {
   "cell_type": "code",
   "execution_count": 7,
   "id": "9b4ba35a",
   "metadata": {},
   "outputs": [
    {
     "data": {
      "text/plain": [
       "[('老师', 3), ('医生', 4)]"
      ]
     },
     "execution_count": 7,
     "metadata": {},
     "output_type": "execute_result"
    }
   ],
   "source": [
    "d = {}#一空字典\n",
    "for i in name:#遍历列表\n",
    "    d[i]=d.get(i,0)+1   #字典键位行业名称，值默认为0，每次加1，从而达到计数目的\n",
    "                        #最终结果类似{\"老师\":3,\"医生\",4}\n",
    "ls = list(d.items())#将字典按照各个键为单位拆分成元组，并集合为一个列表  类似[(\"老师\"，3)，(\"医生\"，4)]\n",
    "ls"
   ]
  },
  {
   "cell_type": "markdown",
   "id": "7c6bc9c4",
   "metadata": {},
   "source": [
    "#### 排序(sort方法直接影响原数据！！！)"
   ]
  },
  {
   "cell_type": "code",
   "execution_count": 8,
   "id": "6cbec4c1",
   "metadata": {},
   "outputs": [
    {
     "data": {
      "text/plain": [
       "[('医生', 4), ('老师', 3)]"
      ]
     },
     "execution_count": 8,
     "metadata": {},
     "output_type": "execute_result"
    }
   ],
   "source": [
    "ls.sort(key=lambda x:x[1], reverse=True)    #第二个元素作为排序依据，颠倒使正序\n",
    "ls"
   ]
  },
  {
   "cell_type": "markdown",
   "id": "e088ad8d",
   "metadata": {},
   "source": [
    "# 判断是否是该类的实例"
   ]
  },
  {
   "cell_type": "code",
   "execution_count": 1,
   "id": "3900a687",
   "metadata": {},
   "outputs": [],
   "source": [
    "class cat:\n",
    "    pass\n",
    "class dog:\n",
    "    pass\n",
    "big_dog=dog()    #实例化一只大狗"
   ]
  },
  {
   "cell_type": "markdown",
   "id": "28a209e1",
   "metadata": {},
   "source": [
    "#### - isinstance(实例化对象,类或是包含类的元组)     #返回布尔类型"
   ]
  },
  {
   "cell_type": "code",
   "execution_count": 2,
   "id": "efbee0b9",
   "metadata": {},
   "outputs": [
    {
     "data": {
      "text/plain": [
       "True"
      ]
     },
     "execution_count": 2,
     "metadata": {},
     "output_type": "execute_result"
    }
   ],
   "source": [
    "isinstance(big_dog,dog)"
   ]
  },
  {
   "cell_type": "markdown",
   "id": "1b1f7f2f",
   "metadata": {},
   "source": [
    "#### - type(实例化对象)==类或是包含类的元组          #返回布尔类型"
   ]
  },
  {
   "cell_type": "code",
   "execution_count": 3,
   "id": "0225b8cb",
   "metadata": {},
   "outputs": [
    {
     "data": {
      "text/plain": [
       "True"
      ]
     },
     "execution_count": 3,
     "metadata": {},
     "output_type": "execute_result"
    }
   ],
   "source": [
    "type(big_dog)==dog"
   ]
  },
  {
   "cell_type": "code",
   "execution_count": 4,
   "id": "b9f5ff15",
   "metadata": {},
   "outputs": [
    {
     "data": {
      "text/plain": [
       "False"
      ]
     },
     "execution_count": 4,
     "metadata": {},
     "output_type": "execute_result"
    }
   ],
   "source": [
    "type(big_dog)==cat"
   ]
  },
  {
   "cell_type": "markdown",
   "id": "3bca03e4",
   "metadata": {},
   "source": [
    "##### type() 不会认为子类是一种父类类型，不考虑继承关系。<br>isinstance() 会认为子类是一种父类类型，考虑继承关系。"
   ]
  },
  {
   "cell_type": "code",
   "execution_count": 10,
   "id": "2b45402d",
   "metadata": {},
   "outputs": [],
   "source": [
    "class blue_cat(cat):    #继承自猫的蓝猫类\n",
    "    pass\n",
    "tom_cat=blue_cat()    #实例一只蓝色的汤姆猫"
   ]
  },
  {
   "cell_type": "code",
   "execution_count": 11,
   "id": "ac2e46ff",
   "metadata": {},
   "outputs": [
    {
     "data": {
      "text/plain": [
       "True"
      ]
     },
     "execution_count": 11,
     "metadata": {},
     "output_type": "execute_result"
    }
   ],
   "source": [
    "isinstance(tom_cat,cat)"
   ]
  },
  {
   "cell_type": "code",
   "execution_count": 12,
   "id": "cbc6f150",
   "metadata": {},
   "outputs": [
    {
     "data": {
      "text/plain": [
       "False"
      ]
     },
     "execution_count": 12,
     "metadata": {},
     "output_type": "execute_result"
    }
   ],
   "source": [
    "type(tom_cat)==cat      #不认它父类！！"
   ]
  },
  {
   "cell_type": "markdown",
   "id": "75fcd154",
   "metadata": {},
   "source": [
    "# 正则表达式匹配中文\n",
    "“\\u4e00”和“\\u9fa5”是unicode编码，并且正好是汉字头尾的两个值，所以这个正则表达式可以用来判断字符串中是否包含中文"
   ]
  },
  {
   "cell_type": "code",
   "execution_count": 1,
   "id": "4876b74e",
   "metadata": {},
   "outputs": [],
   "source": [
    "import re\n",
    "text=\"aabb123你好。。//,,..!!!￥123hello 世界ppp--\""
   ]
  },
  {
   "cell_type": "code",
   "execution_count": 3,
   "id": "d3a7d706",
   "metadata": {},
   "outputs": [
    {
     "data": {
      "text/plain": [
       "['你好', '世界']"
      ]
     },
     "execution_count": 3,
     "metadata": {},
     "output_type": "execute_result"
    }
   ],
   "source": [
    "re.findall(\"[\\u4e00-\\u9fa5]+\",text)   #不会匹配中文符号"
   ]
  },
  {
   "cell_type": "code",
   "execution_count": 4,
   "id": "b6f219d7",
   "metadata": {},
   "outputs": [
    {
     "data": {
      "text/plain": [
       "['aabb123', '。。//,,..!!!￥123hello ', 'ppp--']"
      ]
     },
     "execution_count": 4,
     "metadata": {},
     "output_type": "execute_result"
    }
   ],
   "source": [
    "re.findall(\"[^\\u4e00-\\u9fa5]+\",text)"
   ]
  },
  {
   "cell_type": "markdown",
   "id": "306615c6",
   "metadata": {},
   "source": [
    "# 多个相同长度列表同位置计算\n",
    "方法只对相同长度的列表有效"
   ]
  },
  {
   "cell_type": "code",
   "execution_count": 1,
   "id": "d0759600",
   "metadata": {},
   "outputs": [
    {
     "data": {
      "text/plain": [
       "[1, 2, 3, 4, 5, 6]"
      ]
     },
     "execution_count": 1,
     "metadata": {},
     "output_type": "execute_result"
    }
   ],
   "source": [
    "#直接做+运算肯定是不行的\n",
    "a = [1,2,3]\n",
    "b = [4,5,6]\n",
    "a+b   #原生语法会让它们拼接在一起"
   ]
  },
  {
   "cell_type": "code",
   "execution_count": 2,
   "id": "8d39ac55",
   "metadata": {},
   "outputs": [
    {
     "data": {
      "text/plain": [
       "[2.5, 3.5, 4.5]"
      ]
     },
     "execution_count": 2,
     "metadata": {},
     "output_type": "execute_result"
    }
   ],
   "source": [
    "#平均值\n",
    "a = [1,2,3]\n",
    "b = [4,5,6]\n",
    "[(a[i]+b[i])/2 for i in range(0,len(a))]"
   ]
  },
  {
   "cell_type": "code",
   "execution_count": 4,
   "id": "9a53a10c",
   "metadata": {},
   "outputs": [
    {
     "data": {
      "text/plain": [
       "[5, 6, 7]"
      ]
     },
     "execution_count": 4,
     "metadata": {},
     "output_type": "execute_result"
    }
   ],
   "source": [
    "#混合运算\n",
    "a = [1,2,3]\n",
    "b = [4,5,6]\n",
    "c = [7,8,9]\n",
    "[a[i]+c[i]-b[i]+1 for i in range(0,len(a))]"
   ]
  },
  {
   "cell_type": "markdown",
   "id": "11fd7267",
   "metadata": {},
   "source": [
    "# 使用Python执行CMD命令\n",
    "### 方法1,os.system"
   ]
  },
  {
   "cell_type": "code",
   "execution_count": 1,
   "id": "b344ae75",
   "metadata": {},
   "outputs": [],
   "source": [
    "import os"
   ]
  },
  {
   "cell_type": "code",
   "execution_count": 4,
   "id": "b53d427b",
   "metadata": {},
   "outputs": [
    {
     "data": {
      "text/plain": [
       "0"
      ]
     },
     "execution_count": 4,
     "metadata": {},
     "output_type": "execute_result"
    }
   ],
   "source": [
    "os.system(\"ping 127.0.0.1\")   #程序正常执行，返回0"
   ]
  },
  {
   "cell_type": "code",
   "execution_count": 6,
   "id": "5f0e3424",
   "metadata": {},
   "outputs": [
    {
     "data": {
      "text/plain": [
       "1"
      ]
     },
     "execution_count": 6,
     "metadata": {},
     "output_type": "execute_result"
    }
   ],
   "source": [
    "os.system(\"aaaa\")#程序执行异常，返回1"
   ]
  },
  {
   "cell_type": "markdown",
   "id": "a1296ef8",
   "metadata": {},
   "source": [
    "### 方法2,os.popen\n",
    "从命令打开一个管道"
   ]
  },
  {
   "cell_type": "code",
   "execution_count": 7,
   "id": "d85bb75a",
   "metadata": {},
   "outputs": [
    {
     "data": {
      "text/plain": [
       "<os._wrap_close at 0x1ed0951ad90>"
      ]
     },
     "execution_count": 7,
     "metadata": {},
     "output_type": "execute_result"
    }
   ],
   "source": [
    "os.popen(\"ping 127.0.0.1 -n 1\")   "
   ]
  },
  {
   "cell_type": "code",
   "execution_count": 10,
   "id": "7e98e43c",
   "metadata": {},
   "outputs": [
    {
     "data": {
      "text/plain": [
       "os._wrap_close"
      ]
     },
     "execution_count": 10,
     "metadata": {},
     "output_type": "execute_result"
    }
   ],
   "source": [
    "type(os.popen(\"aaaa\"))  #即使命令是否成功执行，都返回一个_wrap_close对象"
   ]
  },
  {
   "cell_type": "code",
   "execution_count": 11,
   "id": "60434c93",
   "metadata": {},
   "outputs": [
    {
     "data": {
      "text/plain": [
       "'\\n正在 Ping 127.0.0.1 具有 32 字节的数据:\\n来自 127.0.0.1 的回复: 字节=32 时间<1ms TTL=64\\n\\n127.0.0.1 的 Ping 统计信息:\\n    数据包: 已发送 = 1，已接收 = 1，丢失 = 0 (0% 丢失)，\\n往返行程的估计时间(以毫秒为单位):\\n    最短 = 0ms，最长 = 0ms，平均 = 0ms\\n'"
      ]
     },
     "execution_count": 11,
     "metadata": {},
     "output_type": "execute_result"
    }
   ],
   "source": [
    "#对其进行read()方法可得到运行结果\n",
    "os.popen(\"ping 127.0.0.1 -n 1\").read()"
   ]
  },
  {
   "cell_type": "code",
   "execution_count": 15,
   "id": "55a7176c",
   "metadata": {},
   "outputs": [
    {
     "data": {
      "text/plain": [
       "'你好Python\\n'"
      ]
     },
     "execution_count": 15,
     "metadata": {},
     "output_type": "execute_result"
    }
   ],
   "source": [
    "os.popen(\"echo 你好Python\").read()"
   ]
  },
  {
   "cell_type": "code",
   "execution_count": 21,
   "id": "ff5b8f1a",
   "metadata": {},
   "outputs": [
    {
     "data": {
      "text/plain": [
       "''"
      ]
     },
     "execution_count": 21,
     "metadata": {},
     "output_type": "execute_result"
    }
   ],
   "source": [
    "os.popen(\"python\").read()   #read方法读取的只是控制台上返回的结果，对无返回结果以及异常命令则返回空串"
   ]
  },
  {
   "cell_type": "code",
   "execution_count": 28,
   "id": "eeb5a21f",
   "metadata": {},
   "outputs": [
    {
     "data": {
      "text/plain": [
       "''"
      ]
     },
     "execution_count": 28,
     "metadata": {},
     "output_type": "execute_result"
    }
   ],
   "source": [
    "os.popen(\"aaaa\").read()"
   ]
  },
  {
   "cell_type": "markdown",
   "id": "f384a111",
   "metadata": {},
   "source": [
    "# python\"三目运算符\"\n",
    "### 格式\n",
    "为True返回值 if 条件表达式 else 为Flast返回值"
   ]
  },
  {
   "cell_type": "code",
   "execution_count": 49,
   "id": "5f0853d9",
   "metadata": {},
   "outputs": [
    {
     "name": "stdout",
     "output_type": "stream",
     "text": [
      "假\n",
      "假\n",
      "真\n",
      "真\n"
     ]
    }
   ],
   "source": [
    "l=[1,2,3,4]\n",
    "for i in l:\n",
    "    print(\"真\" if i>2 else \"假\")   #遍历列表。大于2时返回真，否则返回假"
   ]
  },
  {
   "cell_type": "markdown",
   "id": "0f8d5c55",
   "metadata": {},
   "source": [
    "##### 让我们结合lamda函数一起实现更多的功能"
   ]
  },
  {
   "cell_type": "code",
   "execution_count": 14,
   "id": "e887f543",
   "metadata": {},
   "outputs": [
    {
     "data": {
      "text/plain": [
       "['假', '假', '真', '真']"
      ]
     },
     "execution_count": 14,
     "metadata": {},
     "output_type": "execute_result"
    }
   ],
   "source": [
    "l=['1','2','3','4']\n",
    "f=lambda x:\"真\" if int(x)>2 else \"假\"\n",
    "[f(i) for i in l]"
   ]
  },
  {
   "cell_type": "markdown",
   "id": "0b34b4ee",
   "metadata": {},
   "source": [
    "#### 可以用在pandas上为数据转换与处理"
   ]
  },
  {
   "cell_type": "code",
   "execution_count": 39,
   "id": "47c278ad",
   "metadata": {},
   "outputs": [
    {
     "data": {
      "text/plain": [
       "0    2.36\n",
       "1    1.52\n",
       "2    -999\n",
       "3    6.54\n",
       "4    2.78\n",
       "5     NaN\n",
       "6    4.12\n",
       "dtype: object"
      ]
     },
     "execution_count": 39,
     "metadata": {},
     "output_type": "execute_result"
    }
   ],
   "source": [
    "import pandas as pd\n",
    "import numpy as np\n",
    "data=pd.Series(data=[2.36,'1.52',-999,6.54,'2.78',np.nan,4.12])\n",
    "data"
   ]
  },
  {
   "cell_type": "code",
   "execution_count": 40,
   "id": "6628cc59",
   "metadata": {},
   "outputs": [
    {
     "data": {
      "text/plain": [
       "0    2.36\n",
       "1    1.52\n",
       "2     NaN\n",
       "3    6.54\n",
       "4    2.78\n",
       "5     NaN\n",
       "6    4.12\n",
       "dtype: float64"
      ]
     },
     "execution_count": 40,
     "metadata": {},
     "output_type": "execute_result"
    }
   ],
   "source": [
    "#将-999这个异常值替换为空值，将字符串数据转换为浮点数\n",
    "data=data.apply(lambda x:float(x) if x != -999 else None) \n",
    "data"
   ]
  },
  {
   "cell_type": "code",
   "execution_count": null,
   "id": "b65970e6",
   "metadata": {},
   "outputs": [],
   "source": []
  },
  {
   "cell_type": "code",
   "execution_count": null,
   "id": "7c35be75",
   "metadata": {},
   "outputs": [],
   "source": []
  },
  {
   "cell_type": "code",
   "execution_count": null,
   "id": "a8e0497b",
   "metadata": {},
   "outputs": [],
   "source": []
  }
 ],
 "metadata": {
  "kernelspec": {
   "display_name": "Python 3",
   "language": "python",
   "name": "python3"
  },
  "language_info": {
   "codemirror_mode": {
    "name": "ipython",
    "version": 3
   },
   "file_extension": ".py",
   "mimetype": "text/x-python",
   "name": "python",
   "nbconvert_exporter": "python",
   "pygments_lexer": "ipython3",
   "version": "3.8.8"
  }
 },
 "nbformat": 4,
 "nbformat_minor": 5
}
