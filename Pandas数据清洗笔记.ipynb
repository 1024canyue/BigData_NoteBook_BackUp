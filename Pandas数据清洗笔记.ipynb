{
 "cells": [
  {
   "cell_type": "code",
   "execution_count": 1,
   "id": "15e82d22",
   "metadata": {},
   "outputs": [],
   "source": [
    "import pandas as pd   #导入三件套\n",
    "import numpy as np\n",
    "import matplotlib.pyplot as plt"
   ]
  },
  {
   "cell_type": "markdown",
   "id": "9e63e483",
   "metadata": {},
   "source": [
    "# Pandas数据清洗\n",
    "学习自：https://edu.cda.cn/my/course/1441\n",
    "源码与数据：.\\data\\data_cleaning"
   ]
  },
  {
   "cell_type": "markdown",
   "id": "8a472212",
   "metadata": {},
   "source": [
    "数据清洗：对数据进行重新审查和校验的过程，目的在于删除重复信息、纠正存在的错误，并提供数据一致性。"
   ]
  },
  {
   "cell_type": "markdown",
   "id": "f0cbf32e",
   "metadata": {},
   "source": [
    "## 数据分析的流程\n",
    "数据的读写->数据的探索与描述->数据简单预处理->针对实际情况进行数据处理"
   ]
  },
  {
   "cell_type": "markdown",
   "id": "81ff9401",
   "metadata": {},
   "source": [
    "# 案例一：文本字符串的清洗"
   ]
  },
  {
   "cell_type": "markdown",
   "id": "087956ca",
   "metadata": {},
   "source": [
    "### 1，数据的读写"
   ]
  },
  {
   "cell_type": "code",
   "execution_count": 2,
   "id": "aac0d440",
   "metadata": {},
   "outputs": [
    {
     "data": {
      "text/html": [
       "<div>\n",
       "<style scoped>\n",
       "    .dataframe tbody tr th:only-of-type {\n",
       "        vertical-align: middle;\n",
       "    }\n",
       "\n",
       "    .dataframe tbody tr th {\n",
       "        vertical-align: top;\n",
       "    }\n",
       "\n",
       "    .dataframe thead th {\n",
       "        text-align: right;\n",
       "    }\n",
       "</style>\n",
       "<table border=\"1\" class=\"dataframe\">\n",
       "  <thead>\n",
       "    <tr style=\"text-align: right;\">\n",
       "      <th></th>\n",
       "      <th>出发地</th>\n",
       "      <th>目的地</th>\n",
       "      <th>价格</th>\n",
       "      <th>节省</th>\n",
       "      <th>路线名</th>\n",
       "      <th>酒店</th>\n",
       "      <th>房间</th>\n",
       "      <th>去程航司</th>\n",
       "      <th>去程方式</th>\n",
       "      <th>去程时间</th>\n",
       "      <th>回程航司</th>\n",
       "      <th>回程方式</th>\n",
       "      <th>回程时间</th>\n",
       "    </tr>\n",
       "  </thead>\n",
       "  <tbody>\n",
       "    <tr>\n",
       "      <th>0</th>\n",
       "      <td>哈尔滨</td>\n",
       "      <td>北海</td>\n",
       "      <td>2208.0</td>\n",
       "      <td>650.0</td>\n",
       "      <td>哈尔滨-北海3天2晚 | 入住北海祥丰嘉年华大酒店 + 春秋航空往返机票</td>\n",
       "      <td>北海祥丰嘉年华大酒店 舒适型 4.7分/5分</td>\n",
       "      <td>标准双人间(双床) 双床 不含早 1间2晚</td>\n",
       "      <td>春秋航空 9C8741</td>\n",
       "      <td>直飞</td>\n",
       "      <td>17:10-21:50</td>\n",
       "      <td>春秋航空 9C8742</td>\n",
       "      <td>直飞</td>\n",
       "      <td>10:20-15:05</td>\n",
       "    </tr>\n",
       "    <tr>\n",
       "      <th>1</th>\n",
       "      <td>成都</td>\n",
       "      <td>泸沽湖</td>\n",
       "      <td>1145.0</td>\n",
       "      <td>376.0</td>\n",
       "      <td>成都-泸沽湖3天2晚 | 入住7天酒店丽江古城中心店 + 成都航空往返机票</td>\n",
       "      <td>7天酒店丽江古城中心店 经济型 4.0分/5分</td>\n",
       "      <td>经济房-不含早-限时特... 其他 不含早 1间2晚</td>\n",
       "      <td>成都航空 EU2237</td>\n",
       "      <td>直飞</td>\n",
       "      <td>19:45-21:20</td>\n",
       "      <td>成都航空 EU2738</td>\n",
       "      <td>直飞</td>\n",
       "      <td>23:30-01:05</td>\n",
       "    </tr>\n",
       "  </tbody>\n",
       "</table>\n",
       "</div>"
      ],
      "text/plain": [
       "  出发地   目的地     价格      节省                                    路线名  \\\n",
       "0  哈尔滨   北海  2208.0  650.0   哈尔滨-北海3天2晚 | 入住北海祥丰嘉年华大酒店 + 春秋航空往返机票   \n",
       "1   成都  泸沽湖  1145.0  376.0  成都-泸沽湖3天2晚 | 入住7天酒店丽江古城中心店 + 成都航空往返机票   \n",
       "\n",
       "                        酒店                          房间         去程航司 去程方式  \\\n",
       "0   北海祥丰嘉年华大酒店 舒适型 4.7分/5分       标准双人间(双床) 双床 不含早 1间2晚  春秋航空 9C8741   直飞   \n",
       "1  7天酒店丽江古城中心店 经济型 4.0分/5分  经济房-不含早-限时特... 其他 不含早 1间2晚  成都航空 EU2237   直飞   \n",
       "\n",
       "          去程时间         回程航司 回程方式          回程时间  \n",
       "0  17:10-21:50  春秋航空 9C8742    直飞  10:20-15:05  \n",
       "1  19:45-21:20  成都航空 EU2738    直飞  23:30-01:05  "
      ]
     },
     "execution_count": 2,
     "metadata": {},
     "output_type": "execute_result"
    }
   ],
   "source": [
    "df=pd.read_csv(\"data/data_cleaning/qunar_freetrip.csv\"   #导入数据\n",
    "               ,index_col=0)   #第0列作为索引\n",
    "df.head(2)"
   ]
  },
  {
   "cell_type": "markdown",
   "id": "f9a76e26",
   "metadata": {},
   "source": [
    "### 2,数据探索与描述"
   ]
  },
  {
   "cell_type": "code",
   "execution_count": 3,
   "id": "0bdb4ea2",
   "metadata": {},
   "outputs": [
    {
     "data": {
      "text/plain": [
       "(5100, 13)"
      ]
     },
     "execution_count": 3,
     "metadata": {},
     "output_type": "execute_result"
    }
   ],
   "source": [
    "#查看数据形状\n",
    "df.shape"
   ]
  },
  {
   "cell_type": "code",
   "execution_count": 4,
   "id": "da111d56",
   "metadata": {},
   "outputs": [
    {
     "name": "stdout",
     "output_type": "stream",
     "text": [
      "<class 'pandas.core.frame.DataFrame'>\n",
      "Int64Index: 5100 entries, 0 to 5099\n",
      "Data columns (total 13 columns):\n",
      " #   Column  Non-Null Count  Dtype  \n",
      "---  ------  --------------  -----  \n",
      " 0   出发地     5098 non-null   object \n",
      " 1    目的地    5099 non-null   object \n",
      " 2   价格      5072 non-null   float64\n",
      " 3   节省      5083 non-null   float64\n",
      " 4   路线名     5100 non-null   object \n",
      " 5   酒店      5100 non-null   object \n",
      " 6   房间      5100 non-null   object \n",
      " 7   去程航司    5100 non-null   object \n",
      " 8   去程方式    5100 non-null   object \n",
      " 9   去程时间    5100 non-null   object \n",
      " 10  回程航司    5100 non-null   object \n",
      " 11  回程方式    5100 non-null   object \n",
      " 12  回程时间    5100 non-null   object \n",
      "dtypes: float64(2), object(11)\n",
      "memory usage: 557.8+ KB\n"
     ]
    }
   ],
   "source": [
    "#查看数据结构\n",
    "df.info()"
   ]
  },
  {
   "cell_type": "markdown",
   "id": "64d8441f",
   "metadata": {},
   "source": [
    "发现索引有5100行，但有些数据并没有那么多，这就代表一些数据存在空值"
   ]
  },
  {
   "cell_type": "code",
   "execution_count": 5,
   "id": "3eab9a27",
   "metadata": {},
   "outputs": [
    {
     "data": {
      "text/html": [
       "<div>\n",
       "<style scoped>\n",
       "    .dataframe tbody tr th:only-of-type {\n",
       "        vertical-align: middle;\n",
       "    }\n",
       "\n",
       "    .dataframe tbody tr th {\n",
       "        vertical-align: top;\n",
       "    }\n",
       "\n",
       "    .dataframe thead th {\n",
       "        text-align: right;\n",
       "    }\n",
       "</style>\n",
       "<table border=\"1\" class=\"dataframe\">\n",
       "  <thead>\n",
       "    <tr style=\"text-align: right;\">\n",
       "      <th></th>\n",
       "      <th>价格</th>\n",
       "      <th>节省</th>\n",
       "    </tr>\n",
       "  </thead>\n",
       "  <tbody>\n",
       "    <tr>\n",
       "      <th>count</th>\n",
       "      <td>5072.000000</td>\n",
       "      <td>5083.000000</td>\n",
       "    </tr>\n",
       "    <tr>\n",
       "      <th>mean</th>\n",
       "      <td>1765.714905</td>\n",
       "      <td>474.139878</td>\n",
       "    </tr>\n",
       "    <tr>\n",
       "      <th>std</th>\n",
       "      <td>2580.129644</td>\n",
       "      <td>168.893780</td>\n",
       "    </tr>\n",
       "    <tr>\n",
       "      <th>min</th>\n",
       "      <td>578.000000</td>\n",
       "      <td>306.000000</td>\n",
       "    </tr>\n",
       "    <tr>\n",
       "      <th>25%</th>\n",
       "      <td>1253.000000</td>\n",
       "      <td>358.000000</td>\n",
       "    </tr>\n",
       "    <tr>\n",
       "      <th>50%</th>\n",
       "      <td>1632.000000</td>\n",
       "      <td>436.000000</td>\n",
       "    </tr>\n",
       "    <tr>\n",
       "      <th>75%</th>\n",
       "      <td>2028.250000</td>\n",
       "      <td>530.000000</td>\n",
       "    </tr>\n",
       "    <tr>\n",
       "      <th>max</th>\n",
       "      <td>179500.000000</td>\n",
       "      <td>3500.000000</td>\n",
       "    </tr>\n",
       "  </tbody>\n",
       "</table>\n",
       "</div>"
      ],
      "text/plain": [
       "                 价格            节省\n",
       "count    5072.000000  5083.000000\n",
       "mean     1765.714905   474.139878\n",
       "std      2580.129644   168.893780\n",
       "min       578.000000   306.000000\n",
       "25%      1253.000000   358.000000\n",
       "50%      1632.000000   436.000000\n",
       "75%      2028.250000   530.000000\n",
       "max    179500.000000  3500.000000"
      ]
     },
     "execution_count": 5,
     "metadata": {},
     "output_type": "execute_result"
    }
   ],
   "source": [
    "#快速查看数据的描述统计\n",
    "df.describe()   #只会显示数字列统计结果"
   ]
  },
  {
   "cell_type": "markdown",
   "id": "60034371",
   "metadata": {},
   "source": [
    "价格与节省的数据量（count）小于5100，代表这两个是有缺失值存在；\n",
    "价格与节省的最大值与%75值大太多，代表有概率存在异常值"
   ]
  },
  {
   "cell_type": "markdown",
   "id": "fe3ee728",
   "metadata": {},
   "source": [
    "### 3,数据的简单预处理"
   ]
  },
  {
   "cell_type": "code",
   "execution_count": 6,
   "id": "d4625251",
   "metadata": {},
   "outputs": [
    {
     "data": {
      "text/plain": [
       "Index(['出发地 ', ' 目的地', '价格 ', '节省', '路线名', '酒店', '房间', '去程航司', '去程方式', '去程时间',\n",
       "       '回程航司', '回程方式 ', '回程时间'],\n",
       "      dtype='object')"
      ]
     },
     "execution_count": 6,
     "metadata": {},
     "output_type": "execute_result"
    }
   ],
   "source": [
    "df.columns  #查看列名"
   ]
  },
  {
   "cell_type": "markdown",
   "id": "7276f4fa",
   "metadata": {},
   "source": [
    "⚠注意，有些列名存在空格，可能会导致异常"
   ]
  },
  {
   "cell_type": "code",
   "execution_count": 7,
   "id": "f13f3b3b",
   "metadata": {},
   "outputs": [
    {
     "data": {
      "text/plain": [
       "array(['出发地 ', ' 目的地', '价格 ', '节省', '路线名', '酒店', '房间', '去程航司', '去程方式',\n",
       "       '去程时间', '回程航司', '回程方式 ', '回程时间'], dtype=object)"
      ]
     },
     "execution_count": 7,
     "metadata": {},
     "output_type": "execute_result"
    }
   ],
   "source": [
    "col = df.columns.values   #获取列名\n",
    "col"
   ]
  },
  {
   "cell_type": "code",
   "execution_count": 8,
   "id": "9b19421f",
   "metadata": {},
   "outputs": [
    {
     "name": "stdout",
     "output_type": "stream",
     "text": [
      "出发地 \n",
      "出发地\n"
     ]
    }
   ],
   "source": [
    "print(col[0])\n",
    "print(col[0].strip())   #strip方法可以去除字符串头尾字符（默认空格）但只能一次"
   ]
  },
  {
   "cell_type": "code",
   "execution_count": 9,
   "id": "0fd55249",
   "metadata": {},
   "outputs": [
    {
     "data": {
      "text/plain": [
       "['出发地 ',\n",
       " ' 目的地',\n",
       " '价格 ',\n",
       " '节省',\n",
       " '路线名',\n",
       " '酒店',\n",
       " '房间',\n",
       " '去程航司',\n",
       " '去程方式',\n",
       " '去程时间',\n",
       " '回程航司',\n",
       " '回程方式 ',\n",
       " '回程时间']"
      ]
     },
     "execution_count": 9,
     "metadata": {},
     "output_type": "execute_result"
    }
   ],
   "source": [
    "[x for x in col]  #列表推导式原理（遍历-》处理-》返回一个列表）"
   ]
  },
  {
   "cell_type": "code",
   "execution_count": 10,
   "id": "cce9dfb6",
   "metadata": {},
   "outputs": [],
   "source": [
    "df.columns = [x.strip() for x in col]   #批量取空格，写循环也行,并赋值给列索引"
   ]
  },
  {
   "cell_type": "code",
   "execution_count": 11,
   "id": "11bee5da",
   "metadata": {
    "scrolled": true
   },
   "outputs": [
    {
     "data": {
      "text/plain": [
       "Index(['出发地', '目的地', '价格', '节省', '路线名', '酒店', '房间', '去程航司', '去程方式', '去程时间',\n",
       "       '回程航司', '回程方式', '回程时间'],\n",
       "      dtype='object')"
      ]
     },
     "execution_count": 11,
     "metadata": {},
     "output_type": "execute_result"
    }
   ],
   "source": [
    "df.columns  #发现空格已被去除"
   ]
  },
  {
   "cell_type": "markdown",
   "id": "6ce15a1c",
   "metadata": {},
   "source": [
    "### 4，重复值的处理\n",
    "#### 检查重复值duplicated()\n",
    "Duplicated函数功能：查找并显示数据表中的重复值   \n",
    "这里需要注意的是：    \n",
    "- 当两条记录中所有的数据都相等时duplicated函数才会判断为重复值(一整行每列数据都完全相等)       \n",
    "- duplicated支持从前向后(默认)(first)(后面的判断为重复值);和从后向前(last)(前面的判断为重复值)两种重复值查找模式   \n",
    "- 默认是从前向后进行重复值的查找和判断，也就是后面的条目在重复值判断中显示为True  "
   ]
  },
  {
   "cell_type": "code",
   "execution_count": 12,
   "id": "e7e1de2e",
   "metadata": {},
   "outputs": [
    {
     "data": {
      "text/plain": [
       "0       False\n",
       "1       False\n",
       "2       False\n",
       "3       False\n",
       "4       False\n",
       "        ...  \n",
       "5095     True\n",
       "5096    False\n",
       "5097    False\n",
       "5098    False\n",
       "5099    False\n",
       "Length: 5100, dtype: bool"
      ]
     },
     "execution_count": 12,
     "metadata": {},
     "output_type": "execute_result"
    }
   ],
   "source": [
    "df.duplicated()   #返回每个元素是否是重复值（布尔类型）"
   ]
  },
  {
   "cell_type": "code",
   "execution_count": 13,
   "id": "e68be77f",
   "metadata": {},
   "outputs": [
    {
     "data": {
      "text/html": [
       "<div>\n",
       "<style scoped>\n",
       "    .dataframe tbody tr th:only-of-type {\n",
       "        vertical-align: middle;\n",
       "    }\n",
       "\n",
       "    .dataframe tbody tr th {\n",
       "        vertical-align: top;\n",
       "    }\n",
       "\n",
       "    .dataframe thead th {\n",
       "        text-align: right;\n",
       "    }\n",
       "</style>\n",
       "<table border=\"1\" class=\"dataframe\">\n",
       "  <thead>\n",
       "    <tr style=\"text-align: right;\">\n",
       "      <th></th>\n",
       "      <th>出发地</th>\n",
       "      <th>目的地</th>\n",
       "      <th>价格</th>\n",
       "      <th>节省</th>\n",
       "      <th>路线名</th>\n",
       "      <th>酒店</th>\n",
       "      <th>房间</th>\n",
       "      <th>去程航司</th>\n",
       "      <th>去程方式</th>\n",
       "      <th>去程时间</th>\n",
       "      <th>回程航司</th>\n",
       "      <th>回程方式</th>\n",
       "      <th>回程时间</th>\n",
       "    </tr>\n",
       "  </thead>\n",
       "  <tbody>\n",
       "    <tr>\n",
       "      <th>454</th>\n",
       "      <td>广州</td>\n",
       "      <td>黄山</td>\n",
       "      <td>1871.0</td>\n",
       "      <td>492.0</td>\n",
       "      <td>广州-黄山3天2晚 | 入住黄山汤口醉享主题酒店 + 南方航空往返机票</td>\n",
       "      <td>黄山汤口醉享主题酒店 舒适型 4.8分/5分</td>\n",
       "      <td>睫毛弯弯(大床) 大床 不含早 1间2晚</td>\n",
       "      <td>南方航空 CZ3627</td>\n",
       "      <td>直飞</td>\n",
       "      <td>19:20-21:15</td>\n",
       "      <td>南方航空 CZ3628</td>\n",
       "      <td>直飞</td>\n",
       "      <td>22:05-23:50</td>\n",
       "    </tr>\n",
       "    <tr>\n",
       "      <th>649</th>\n",
       "      <td>济南</td>\n",
       "      <td>长沙</td>\n",
       "      <td>1134.0</td>\n",
       "      <td>360.0</td>\n",
       "      <td>济南-长沙3天2晚 | 入住长沙喜迎宾华天大酒店 + 山东航空往返机票</td>\n",
       "      <td>长沙喜迎宾华天大酒店 高档型 3.7分/5分</td>\n",
       "      <td>特惠双间(特惠抢购)(... 双床 不含早 1间2晚</td>\n",
       "      <td>山东航空 SC1185</td>\n",
       "      <td>直飞</td>\n",
       "      <td>18:40-20:50</td>\n",
       "      <td>山东航空 SC1186</td>\n",
       "      <td>直飞</td>\n",
       "      <td>10:20-12:15</td>\n",
       "    </tr>\n",
       "  </tbody>\n",
       "</table>\n",
       "</div>"
      ],
      "text/plain": [
       "    出发地 目的地      价格     节省                                  路线名  \\\n",
       "454  广州  黄山  1871.0  492.0  广州-黄山3天2晚 | 入住黄山汤口醉享主题酒店 + 南方航空往返机票   \n",
       "649  济南  长沙  1134.0  360.0  济南-长沙3天2晚 | 入住长沙喜迎宾华天大酒店 + 山东航空往返机票   \n",
       "\n",
       "                         酒店                          房间         去程航司 去程方式  \\\n",
       "454  黄山汤口醉享主题酒店 舒适型 4.8分/5分        睫毛弯弯(大床) 大床 不含早 1间2晚  南方航空 CZ3627   直飞   \n",
       "649  长沙喜迎宾华天大酒店 高档型 3.7分/5分  特惠双间(特惠抢购)(... 双床 不含早 1间2晚  山东航空 SC1185   直飞   \n",
       "\n",
       "            去程时间         回程航司 回程方式         回程时间  \n",
       "454  19:20-21:15  南方航空 CZ3628   直飞  22:05-23:50  \n",
       "649  18:40-20:50  山东航空 SC1186   直飞  10:20-12:15  "
      ]
     },
     "execution_count": 13,
     "metadata": {},
     "output_type": "execute_result"
    }
   ],
   "source": [
    "df[df.duplicated()].head(2)   #重复值"
   ]
  },
  {
   "cell_type": "code",
   "execution_count": 14,
   "id": "442d8e6b",
   "metadata": {},
   "outputs": [
    {
     "data": {
      "text/plain": [
       "100"
      ]
     },
     "execution_count": 14,
     "metadata": {},
     "output_type": "execute_result"
    }
   ],
   "source": [
    "df.duplicated().sum()   #有几个重复值"
   ]
  },
  {
   "cell_type": "markdown",
   "id": "811d3aad",
   "metadata": {},
   "source": [
    "#### 删除重复值drop_duplicates()   \n",
    "- drop_duplicates函数功能是：删除数据表中的重复值，判断标准和逻辑与duplicated函数一样 \n",
    "- drop_duplicates函数有一个inplace参数，默认为False(不修改原数据),True(修改原数据)"
   ]
  },
  {
   "cell_type": "code",
   "execution_count": 15,
   "id": "f9caaba7",
   "metadata": {
    "scrolled": true
   },
   "outputs": [
    {
     "data": {
      "text/html": [
       "<div>\n",
       "<style scoped>\n",
       "    .dataframe tbody tr th:only-of-type {\n",
       "        vertical-align: middle;\n",
       "    }\n",
       "\n",
       "    .dataframe tbody tr th {\n",
       "        vertical-align: top;\n",
       "    }\n",
       "\n",
       "    .dataframe thead th {\n",
       "        text-align: right;\n",
       "    }\n",
       "</style>\n",
       "<table border=\"1\" class=\"dataframe\">\n",
       "  <thead>\n",
       "    <tr style=\"text-align: right;\">\n",
       "      <th></th>\n",
       "      <th>出发地</th>\n",
       "      <th>目的地</th>\n",
       "      <th>价格</th>\n",
       "      <th>节省</th>\n",
       "      <th>路线名</th>\n",
       "      <th>酒店</th>\n",
       "      <th>房间</th>\n",
       "      <th>去程航司</th>\n",
       "      <th>去程方式</th>\n",
       "      <th>去程时间</th>\n",
       "      <th>回程航司</th>\n",
       "      <th>回程方式</th>\n",
       "      <th>回程时间</th>\n",
       "    </tr>\n",
       "  </thead>\n",
       "  <tbody>\n",
       "    <tr>\n",
       "      <th>0</th>\n",
       "      <td>哈尔滨</td>\n",
       "      <td>北海</td>\n",
       "      <td>2208.0</td>\n",
       "      <td>650.0</td>\n",
       "      <td>哈尔滨-北海3天2晚 | 入住北海祥丰嘉年华大酒店 + 春秋航空往返机票</td>\n",
       "      <td>北海祥丰嘉年华大酒店 舒适型 4.7分/5分</td>\n",
       "      <td>标准双人间(双床) 双床 不含早 1间2晚</td>\n",
       "      <td>春秋航空 9C8741</td>\n",
       "      <td>直飞</td>\n",
       "      <td>17:10-21:50</td>\n",
       "      <td>春秋航空 9C8742</td>\n",
       "      <td>直飞</td>\n",
       "      <td>10:20-15:05</td>\n",
       "    </tr>\n",
       "  </tbody>\n",
       "</table>\n",
       "</div>"
      ],
      "text/plain": [
       "   出发地 目的地      价格     节省                                   路线名  \\\n",
       "0  哈尔滨  北海  2208.0  650.0  哈尔滨-北海3天2晚 | 入住北海祥丰嘉年华大酒店 + 春秋航空往返机票   \n",
       "\n",
       "                       酒店                     房间         去程航司 去程方式  \\\n",
       "0  北海祥丰嘉年华大酒店 舒适型 4.7分/5分  标准双人间(双床) 双床 不含早 1间2晚  春秋航空 9C8741   直飞   \n",
       "\n",
       "          去程时间         回程航司 回程方式         回程时间  \n",
       "0  17:10-21:50  春秋航空 9C8742   直飞  10:20-15:05  "
      ]
     },
     "execution_count": 15,
     "metadata": {},
     "output_type": "execute_result"
    }
   ],
   "source": [
    "df.drop_duplicates().head(1)  #注意，原始数据重复值没有删除,输出的是删除后数据"
   ]
  },
  {
   "cell_type": "code",
   "execution_count": 16,
   "id": "fd315138",
   "metadata": {},
   "outputs": [
    {
     "data": {
      "text/plain": [
       "100"
      ]
     },
     "execution_count": 16,
     "metadata": {},
     "output_type": "execute_result"
    }
   ],
   "source": [
    "df.duplicated().sum()   #重复值计数"
   ]
  },
  {
   "cell_type": "code",
   "execution_count": 17,
   "id": "a8534b13",
   "metadata": {},
   "outputs": [],
   "source": [
    "df.drop_duplicates(inplace=True)   #删除重复值"
   ]
  },
  {
   "cell_type": "code",
   "execution_count": 18,
   "id": "2ebab5b0",
   "metadata": {},
   "outputs": [
    {
     "data": {
      "text/plain": [
       "0"
      ]
     },
     "execution_count": 18,
     "metadata": {},
     "output_type": "execute_result"
    }
   ],
   "source": [
    "df.duplicated().sum()    #重复值计数"
   ]
  },
  {
   "cell_type": "code",
   "execution_count": 19,
   "id": "119b2ad8",
   "metadata": {
    "scrolled": false
   },
   "outputs": [
    {
     "data": {
      "text/html": [
       "<div>\n",
       "<style scoped>\n",
       "    .dataframe tbody tr th:only-of-type {\n",
       "        vertical-align: middle;\n",
       "    }\n",
       "\n",
       "    .dataframe tbody tr th {\n",
       "        vertical-align: top;\n",
       "    }\n",
       "\n",
       "    .dataframe thead th {\n",
       "        text-align: right;\n",
       "    }\n",
       "</style>\n",
       "<table border=\"1\" class=\"dataframe\">\n",
       "  <thead>\n",
       "    <tr style=\"text-align: right;\">\n",
       "      <th></th>\n",
       "      <th>出发地</th>\n",
       "      <th>目的地</th>\n",
       "      <th>价格</th>\n",
       "      <th>节省</th>\n",
       "      <th>路线名</th>\n",
       "      <th>酒店</th>\n",
       "      <th>房间</th>\n",
       "      <th>去程航司</th>\n",
       "      <th>去程方式</th>\n",
       "      <th>去程时间</th>\n",
       "      <th>回程航司</th>\n",
       "      <th>回程方式</th>\n",
       "      <th>回程时间</th>\n",
       "    </tr>\n",
       "  </thead>\n",
       "  <tbody>\n",
       "    <tr>\n",
       "      <th>5097</th>\n",
       "      <td>天津</td>\n",
       "      <td>丽江</td>\n",
       "      <td>1616.0</td>\n",
       "      <td>426.0</td>\n",
       "      <td>天津-丽江3天2晚 | 入住丽江凡间度假连锁客栈青旅店 + 天津航空/首都航空往...</td>\n",
       "      <td>丽江凡间度假连锁客栈青旅店 经济型 4.5分/5分</td>\n",
       "      <td>大床房-预付 大床 不含早 1间2晚</td>\n",
       "      <td>天津航空 GS7861</td>\n",
       "      <td>直飞</td>\n",
       "      <td>16:25-19:45</td>\n",
       "      <td>首都航空 JD5739</td>\n",
       "      <td>直飞</td>\n",
       "      <td>07:50-10:50</td>\n",
       "    </tr>\n",
       "    <tr>\n",
       "      <th>5098</th>\n",
       "      <td>大连</td>\n",
       "      <td>重庆</td>\n",
       "      <td>1703.0</td>\n",
       "      <td>446.0</td>\n",
       "      <td>大连-重庆3天2晚 | 入住重庆酉阳锦宏大酒店 + 华夏航空/山东航空往返机票</td>\n",
       "      <td>重庆酉阳锦宏大酒店 舒适型 4.0分/5分</td>\n",
       "      <td>特惠房(大床) 大床 不含早 1间2晚</td>\n",
       "      <td>华夏航空 G52762</td>\n",
       "      <td>经停</td>\n",
       "      <td>18:25-23:30</td>\n",
       "      <td>山东航空 SC4837</td>\n",
       "      <td>经停</td>\n",
       "      <td>07:00-11:30</td>\n",
       "    </tr>\n",
       "    <tr>\n",
       "      <th>5099</th>\n",
       "      <td>天津</td>\n",
       "      <td>哈尔滨</td>\n",
       "      <td>1192.0</td>\n",
       "      <td>356.0</td>\n",
       "      <td>天津-哈尔滨3天2晚 | 入住哈尔滨钰轩酒店中央大街店 + 奥凯航空/福州往返机票</td>\n",
       "      <td>哈尔滨钰轩酒店中央大街店 舒适型 4.0分/5分</td>\n",
       "      <td>标准大床房 大床 大床 双早 1间2晚</td>\n",
       "      <td>奥凯航空 BK2918</td>\n",
       "      <td>直飞</td>\n",
       "      <td>21:10-23:25</td>\n",
       "      <td>福州 FU6556</td>\n",
       "      <td>直飞</td>\n",
       "      <td>11:35-13:45</td>\n",
       "    </tr>\n",
       "  </tbody>\n",
       "</table>\n",
       "</div>"
      ],
      "text/plain": [
       "     出发地  目的地      价格     节省                                          路线名  \\\n",
       "5097  天津   丽江  1616.0  426.0  天津-丽江3天2晚 | 入住丽江凡间度假连锁客栈青旅店 + 天津航空/首都航空往...   \n",
       "5098  大连   重庆  1703.0  446.0      大连-重庆3天2晚 | 入住重庆酉阳锦宏大酒店 + 华夏航空/山东航空往返机票   \n",
       "5099  天津  哈尔滨  1192.0  356.0    天津-哈尔滨3天2晚 | 入住哈尔滨钰轩酒店中央大街店 + 奥凯航空/福州往返机票   \n",
       "\n",
       "                             酒店                   房间         去程航司 去程方式  \\\n",
       "5097  丽江凡间度假连锁客栈青旅店 经济型 4.5分/5分   大床房-预付 大床 不含早 1间2晚  天津航空 GS7861   直飞   \n",
       "5098      重庆酉阳锦宏大酒店 舒适型 4.0分/5分  特惠房(大床) 大床 不含早 1间2晚  华夏航空 G52762   经停   \n",
       "5099   哈尔滨钰轩酒店中央大街店 舒适型 4.0分/5分  标准大床房 大床 大床 双早 1间2晚  奥凯航空 BK2918   直飞   \n",
       "\n",
       "             去程时间         回程航司 回程方式         回程时间  \n",
       "5097  16:25-19:45  首都航空 JD5739   直飞  07:50-10:50  \n",
       "5098  18:25-23:30  山东航空 SC4837   经停  07:00-11:30  \n",
       "5099  21:10-23:25    福州 FU6556   直飞  11:35-13:45  "
      ]
     },
     "execution_count": 19,
     "metadata": {},
     "output_type": "execute_result"
    }
   ],
   "source": [
    "df[4997:] #输出最后几行"
   ]
  },
  {
   "cell_type": "markdown",
   "id": "c2126534",
   "metadata": {},
   "source": [
    "⚠注意：观察最后几行索引，可见只是去除了重复值，索引还是保留之前的"
   ]
  },
  {
   "cell_type": "code",
   "execution_count": 20,
   "id": "498e870a",
   "metadata": {},
   "outputs": [],
   "source": [
    "df.index=(range(df.shape[0]))  #重置索引(返回一个0-列表行数（不包含）的序列进行赋值)"
   ]
  },
  {
   "cell_type": "code",
   "execution_count": 21,
   "id": "0ee15d9a",
   "metadata": {
    "scrolled": false
   },
   "outputs": [
    {
     "data": {
      "text/html": [
       "<div>\n",
       "<style scoped>\n",
       "    .dataframe tbody tr th:only-of-type {\n",
       "        vertical-align: middle;\n",
       "    }\n",
       "\n",
       "    .dataframe tbody tr th {\n",
       "        vertical-align: top;\n",
       "    }\n",
       "\n",
       "    .dataframe thead th {\n",
       "        text-align: right;\n",
       "    }\n",
       "</style>\n",
       "<table border=\"1\" class=\"dataframe\">\n",
       "  <thead>\n",
       "    <tr style=\"text-align: right;\">\n",
       "      <th></th>\n",
       "      <th>出发地</th>\n",
       "      <th>目的地</th>\n",
       "      <th>价格</th>\n",
       "      <th>节省</th>\n",
       "      <th>路线名</th>\n",
       "      <th>酒店</th>\n",
       "      <th>房间</th>\n",
       "      <th>去程航司</th>\n",
       "      <th>去程方式</th>\n",
       "      <th>去程时间</th>\n",
       "      <th>回程航司</th>\n",
       "      <th>回程方式</th>\n",
       "      <th>回程时间</th>\n",
       "    </tr>\n",
       "  </thead>\n",
       "  <tbody>\n",
       "    <tr>\n",
       "      <th>4998</th>\n",
       "      <td>大连</td>\n",
       "      <td>重庆</td>\n",
       "      <td>1703.0</td>\n",
       "      <td>446.0</td>\n",
       "      <td>大连-重庆3天2晚 | 入住重庆酉阳锦宏大酒店 + 华夏航空/山东航空往返机票</td>\n",
       "      <td>重庆酉阳锦宏大酒店 舒适型 4.0分/5分</td>\n",
       "      <td>特惠房(大床) 大床 不含早 1间2晚</td>\n",
       "      <td>华夏航空 G52762</td>\n",
       "      <td>经停</td>\n",
       "      <td>18:25-23:30</td>\n",
       "      <td>山东航空 SC4837</td>\n",
       "      <td>经停</td>\n",
       "      <td>07:00-11:30</td>\n",
       "    </tr>\n",
       "    <tr>\n",
       "      <th>4999</th>\n",
       "      <td>天津</td>\n",
       "      <td>哈尔滨</td>\n",
       "      <td>1192.0</td>\n",
       "      <td>356.0</td>\n",
       "      <td>天津-哈尔滨3天2晚 | 入住哈尔滨钰轩酒店中央大街店 + 奥凯航空/福州往返机票</td>\n",
       "      <td>哈尔滨钰轩酒店中央大街店 舒适型 4.0分/5分</td>\n",
       "      <td>标准大床房 大床 大床 双早 1间2晚</td>\n",
       "      <td>奥凯航空 BK2918</td>\n",
       "      <td>直飞</td>\n",
       "      <td>21:10-23:25</td>\n",
       "      <td>福州 FU6556</td>\n",
       "      <td>直飞</td>\n",
       "      <td>11:35-13:45</td>\n",
       "    </tr>\n",
       "  </tbody>\n",
       "</table>\n",
       "</div>"
      ],
      "text/plain": [
       "     出发地  目的地      价格     节省                                        路线名  \\\n",
       "4998  大连   重庆  1703.0  446.0    大连-重庆3天2晚 | 入住重庆酉阳锦宏大酒店 + 华夏航空/山东航空往返机票   \n",
       "4999  天津  哈尔滨  1192.0  356.0  天津-哈尔滨3天2晚 | 入住哈尔滨钰轩酒店中央大街店 + 奥凯航空/福州往返机票   \n",
       "\n",
       "                            酒店                   房间         去程航司 去程方式  \\\n",
       "4998     重庆酉阳锦宏大酒店 舒适型 4.0分/5分  特惠房(大床) 大床 不含早 1间2晚  华夏航空 G52762   经停   \n",
       "4999  哈尔滨钰轩酒店中央大街店 舒适型 4.0分/5分  标准大床房 大床 大床 双早 1间2晚  奥凯航空 BK2918   直飞   \n",
       "\n",
       "             去程时间         回程航司 回程方式         回程时间  \n",
       "4998  18:25-23:30  山东航空 SC4837   经停  07:00-11:30  \n",
       "4999  21:10-23:25    福州 FU6556   直飞  11:35-13:45  "
      ]
     },
     "execution_count": 21,
     "metadata": {},
     "output_type": "execute_result"
    }
   ],
   "source": [
    "df[4998:] #输出最后几行"
   ]
  },
  {
   "cell_type": "markdown",
   "id": "2f99cc31",
   "metadata": {},
   "source": [
    "## 异常值的处理"
   ]
  },
  {
   "cell_type": "code",
   "execution_count": 22,
   "id": "533c00bf",
   "metadata": {},
   "outputs": [
    {
     "data": {
      "text/html": [
       "<div>\n",
       "<style scoped>\n",
       "    .dataframe tbody tr th:only-of-type {\n",
       "        vertical-align: middle;\n",
       "    }\n",
       "\n",
       "    .dataframe tbody tr th {\n",
       "        vertical-align: top;\n",
       "    }\n",
       "\n",
       "    .dataframe thead th {\n",
       "        text-align: right;\n",
       "    }\n",
       "</style>\n",
       "<table border=\"1\" class=\"dataframe\">\n",
       "  <thead>\n",
       "    <tr style=\"text-align: right;\">\n",
       "      <th></th>\n",
       "      <th>count</th>\n",
       "      <th>mean</th>\n",
       "      <th>std</th>\n",
       "      <th>min</th>\n",
       "      <th>25%</th>\n",
       "      <th>50%</th>\n",
       "      <th>75%</th>\n",
       "      <th>max</th>\n",
       "    </tr>\n",
       "  </thead>\n",
       "  <tbody>\n",
       "    <tr>\n",
       "      <th>价格</th>\n",
       "      <td>4972.0</td>\n",
       "      <td>1767.782381</td>\n",
       "      <td>2604.329780</td>\n",
       "      <td>578.0</td>\n",
       "      <td>1253.0</td>\n",
       "      <td>1633.0</td>\n",
       "      <td>2031.0</td>\n",
       "      <td>179500.0</td>\n",
       "    </tr>\n",
       "    <tr>\n",
       "      <th>节省</th>\n",
       "      <td>4983.0</td>\n",
       "      <td>474.490869</td>\n",
       "      <td>169.148391</td>\n",
       "      <td>306.0</td>\n",
       "      <td>358.0</td>\n",
       "      <td>436.0</td>\n",
       "      <td>532.0</td>\n",
       "      <td>3500.0</td>\n",
       "    </tr>\n",
       "  </tbody>\n",
       "</table>\n",
       "</div>"
      ],
      "text/plain": [
       "     count         mean          std    min     25%     50%     75%       max\n",
       "价格  4972.0  1767.782381  2604.329780  578.0  1253.0  1633.0  2031.0  179500.0\n",
       "节省  4983.0   474.490869   169.148391  306.0   358.0   436.0   532.0    3500.0"
      ]
     },
     "execution_count": 22,
     "metadata": {},
     "output_type": "execute_result"
    }
   ],
   "source": [
    "df.describe().T   #查看统计结果（.T可以调换行/列）"
   ]
  },
  {
   "cell_type": "code",
   "execution_count": 23,
   "id": "317bf220",
   "metadata": {
    "scrolled": true
   },
   "outputs": [
    {
     "data": {
      "text/html": [
       "<div>\n",
       "<style scoped>\n",
       "    .dataframe tbody tr th:only-of-type {\n",
       "        vertical-align: middle;\n",
       "    }\n",
       "\n",
       "    .dataframe tbody tr th {\n",
       "        vertical-align: top;\n",
       "    }\n",
       "\n",
       "    .dataframe thead th {\n",
       "        text-align: right;\n",
       "    }\n",
       "</style>\n",
       "<table border=\"1\" class=\"dataframe\">\n",
       "  <thead>\n",
       "    <tr style=\"text-align: right;\">\n",
       "      <th></th>\n",
       "      <th>出发地</th>\n",
       "      <th>目的地</th>\n",
       "      <th>价格</th>\n",
       "      <th>节省</th>\n",
       "      <th>路线名</th>\n",
       "      <th>酒店</th>\n",
       "      <th>房间</th>\n",
       "      <th>去程航司</th>\n",
       "      <th>去程方式</th>\n",
       "      <th>去程时间</th>\n",
       "      <th>回程航司</th>\n",
       "      <th>回程方式</th>\n",
       "      <th>回程时间</th>\n",
       "    </tr>\n",
       "  </thead>\n",
       "  <tbody>\n",
       "    <tr>\n",
       "      <th>2763</th>\n",
       "      <td>杭州</td>\n",
       "      <td>九寨沟</td>\n",
       "      <td>179500.0</td>\n",
       "      <td>538.0</td>\n",
       "      <td>杭州-九寨沟3天2晚 | 入住九寨沟九乡宾馆 + 成都航空/长龙航空往返机票</td>\n",
       "      <td>九寨沟九乡宾馆 舒适型 4.3分/5分</td>\n",
       "      <td>特惠房(双床) 双床 不含早 1间2晚</td>\n",
       "      <td>成都航空 EU2206</td>\n",
       "      <td>经停</td>\n",
       "      <td>20:30-01:00</td>\n",
       "      <td>长龙航空 GJ8680</td>\n",
       "      <td>经停</td>\n",
       "      <td>20:25-00:50</td>\n",
       "    </tr>\n",
       "  </tbody>\n",
       "</table>\n",
       "</div>"
      ],
      "text/plain": [
       "     出发地  目的地        价格     节省                                     路线名  \\\n",
       "2763  杭州  九寨沟  179500.0  538.0  杭州-九寨沟3天2晚 | 入住九寨沟九乡宾馆 + 成都航空/长龙航空往返机票   \n",
       "\n",
       "                       酒店                   房间         去程航司 去程方式         去程时间  \\\n",
       "2763  九寨沟九乡宾馆 舒适型 4.3分/5分  特惠房(双床) 双床 不含早 1间2晚  成都航空 EU2206   经停  20:30-01:00   \n",
       "\n",
       "             回程航司 回程方式         回程时间  \n",
       "2763  长龙航空 GJ8680   经停  20:25-00:50  "
      ]
     },
     "execution_count": 23,
     "metadata": {},
     "output_type": "execute_result"
    }
   ],
   "source": [
    "#找出价格异常值（用数据是否大于三倍的标准方差判断）\n",
    "sta = (df[\"价格\"]-df[\"价格\"].mean())/df[\"价格\"].std()  #（值-平均值）/标准差\n",
    "df[sta.abs()>3]   #返回绝对值大于三倍标准差的值"
   ]
  },
  {
   "cell_type": "code",
   "execution_count": 24,
   "id": "6d2222d4",
   "metadata": {},
   "outputs": [
    {
     "data": {
      "text/plain": [
       "3"
      ]
     },
     "execution_count": 24,
     "metadata": {},
     "output_type": "execute_result"
    }
   ],
   "source": [
    "#找出节省异常值（用节省金额大于价格作为判断）\n",
    "(df[\"节省\"] > df[\"价格\"]).sum()   #可见数据中存在三个节省大于价格的数据，这通常不符合实际"
   ]
  },
  {
   "cell_type": "code",
   "execution_count": 25,
   "id": "ef2a1e3c",
   "metadata": {},
   "outputs": [
    {
     "data": {
      "text/html": [
       "<div>\n",
       "<style scoped>\n",
       "    .dataframe tbody tr th:only-of-type {\n",
       "        vertical-align: middle;\n",
       "    }\n",
       "\n",
       "    .dataframe tbody tr th {\n",
       "        vertical-align: top;\n",
       "    }\n",
       "\n",
       "    .dataframe thead th {\n",
       "        text-align: right;\n",
       "    }\n",
       "</style>\n",
       "<table border=\"1\" class=\"dataframe\">\n",
       "  <thead>\n",
       "    <tr style=\"text-align: right;\">\n",
       "      <th></th>\n",
       "      <th>出发地</th>\n",
       "      <th>目的地</th>\n",
       "      <th>价格</th>\n",
       "      <th>节省</th>\n",
       "      <th>路线名</th>\n",
       "      <th>酒店</th>\n",
       "      <th>房间</th>\n",
       "      <th>去程航司</th>\n",
       "      <th>去程方式</th>\n",
       "      <th>去程时间</th>\n",
       "      <th>回程航司</th>\n",
       "      <th>回程方式</th>\n",
       "      <th>回程时间</th>\n",
       "    </tr>\n",
       "  </thead>\n",
       "  <tbody>\n",
       "    <tr>\n",
       "      <th>2904</th>\n",
       "      <td>武汉</td>\n",
       "      <td>西安</td>\n",
       "      <td>949.0</td>\n",
       "      <td>3500.0</td>\n",
       "      <td>武汉-西安3天2晚 | 入住西安西稍门大酒店 + 东方航空往返机票</td>\n",
       "      <td>西安西稍门大酒店 舒适型 3.3分/5分</td>\n",
       "      <td>标准间B(丝路之旅)(... 双床 不含早 1间2晚</td>\n",
       "      <td>东方航空 MU2194</td>\n",
       "      <td>直飞</td>\n",
       "      <td>21:50-23:30</td>\n",
       "      <td>东方航空 MU2462</td>\n",
       "      <td>直飞</td>\n",
       "      <td>19:35-21:20</td>\n",
       "    </tr>\n",
       "    <tr>\n",
       "      <th>3108</th>\n",
       "      <td>济南</td>\n",
       "      <td>大连</td>\n",
       "      <td>911.0</td>\n",
       "      <td>3180.0</td>\n",
       "      <td>济南-大连3天2晚 | 入住普兰店科洋大酒店 + 山东航空/厦门航空往返机票</td>\n",
       "      <td>普兰店科洋大酒店 舒适型 4.4分/5分</td>\n",
       "      <td>大床房(限量促销) 大床 不含早 1间2晚</td>\n",
       "      <td>山东航空 SC4916</td>\n",
       "      <td>直飞</td>\n",
       "      <td>19:45-20:50</td>\n",
       "      <td>厦门航空 MF8042</td>\n",
       "      <td>直飞</td>\n",
       "      <td>13:10-14:20</td>\n",
       "    </tr>\n",
       "    <tr>\n",
       "      <th>3660</th>\n",
       "      <td>沈阳</td>\n",
       "      <td>青岛</td>\n",
       "      <td>924.0</td>\n",
       "      <td>3200.0</td>\n",
       "      <td>沈阳-青岛3天2晚 | 入住星程酒店青岛台东步行街店 + 青岛航/南方航空往返机票</td>\n",
       "      <td>星程酒店青岛台东步行街店 舒适型 4.2分/5分</td>\n",
       "      <td>大床房(内宾)(提前1... 大床 不含早 1间2晚</td>\n",
       "      <td>青岛航 QW9780</td>\n",
       "      <td>直飞</td>\n",
       "      <td>22:35-00:10</td>\n",
       "      <td>南方航空 CZ6568</td>\n",
       "      <td>直飞</td>\n",
       "      <td>20:55-22:35</td>\n",
       "    </tr>\n",
       "  </tbody>\n",
       "</table>\n",
       "</div>"
      ],
      "text/plain": [
       "     出发地 目的地     价格      节省                                        路线名  \\\n",
       "2904  武汉  西安  949.0  3500.0          武汉-西安3天2晚 | 入住西安西稍门大酒店 + 东方航空往返机票   \n",
       "3108  济南  大连  911.0  3180.0     济南-大连3天2晚 | 入住普兰店科洋大酒店 + 山东航空/厦门航空往返机票   \n",
       "3660  沈阳  青岛  924.0  3200.0  沈阳-青岛3天2晚 | 入住星程酒店青岛台东步行街店 + 青岛航/南方航空往返机票   \n",
       "\n",
       "                            酒店                          房间         去程航司 去程方式  \\\n",
       "2904      西安西稍门大酒店 舒适型 3.3分/5分  标准间B(丝路之旅)(... 双床 不含早 1间2晚  东方航空 MU2194   直飞   \n",
       "3108      普兰店科洋大酒店 舒适型 4.4分/5分       大床房(限量促销) 大床 不含早 1间2晚  山东航空 SC4916   直飞   \n",
       "3660  星程酒店青岛台东步行街店 舒适型 4.2分/5分  大床房(内宾)(提前1... 大床 不含早 1间2晚   青岛航 QW9780   直飞   \n",
       "\n",
       "             去程时间         回程航司 回程方式         回程时间  \n",
       "2904  21:50-23:30  东方航空 MU2462   直飞  19:35-21:20  \n",
       "3108  19:45-20:50  厦门航空 MF8042   直飞  13:10-14:20  \n",
       "3660  22:35-00:10  南方航空 CZ6568   直飞  20:55-22:35  "
      ]
     },
     "execution_count": 25,
     "metadata": {},
     "output_type": "execute_result"
    }
   ],
   "source": [
    "df[df[\"节省\"]>df[\"价格\"]]"
   ]
  },
  {
   "cell_type": "markdown",
   "id": "daa2ae6d",
   "metadata": {},
   "source": [
    "- 对于建模来说，可以直接删除异常值，且不影响\n",
    "- 对于业务来说，直接删除可能会导致一些数据的丢失\n",
    "- 具体需要按实际情况做判断"
   ]
  },
  {
   "cell_type": "code",
   "execution_count": 26,
   "id": "cb4fd5eb",
   "metadata": {},
   "outputs": [
    {
     "data": {
      "text/plain": [
       "Int64Index([2904, 3108, 3660, 2763], dtype='int64')"
      ]
     },
     "execution_count": 26,
     "metadata": {},
     "output_type": "execute_result"
    }
   ],
   "source": [
    "#将异常值数据结合起来，记录索引\n",
    "deindex = pd.concat([df[df[\"节省\"]>df[\"价格\"]],df[sta.abs()>3]]).index   \n",
    "deindex"
   ]
  },
  {
   "cell_type": "code",
   "execution_count": 27,
   "id": "883283da",
   "metadata": {},
   "outputs": [],
   "source": [
    "#根据索引删除\n",
    "df.drop(deindex,inplace=True)  #drop方法也有inplace属性，作用和前者一样"
   ]
  },
  {
   "cell_type": "markdown",
   "id": "922c5482",
   "metadata": {},
   "source": [
    "## 6.缺失值的处理\n",
    "- df.isnull()  #查看缺失值\n",
    "- df.notnull() #查看不是缺失值的数据\n",
    "- df.dropna()  #删除缺失值\n",
    "- df.fillna()  #填补缺失值 "
   ]
  },
  {
   "cell_type": "code",
   "execution_count": 28,
   "id": "0be4aa70",
   "metadata": {},
   "outputs": [
    {
     "data": {
      "text/html": [
       "<div>\n",
       "<style scoped>\n",
       "    .dataframe tbody tr th:only-of-type {\n",
       "        vertical-align: middle;\n",
       "    }\n",
       "\n",
       "    .dataframe tbody tr th {\n",
       "        vertical-align: top;\n",
       "    }\n",
       "\n",
       "    .dataframe thead th {\n",
       "        text-align: right;\n",
       "    }\n",
       "</style>\n",
       "<table border=\"1\" class=\"dataframe\">\n",
       "  <thead>\n",
       "    <tr style=\"text-align: right;\">\n",
       "      <th></th>\n",
       "      <th>出发地</th>\n",
       "      <th>目的地</th>\n",
       "      <th>价格</th>\n",
       "      <th>节省</th>\n",
       "      <th>路线名</th>\n",
       "      <th>酒店</th>\n",
       "      <th>房间</th>\n",
       "      <th>去程航司</th>\n",
       "      <th>去程方式</th>\n",
       "      <th>去程时间</th>\n",
       "      <th>回程航司</th>\n",
       "      <th>回程方式</th>\n",
       "      <th>回程时间</th>\n",
       "    </tr>\n",
       "  </thead>\n",
       "  <tbody>\n",
       "    <tr>\n",
       "      <th>0</th>\n",
       "      <td>False</td>\n",
       "      <td>False</td>\n",
       "      <td>False</td>\n",
       "      <td>False</td>\n",
       "      <td>False</td>\n",
       "      <td>False</td>\n",
       "      <td>False</td>\n",
       "      <td>False</td>\n",
       "      <td>False</td>\n",
       "      <td>False</td>\n",
       "      <td>False</td>\n",
       "      <td>False</td>\n",
       "      <td>False</td>\n",
       "    </tr>\n",
       "    <tr>\n",
       "      <th>1</th>\n",
       "      <td>False</td>\n",
       "      <td>False</td>\n",
       "      <td>False</td>\n",
       "      <td>False</td>\n",
       "      <td>False</td>\n",
       "      <td>False</td>\n",
       "      <td>False</td>\n",
       "      <td>False</td>\n",
       "      <td>False</td>\n",
       "      <td>False</td>\n",
       "      <td>False</td>\n",
       "      <td>False</td>\n",
       "      <td>False</td>\n",
       "    </tr>\n",
       "    <tr>\n",
       "      <th>2</th>\n",
       "      <td>False</td>\n",
       "      <td>False</td>\n",
       "      <td>False</td>\n",
       "      <td>False</td>\n",
       "      <td>False</td>\n",
       "      <td>False</td>\n",
       "      <td>False</td>\n",
       "      <td>False</td>\n",
       "      <td>False</td>\n",
       "      <td>False</td>\n",
       "      <td>False</td>\n",
       "      <td>False</td>\n",
       "      <td>False</td>\n",
       "    </tr>\n",
       "    <tr>\n",
       "      <th>3</th>\n",
       "      <td>False</td>\n",
       "      <td>False</td>\n",
       "      <td>False</td>\n",
       "      <td>False</td>\n",
       "      <td>False</td>\n",
       "      <td>False</td>\n",
       "      <td>False</td>\n",
       "      <td>False</td>\n",
       "      <td>False</td>\n",
       "      <td>False</td>\n",
       "      <td>False</td>\n",
       "      <td>False</td>\n",
       "      <td>False</td>\n",
       "    </tr>\n",
       "    <tr>\n",
       "      <th>4</th>\n",
       "      <td>False</td>\n",
       "      <td>False</td>\n",
       "      <td>False</td>\n",
       "      <td>False</td>\n",
       "      <td>False</td>\n",
       "      <td>False</td>\n",
       "      <td>False</td>\n",
       "      <td>False</td>\n",
       "      <td>False</td>\n",
       "      <td>False</td>\n",
       "      <td>False</td>\n",
       "      <td>False</td>\n",
       "      <td>False</td>\n",
       "    </tr>\n",
       "    <tr>\n",
       "      <th>5</th>\n",
       "      <td>False</td>\n",
       "      <td>False</td>\n",
       "      <td>False</td>\n",
       "      <td>False</td>\n",
       "      <td>False</td>\n",
       "      <td>False</td>\n",
       "      <td>False</td>\n",
       "      <td>False</td>\n",
       "      <td>False</td>\n",
       "      <td>False</td>\n",
       "      <td>False</td>\n",
       "      <td>False</td>\n",
       "      <td>False</td>\n",
       "    </tr>\n",
       "  </tbody>\n",
       "</table>\n",
       "</div>"
      ],
      "text/plain": [
       "     出发地    目的地     价格     节省    路线名     酒店     房间   去程航司   去程方式   去程时间  \\\n",
       "0  False  False  False  False  False  False  False  False  False  False   \n",
       "1  False  False  False  False  False  False  False  False  False  False   \n",
       "2  False  False  False  False  False  False  False  False  False  False   \n",
       "3  False  False  False  False  False  False  False  False  False  False   \n",
       "4  False  False  False  False  False  False  False  False  False  False   \n",
       "5  False  False  False  False  False  False  False  False  False  False   \n",
       "\n",
       "    回程航司   回程方式   回程时间  \n",
       "0  False  False  False  \n",
       "1  False  False  False  \n",
       "2  False  False  False  \n",
       "3  False  False  False  \n",
       "4  False  False  False  \n",
       "5  False  False  False  "
      ]
     },
     "execution_count": 28,
     "metadata": {},
     "output_type": "execute_result"
    }
   ],
   "source": [
    "df.isnull().head(6)  #返回每一行所有数据是否是缺失值"
   ]
  },
  {
   "cell_type": "code",
   "execution_count": 29,
   "id": "8c6a87f6",
   "metadata": {},
   "outputs": [
    {
     "data": {
      "text/plain": [
       "出发地      2\n",
       "目的地      1\n",
       "价格      28\n",
       "节省      17\n",
       "路线名      0\n",
       "酒店       0\n",
       "房间       0\n",
       "去程航司     0\n",
       "去程方式     0\n",
       "去程时间     0\n",
       "回程航司     0\n",
       "回程方式     0\n",
       "回程时间     0\n",
       "dtype: int64"
      ]
     },
     "execution_count": 29,
     "metadata": {},
     "output_type": "execute_result"
    }
   ],
   "source": [
    "df.isnull().sum()    #可以是由sum进行统计，返回的是每一个列缺失值的数量"
   ]
  },
  {
   "cell_type": "markdown",
   "id": "c3be417a",
   "metadata": {},
   "source": [
    "#### 处理出发地的空值数据\n",
    "利用路线名中的数据进行填充"
   ]
  },
  {
   "cell_type": "code",
   "execution_count": 30,
   "id": "0ec96d9c",
   "metadata": {},
   "outputs": [
    {
     "data": {
      "text/html": [
       "<div>\n",
       "<style scoped>\n",
       "    .dataframe tbody tr th:only-of-type {\n",
       "        vertical-align: middle;\n",
       "    }\n",
       "\n",
       "    .dataframe tbody tr th {\n",
       "        vertical-align: top;\n",
       "    }\n",
       "\n",
       "    .dataframe thead th {\n",
       "        text-align: right;\n",
       "    }\n",
       "</style>\n",
       "<table border=\"1\" class=\"dataframe\">\n",
       "  <thead>\n",
       "    <tr style=\"text-align: right;\">\n",
       "      <th></th>\n",
       "      <th>出发地</th>\n",
       "      <th>目的地</th>\n",
       "      <th>价格</th>\n",
       "      <th>节省</th>\n",
       "      <th>路线名</th>\n",
       "      <th>酒店</th>\n",
       "      <th>房间</th>\n",
       "      <th>去程航司</th>\n",
       "      <th>去程方式</th>\n",
       "      <th>去程时间</th>\n",
       "      <th>回程航司</th>\n",
       "      <th>回程方式</th>\n",
       "      <th>回程时间</th>\n",
       "    </tr>\n",
       "  </thead>\n",
       "  <tbody>\n",
       "    <tr>\n",
       "      <th>1850</th>\n",
       "      <td>NaN</td>\n",
       "      <td>烟台</td>\n",
       "      <td>647.0</td>\n",
       "      <td>348.0</td>\n",
       "      <td>大连-烟台3天2晚 | 入住烟台海阳黄金海岸大酒店 + 幸福航空/天津航空往返机票</td>\n",
       "      <td>烟台海阳黄金海岸大酒店 3.7分/5分</td>\n",
       "      <td>海景标准间(内宾)[双... 双床 双早 1间2晚</td>\n",
       "      <td>幸福航空 JR1582</td>\n",
       "      <td>直飞</td>\n",
       "      <td>10:05-11:05</td>\n",
       "      <td>天津航空 GS6402</td>\n",
       "      <td>直飞</td>\n",
       "      <td>16:30-17:25</td>\n",
       "    </tr>\n",
       "    <tr>\n",
       "      <th>1915</th>\n",
       "      <td>NaN</td>\n",
       "      <td>西安</td>\n",
       "      <td>1030.0</td>\n",
       "      <td>326.0</td>\n",
       "      <td>济南-西安3天2晚 | 入住西安丝路秦国际青年旅舍钟楼回民街店 + 华夏航空往返...</td>\n",
       "      <td>西安丝路秦国际青年旅舍钟楼回民街店 经济型 4.4分/5分</td>\n",
       "      <td>标准间（独卫）-吃货天... 双床 不含早 1间2晚</td>\n",
       "      <td>华夏航空 G54963</td>\n",
       "      <td>直飞</td>\n",
       "      <td>07:10-08:55</td>\n",
       "      <td>华夏航空 G58858</td>\n",
       "      <td>直飞</td>\n",
       "      <td>23:10-00:55</td>\n",
       "    </tr>\n",
       "  </tbody>\n",
       "</table>\n",
       "</div>"
      ],
      "text/plain": [
       "      出发地 目的地      价格     节省                                          路线名  \\\n",
       "1850  NaN  烟台   647.0  348.0    大连-烟台3天2晚 | 入住烟台海阳黄金海岸大酒店 + 幸福航空/天津航空往返机票   \n",
       "1915  NaN  西安  1030.0  326.0  济南-西安3天2晚 | 入住西安丝路秦国际青年旅舍钟楼回民街店 + 华夏航空往返...   \n",
       "\n",
       "                                 酒店                          房间         去程航司  \\\n",
       "1850            烟台海阳黄金海岸大酒店 3.7分/5分   海景标准间(内宾)[双... 双床 双早 1间2晚  幸福航空 JR1582   \n",
       "1915  西安丝路秦国际青年旅舍钟楼回民街店 经济型 4.4分/5分  标准间（独卫）-吃货天... 双床 不含早 1间2晚  华夏航空 G54963   \n",
       "\n",
       "     去程方式         去程时间         回程航司 回程方式         回程时间  \n",
       "1850   直飞  10:05-11:05  天津航空 GS6402   直飞  16:30-17:25  \n",
       "1915   直飞  07:10-08:55  华夏航空 G58858   直飞  23:10-00:55  "
      ]
     },
     "execution_count": 30,
     "metadata": {},
     "output_type": "execute_result"
    }
   ],
   "source": [
    "df[df.出发地.isnull()]   #所有出发低地为空的数据   （注意，每个列可以当作df的一个属性对待）"
   ]
  },
  {
   "cell_type": "markdown",
   "id": "5b47716e",
   "metadata": {},
   "source": [
    "⚠发现虽然出发地丢失了，但路线名却还在，出发地与目的地都可在里面找到"
   ]
  },
  {
   "cell_type": "code",
   "execution_count": 31,
   "id": "da7efdb1",
   "metadata": {},
   "outputs": [
    {
     "data": {
      "text/plain": [
       "['大连', '济南']"
      ]
     },
     "execution_count": 31,
     "metadata": {},
     "output_type": "execute_result"
    }
   ],
   "source": [
    "#空值原有的数据可以通过路线名第一个\"-\"前面的字符获取到（视频老师的那个方法有局限性）\n",
    "[str(x).split(\"-\")[0] for x in df.loc[df.出发地.isnull(),'路线名']]"
   ]
  },
  {
   "cell_type": "code",
   "execution_count": 32,
   "id": "6bbf91b9",
   "metadata": {},
   "outputs": [],
   "source": [
    "#替换\n",
    "df.loc[df.出发地.isnull(),'出发地'] = [str(x).split(\"-\")[0] for x in df.loc[df.出发地.isnull(),'路线名']]"
   ]
  },
  {
   "cell_type": "code",
   "execution_count": 33,
   "id": "45a17755",
   "metadata": {},
   "outputs": [
    {
     "data": {
      "text/html": [
       "<div>\n",
       "<style scoped>\n",
       "    .dataframe tbody tr th:only-of-type {\n",
       "        vertical-align: middle;\n",
       "    }\n",
       "\n",
       "    .dataframe tbody tr th {\n",
       "        vertical-align: top;\n",
       "    }\n",
       "\n",
       "    .dataframe thead th {\n",
       "        text-align: right;\n",
       "    }\n",
       "</style>\n",
       "<table border=\"1\" class=\"dataframe\">\n",
       "  <thead>\n",
       "    <tr style=\"text-align: right;\">\n",
       "      <th></th>\n",
       "      <th>出发地</th>\n",
       "      <th>目的地</th>\n",
       "      <th>价格</th>\n",
       "      <th>节省</th>\n",
       "      <th>路线名</th>\n",
       "      <th>酒店</th>\n",
       "      <th>房间</th>\n",
       "      <th>去程航司</th>\n",
       "      <th>去程方式</th>\n",
       "      <th>去程时间</th>\n",
       "      <th>回程航司</th>\n",
       "      <th>回程方式</th>\n",
       "      <th>回程时间</th>\n",
       "    </tr>\n",
       "  </thead>\n",
       "  <tbody>\n",
       "  </tbody>\n",
       "</table>\n",
       "</div>"
      ],
      "text/plain": [
       "Empty DataFrame\n",
       "Columns: [出发地, 目的地, 价格, 节省, 路线名, 酒店, 房间, 去程航司, 去程方式, 去程时间, 回程航司, 回程方式, 回程时间]\n",
       "Index: []"
      ]
     },
     "execution_count": 33,
     "metadata": {},
     "output_type": "execute_result"
    }
   ],
   "source": [
    "df[df.出发地.isnull()]   #所有出发地为空的数据"
   ]
  },
  {
   "cell_type": "markdown",
   "id": "0e25a1ed",
   "metadata": {},
   "source": [
    "#### 处理目的地的空值数据\n",
    "利用路线名中的数据进行填充"
   ]
  },
  {
   "cell_type": "code",
   "execution_count": 34,
   "id": "39bd343b",
   "metadata": {},
   "outputs": [
    {
     "data": {
      "text/html": [
       "<div>\n",
       "<style scoped>\n",
       "    .dataframe tbody tr th:only-of-type {\n",
       "        vertical-align: middle;\n",
       "    }\n",
       "\n",
       "    .dataframe tbody tr th {\n",
       "        vertical-align: top;\n",
       "    }\n",
       "\n",
       "    .dataframe thead th {\n",
       "        text-align: right;\n",
       "    }\n",
       "</style>\n",
       "<table border=\"1\" class=\"dataframe\">\n",
       "  <thead>\n",
       "    <tr style=\"text-align: right;\">\n",
       "      <th></th>\n",
       "      <th>出发地</th>\n",
       "      <th>目的地</th>\n",
       "      <th>价格</th>\n",
       "      <th>节省</th>\n",
       "      <th>路线名</th>\n",
       "      <th>酒店</th>\n",
       "      <th>房间</th>\n",
       "      <th>去程航司</th>\n",
       "      <th>去程方式</th>\n",
       "      <th>去程时间</th>\n",
       "      <th>回程航司</th>\n",
       "      <th>回程方式</th>\n",
       "      <th>回程时间</th>\n",
       "    </tr>\n",
       "  </thead>\n",
       "  <tbody>\n",
       "    <tr>\n",
       "      <th>1860</th>\n",
       "      <td>深圳</td>\n",
       "      <td>NaN</td>\n",
       "      <td>2149.0</td>\n",
       "      <td>494.0</td>\n",
       "      <td>深圳-大连3天2晚 | 入住大连黄金山大酒店 + 南方航空/东海往返机票</td>\n",
       "      <td>大连黄金山大酒店 舒适型 3.4分/5分</td>\n",
       "      <td>标准间 大/双床 不含早 1间2晚</td>\n",
       "      <td>南方航空 CZ6833</td>\n",
       "      <td>直飞</td>\n",
       "      <td>09:10-12:40</td>\n",
       "      <td>东海 DZ6242</td>\n",
       "      <td>经停</td>\n",
       "      <td>12:40-18:00</td>\n",
       "    </tr>\n",
       "  </tbody>\n",
       "</table>\n",
       "</div>"
      ],
      "text/plain": [
       "     出发地  目的地      价格     节省                                   路线名  \\\n",
       "1860  深圳  NaN  2149.0  494.0  深圳-大连3天2晚 | 入住大连黄金山大酒店 + 南方航空/东海往返机票   \n",
       "\n",
       "                        酒店                 房间         去程航司 去程方式         去程时间  \\\n",
       "1860  大连黄金山大酒店 舒适型 3.4分/5分  标准间 大/双床 不含早 1间2晚  南方航空 CZ6833   直飞  09:10-12:40   \n",
       "\n",
       "           回程航司 回程方式         回程时间  \n",
       "1860  东海 DZ6242   经停  12:40-18:00  "
      ]
     },
     "execution_count": 34,
     "metadata": {},
     "output_type": "execute_result"
    }
   ],
   "source": [
    "df[df.目的地.isnull()]  #所有目的地为空的数据"
   ]
  },
  {
   "cell_type": "code",
   "execution_count": 35,
   "id": "cb224a03",
   "metadata": {},
   "outputs": [
    {
     "name": "stderr",
     "output_type": "stream",
     "text": [
      "Building prefix dict from the default dictionary ...\n",
      "Loading model from cache C:\\Users\\ADMINI~1\\AppData\\Local\\Temp\\jieba.cache\n",
      "Loading model cost 1.088 seconds.\n",
      "Prefix dict has been built successfully.\n"
     ]
    },
    {
     "data": {
      "text/plain": [
       "'大连'"
      ]
     },
     "execution_count": 35,
     "metadata": {},
     "output_type": "execute_result"
    }
   ],
   "source": [
    "import jieba    #路线名目的地后没有-，所以不能用之前的方法，这里我使用jieba库\n",
    "jieba.lcut(str(df.loc[df.目的地.isnull(),'路线名'].values))[4]"
   ]
  },
  {
   "cell_type": "code",
   "execution_count": 36,
   "id": "dfe52e0c",
   "metadata": {},
   "outputs": [],
   "source": [
    "#替换\n",
    "df.loc[df.目的地.isnull(),'目的地'] = jieba.lcut(str(df.loc[df.目的地.isnull(),'路线名'].values))[4]"
   ]
  },
  {
   "cell_type": "code",
   "execution_count": 37,
   "id": "fc2fde87",
   "metadata": {},
   "outputs": [
    {
     "data": {
      "text/html": [
       "<div>\n",
       "<style scoped>\n",
       "    .dataframe tbody tr th:only-of-type {\n",
       "        vertical-align: middle;\n",
       "    }\n",
       "\n",
       "    .dataframe tbody tr th {\n",
       "        vertical-align: top;\n",
       "    }\n",
       "\n",
       "    .dataframe thead th {\n",
       "        text-align: right;\n",
       "    }\n",
       "</style>\n",
       "<table border=\"1\" class=\"dataframe\">\n",
       "  <thead>\n",
       "    <tr style=\"text-align: right;\">\n",
       "      <th></th>\n",
       "      <th>出发地</th>\n",
       "      <th>目的地</th>\n",
       "      <th>价格</th>\n",
       "      <th>节省</th>\n",
       "      <th>路线名</th>\n",
       "      <th>酒店</th>\n",
       "      <th>房间</th>\n",
       "      <th>去程航司</th>\n",
       "      <th>去程方式</th>\n",
       "      <th>去程时间</th>\n",
       "      <th>回程航司</th>\n",
       "      <th>回程方式</th>\n",
       "      <th>回程时间</th>\n",
       "    </tr>\n",
       "  </thead>\n",
       "  <tbody>\n",
       "  </tbody>\n",
       "</table>\n",
       "</div>"
      ],
      "text/plain": [
       "Empty DataFrame\n",
       "Columns: [出发地, 目的地, 价格, 节省, 路线名, 酒店, 房间, 去程航司, 去程方式, 去程时间, 回程航司, 回程方式, 回程时间]\n",
       "Index: []"
      ]
     },
     "execution_count": 37,
     "metadata": {},
     "output_type": "execute_result"
    }
   ],
   "source": [
    "df[df.目的地.isnull()]  #所有目的地为空的数据"
   ]
  },
  {
   "cell_type": "markdown",
   "id": "05f9ad7c",
   "metadata": {},
   "source": [
    "#### 处理价格/节省的空值数据\n",
    "利用平均值进行填充"
   ]
  },
  {
   "cell_type": "code",
   "execution_count": 38,
   "id": "8630a829",
   "metadata": {},
   "outputs": [
    {
     "data": {
      "text/plain": [
       "1733.0"
      ]
     },
     "execution_count": 38,
     "metadata": {},
     "output_type": "execute_result"
    }
   ],
   "source": [
    "#返回平均值(不保留小数)\n",
    "round(df['价格'].mean(),0)   #round函数可以保留n为小数（！返回数据类型是浮点型）"
   ]
  },
  {
   "cell_type": "code",
   "execution_count": 39,
   "id": "e99b502f",
   "metadata": {},
   "outputs": [],
   "source": [
    "#处理价格缺失值\n",
    "df['价格'].fillna(round(df['价格'].mean(),0),inplace=True)"
   ]
  },
  {
   "cell_type": "code",
   "execution_count": 40,
   "id": "653b66ae",
   "metadata": {},
   "outputs": [],
   "source": [
    "#处理节省缺失值\n",
    "df['节省'].fillna(round(df['节省'].mean(),0),inplace=True)"
   ]
  },
  {
   "cell_type": "code",
   "execution_count": 41,
   "id": "446eb68f",
   "metadata": {},
   "outputs": [
    {
     "data": {
      "text/plain": [
       "出发地     0\n",
       "目的地     0\n",
       "价格      0\n",
       "节省      0\n",
       "路线名     0\n",
       "酒店      0\n",
       "房间      0\n",
       "去程航司    0\n",
       "去程方式    0\n",
       "去程时间    0\n",
       "回程航司    0\n",
       "回程方式    0\n",
       "回程时间    0\n",
       "dtype: int64"
      ]
     },
     "execution_count": 41,
     "metadata": {},
     "output_type": "execute_result"
    }
   ],
   "source": [
    "df.isnull().sum()"
   ]
  },
  {
   "cell_type": "markdown",
   "id": "b00dbe02",
   "metadata": {},
   "source": [
    "至此空值已经全部被处理"
   ]
  },
  {
   "cell_type": "markdown",
   "id": "59dce595",
   "metadata": {},
   "source": [
    "## 处理文本型数据"
   ]
  },
  {
   "cell_type": "code",
   "execution_count": 42,
   "id": "6fb1011a",
   "metadata": {},
   "outputs": [
    {
     "data": {
      "text/plain": [
       "0       北海祥丰嘉年华大酒店 舒适型 4.7分/5分\n",
       "1      7天酒店丽江古城中心店 经济型 4.0分/5分\n",
       "2           沈阳中煤宾馆 舒适型 4.5分/5分\n",
       "3          红原芸谊大酒店 舒适型 4.6分/5分\n",
       "4        天津逸海明珠大酒店 高档型 4.1分/5分\n",
       "5        青岛康大豪生大酒店 豪华型 4.6分/5分\n",
       "6         阿坝松潘松林酒店 舒适型 4.3分/5分\n",
       "7    重庆运通假日酒店汽博中心店 舒适型 4.3分/5分\n",
       "8     维也纳酒店南京南站汇景店 舒适型 4.4分/5分\n",
       "9    厦门泊旅时尚酒店会展中心店 舒适型 4.0分/5分\n",
       "Name: 酒店, dtype: object"
      ]
     },
     "execution_count": 42,
     "metadata": {},
     "output_type": "execute_result"
    }
   ],
   "source": [
    "df.酒店.head(10)"
   ]
  },
  {
   "cell_type": "code",
   "execution_count": 43,
   "id": "f15fb194",
   "metadata": {},
   "outputs": [
    {
     "data": {
      "text/html": [
       "<div>\n",
       "<style scoped>\n",
       "    .dataframe tbody tr th:only-of-type {\n",
       "        vertical-align: middle;\n",
       "    }\n",
       "\n",
       "    .dataframe tbody tr th {\n",
       "        vertical-align: top;\n",
       "    }\n",
       "\n",
       "    .dataframe thead th {\n",
       "        text-align: right;\n",
       "    }\n",
       "</style>\n",
       "<table border=\"1\" class=\"dataframe\">\n",
       "  <thead>\n",
       "    <tr style=\"text-align: right;\">\n",
       "      <th></th>\n",
       "      <th>0</th>\n",
       "    </tr>\n",
       "  </thead>\n",
       "  <tbody>\n",
       "    <tr>\n",
       "      <th>0</th>\n",
       "      <td>4.7</td>\n",
       "    </tr>\n",
       "    <tr>\n",
       "      <th>1</th>\n",
       "      <td>4.0</td>\n",
       "    </tr>\n",
       "    <tr>\n",
       "      <th>2</th>\n",
       "      <td>4.5</td>\n",
       "    </tr>\n",
       "    <tr>\n",
       "      <th>3</th>\n",
       "      <td>4.6</td>\n",
       "    </tr>\n",
       "    <tr>\n",
       "      <th>4</th>\n",
       "      <td>4.1</td>\n",
       "    </tr>\n",
       "    <tr>\n",
       "      <th>5</th>\n",
       "      <td>4.6</td>\n",
       "    </tr>\n",
       "    <tr>\n",
       "      <th>6</th>\n",
       "      <td>4.3</td>\n",
       "    </tr>\n",
       "    <tr>\n",
       "      <th>7</th>\n",
       "      <td>4.3</td>\n",
       "    </tr>\n",
       "    <tr>\n",
       "      <th>8</th>\n",
       "      <td>4.4</td>\n",
       "    </tr>\n",
       "    <tr>\n",
       "      <th>9</th>\n",
       "      <td>4.0</td>\n",
       "    </tr>\n",
       "  </tbody>\n",
       "</table>\n",
       "</div>"
      ],
      "text/plain": [
       "     0\n",
       "0  4.7\n",
       "1  4.0\n",
       "2  4.5\n",
       "3  4.6\n",
       "4  4.1\n",
       "5  4.6\n",
       "6  4.3\n",
       "7  4.3\n",
       "8  4.4\n",
       "9  4.0"
      ]
     },
     "execution_count": 43,
     "metadata": {},
     "output_type": "execute_result"
    }
   ],
   "source": [
    "#提取酒店的评分\n",
    "#pandas的str.extract https://blog.csdn.net/winnie_shi/article/details/88240907\n",
    "df.酒店.str.extract('(\\d\\.\\d)分/5分',expand=True)[:10]  \n",
    "#expand=True返回一个DataFrame，expand=False返回一个Series"
   ]
  },
  {
   "cell_type": "code",
   "execution_count": 44,
   "id": "e9b06f97",
   "metadata": {},
   "outputs": [
    {
     "data": {
      "text/html": [
       "<div>\n",
       "<style scoped>\n",
       "    .dataframe tbody tr th:only-of-type {\n",
       "        vertical-align: middle;\n",
       "    }\n",
       "\n",
       "    .dataframe tbody tr th {\n",
       "        vertical-align: top;\n",
       "    }\n",
       "\n",
       "    .dataframe thead th {\n",
       "        text-align: right;\n",
       "    }\n",
       "</style>\n",
       "<table border=\"1\" class=\"dataframe\">\n",
       "  <thead>\n",
       "    <tr style=\"text-align: right;\">\n",
       "      <th></th>\n",
       "      <th>出发地</th>\n",
       "      <th>目的地</th>\n",
       "      <th>价格</th>\n",
       "      <th>节省</th>\n",
       "      <th>路线名</th>\n",
       "      <th>酒店</th>\n",
       "      <th>房间</th>\n",
       "      <th>去程航司</th>\n",
       "      <th>去程方式</th>\n",
       "      <th>去程时间</th>\n",
       "      <th>回程航司</th>\n",
       "      <th>回程方式</th>\n",
       "      <th>回程时间</th>\n",
       "      <th>酒店评分</th>\n",
       "    </tr>\n",
       "  </thead>\n",
       "  <tbody>\n",
       "    <tr>\n",
       "      <th>0</th>\n",
       "      <td>哈尔滨</td>\n",
       "      <td>北海</td>\n",
       "      <td>2208.0</td>\n",
       "      <td>650.0</td>\n",
       "      <td>哈尔滨-北海3天2晚 | 入住北海祥丰嘉年华大酒店 + 春秋航空往返机票</td>\n",
       "      <td>北海祥丰嘉年华大酒店 舒适型 4.7分/5分</td>\n",
       "      <td>标准双人间(双床) 双床 不含早 1间2晚</td>\n",
       "      <td>春秋航空 9C8741</td>\n",
       "      <td>直飞</td>\n",
       "      <td>17:10-21:50</td>\n",
       "      <td>春秋航空 9C8742</td>\n",
       "      <td>直飞</td>\n",
       "      <td>10:20-15:05</td>\n",
       "      <td>4.7</td>\n",
       "    </tr>\n",
       "  </tbody>\n",
       "</table>\n",
       "</div>"
      ],
      "text/plain": [
       "   出发地 目的地      价格     节省                                   路线名  \\\n",
       "0  哈尔滨  北海  2208.0  650.0  哈尔滨-北海3天2晚 | 入住北海祥丰嘉年华大酒店 + 春秋航空往返机票   \n",
       "\n",
       "                       酒店                     房间         去程航司 去程方式  \\\n",
       "0  北海祥丰嘉年华大酒店 舒适型 4.7分/5分  标准双人间(双床) 双床 不含早 1间2晚  春秋航空 9C8741   直飞   \n",
       "\n",
       "          去程时间         回程航司 回程方式         回程时间 酒店评分  \n",
       "0  17:10-21:50  春秋航空 9C8742   直飞  10:20-15:05  4.7  "
      ]
     },
     "execution_count": 44,
     "metadata": {},
     "output_type": "execute_result"
    }
   ],
   "source": [
    "#添加到数据中\n",
    "df['酒店评分'] = df.酒店.str.extract('(\\d\\.\\d)分/5分',expand=False)\n",
    "#括号里面的是你要返回的内容，外面的是用来定为位置\n",
    "df.head(1)"
   ]
  },
  {
   "cell_type": "code",
   "execution_count": 45,
   "id": "da086e42",
   "metadata": {},
   "outputs": [
    {
     "data": {
      "text/plain": [
       "0    舒适型\n",
       "1    经济型\n",
       "2    舒适型\n",
       "3    舒适型\n",
       "4    高档型\n",
       "Name: 酒店, dtype: object"
      ]
     },
     "execution_count": 45,
     "metadata": {},
     "output_type": "execute_result"
    }
   ],
   "source": [
    "#提起酒店的等级\n",
    "df.酒店.str.extract(' (.+) ',expand=False)[:5]"
   ]
  },
  {
   "cell_type": "code",
   "execution_count": 46,
   "id": "f2115093",
   "metadata": {},
   "outputs": [
    {
     "data": {
      "text/html": [
       "<div>\n",
       "<style scoped>\n",
       "    .dataframe tbody tr th:only-of-type {\n",
       "        vertical-align: middle;\n",
       "    }\n",
       "\n",
       "    .dataframe tbody tr th {\n",
       "        vertical-align: top;\n",
       "    }\n",
       "\n",
       "    .dataframe thead th {\n",
       "        text-align: right;\n",
       "    }\n",
       "</style>\n",
       "<table border=\"1\" class=\"dataframe\">\n",
       "  <thead>\n",
       "    <tr style=\"text-align: right;\">\n",
       "      <th></th>\n",
       "      <th>出发地</th>\n",
       "      <th>目的地</th>\n",
       "      <th>价格</th>\n",
       "      <th>节省</th>\n",
       "      <th>路线名</th>\n",
       "      <th>酒店</th>\n",
       "      <th>房间</th>\n",
       "      <th>去程航司</th>\n",
       "      <th>去程方式</th>\n",
       "      <th>去程时间</th>\n",
       "      <th>回程航司</th>\n",
       "      <th>回程方式</th>\n",
       "      <th>回程时间</th>\n",
       "      <th>酒店评分</th>\n",
       "      <th>酒店等级</th>\n",
       "    </tr>\n",
       "  </thead>\n",
       "  <tbody>\n",
       "    <tr>\n",
       "      <th>0</th>\n",
       "      <td>哈尔滨</td>\n",
       "      <td>北海</td>\n",
       "      <td>2208.0</td>\n",
       "      <td>650.0</td>\n",
       "      <td>哈尔滨-北海3天2晚 | 入住北海祥丰嘉年华大酒店 + 春秋航空往返机票</td>\n",
       "      <td>北海祥丰嘉年华大酒店 舒适型 4.7分/5分</td>\n",
       "      <td>标准双人间(双床) 双床 不含早 1间2晚</td>\n",
       "      <td>春秋航空 9C8741</td>\n",
       "      <td>直飞</td>\n",
       "      <td>17:10-21:50</td>\n",
       "      <td>春秋航空 9C8742</td>\n",
       "      <td>直飞</td>\n",
       "      <td>10:20-15:05</td>\n",
       "      <td>4.7</td>\n",
       "      <td>舒适型</td>\n",
       "    </tr>\n",
       "  </tbody>\n",
       "</table>\n",
       "</div>"
      ],
      "text/plain": [
       "   出发地 目的地      价格     节省                                   路线名  \\\n",
       "0  哈尔滨  北海  2208.0  650.0  哈尔滨-北海3天2晚 | 入住北海祥丰嘉年华大酒店 + 春秋航空往返机票   \n",
       "\n",
       "                       酒店                     房间         去程航司 去程方式  \\\n",
       "0  北海祥丰嘉年华大酒店 舒适型 4.7分/5分  标准双人间(双床) 双床 不含早 1间2晚  春秋航空 9C8741   直飞   \n",
       "\n",
       "          去程时间         回程航司 回程方式         回程时间 酒店评分 酒店等级  \n",
       "0  17:10-21:50  春秋航空 9C8742   直飞  10:20-15:05  4.7  舒适型  "
      ]
     },
     "execution_count": 46,
     "metadata": {},
     "output_type": "execute_result"
    }
   ],
   "source": [
    "#添加到数据中\n",
    "df['酒店等级'] = df.酒店.str.extract(' (.+) ',expand=False)\n",
    "#+号表示的是贪婪模式，也就是所有的数据都要提取出来\n",
    "df.head(1)"
   ]
  },
  {
   "cell_type": "code",
   "execution_count": 47,
   "id": "63942413",
   "metadata": {},
   "outputs": [
    {
     "data": {
      "text/html": [
       "<div>\n",
       "<style scoped>\n",
       "    .dataframe tbody tr th:only-of-type {\n",
       "        vertical-align: middle;\n",
       "    }\n",
       "\n",
       "    .dataframe tbody tr th {\n",
       "        vertical-align: top;\n",
       "    }\n",
       "\n",
       "    .dataframe thead th {\n",
       "        text-align: right;\n",
       "    }\n",
       "</style>\n",
       "<table border=\"1\" class=\"dataframe\">\n",
       "  <thead>\n",
       "    <tr style=\"text-align: right;\">\n",
       "      <th></th>\n",
       "      <th>出发地</th>\n",
       "      <th>目的地</th>\n",
       "      <th>价格</th>\n",
       "      <th>节省</th>\n",
       "      <th>路线名</th>\n",
       "      <th>酒店</th>\n",
       "      <th>房间</th>\n",
       "      <th>去程航司</th>\n",
       "      <th>去程方式</th>\n",
       "      <th>去程时间</th>\n",
       "      <th>回程航司</th>\n",
       "      <th>回程方式</th>\n",
       "      <th>回程时间</th>\n",
       "      <th>酒店评分</th>\n",
       "      <th>酒店等级</th>\n",
       "      <th>天数</th>\n",
       "    </tr>\n",
       "  </thead>\n",
       "  <tbody>\n",
       "    <tr>\n",
       "      <th>0</th>\n",
       "      <td>哈尔滨</td>\n",
       "      <td>北海</td>\n",
       "      <td>2208.0</td>\n",
       "      <td>650.0</td>\n",
       "      <td>哈尔滨-北海3天2晚 | 入住北海祥丰嘉年华大酒店 + 春秋航空往返机票</td>\n",
       "      <td>北海祥丰嘉年华大酒店 舒适型 4.7分/5分</td>\n",
       "      <td>标准双人间(双床) 双床 不含早 1间2晚</td>\n",
       "      <td>春秋航空 9C8741</td>\n",
       "      <td>直飞</td>\n",
       "      <td>17:10-21:50</td>\n",
       "      <td>春秋航空 9C8742</td>\n",
       "      <td>直飞</td>\n",
       "      <td>10:20-15:05</td>\n",
       "      <td>4.7</td>\n",
       "      <td>舒适型</td>\n",
       "      <td>3</td>\n",
       "    </tr>\n",
       "  </tbody>\n",
       "</table>\n",
       "</div>"
      ],
      "text/plain": [
       "   出发地 目的地      价格     节省                                   路线名  \\\n",
       "0  哈尔滨  北海  2208.0  650.0  哈尔滨-北海3天2晚 | 入住北海祥丰嘉年华大酒店 + 春秋航空往返机票   \n",
       "\n",
       "                       酒店                     房间         去程航司 去程方式  \\\n",
       "0  北海祥丰嘉年华大酒店 舒适型 4.7分/5分  标准双人间(双床) 双床 不含早 1间2晚  春秋航空 9C8741   直飞   \n",
       "\n",
       "          去程时间         回程航司 回程方式         回程时间 酒店评分 酒店等级 天数  \n",
       "0  17:10-21:50  春秋航空 9C8742   直飞  10:20-15:05  4.7  舒适型  3  "
      ]
     },
     "execution_count": 47,
     "metadata": {},
     "output_type": "execute_result"
    }
   ],
   "source": [
    "#提取并添加天数信息\n",
    "df['天数']=df.路线名.str.extract('(\\d+)天\\d晚',expand=False)\n",
    "df.head(1)"
   ]
  },
  {
   "cell_type": "markdown",
   "id": "2d35c207",
   "metadata": {},
   "source": [
    "# 其他相关方法"
   ]
  },
  {
   "cell_type": "code",
   "execution_count": null,
   "id": "6c9fce1c",
   "metadata": {},
   "outputs": [],
   "source": []
  },
  {
   "cell_type": "code",
   "execution_count": null,
   "id": "7402433c",
   "metadata": {},
   "outputs": [],
   "source": []
  }
 ],
 "metadata": {
  "kernelspec": {
   "display_name": "Python 3",
   "language": "python",
   "name": "python3"
  },
  "language_info": {
   "codemirror_mode": {
    "name": "ipython",
    "version": 3
   },
   "file_extension": ".py",
   "mimetype": "text/x-python",
   "name": "python",
   "nbconvert_exporter": "python",
   "pygments_lexer": "ipython3",
   "version": "3.8.8"
  }
 },
 "nbformat": 4,
 "nbformat_minor": 5
}
