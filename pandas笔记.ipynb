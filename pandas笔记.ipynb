{
 "cells": [
  {
   "cell_type": "markdown",
   "id": "3a99a88b",
   "metadata": {},
   "source": [
    "笔记是看的是B站UP主:蚂蚁学Python的视频学习时所作     他的Github主页：https://github.com/peiss   "
   ]
  },
  {
   "cell_type": "markdown",
   "id": "2bfb18ea",
   "metadata": {},
   "source": [
    "⚠注意：这个笔记文件路径均是绝对路径；笔记仅供学习使用；为保证学习效果，笔记基本纯手打，所以可能会有亿点点错别字"
   ]
  },
  {
   "cell_type": "code",
   "execution_count": 1,
   "id": "02da11cf",
   "metadata": {},
   "outputs": [],
   "source": [
    "import pandas as pd   #导库"
   ]
  },
  {
   "cell_type": "markdown",
   "id": "7d956186",
   "metadata": {},
   "source": [
    "#  一：pandas数据的读取:\n",
    "#### pd.read_csv  读取csv、tsv、txt等特定格式分割的纯文本数据文件\n",
    "#### pd.read_excel 读取xls/xslx格式的excel文件\n",
    "#### pd.read_sql  读取MySQL等关系型数据库"
   ]
  },
  {
   "cell_type": "code",
   "execution_count": 2,
   "id": "d2ce83e1",
   "metadata": {},
   "outputs": [],
   "source": [
    "'''读取csv文件'''\n",
    "datafile= \"D:/编程项目/python项目/bigdata/data/pdData.csv\"\n",
    "data=pd.read_csv(datafile)   #读取实验数据"
   ]
  },
  {
   "cell_type": "code",
   "execution_count": 3,
   "id": "26c53056",
   "metadata": {},
   "outputs": [
    {
     "data": {
      "text/html": [
       "<div>\n",
       "<style scoped>\n",
       "    .dataframe tbody tr th:only-of-type {\n",
       "        vertical-align: middle;\n",
       "    }\n",
       "\n",
       "    .dataframe tbody tr th {\n",
       "        vertical-align: top;\n",
       "    }\n",
       "\n",
       "    .dataframe thead th {\n",
       "        text-align: right;\n",
       "    }\n",
       "</style>\n",
       "<table border=\"1\" class=\"dataframe\">\n",
       "  <thead>\n",
       "    <tr style=\"text-align: right;\">\n",
       "      <th></th>\n",
       "      <th>序号</th>\n",
       "      <th>商品名称</th>\n",
       "      <th>价格</th>\n",
       "      <th>数量</th>\n",
       "    </tr>\n",
       "  </thead>\n",
       "  <tbody>\n",
       "    <tr>\n",
       "      <th>0</th>\n",
       "      <td>1</td>\n",
       "      <td>苹果</td>\n",
       "      <td>12</td>\n",
       "      <td>54</td>\n",
       "    </tr>\n",
       "    <tr>\n",
       "      <th>1</th>\n",
       "      <td>2</td>\n",
       "      <td>香蕉</td>\n",
       "      <td>13</td>\n",
       "      <td>34</td>\n",
       "    </tr>\n",
       "    <tr>\n",
       "      <th>2</th>\n",
       "      <td>3</td>\n",
       "      <td>菠萝</td>\n",
       "      <td>20</td>\n",
       "      <td>23</td>\n",
       "    </tr>\n",
       "    <tr>\n",
       "      <th>3</th>\n",
       "      <td>4</td>\n",
       "      <td>葡萄</td>\n",
       "      <td>12</td>\n",
       "      <td>45</td>\n",
       "    </tr>\n",
       "    <tr>\n",
       "      <th>4</th>\n",
       "      <td>5</td>\n",
       "      <td>水蜜桃</td>\n",
       "      <td>14</td>\n",
       "      <td>23</td>\n",
       "    </tr>\n",
       "  </tbody>\n",
       "</table>\n",
       "</div>"
      ],
      "text/plain": [
       "   序号 商品名称  价格  数量\n",
       "0   1   苹果  12  54\n",
       "1   2   香蕉  13  34\n",
       "2   3   菠萝  20  23\n",
       "3   4   葡萄  12  45\n",
       "4   5  水蜜桃  14  23"
      ]
     },
     "execution_count": 3,
     "metadata": {},
     "output_type": "execute_result"
    }
   ],
   "source": [
    "data.head()  #查看前几行数据   最上一行时列名 最左一行则是表的索引 中间的才算数据体"
   ]
  },
  {
   "cell_type": "code",
   "execution_count": 4,
   "id": "e6db5094",
   "metadata": {},
   "outputs": [
    {
     "data": {
      "text/plain": [
       "(8, 4)"
      ]
     },
     "execution_count": 4,
     "metadata": {},
     "output_type": "execute_result"
    }
   ],
   "source": [
    "data.shape    #返回数据形状(行，列)"
   ]
  },
  {
   "cell_type": "code",
   "execution_count": 5,
   "id": "579869f3",
   "metadata": {
    "scrolled": true
   },
   "outputs": [
    {
     "data": {
      "text/plain": [
       "Index(['序号', '商品名称', '价格', '数量'], dtype='object')"
      ]
     },
     "execution_count": 5,
     "metadata": {},
     "output_type": "execute_result"
    }
   ],
   "source": [
    "data.columns   #返回列名"
   ]
  },
  {
   "cell_type": "code",
   "execution_count": 6,
   "id": "97509084",
   "metadata": {
    "scrolled": true
   },
   "outputs": [
    {
     "data": {
      "text/plain": [
       "RangeIndex(start=0, stop=8, step=1)"
      ]
     },
     "execution_count": 6,
     "metadata": {},
     "output_type": "execute_result"
    }
   ],
   "source": [
    "data.index    #返回索引"
   ]
  },
  {
   "cell_type": "code",
   "execution_count": 7,
   "id": "d063baa1",
   "metadata": {},
   "outputs": [
    {
     "data": {
      "text/plain": [
       "序号       int64\n",
       "商品名称    object\n",
       "价格       int64\n",
       "数量       int64\n",
       "dtype: object"
      ]
     },
     "execution_count": 7,
     "metadata": {},
     "output_type": "execute_result"
    }
   ],
   "source": [
    "data .dtypes    #返回每个列的数据类型"
   ]
  },
  {
   "cell_type": "markdown",
   "id": "ff59f683",
   "metadata": {},
   "source": [
    "## 读取txt文件，自定义分隔符与列名(源文件不存在列名)"
   ]
  },
  {
   "cell_type": "code",
   "execution_count": 8,
   "id": "d31b194c",
   "metadata": {},
   "outputs": [
    {
     "data": {
      "text/html": [
       "<div>\n",
       "<style scoped>\n",
       "    .dataframe tbody tr th:only-of-type {\n",
       "        vertical-align: middle;\n",
       "    }\n",
       "\n",
       "    .dataframe tbody tr th {\n",
       "        vertical-align: top;\n",
       "    }\n",
       "\n",
       "    .dataframe thead th {\n",
       "        text-align: right;\n",
       "    }\n",
       "</style>\n",
       "<table border=\"1\" class=\"dataframe\">\n",
       "  <thead>\n",
       "    <tr style=\"text-align: right;\">\n",
       "      <th></th>\n",
       "      <th>年份</th>\n",
       "      <th>数据1</th>\n",
       "      <th>数据2</th>\n",
       "      <th>数据3</th>\n",
       "    </tr>\n",
       "  </thead>\n",
       "  <tbody>\n",
       "    <tr>\n",
       "      <th>0</th>\n",
       "      <td>2020-10-12</td>\n",
       "      <td>1424.342</td>\n",
       "      <td>21323123</td>\n",
       "      <td>3123123</td>\n",
       "    </tr>\n",
       "    <tr>\n",
       "      <th>1</th>\n",
       "      <td>2020-10-14</td>\n",
       "      <td>1424.542</td>\n",
       "      <td>7567123</td>\n",
       "      <td>9126753</td>\n",
       "    </tr>\n",
       "    <tr>\n",
       "      <th>2</th>\n",
       "      <td>2010-10-21</td>\n",
       "      <td>1344.332</td>\n",
       "      <td>21654623</td>\n",
       "      <td>3122343</td>\n",
       "    </tr>\n",
       "    <tr>\n",
       "      <th>3</th>\n",
       "      <td>2020-11-15</td>\n",
       "      <td>1424.323</td>\n",
       "      <td>21323123</td>\n",
       "      <td>2532413</td>\n",
       "    </tr>\n",
       "  </tbody>\n",
       "</table>\n",
       "</div>"
      ],
      "text/plain": [
       "           年份       数据1       数据2      数据3\n",
       "0  2020-10-12  1424.342  21323123  3123123\n",
       "1  2020-10-14  1424.542   7567123  9126753\n",
       "2  2010-10-21  1344.332  21654623  3122343\n",
       "3  2020-11-15  1424.323  21323123  2532413"
      ]
     },
     "execution_count": 8,
     "metadata": {},
     "output_type": "execute_result"
    }
   ],
   "source": [
    "file= \"D:/编程项目/python项目/bigdata/data/pdData.txt\"\n",
    "data=pd.read_csv(file\n",
    "                 ,sep=\"=\"   #指定列的分隔符\n",
    "                 ,header=None    #告诉pamdas这文件没有标题行，否则pandas会将第一行作为标题行\n",
    "                 ,names=[\"年份\",\"数据1\",\"数据2\",\"数据3\"]   #自定义列名\n",
    ")\n",
    "data"
   ]
  },
  {
   "cell_type": "code",
   "execution_count": 9,
   "id": "ea439f51",
   "metadata": {},
   "outputs": [
    {
     "data": {
      "text/html": [
       "<div>\n",
       "<style scoped>\n",
       "    .dataframe tbody tr th:only-of-type {\n",
       "        vertical-align: middle;\n",
       "    }\n",
       "\n",
       "    .dataframe tbody tr th {\n",
       "        vertical-align: top;\n",
       "    }\n",
       "\n",
       "    .dataframe thead th {\n",
       "        text-align: right;\n",
       "    }\n",
       "</style>\n",
       "<table border=\"1\" class=\"dataframe\">\n",
       "  <thead>\n",
       "    <tr style=\"text-align: right;\">\n",
       "      <th></th>\n",
       "      <th>序号</th>\n",
       "      <th>商品名称</th>\n",
       "      <th>价格</th>\n",
       "      <th>数量</th>\n",
       "    </tr>\n",
       "  </thead>\n",
       "  <tbody>\n",
       "    <tr>\n",
       "      <th>0</th>\n",
       "      <td>1</td>\n",
       "      <td>苹果</td>\n",
       "      <td>12</td>\n",
       "      <td>54</td>\n",
       "    </tr>\n",
       "    <tr>\n",
       "      <th>1</th>\n",
       "      <td>2</td>\n",
       "      <td>香蕉</td>\n",
       "      <td>13</td>\n",
       "      <td>34</td>\n",
       "    </tr>\n",
       "    <tr>\n",
       "      <th>2</th>\n",
       "      <td>3</td>\n",
       "      <td>菠萝</td>\n",
       "      <td>20</td>\n",
       "      <td>23</td>\n",
       "    </tr>\n",
       "    <tr>\n",
       "      <th>3</th>\n",
       "      <td>4</td>\n",
       "      <td>葡萄</td>\n",
       "      <td>12</td>\n",
       "      <td>45</td>\n",
       "    </tr>\n",
       "    <tr>\n",
       "      <th>4</th>\n",
       "      <td>5</td>\n",
       "      <td>水蜜桃</td>\n",
       "      <td>14</td>\n",
       "      <td>23</td>\n",
       "    </tr>\n",
       "    <tr>\n",
       "      <th>5</th>\n",
       "      <td>6</td>\n",
       "      <td>榴莲</td>\n",
       "      <td>15</td>\n",
       "      <td>45</td>\n",
       "    </tr>\n",
       "    <tr>\n",
       "      <th>6</th>\n",
       "      <td>7</td>\n",
       "      <td>雪梨</td>\n",
       "      <td>14</td>\n",
       "      <td>32</td>\n",
       "    </tr>\n",
       "    <tr>\n",
       "      <th>7</th>\n",
       "      <td>8</td>\n",
       "      <td>李子</td>\n",
       "      <td>15</td>\n",
       "      <td>67</td>\n",
       "    </tr>\n",
       "  </tbody>\n",
       "</table>\n",
       "</div>"
      ],
      "text/plain": [
       "   序号 商品名称  价格  数量\n",
       "0   1   苹果  12  54\n",
       "1   2   香蕉  13  34\n",
       "2   3   菠萝  20  23\n",
       "3   4   葡萄  12  45\n",
       "4   5  水蜜桃  14  23\n",
       "5   6   榴莲  15  45\n",
       "6   7   雪梨  14  32\n",
       "7   8   李子  15  67"
      ]
     },
     "execution_count": 9,
     "metadata": {},
     "output_type": "execute_result"
    }
   ],
   "source": [
    "'''读取excel文件'''\n",
    "file= \"D:/编程项目/python项目/bigdata/data/pdData.xlsx\"\n",
    "data=pd.read_excel(file)\n",
    "data"
   ]
  },
  {
   "cell_type": "markdown",
   "id": "3abe24bd",
   "metadata": {},
   "source": [
    "## 读取SQL数据库"
   ]
  },
  {
   "cell_type": "code",
   "execution_count": 10,
   "id": "35a44ba1",
   "metadata": {
    "scrolled": true
   },
   "outputs": [
    {
     "data": {
      "text/html": [
       "<div>\n",
       "<style scoped>\n",
       "    .dataframe tbody tr th:only-of-type {\n",
       "        vertical-align: middle;\n",
       "    }\n",
       "\n",
       "    .dataframe tbody tr th {\n",
       "        vertical-align: top;\n",
       "    }\n",
       "\n",
       "    .dataframe thead th {\n",
       "        text-align: right;\n",
       "    }\n",
       "</style>\n",
       "<table border=\"1\" class=\"dataframe\">\n",
       "  <thead>\n",
       "    <tr style=\"text-align: right;\">\n",
       "      <th></th>\n",
       "      <th>id</th>\n",
       "      <th>book_name</th>\n",
       "      <th>type_id</th>\n",
       "      <th>author</th>\n",
       "      <th>publish</th>\n",
       "      <th>price</th>\n",
       "      <th>number</th>\n",
       "      <th>status</th>\n",
       "      <th>remark</th>\n",
       "    </tr>\n",
       "  </thead>\n",
       "  <tbody>\n",
       "    <tr>\n",
       "      <th>0</th>\n",
       "      <td>1</td>\n",
       "      <td>西游记</td>\n",
       "      <td>3</td>\n",
       "      <td>吴承恩</td>\n",
       "      <td>机械工业出版社</td>\n",
       "      <td>23.0</td>\n",
       "      <td>213</td>\n",
       "      <td>1</td>\n",
       "      <td>四大名著之一</td>\n",
       "    </tr>\n",
       "    <tr>\n",
       "      <th>1</th>\n",
       "      <td>2</td>\n",
       "      <td>SpringCloud微服务架构开发</td>\n",
       "      <td>1</td>\n",
       "      <td>黑马程序员</td>\n",
       "      <td>人民邮电出版社</td>\n",
       "      <td>28.0</td>\n",
       "      <td>20</td>\n",
       "      <td>1</td>\n",
       "      <td>微服务实战开发</td>\n",
       "    </tr>\n",
       "    <tr>\n",
       "      <th>2</th>\n",
       "      <td>3</td>\n",
       "      <td>水浒传</td>\n",
       "      <td>3</td>\n",
       "      <td>施耐庵</td>\n",
       "      <td>人民文学出版社</td>\n",
       "      <td>29.0</td>\n",
       "      <td>30</td>\n",
       "      <td>1</td>\n",
       "      <td>四大名著之一</td>\n",
       "    </tr>\n",
       "    <tr>\n",
       "      <th>3</th>\n",
       "      <td>4</td>\n",
       "      <td>Java基础入门（第2版）</td>\n",
       "      <td>1</td>\n",
       "      <td>黑马程序员</td>\n",
       "      <td>清华大学出版社</td>\n",
       "      <td>30.2</td>\n",
       "      <td>22</td>\n",
       "      <td>1</td>\n",
       "      <td>提高Java编程功底必备</td>\n",
       "    </tr>\n",
       "    <tr>\n",
       "      <th>4</th>\n",
       "      <td>5</td>\n",
       "      <td>中国文学编年史</td>\n",
       "      <td>2</td>\n",
       "      <td>陈文新</td>\n",
       "      <td>湖南人民出版社</td>\n",
       "      <td>35.3</td>\n",
       "      <td>36</td>\n",
       "      <td>1</td>\n",
       "      <td>中国文学编年史</td>\n",
       "    </tr>\n",
       "    <tr>\n",
       "      <th>5</th>\n",
       "      <td>6</td>\n",
       "      <td>JavaWeb程序设计任务教程</td>\n",
       "      <td>1</td>\n",
       "      <td>黑马程序员</td>\n",
       "      <td>人民邮电出版社</td>\n",
       "      <td>25.5</td>\n",
       "      <td>16</td>\n",
       "      <td>1</td>\n",
       "      <td>学习JavaWeb的好帮手</td>\n",
       "    </tr>\n",
       "    <tr>\n",
       "      <th>6</th>\n",
       "      <td>7</td>\n",
       "      <td>SSH框架整合实战教程</td>\n",
       "      <td>1</td>\n",
       "      <td>传智播客高教产品研发部</td>\n",
       "      <td>清华大学出版社</td>\n",
       "      <td>59.0</td>\n",
       "      <td>12</td>\n",
       "      <td>1</td>\n",
       "      <td>SSH项目开发实战</td>\n",
       "    </tr>\n",
       "    <tr>\n",
       "      <th>7</th>\n",
       "      <td>8</td>\n",
       "      <td>朝花夕拾</td>\n",
       "      <td>3</td>\n",
       "      <td>鲁迅</td>\n",
       "      <td>辽海出版社</td>\n",
       "      <td>44.6</td>\n",
       "      <td>30</td>\n",
       "      <td>1</td>\n",
       "      <td>鲁迅小说全集系列</td>\n",
       "    </tr>\n",
       "    <tr>\n",
       "      <th>8</th>\n",
       "      <td>9</td>\n",
       "      <td>彷徨</td>\n",
       "      <td>3</td>\n",
       "      <td>鲁迅</td>\n",
       "      <td>辽海出版社</td>\n",
       "      <td>44.6</td>\n",
       "      <td>16</td>\n",
       "      <td>1</td>\n",
       "      <td>鲁迅小说全集系列</td>\n",
       "    </tr>\n",
       "    <tr>\n",
       "      <th>9</th>\n",
       "      <td>10</td>\n",
       "      <td>呐喊</td>\n",
       "      <td>3</td>\n",
       "      <td>鲁迅</td>\n",
       "      <td>辽海出版社</td>\n",
       "      <td>44.5</td>\n",
       "      <td>16</td>\n",
       "      <td>1</td>\n",
       "      <td>鲁迅小说全集系列</td>\n",
       "    </tr>\n",
       "    <tr>\n",
       "      <th>10</th>\n",
       "      <td>11</td>\n",
       "      <td>阿Q正传</td>\n",
       "      <td>3</td>\n",
       "      <td>鲁迅</td>\n",
       "      <td>辽海出版社</td>\n",
       "      <td>29.0</td>\n",
       "      <td>33</td>\n",
       "      <td>1</td>\n",
       "      <td>鲁迅小说全集系列</td>\n",
       "    </tr>\n",
       "    <tr>\n",
       "      <th>11</th>\n",
       "      <td>12</td>\n",
       "      <td>Python程序设计</td>\n",
       "      <td>1</td>\n",
       "      <td>黑马程序员</td>\n",
       "      <td>人民邮电出版社</td>\n",
       "      <td>27.5</td>\n",
       "      <td>23</td>\n",
       "      <td>1</td>\n",
       "      <td>学习Python好帮手</td>\n",
       "    </tr>\n",
       "    <tr>\n",
       "      <th>12</th>\n",
       "      <td>13</td>\n",
       "      <td>机器学习</td>\n",
       "      <td>1</td>\n",
       "      <td>周志华</td>\n",
       "      <td>清华大学出版社</td>\n",
       "      <td>66.0</td>\n",
       "      <td>11</td>\n",
       "      <td>1</td>\n",
       "      <td>机器学习启蒙书籍</td>\n",
       "    </tr>\n",
       "  </tbody>\n",
       "</table>\n",
       "</div>"
      ],
      "text/plain": [
       "    id           book_name  type_id       author  publish  price  number  \\\n",
       "0    1                 西游记        3          吴承恩  机械工业出版社   23.0     213   \n",
       "1    2  SpringCloud微服务架构开发        1        黑马程序员  人民邮电出版社   28.0      20   \n",
       "2    3                 水浒传        3         施耐庵   人民文学出版社   29.0      30   \n",
       "3    4       Java基础入门（第2版）        1        黑马程序员  清华大学出版社   30.2      22   \n",
       "4    5             中国文学编年史        2          陈文新  湖南人民出版社   35.3      36   \n",
       "5    6     JavaWeb程序设计任务教程        1        黑马程序员  人民邮电出版社   25.5      16   \n",
       "6    7         SSH框架整合实战教程        1  传智播客高教产品研发部  清华大学出版社   59.0      12   \n",
       "7    8                朝花夕拾        3           鲁迅    辽海出版社   44.6      30   \n",
       "8    9                  彷徨        3           鲁迅    辽海出版社   44.6      16   \n",
       "9   10                  呐喊        3           鲁迅    辽海出版社   44.5      16   \n",
       "10  11                阿Q正传        3           鲁迅    辽海出版社   29.0      33   \n",
       "11  12          Python程序设计        1        黑马程序员  人民邮电出版社   27.5      23   \n",
       "12  13                机器学习        1          周志华  清华大学出版社   66.0      11   \n",
       "\n",
       "    status         remark  \n",
       "0        1         四大名著之一  \n",
       "1        1        微服务实战开发  \n",
       "2        1         四大名著之一  \n",
       "3        1   提高Java编程功底必备  \n",
       "4        1        中国文学编年史  \n",
       "5        1  学习JavaWeb的好帮手  \n",
       "6        1      SSH项目开发实战  \n",
       "7        1       鲁迅小说全集系列  \n",
       "8        1       鲁迅小说全集系列  \n",
       "9        1       鲁迅小说全集系列  \n",
       "10       1       鲁迅小说全集系列  \n",
       "11       1    学习Python好帮手  \n",
       "12       1       机器学习启蒙书籍  "
      ]
     },
     "execution_count": 10,
     "metadata": {},
     "output_type": "execute_result"
    }
   ],
   "source": [
    "import pymysql  #首先需要一个访问MySql数据库的库\n",
    "database=pymysql.connect(      #利用现有库获取连接\n",
    "    host=\"127.0.0.1\"   #主机\n",
    "    ,user=\"root\"     #用户\n",
    "    ,password=\"123456\"  #密码\n",
    "    ,database=\"bookmanager\"  #数据库\n",
    "    #,charset=\"utf_8\"    #指定编码方式(抛出属性错误时可去掉)\n",
    ")\n",
    "mysql_data=pd.read_sql(\n",
    "    \"select * from book\"    #需要一查询语句\n",
    "    ,con=database\n",
    ")\n",
    "mysql_data"
   ]
  },
  {
   "cell_type": "markdown",
   "id": "0041ec28",
   "metadata": {},
   "source": [
    "# 二：Pandas的数据结构\n",
    "#### DataFrame结构：二位数据，整个表格，多列多行\n",
    "#### Series结构：一维数据，常表示某一列或一行"
   ]
  },
  {
   "cell_type": "code",
   "execution_count": 11,
   "id": "c4b17f72",
   "metadata": {},
   "outputs": [],
   "source": [
    "import pandas as pd\n",
    "import numpy as np   #导入老朋友numpy备用"
   ]
  },
  {
   "cell_type": "markdown",
   "id": "d489ac93",
   "metadata": {},
   "source": [
    "## Series\n",
    "Series更像是一种一维数组的结构，是由一组(可以是不同数据类型)的数据与其索引组成，有点像原生的字典"
   ]
  },
  {
   "cell_type": "code",
   "execution_count": 12,
   "id": "9fc3ea71",
   "metadata": {},
   "outputs": [
    {
     "data": {
      "text/plain": [
       "0                            1\n",
       "1                            a\n",
       "2                            b\n",
       "3                            2\n",
       "4                        3.555\n",
       "5                            4\n",
       "6    <built-in function print>\n",
       "dtype: object"
      ]
     },
     "execution_count": 12,
     "metadata": {},
     "output_type": "execute_result"
    }
   ],
   "source": [
    "sl=pd.Series([1,\"a\",'b',2,3.555,4,print])   #吐槽：为什么这个方法首字母是大写！！\n",
    "sl     #左侧那行是索引，右侧是数据    (和字典一样，什么类型都吃)"
   ]
  },
  {
   "cell_type": "code",
   "execution_count": 13,
   "id": "105cf7ed",
   "metadata": {},
   "outputs": [
    {
     "data": {
      "text/plain": [
       "RangeIndex(start=0, stop=7, step=1)"
      ]
     },
     "execution_count": 13,
     "metadata": {},
     "output_type": "execute_result"
    }
   ],
   "source": [
    "sl.index  #获取索引（0-7(不包含)，步长1）"
   ]
  },
  {
   "cell_type": "code",
   "execution_count": 14,
   "id": "99cab19e",
   "metadata": {},
   "outputs": [
    {
     "data": {
      "text/plain": [
       "array([1, 'a', 'b', 2, 3.555, 4, <built-in function print>], dtype=object)"
      ]
     },
     "execution_count": 14,
     "metadata": {},
     "output_type": "execute_result"
    }
   ],
   "source": [
    "sl.values   #获取数据"
   ]
  },
  {
   "cell_type": "markdown",
   "id": "355ba2af",
   "metadata": {},
   "source": [
    "可以创建一个自定义索引的Series"
   ]
  },
  {
   "cell_type": "code",
   "execution_count": 15,
   "id": "41e97595",
   "metadata": {},
   "outputs": [
    {
     "data": {
      "text/plain": [
       "姓名    小明\n",
       "性别     男\n",
       "年龄    14\n",
       "dtype: object"
      ]
     },
     "execution_count": 15,
     "metadata": {},
     "output_type": "execute_result"
    }
   ],
   "source": [
    "sl2 = pd.Series([\"小明\",\"男\",14],index=[\"姓名\",\"性别\",\"年龄\"])\n",
    "sl2"
   ]
  },
  {
   "cell_type": "code",
   "execution_count": 16,
   "id": "89879022",
   "metadata": {},
   "outputs": [
    {
     "data": {
      "text/plain": [
       "'小明'"
      ]
     },
     "execution_count": 16,
     "metadata": {},
     "output_type": "execute_result"
    }
   ],
   "source": [
    "sl2[\"姓名\"]    #可通过索引查找"
   ]
  },
  {
   "cell_type": "markdown",
   "id": "3374ff87",
   "metadata": {},
   "source": [
    "可以通过字典生成Series"
   ]
  },
  {
   "cell_type": "code",
   "execution_count": 17,
   "id": "e1671a72",
   "metadata": {},
   "outputs": [
    {
     "data": {
      "text/plain": [
       "学校    福州职业技术学院\n",
       "系部     信息技术工程系\n",
       "年段          20\n",
       "班级        20软2\n",
       "dtype: object"
      ]
     },
     "execution_count": 17,
     "metadata": {},
     "output_type": "execute_result"
    }
   ],
   "source": [
    "dict1={\"学校\":\"福州职业技术学院\",\"系部\":\"信息技术工程系\",\"年段\":20,\"班级\":\"20软2\"}\n",
    "sl3=pd.Series(dict1)\n",
    "sl3"
   ]
  },
  {
   "cell_type": "markdown",
   "id": "03a2f02c",
   "metadata": {},
   "source": [
    "Series类型数据的使用(类似原生字典)"
   ]
  },
  {
   "cell_type": "code",
   "execution_count": 18,
   "id": "92ab1223",
   "metadata": {},
   "outputs": [
    {
     "data": {
      "text/plain": [
       "'福州职业技术学院'"
      ]
     },
     "execution_count": 18,
     "metadata": {},
     "output_type": "execute_result"
    }
   ],
   "source": [
    "sl3[\"学校\"]"
   ]
  },
  {
   "cell_type": "code",
   "execution_count": 19,
   "id": "86b50840",
   "metadata": {},
   "outputs": [
    {
     "data": {
      "text/plain": [
       "str"
      ]
     },
     "execution_count": 19,
     "metadata": {},
     "output_type": "execute_result"
    }
   ],
   "source": [
    "type(sl3[\"学校\"])    #返回原生变量"
   ]
  },
  {
   "cell_type": "code",
   "execution_count": 20,
   "id": "e144e6f9",
   "metadata": {},
   "outputs": [
    {
     "data": {
      "text/plain": [
       "学校    福州职业技术学院\n",
       "系部     信息技术工程系\n",
       "dtype: object"
      ]
     },
     "execution_count": 20,
     "metadata": {},
     "output_type": "execute_result"
    }
   ],
   "source": [
    "sl3[[\"学校\",\"系部\"]]"
   ]
  },
  {
   "cell_type": "code",
   "execution_count": 21,
   "id": "6f65075e",
   "metadata": {},
   "outputs": [
    {
     "data": {
      "text/plain": [
       "pandas.core.series.Series"
      ]
     },
     "execution_count": 21,
     "metadata": {},
     "output_type": "execute_result"
    }
   ],
   "source": [
    "type(sl3[[\"学校\",\"系部\"]])    #查询多个数据时返回的是Series类型"
   ]
  },
  {
   "cell_type": "markdown",
   "id": "633db203",
   "metadata": {},
   "source": [
    "## DataFrame\n",
    "#### Dataframe是一个表格类型数据\n",
    "###### ----每列可以是不同数据类型的值\n",
    "###### ----既有行索引（index） 也有列索引（colimns）\n",
    "###### ----可以看作是Series组成的类似二维字典的对象\n",
    "###### "
   ]
  },
  {
   "cell_type": "markdown",
   "id": "1d955704",
   "metadata": {},
   "source": [
    "根据字典创建DataFrame"
   ]
  },
  {
   "cell_type": "code",
   "execution_count": 22,
   "id": "cf8451c0",
   "metadata": {},
   "outputs": [
    {
     "data": {
      "text/html": [
       "<div>\n",
       "<style scoped>\n",
       "    .dataframe tbody tr th:only-of-type {\n",
       "        vertical-align: middle;\n",
       "    }\n",
       "\n",
       "    .dataframe tbody tr th {\n",
       "        vertical-align: top;\n",
       "    }\n",
       "\n",
       "    .dataframe thead th {\n",
       "        text-align: right;\n",
       "    }\n",
       "</style>\n",
       "<table border=\"1\" class=\"dataframe\">\n",
       "  <thead>\n",
       "    <tr style=\"text-align: right;\">\n",
       "      <th></th>\n",
       "      <th>省份</th>\n",
       "      <th>年份</th>\n",
       "      <th>GDP(亿元)</th>\n",
       "    </tr>\n",
       "  </thead>\n",
       "  <tbody>\n",
       "    <tr>\n",
       "      <th>0</th>\n",
       "      <td>福建</td>\n",
       "      <td>2019</td>\n",
       "      <td>42395.00</td>\n",
       "    </tr>\n",
       "    <tr>\n",
       "      <th>1</th>\n",
       "      <td>福建</td>\n",
       "      <td>2018</td>\n",
       "      <td>35804.04</td>\n",
       "    </tr>\n",
       "    <tr>\n",
       "      <th>2</th>\n",
       "      <td>湖北</td>\n",
       "      <td>2019</td>\n",
       "      <td>22777.69</td>\n",
       "    </tr>\n",
       "    <tr>\n",
       "      <th>3</th>\n",
       "      <td>湖北</td>\n",
       "      <td>2018</td>\n",
       "      <td>39366.55</td>\n",
       "    </tr>\n",
       "  </tbody>\n",
       "</table>\n",
       "</div>"
      ],
      "text/plain": [
       "   省份    年份   GDP(亿元)\n",
       "0  福建  2019  42395.00\n",
       "1  福建  2018  35804.04\n",
       "2  湖北  2019  22777.69\n",
       "3  湖北  2018  39366.55"
      ]
     },
     "execution_count": 22,
     "metadata": {},
     "output_type": "execute_result"
    }
   ],
   "source": [
    "dict2={\n",
    "    \"省份\":[\"福建\",\"福建\",\"湖北\",\"湖北\"]\n",
    "    ,\"年份\":[2019,2018,2019,2018]\n",
    "    ,\"GDP(亿元)\":[42395,35804.04,22777.69,39366.55]\n",
    "}\n",
    "df=pd.DataFrame(dict2)\n",
    "df"
   ]
  },
  {
   "cell_type": "markdown",
   "id": "fe67eb0a",
   "metadata": {},
   "source": [
    "福建可以啊"
   ]
  },
  {
   "cell_type": "code",
   "execution_count": 23,
   "id": "b92f112d",
   "metadata": {},
   "outputs": [
    {
     "data": {
      "text/plain": [
       "省份          object\n",
       "年份           int64\n",
       "GDP(亿元)    float64\n",
       "dtype: object"
      ]
     },
     "execution_count": 23,
     "metadata": {},
     "output_type": "execute_result"
    }
   ],
   "source": [
    "df.dtypes    #返回的1是一整个列的数据类型"
   ]
  },
  {
   "cell_type": "code",
   "execution_count": 24,
   "id": "0f24404e",
   "metadata": {},
   "outputs": [
    {
     "data": {
      "text/plain": [
       "Index(['省份', '年份', 'GDP(亿元)'], dtype='object')"
      ]
     },
     "execution_count": 24,
     "metadata": {},
     "output_type": "execute_result"
    }
   ],
   "source": [
    "df.columns  #列索引"
   ]
  },
  {
   "cell_type": "code",
   "execution_count": 25,
   "id": "1791602a",
   "metadata": {},
   "outputs": [
    {
     "data": {
      "text/plain": [
       "RangeIndex(start=0, stop=4, step=1)"
      ]
     },
     "execution_count": 25,
     "metadata": {},
     "output_type": "execute_result"
    }
   ],
   "source": [
    "df.index    #行索引"
   ]
  },
  {
   "cell_type": "markdown",
   "id": "7cb0fc8e",
   "metadata": {},
   "source": [
    "### 从DataFreme的切片\n",
    "##### ----切片结果是一维的，返回Series类型数据\n",
    "#### ----切片结果是二位的，返回的则是DataFrame类型数据"
   ]
  },
  {
   "cell_type": "markdown",
   "id": "e9811023",
   "metadata": {},
   "source": [
    "#### 查询列"
   ]
  },
  {
   "cell_type": "code",
   "execution_count": 26,
   "id": "b7256f05",
   "metadata": {},
   "outputs": [
    {
     "data": {
      "text/plain": [
       "0    福建\n",
       "1    福建\n",
       "2    湖北\n",
       "3    湖北\n",
       "Name: 省份, dtype: object"
      ]
     },
     "execution_count": 26,
     "metadata": {},
     "output_type": "execute_result"
    }
   ],
   "source": [
    "df[\"省份\"]     #只查询一列"
   ]
  },
  {
   "cell_type": "code",
   "execution_count": 27,
   "id": "1909147a",
   "metadata": {},
   "outputs": [
    {
     "data": {
      "text/plain": [
       "pandas.core.series.Series"
      ]
     },
     "execution_count": 27,
     "metadata": {},
     "output_type": "execute_result"
    }
   ],
   "source": [
    "type(df[\"省份\"])   #返回的是Series类型"
   ]
  },
  {
   "cell_type": "code",
   "execution_count": 28,
   "id": "77332878",
   "metadata": {},
   "outputs": [
    {
     "data": {
      "text/html": [
       "<div>\n",
       "<style scoped>\n",
       "    .dataframe tbody tr th:only-of-type {\n",
       "        vertical-align: middle;\n",
       "    }\n",
       "\n",
       "    .dataframe tbody tr th {\n",
       "        vertical-align: top;\n",
       "    }\n",
       "\n",
       "    .dataframe thead th {\n",
       "        text-align: right;\n",
       "    }\n",
       "</style>\n",
       "<table border=\"1\" class=\"dataframe\">\n",
       "  <thead>\n",
       "    <tr style=\"text-align: right;\">\n",
       "      <th></th>\n",
       "      <th>省份</th>\n",
       "      <th>年份</th>\n",
       "    </tr>\n",
       "  </thead>\n",
       "  <tbody>\n",
       "    <tr>\n",
       "      <th>0</th>\n",
       "      <td>福建</td>\n",
       "      <td>2019</td>\n",
       "    </tr>\n",
       "    <tr>\n",
       "      <th>1</th>\n",
       "      <td>福建</td>\n",
       "      <td>2018</td>\n",
       "    </tr>\n",
       "    <tr>\n",
       "      <th>2</th>\n",
       "      <td>湖北</td>\n",
       "      <td>2019</td>\n",
       "    </tr>\n",
       "    <tr>\n",
       "      <th>3</th>\n",
       "      <td>湖北</td>\n",
       "      <td>2018</td>\n",
       "    </tr>\n",
       "  </tbody>\n",
       "</table>\n",
       "</div>"
      ],
      "text/plain": [
       "   省份    年份\n",
       "0  福建  2019\n",
       "1  福建  2018\n",
       "2  湖北  2019\n",
       "3  湖北  2018"
      ]
     },
     "execution_count": 28,
     "metadata": {},
     "output_type": "execute_result"
    }
   ],
   "source": [
    "df[[\"省份\",\"年份\"]]     #查询多列"
   ]
  },
  {
   "cell_type": "code",
   "execution_count": 29,
   "id": "1d7bdcf5",
   "metadata": {},
   "outputs": [
    {
     "data": {
      "text/plain": [
       "pandas.core.frame.DataFrame"
      ]
     },
     "execution_count": 29,
     "metadata": {},
     "output_type": "execute_result"
    }
   ],
   "source": [
    "type(df[[\"省份\",\"年份\"]] )  #返回的则是DataFrame类型（二维数据）"
   ]
  },
  {
   "cell_type": "markdown",
   "id": "0611e9b3",
   "metadata": {},
   "source": [
    "#### 查询行"
   ]
  },
  {
   "cell_type": "code",
   "execution_count": 30,
   "id": "52ff0e7a",
   "metadata": {},
   "outputs": [
    {
     "data": {
      "text/plain": [
       "省份               福建\n",
       "年份             2018\n",
       "GDP(亿元)    35804.04\n",
       "Name: 1, dtype: object"
      ]
     },
     "execution_count": 30,
     "metadata": {},
     "output_type": "execute_result"
    }
   ],
   "source": [
    "df.loc[1]   #只查询一行"
   ]
  },
  {
   "cell_type": "code",
   "execution_count": 31,
   "id": "162c638e",
   "metadata": {},
   "outputs": [
    {
     "data": {
      "text/plain": [
       "pandas.core.series.Series"
      ]
     },
     "execution_count": 31,
     "metadata": {},
     "output_type": "execute_result"
    }
   ],
   "source": [
    "type(df.loc[1])  #返回的是Series类型"
   ]
  },
  {
   "cell_type": "code",
   "execution_count": 32,
   "id": "4b6fe7cb",
   "metadata": {},
   "outputs": [
    {
     "data": {
      "text/plain": [
       "1    福建\n",
       "2    湖北\n",
       "Name: 省份, dtype: object"
      ]
     },
     "execution_count": 32,
     "metadata": {},
     "output_type": "execute_result"
    }
   ],
   "source": [
    "df.loc[[1,2],\"省份\"]   #查询多行（传入列表进行查询）"
   ]
  },
  {
   "cell_type": "code",
   "execution_count": 33,
   "id": "596e37eb",
   "metadata": {},
   "outputs": [
    {
     "data": {
      "text/plain": [
       "pandas.core.series.Series"
      ]
     },
     "execution_count": 33,
     "metadata": {},
     "output_type": "execute_result"
    }
   ],
   "source": [
    "type(df.loc[[1,2],\"省份\"])  #注意这时是Series类型（一维数据）"
   ]
  },
  {
   "cell_type": "markdown",
   "id": "6c7e3b6a",
   "metadata": {},
   "source": [
    "#### 其他查询/切片"
   ]
  },
  {
   "cell_type": "code",
   "execution_count": 34,
   "id": "840af206",
   "metadata": {},
   "outputs": [
    {
     "data": {
      "text/html": [
       "<div>\n",
       "<style scoped>\n",
       "    .dataframe tbody tr th:only-of-type {\n",
       "        vertical-align: middle;\n",
       "    }\n",
       "\n",
       "    .dataframe tbody tr th {\n",
       "        vertical-align: top;\n",
       "    }\n",
       "\n",
       "    .dataframe thead th {\n",
       "        text-align: right;\n",
       "    }\n",
       "</style>\n",
       "<table border=\"1\" class=\"dataframe\">\n",
       "  <thead>\n",
       "    <tr style=\"text-align: right;\">\n",
       "      <th></th>\n",
       "      <th>省份</th>\n",
       "      <th>年份</th>\n",
       "      <th>GDP(亿元)</th>\n",
       "    </tr>\n",
       "  </thead>\n",
       "  <tbody>\n",
       "    <tr>\n",
       "      <th>1</th>\n",
       "      <td>福建</td>\n",
       "      <td>2018</td>\n",
       "      <td>35804.04</td>\n",
       "    </tr>\n",
       "    <tr>\n",
       "      <th>2</th>\n",
       "      <td>湖北</td>\n",
       "      <td>2019</td>\n",
       "      <td>22777.69</td>\n",
       "    </tr>\n",
       "    <tr>\n",
       "      <th>3</th>\n",
       "      <td>湖北</td>\n",
       "      <td>2018</td>\n",
       "      <td>39366.55</td>\n",
       "    </tr>\n",
       "  </tbody>\n",
       "</table>\n",
       "</div>"
      ],
      "text/plain": [
       "   省份    年份   GDP(亿元)\n",
       "1  福建  2018  35804.04\n",
       "2  湖北  2019  22777.69\n",
       "3  湖北  2018  39366.55"
      ]
     },
     "execution_count": 34,
     "metadata": {},
     "output_type": "execute_result"
    }
   ],
   "source": [
    "df.loc[1:3]   #行区间索引1-3(包含！！！！)"
   ]
  },
  {
   "cell_type": "code",
   "execution_count": 35,
   "id": "ddef8464",
   "metadata": {},
   "outputs": [
    {
     "data": {
      "text/plain": [
       "1    2018\n",
       "2    2019\n",
       "3    2018\n",
       "Name: 年份, dtype: int64"
      ]
     },
     "execution_count": 35,
     "metadata": {},
     "output_type": "execute_result"
    }
   ],
   "source": [
    "df.loc[1:3]['年份']  #行区间索引1-3（包含！！！） 列索引“年份”"
   ]
  },
  {
   "cell_type": "code",
   "execution_count": 36,
   "id": "f99f77e3",
   "metadata": {},
   "outputs": [
    {
     "data": {
      "text/html": [
       "<div>\n",
       "<style scoped>\n",
       "    .dataframe tbody tr th:only-of-type {\n",
       "        vertical-align: middle;\n",
       "    }\n",
       "\n",
       "    .dataframe tbody tr th {\n",
       "        vertical-align: top;\n",
       "    }\n",
       "\n",
       "    .dataframe thead th {\n",
       "        text-align: right;\n",
       "    }\n",
       "</style>\n",
       "<table border=\"1\" class=\"dataframe\">\n",
       "  <thead>\n",
       "    <tr style=\"text-align: right;\">\n",
       "      <th></th>\n",
       "      <th>省份</th>\n",
       "      <th>年份</th>\n",
       "      <th>GDP(亿元)</th>\n",
       "    </tr>\n",
       "  </thead>\n",
       "  <tbody>\n",
       "    <tr>\n",
       "      <th>1</th>\n",
       "      <td>福建</td>\n",
       "      <td>2018</td>\n",
       "      <td>35804.04</td>\n",
       "    </tr>\n",
       "    <tr>\n",
       "      <th>3</th>\n",
       "      <td>湖北</td>\n",
       "      <td>2018</td>\n",
       "      <td>39366.55</td>\n",
       "    </tr>\n",
       "  </tbody>\n",
       "</table>\n",
       "</div>"
      ],
      "text/plain": [
       "   省份    年份   GDP(亿元)\n",
       "1  福建  2018  35804.04\n",
       "3  湖北  2018  39366.55"
      ]
     },
     "execution_count": 36,
     "metadata": {},
     "output_type": "execute_result"
    }
   ],
   "source": [
    "df.loc[df[\"年份\"]==2018]    #条件查询 2018年的数据"
   ]
  },
  {
   "cell_type": "code",
   "execution_count": 37,
   "id": "fe263a1b",
   "metadata": {},
   "outputs": [
    {
     "data": {
      "text/plain": [
       "0    False\n",
       "1     True\n",
       "2    False\n",
       "3     True\n",
       "Name: 年份, dtype: bool"
      ]
     },
     "execution_count": 37,
     "metadata": {},
     "output_type": "execute_result"
    }
   ],
   "source": [
    "df[\"年份\"]==2018    #中间的条件按表达式会返回每个查询结果（行/列）的布尔值，上述查询只会返回布尔值为True的结果"
   ]
  },
  {
   "cell_type": "code",
   "execution_count": 38,
   "id": "8b7a037d",
   "metadata": {},
   "outputs": [
    {
     "data": {
      "text/html": [
       "<div>\n",
       "<style scoped>\n",
       "    .dataframe tbody tr th:only-of-type {\n",
       "        vertical-align: middle;\n",
       "    }\n",
       "\n",
       "    .dataframe tbody tr th {\n",
       "        vertical-align: top;\n",
       "    }\n",
       "\n",
       "    .dataframe thead th {\n",
       "        text-align: right;\n",
       "    }\n",
       "</style>\n",
       "<table border=\"1\" class=\"dataframe\">\n",
       "  <thead>\n",
       "    <tr style=\"text-align: right;\">\n",
       "      <th></th>\n",
       "      <th>省份</th>\n",
       "      <th>年份</th>\n",
       "      <th>GDP(亿元)</th>\n",
       "    </tr>\n",
       "  </thead>\n",
       "  <tbody>\n",
       "    <tr>\n",
       "      <th>1</th>\n",
       "      <td>福建</td>\n",
       "      <td>2018</td>\n",
       "      <td>35804.04</td>\n",
       "    </tr>\n",
       "  </tbody>\n",
       "</table>\n",
       "</div>"
      ],
      "text/plain": [
       "   省份    年份   GDP(亿元)\n",
       "1  福建  2018  35804.04"
      ]
     },
     "execution_count": 38,
     "metadata": {},
     "output_type": "execute_result"
    }
   ],
   "source": [
    "df.loc[(df[\"年份\"]==2018) & (df[\"省份\"]==\"福建\")]    #也同样支持逻辑运算符（注意括号）"
   ]
  },
  {
   "cell_type": "code",
   "execution_count": 39,
   "id": "d624bb71",
   "metadata": {},
   "outputs": [
    {
     "data": {
      "text/html": [
       "<div>\n",
       "<style scoped>\n",
       "    .dataframe tbody tr th:only-of-type {\n",
       "        vertical-align: middle;\n",
       "    }\n",
       "\n",
       "    .dataframe tbody tr th {\n",
       "        vertical-align: top;\n",
       "    }\n",
       "\n",
       "    .dataframe thead th {\n",
       "        text-align: right;\n",
       "    }\n",
       "</style>\n",
       "<table border=\"1\" class=\"dataframe\">\n",
       "  <thead>\n",
       "    <tr style=\"text-align: right;\">\n",
       "      <th></th>\n",
       "      <th>省份</th>\n",
       "      <th>年份</th>\n",
       "      <th>GDP(亿元)</th>\n",
       "    </tr>\n",
       "  </thead>\n",
       "  <tbody>\n",
       "    <tr>\n",
       "      <th>0</th>\n",
       "      <td>福建</td>\n",
       "      <td>2019</td>\n",
       "      <td>42395.0</td>\n",
       "    </tr>\n",
       "  </tbody>\n",
       "</table>\n",
       "</div>"
      ],
      "text/plain": [
       "   省份    年份  GDP(亿元)\n",
       "0  福建  2019  42395.0"
      ]
     },
     "execution_count": 39,
     "metadata": {},
     "output_type": "execute_result"
    }
   ],
   "source": [
    "df.loc[lambda df : (df[\"年份\"]==2019) & (df[\"省份\"]==\"福建\")]   #条件查询也可使用函数实现（非匿名函数就不演示了）"
   ]
  },
  {
   "cell_type": "code",
   "execution_count": 40,
   "id": "0a1c3dd7",
   "metadata": {
    "scrolled": true
   },
   "outputs": [
    {
     "data": {
      "text/html": [
       "<div>\n",
       "<style scoped>\n",
       "    .dataframe tbody tr th:only-of-type {\n",
       "        vertical-align: middle;\n",
       "    }\n",
       "\n",
       "    .dataframe tbody tr th {\n",
       "        vertical-align: top;\n",
       "    }\n",
       "\n",
       "    .dataframe thead th {\n",
       "        text-align: right;\n",
       "    }\n",
       "</style>\n",
       "<table border=\"1\" class=\"dataframe\">\n",
       "  <thead>\n",
       "    <tr style=\"text-align: right;\">\n",
       "      <th></th>\n",
       "      <th>省份</th>\n",
       "      <th>年份</th>\n",
       "      <th>GDP(亿元)</th>\n",
       "    </tr>\n",
       "  </thead>\n",
       "  <tbody>\n",
       "    <tr>\n",
       "      <th>1</th>\n",
       "      <td>福建</td>\n",
       "      <td>2018</td>\n",
       "      <td>35804.04</td>\n",
       "    </tr>\n",
       "  </tbody>\n",
       "</table>\n",
       "</div>"
      ],
      "text/plain": [
       "   省份    年份   GDP(亿元)\n",
       "1  福建  2018  35804.04"
      ]
     },
     "execution_count": 40,
     "metadata": {},
     "output_type": "execute_result"
    }
   ],
   "source": [
    "df.iloc[1:2][0:]     #行索引1-2(不包含！！)(若超出，超出部分不会抛出异常，则显示全部);列索引 0-后面所有\n",
    "#iloc使用行列索引号"
   ]
  },
  {
   "cell_type": "code",
   "execution_count": 41,
   "id": "79d8a2ca",
   "metadata": {},
   "outputs": [
    {
     "data": {
      "text/html": [
       "<div>\n",
       "<style scoped>\n",
       "    .dataframe tbody tr th:only-of-type {\n",
       "        vertical-align: middle;\n",
       "    }\n",
       "\n",
       "    .dataframe tbody tr th {\n",
       "        vertical-align: top;\n",
       "    }\n",
       "\n",
       "    .dataframe thead th {\n",
       "        text-align: right;\n",
       "    }\n",
       "</style>\n",
       "<table border=\"1\" class=\"dataframe\">\n",
       "  <thead>\n",
       "    <tr style=\"text-align: right;\">\n",
       "      <th></th>\n",
       "      <th>省份</th>\n",
       "      <th>年份</th>\n",
       "      <th>GDP(亿元)</th>\n",
       "    </tr>\n",
       "  </thead>\n",
       "  <tbody>\n",
       "    <tr>\n",
       "      <th>0</th>\n",
       "      <td>福建</td>\n",
       "      <td>2019</td>\n",
       "      <td>42395.00</td>\n",
       "    </tr>\n",
       "    <tr>\n",
       "      <th>1</th>\n",
       "      <td>福建</td>\n",
       "      <td>2018</td>\n",
       "      <td>35804.04</td>\n",
       "    </tr>\n",
       "    <tr>\n",
       "      <th>2</th>\n",
       "      <td>湖北</td>\n",
       "      <td>2019</td>\n",
       "      <td>22777.69</td>\n",
       "    </tr>\n",
       "    <tr>\n",
       "      <th>3</th>\n",
       "      <td>湖北</td>\n",
       "      <td>2018</td>\n",
       "      <td>39366.55</td>\n",
       "    </tr>\n",
       "  </tbody>\n",
       "</table>\n",
       "</div>"
      ],
      "text/plain": [
       "   省份    年份   GDP(亿元)\n",
       "0  福建  2019  42395.00\n",
       "1  福建  2018  35804.04\n",
       "2  湖北  2019  22777.69\n",
       "3  湖北  2018  39366.55"
      ]
     },
     "execution_count": 41,
     "metadata": {},
     "output_type": "execute_result"
    }
   ],
   "source": [
    "df.head()    #查询头五行(小于五行则全部显示)"
   ]
  },
  {
   "cell_type": "markdown",
   "id": "b362ad18",
   "metadata": {},
   "source": [
    "# pandas 新增/修改数据列\n",
    "#### 在进行数据分析的时候，常常需要按照条件添加/修改数据，再进行分析\n",
    "##### ----直接赋值\n",
    "##### ----df.apply\n",
    "##### ----df.assign\n",
    "##### ----按条件分组分别赋值"
   ]
  },
  {
   "cell_type": "code",
   "execution_count": 42,
   "id": "374b639d",
   "metadata": {},
   "outputs": [
    {
     "data": {
      "text/html": [
       "<div>\n",
       "<style scoped>\n",
       "    .dataframe tbody tr th:only-of-type {\n",
       "        vertical-align: middle;\n",
       "    }\n",
       "\n",
       "    .dataframe tbody tr th {\n",
       "        vertical-align: top;\n",
       "    }\n",
       "\n",
       "    .dataframe thead th {\n",
       "        text-align: right;\n",
       "    }\n",
       "</style>\n",
       "<table border=\"1\" class=\"dataframe\">\n",
       "  <thead>\n",
       "    <tr style=\"text-align: right;\">\n",
       "      <th></th>\n",
       "      <th>序号</th>\n",
       "      <th>商品名称</th>\n",
       "      <th>价格</th>\n",
       "      <th>数量</th>\n",
       "    </tr>\n",
       "  </thead>\n",
       "  <tbody>\n",
       "    <tr>\n",
       "      <th>0</th>\n",
       "      <td>1</td>\n",
       "      <td>苹果</td>\n",
       "      <td>12</td>\n",
       "      <td>54</td>\n",
       "    </tr>\n",
       "    <tr>\n",
       "      <th>1</th>\n",
       "      <td>2</td>\n",
       "      <td>香蕉</td>\n",
       "      <td>13</td>\n",
       "      <td>34</td>\n",
       "    </tr>\n",
       "    <tr>\n",
       "      <th>2</th>\n",
       "      <td>3</td>\n",
       "      <td>菠萝</td>\n",
       "      <td>20</td>\n",
       "      <td>23</td>\n",
       "    </tr>\n",
       "    <tr>\n",
       "      <th>3</th>\n",
       "      <td>4</td>\n",
       "      <td>葡萄</td>\n",
       "      <td>12</td>\n",
       "      <td>45</td>\n",
       "    </tr>\n",
       "    <tr>\n",
       "      <th>4</th>\n",
       "      <td>5</td>\n",
       "      <td>水蜜桃</td>\n",
       "      <td>14</td>\n",
       "      <td>23</td>\n",
       "    </tr>\n",
       "  </tbody>\n",
       "</table>\n",
       "</div>"
      ],
      "text/plain": [
       "   序号 商品名称  价格  数量\n",
       "0   1   苹果  12  54\n",
       "1   2   香蕉  13  34\n",
       "2   3   菠萝  20  23\n",
       "3   4   葡萄  12  45\n",
       "4   5  水蜜桃  14  23"
      ]
     },
     "execution_count": 42,
     "metadata": {},
     "output_type": "execute_result"
    }
   ],
   "source": [
    "'''读取excel文件'''\n",
    "file= \"D:/编程项目/python项目/bigdata/data/pdData.xlsx\"\n",
    "data1=pd.read_excel(file)\n",
    "data1.head()"
   ]
  },
  {
   "cell_type": "markdown",
   "id": "9b319c5e",
   "metadata": {},
   "source": [
    "### 直接赋值法"
   ]
  },
  {
   "cell_type": "code",
   "execution_count": 43,
   "id": "1afe58f5",
   "metadata": {},
   "outputs": [
    {
     "data": {
      "text/plain": [
       "16"
      ]
     },
     "execution_count": 43,
     "metadata": {},
     "output_type": "execute_result"
    }
   ],
   "source": [
    "data1.loc[4,\"价格\"]=16\n",
    "data1.loc[4,\"价格\"]      #给水蜜桃涨价    注意，这些方法仅仅是修改了data1对象，并非修改原始文件"
   ]
  },
  {
   "cell_type": "code",
   "execution_count": 44,
   "id": "77b364be",
   "metadata": {},
   "outputs": [
    {
     "data": {
      "text/html": [
       "<div>\n",
       "<style scoped>\n",
       "    .dataframe tbody tr th:only-of-type {\n",
       "        vertical-align: middle;\n",
       "    }\n",
       "\n",
       "    .dataframe tbody tr th {\n",
       "        vertical-align: top;\n",
       "    }\n",
       "\n",
       "    .dataframe thead th {\n",
       "        text-align: right;\n",
       "    }\n",
       "</style>\n",
       "<table border=\"1\" class=\"dataframe\">\n",
       "  <thead>\n",
       "    <tr style=\"text-align: right;\">\n",
       "      <th></th>\n",
       "      <th>序号</th>\n",
       "      <th>商品名称</th>\n",
       "      <th>价格</th>\n",
       "      <th>数量</th>\n",
       "      <th>总共价格</th>\n",
       "    </tr>\n",
       "  </thead>\n",
       "  <tbody>\n",
       "    <tr>\n",
       "      <th>0</th>\n",
       "      <td>1</td>\n",
       "      <td>苹果</td>\n",
       "      <td>12</td>\n",
       "      <td>54</td>\n",
       "      <td>648</td>\n",
       "    </tr>\n",
       "    <tr>\n",
       "      <th>1</th>\n",
       "      <td>2</td>\n",
       "      <td>香蕉</td>\n",
       "      <td>13</td>\n",
       "      <td>34</td>\n",
       "      <td>442</td>\n",
       "    </tr>\n",
       "    <tr>\n",
       "      <th>2</th>\n",
       "      <td>3</td>\n",
       "      <td>菠萝</td>\n",
       "      <td>20</td>\n",
       "      <td>23</td>\n",
       "      <td>460</td>\n",
       "    </tr>\n",
       "    <tr>\n",
       "      <th>3</th>\n",
       "      <td>4</td>\n",
       "      <td>葡萄</td>\n",
       "      <td>12</td>\n",
       "      <td>45</td>\n",
       "      <td>540</td>\n",
       "    </tr>\n",
       "    <tr>\n",
       "      <th>4</th>\n",
       "      <td>5</td>\n",
       "      <td>水蜜桃</td>\n",
       "      <td>16</td>\n",
       "      <td>23</td>\n",
       "      <td>368</td>\n",
       "    </tr>\n",
       "    <tr>\n",
       "      <th>5</th>\n",
       "      <td>6</td>\n",
       "      <td>榴莲</td>\n",
       "      <td>15</td>\n",
       "      <td>45</td>\n",
       "      <td>675</td>\n",
       "    </tr>\n",
       "    <tr>\n",
       "      <th>6</th>\n",
       "      <td>7</td>\n",
       "      <td>雪梨</td>\n",
       "      <td>14</td>\n",
       "      <td>32</td>\n",
       "      <td>448</td>\n",
       "    </tr>\n",
       "    <tr>\n",
       "      <th>7</th>\n",
       "      <td>8</td>\n",
       "      <td>李子</td>\n",
       "      <td>15</td>\n",
       "      <td>67</td>\n",
       "      <td>1005</td>\n",
       "    </tr>\n",
       "  </tbody>\n",
       "</table>\n",
       "</div>"
      ],
      "text/plain": [
       "   序号 商品名称  价格  数量  总共价格\n",
       "0   1   苹果  12  54   648\n",
       "1   2   香蕉  13  34   442\n",
       "2   3   菠萝  20  23   460\n",
       "3   4   葡萄  12  45   540\n",
       "4   5  水蜜桃  16  23   368\n",
       "5   6   榴莲  15  45   675\n",
       "6   7   雪梨  14  32   448\n",
       "7   8   李子  15  67  1005"
      ]
     },
     "execution_count": 44,
     "metadata": {},
     "output_type": "execute_result"
    }
   ],
   "source": [
    "data1.loc[:,\"总共价格\"]=data1[\"价格\"] * data1[\"数量\"]   #新增数列只需给一个不存在的列名赋值\n",
    "data1                   #两个Series相乘（及Series对应的index相乘）"
   ]
  },
  {
   "cell_type": "markdown",
   "id": "45b5e67b",
   "metadata": {},
   "source": [
    "### df.appay方法\n",
    "##### ----传入一个函数，返回一个Series"
   ]
  },
  {
   "cell_type": "code",
   "execution_count": 45,
   "id": "622e20e5",
   "metadata": {},
   "outputs": [
    {
     "data": {
      "text/plain": [
       "库存充足    6\n",
       "库存告急    2\n",
       "Name: 库存状态, dtype: int64"
      ]
     },
     "execution_count": 45,
     "metadata": {},
     "output_type": "execute_result"
    }
   ],
   "source": [
    "def get_kc(x):\n",
    "    if x[\"数量\"] >=30:\n",
    "        return \"库存充足\"\n",
    "    elif x[\"数量\"]<30 and x[\"数量\"]>=0 :\n",
    "        return \"库存告急\"\n",
    "    else:\n",
    "        return \"数据异常\"\n",
    "    \n",
    "data1.loc[:,\"库存状态\"]=data1.apply(get_kc,axis=1)   #传入一个函数，返回一个Series\n",
    "data1[\"库存状态\"].value_counts()  #新知识：Series.value_counts()返回每个值计数结果"
   ]
  },
  {
   "cell_type": "markdown",
   "id": "d9902c04",
   "metadata": {},
   "source": [
    "### df.assign方法\n",
    "##### ----它可以同时新增多个列（反复调用appay其实也一样）\n",
    "##### ----appay需要指定axis值来确定DataFrame的行/列，而assign直接传入行/列"
   ]
  },
  {
   "cell_type": "code",
   "execution_count": 46,
   "id": "7e650fa5",
   "metadata": {},
   "outputs": [
    {
     "data": {
      "text/html": [
       "<div>\n",
       "<style scoped>\n",
       "    .dataframe tbody tr th:only-of-type {\n",
       "        vertical-align: middle;\n",
       "    }\n",
       "\n",
       "    .dataframe tbody tr th {\n",
       "        vertical-align: top;\n",
       "    }\n",
       "\n",
       "    .dataframe thead th {\n",
       "        text-align: right;\n",
       "    }\n",
       "</style>\n",
       "<table border=\"1\" class=\"dataframe\">\n",
       "  <thead>\n",
       "    <tr style=\"text-align: right;\">\n",
       "      <th></th>\n",
       "      <th>A</th>\n",
       "      <th>B</th>\n",
       "      <th>C</th>\n",
       "      <th>D</th>\n",
       "      <th>E</th>\n",
       "      <th>F</th>\n",
       "    </tr>\n",
       "  </thead>\n",
       "  <tbody>\n",
       "    <tr>\n",
       "      <th>0</th>\n",
       "      <td>31</td>\n",
       "      <td>41</td>\n",
       "      <td>72</td>\n",
       "      <td>72</td>\n",
       "      <td>11</td>\n",
       "      <td>21</td>\n",
       "    </tr>\n",
       "    <tr>\n",
       "      <th>1</th>\n",
       "      <td>32</td>\n",
       "      <td>42</td>\n",
       "      <td>74</td>\n",
       "      <td>74</td>\n",
       "      <td>12</td>\n",
       "      <td>22</td>\n",
       "    </tr>\n",
       "    <tr>\n",
       "      <th>2</th>\n",
       "      <td>33</td>\n",
       "      <td>43</td>\n",
       "      <td>76</td>\n",
       "      <td>76</td>\n",
       "      <td>13</td>\n",
       "      <td>23</td>\n",
       "    </tr>\n",
       "  </tbody>\n",
       "</table>\n",
       "</div>"
      ],
      "text/plain": [
       "    A   B   C   D   E   F\n",
       "0  31  41  72  72  11  21\n",
       "1  32  42  74  74  12  22\n",
       "2  33  43  76  76  13  23"
      ]
     },
     "execution_count": 46,
     "metadata": {},
     "output_type": "execute_result"
    }
   ],
   "source": [
    "s=pd.Series([11,12,13],name='S')\n",
    "data=np.arange(21,24)\n",
    "df=pd.DataFrame({'A':[31,32,33],'B':[41,42,43]})\n",
    "fun=lambda x:x.A+x.B\n",
    " \n",
    "df.assign(C=fun,D=df.A+df.B,E=s,F=data)#增加新列"
   ]
  },
  {
   "cell_type": "markdown",
   "id": "687e9482",
   "metadata": {},
   "source": [
    "### 按条件选择分组分别赋值"
   ]
  },
  {
   "cell_type": "code",
   "execution_count": 47,
   "id": "52d4425e",
   "metadata": {},
   "outputs": [
    {
     "data": {
      "text/html": [
       "<div>\n",
       "<style scoped>\n",
       "    .dataframe tbody tr th:only-of-type {\n",
       "        vertical-align: middle;\n",
       "    }\n",
       "\n",
       "    .dataframe tbody tr th {\n",
       "        vertical-align: top;\n",
       "    }\n",
       "\n",
       "    .dataframe thead th {\n",
       "        text-align: right;\n",
       "    }\n",
       "</style>\n",
       "<table border=\"1\" class=\"dataframe\">\n",
       "  <thead>\n",
       "    <tr style=\"text-align: right;\">\n",
       "      <th></th>\n",
       "      <th>序号</th>\n",
       "      <th>商品名称</th>\n",
       "      <th>价格</th>\n",
       "      <th>数量</th>\n",
       "      <th>总共价格</th>\n",
       "      <th>库存状态</th>\n",
       "      <th>价位</th>\n",
       "    </tr>\n",
       "  </thead>\n",
       "  <tbody>\n",
       "    <tr>\n",
       "      <th>0</th>\n",
       "      <td>1</td>\n",
       "      <td>苹果</td>\n",
       "      <td>12</td>\n",
       "      <td>54</td>\n",
       "      <td>648</td>\n",
       "      <td>库存充足</td>\n",
       "      <td>较低</td>\n",
       "    </tr>\n",
       "    <tr>\n",
       "      <th>1</th>\n",
       "      <td>2</td>\n",
       "      <td>香蕉</td>\n",
       "      <td>13</td>\n",
       "      <td>34</td>\n",
       "      <td>442</td>\n",
       "      <td>库存充足</td>\n",
       "      <td>较低</td>\n",
       "    </tr>\n",
       "    <tr>\n",
       "      <th>2</th>\n",
       "      <td>3</td>\n",
       "      <td>菠萝</td>\n",
       "      <td>20</td>\n",
       "      <td>23</td>\n",
       "      <td>460</td>\n",
       "      <td>库存告急</td>\n",
       "      <td>较高</td>\n",
       "    </tr>\n",
       "    <tr>\n",
       "      <th>3</th>\n",
       "      <td>4</td>\n",
       "      <td>葡萄</td>\n",
       "      <td>12</td>\n",
       "      <td>45</td>\n",
       "      <td>540</td>\n",
       "      <td>库存充足</td>\n",
       "      <td>较低</td>\n",
       "    </tr>\n",
       "    <tr>\n",
       "      <th>4</th>\n",
       "      <td>5</td>\n",
       "      <td>水蜜桃</td>\n",
       "      <td>16</td>\n",
       "      <td>23</td>\n",
       "      <td>368</td>\n",
       "      <td>库存告急</td>\n",
       "      <td>较高</td>\n",
       "    </tr>\n",
       "    <tr>\n",
       "      <th>5</th>\n",
       "      <td>6</td>\n",
       "      <td>榴莲</td>\n",
       "      <td>15</td>\n",
       "      <td>45</td>\n",
       "      <td>675</td>\n",
       "      <td>库存充足</td>\n",
       "      <td>较高</td>\n",
       "    </tr>\n",
       "    <tr>\n",
       "      <th>6</th>\n",
       "      <td>7</td>\n",
       "      <td>雪梨</td>\n",
       "      <td>14</td>\n",
       "      <td>32</td>\n",
       "      <td>448</td>\n",
       "      <td>库存充足</td>\n",
       "      <td>较低</td>\n",
       "    </tr>\n",
       "    <tr>\n",
       "      <th>7</th>\n",
       "      <td>8</td>\n",
       "      <td>李子</td>\n",
       "      <td>15</td>\n",
       "      <td>67</td>\n",
       "      <td>1005</td>\n",
       "      <td>库存充足</td>\n",
       "      <td>较高</td>\n",
       "    </tr>\n",
       "  </tbody>\n",
       "</table>\n",
       "</div>"
      ],
      "text/plain": [
       "   序号 商品名称  价格  数量  总共价格  库存状态  价位\n",
       "0   1   苹果  12  54   648  库存充足  较低\n",
       "1   2   香蕉  13  34   442  库存充足  较低\n",
       "2   3   菠萝  20  23   460  库存告急  较高\n",
       "3   4   葡萄  12  45   540  库存充足  较低\n",
       "4   5  水蜜桃  16  23   368  库存告急  较高\n",
       "5   6   榴莲  15  45   675  库存充足  较高\n",
       "6   7   雪梨  14  32   448  库存充足  较低\n",
       "7   8   李子  15  67  1005  库存充足  较高"
      ]
     },
     "execution_count": 47,
     "metadata": {},
     "output_type": "execute_result"
    }
   ],
   "source": [
    "data1[\"价位\"]=\"\"   #广播赋值到整个Series\n",
    "data1.loc[data1[\"价格\"]>=15,\"价位\"] =\"较高\"   #赋值到符合条件表达式的元素\n",
    "data1.loc[data1[\"价格\"]<15,\"价位\"] =\"较低\"\n",
    "data1"
   ]
  },
  {
   "cell_type": "markdown",
   "id": "db88e9d1",
   "metadata": {},
   "source": [
    "# pandas数据统计函数\n",
    "### 1·汇总分类法\n",
    "### 2·唯一去重和按值去重\n",
    "### 3·相关系数和谐方差"
   ]
  },
  {
   "cell_type": "code",
   "execution_count": 48,
   "id": "71f09712",
   "metadata": {},
   "outputs": [
    {
     "data": {
      "text/html": [
       "<div>\n",
       "<style scoped>\n",
       "    .dataframe tbody tr th:only-of-type {\n",
       "        vertical-align: middle;\n",
       "    }\n",
       "\n",
       "    .dataframe tbody tr th {\n",
       "        vertical-align: top;\n",
       "    }\n",
       "\n",
       "    .dataframe thead th {\n",
       "        text-align: right;\n",
       "    }\n",
       "</style>\n",
       "<table border=\"1\" class=\"dataframe\">\n",
       "  <thead>\n",
       "    <tr style=\"text-align: right;\">\n",
       "      <th></th>\n",
       "      <th>id</th>\n",
       "      <th>book_name</th>\n",
       "      <th>type_id</th>\n",
       "      <th>author</th>\n",
       "      <th>publish</th>\n",
       "      <th>price</th>\n",
       "      <th>number</th>\n",
       "      <th>status</th>\n",
       "      <th>remark</th>\n",
       "    </tr>\n",
       "  </thead>\n",
       "  <tbody>\n",
       "    <tr>\n",
       "      <th>0</th>\n",
       "      <td>1</td>\n",
       "      <td>西游记</td>\n",
       "      <td>3</td>\n",
       "      <td>吴承恩</td>\n",
       "      <td>机械工业出版社</td>\n",
       "      <td>23.0</td>\n",
       "      <td>213</td>\n",
       "      <td>1</td>\n",
       "      <td>四大名著之一</td>\n",
       "    </tr>\n",
       "    <tr>\n",
       "      <th>1</th>\n",
       "      <td>2</td>\n",
       "      <td>SpringCloud微服务架构开发</td>\n",
       "      <td>1</td>\n",
       "      <td>黑马程序员</td>\n",
       "      <td>人民邮电出版社</td>\n",
       "      <td>28.0</td>\n",
       "      <td>20</td>\n",
       "      <td>1</td>\n",
       "      <td>微服务实战开发</td>\n",
       "    </tr>\n",
       "    <tr>\n",
       "      <th>2</th>\n",
       "      <td>3</td>\n",
       "      <td>水浒传</td>\n",
       "      <td>3</td>\n",
       "      <td>施耐庵</td>\n",
       "      <td>人民文学出版社</td>\n",
       "      <td>29.0</td>\n",
       "      <td>30</td>\n",
       "      <td>1</td>\n",
       "      <td>四大名著之一</td>\n",
       "    </tr>\n",
       "    <tr>\n",
       "      <th>3</th>\n",
       "      <td>4</td>\n",
       "      <td>Java基础入门（第2版）</td>\n",
       "      <td>1</td>\n",
       "      <td>黑马程序员</td>\n",
       "      <td>清华大学出版社</td>\n",
       "      <td>30.2</td>\n",
       "      <td>22</td>\n",
       "      <td>1</td>\n",
       "      <td>提高Java编程功底必备</td>\n",
       "    </tr>\n",
       "    <tr>\n",
       "      <th>4</th>\n",
       "      <td>5</td>\n",
       "      <td>中国文学编年史</td>\n",
       "      <td>2</td>\n",
       "      <td>陈文新</td>\n",
       "      <td>湖南人民出版社</td>\n",
       "      <td>35.3</td>\n",
       "      <td>36</td>\n",
       "      <td>1</td>\n",
       "      <td>中国文学编年史</td>\n",
       "    </tr>\n",
       "  </tbody>\n",
       "</table>\n",
       "</div>"
      ],
      "text/plain": [
       "   id           book_name  type_id author  publish  price  number  status  \\\n",
       "0   1                 西游记        3    吴承恩  机械工业出版社   23.0     213       1   \n",
       "1   2  SpringCloud微服务架构开发        1  黑马程序员  人民邮电出版社   28.0      20       1   \n",
       "2   3                 水浒传        3   施耐庵   人民文学出版社   29.0      30       1   \n",
       "3   4       Java基础入门（第2版）        1  黑马程序员  清华大学出版社   30.2      22       1   \n",
       "4   5             中国文学编年史        2    陈文新  湖南人民出版社   35.3      36       1   \n",
       "\n",
       "         remark  \n",
       "0        四大名著之一  \n",
       "1       微服务实战开发  \n",
       "2        四大名著之一  \n",
       "3  提高Java编程功底必备  \n",
       "4       中国文学编年史  "
      ]
     },
     "execution_count": 48,
     "metadata": {},
     "output_type": "execute_result"
    }
   ],
   "source": [
    "#使用mysql中的书数据\n",
    "import pymysql  #首先需要一个访问MySql数据库的库\n",
    "database=pymysql.connect(      #利用现有库获取连接\n",
    "    host=\"127.0.0.1\"   #主机\n",
    "    ,user=\"root\"     #用户\n",
    "    ,password=\"123456\"  #密码\n",
    "    ,database=\"bookmanager\"  #数据库\n",
    "    #,charset=\"utf_8\"    #指定编码方式(抛出属性错误时可去掉)\n",
    ")\n",
    "mysql_data=pd.read_sql(\n",
    "    \"select * from book\"    #需要一查询语句\n",
    "    ,con=database\n",
    ")\n",
    "mysql_data.head()"
   ]
  },
  {
   "cell_type": "markdown",
   "id": "bab13ace",
   "metadata": {},
   "source": [
    "### 1·汇总类统计  (主要针对数字类型数据)"
   ]
  },
  {
   "cell_type": "code",
   "execution_count": 49,
   "id": "b8d152fc",
   "metadata": {},
   "outputs": [
    {
     "data": {
      "text/html": [
       "<div>\n",
       "<style scoped>\n",
       "    .dataframe tbody tr th:only-of-type {\n",
       "        vertical-align: middle;\n",
       "    }\n",
       "\n",
       "    .dataframe tbody tr th {\n",
       "        vertical-align: top;\n",
       "    }\n",
       "\n",
       "    .dataframe thead th {\n",
       "        text-align: right;\n",
       "    }\n",
       "</style>\n",
       "<table border=\"1\" class=\"dataframe\">\n",
       "  <thead>\n",
       "    <tr style=\"text-align: right;\">\n",
       "      <th></th>\n",
       "      <th>id</th>\n",
       "      <th>type_id</th>\n",
       "      <th>price</th>\n",
       "      <th>number</th>\n",
       "      <th>status</th>\n",
       "    </tr>\n",
       "  </thead>\n",
       "  <tbody>\n",
       "    <tr>\n",
       "      <th>count</th>\n",
       "      <td>13.00000</td>\n",
       "      <td>13.0</td>\n",
       "      <td>13.000000</td>\n",
       "      <td>13.000000</td>\n",
       "      <td>13.0</td>\n",
       "    </tr>\n",
       "    <tr>\n",
       "      <th>mean</th>\n",
       "      <td>7.00000</td>\n",
       "      <td>2.0</td>\n",
       "      <td>37.400000</td>\n",
       "      <td>36.769231</td>\n",
       "      <td>1.0</td>\n",
       "    </tr>\n",
       "    <tr>\n",
       "      <th>std</th>\n",
       "      <td>3.89444</td>\n",
       "      <td>1.0</td>\n",
       "      <td>13.451518</td>\n",
       "      <td>53.560175</td>\n",
       "      <td>0.0</td>\n",
       "    </tr>\n",
       "    <tr>\n",
       "      <th>min</th>\n",
       "      <td>1.00000</td>\n",
       "      <td>1.0</td>\n",
       "      <td>23.000000</td>\n",
       "      <td>11.000000</td>\n",
       "      <td>1.0</td>\n",
       "    </tr>\n",
       "    <tr>\n",
       "      <th>25%</th>\n",
       "      <td>4.00000</td>\n",
       "      <td>1.0</td>\n",
       "      <td>28.000000</td>\n",
       "      <td>16.000000</td>\n",
       "      <td>1.0</td>\n",
       "    </tr>\n",
       "    <tr>\n",
       "      <th>50%</th>\n",
       "      <td>7.00000</td>\n",
       "      <td>2.0</td>\n",
       "      <td>30.200000</td>\n",
       "      <td>22.000000</td>\n",
       "      <td>1.0</td>\n",
       "    </tr>\n",
       "    <tr>\n",
       "      <th>75%</th>\n",
       "      <td>10.00000</td>\n",
       "      <td>3.0</td>\n",
       "      <td>44.600000</td>\n",
       "      <td>30.000000</td>\n",
       "      <td>1.0</td>\n",
       "    </tr>\n",
       "    <tr>\n",
       "      <th>max</th>\n",
       "      <td>13.00000</td>\n",
       "      <td>3.0</td>\n",
       "      <td>66.000000</td>\n",
       "      <td>213.000000</td>\n",
       "      <td>1.0</td>\n",
       "    </tr>\n",
       "  </tbody>\n",
       "</table>\n",
       "</div>"
      ],
      "text/plain": [
       "             id  type_id      price      number  status\n",
       "count  13.00000     13.0  13.000000   13.000000    13.0\n",
       "mean    7.00000      2.0  37.400000   36.769231     1.0\n",
       "std     3.89444      1.0  13.451518   53.560175     0.0\n",
       "min     1.00000      1.0  23.000000   11.000000     1.0\n",
       "25%     4.00000      1.0  28.000000   16.000000     1.0\n",
       "50%     7.00000      2.0  30.200000   22.000000     1.0\n",
       "75%    10.00000      3.0  44.600000   30.000000     1.0\n",
       "max    13.00000      3.0  66.000000  213.000000     1.0"
      ]
     },
     "execution_count": 49,
     "metadata": {},
     "output_type": "execute_result"
    }
   ],
   "source": [
    "#提取数据所有数字列的统计结果\n",
    "mysql_data.describe() #计数/平均值/标准差/最小值/25~75分位数/最大值"
   ]
  },
  {
   "cell_type": "code",
   "execution_count": 50,
   "id": "f6777414",
   "metadata": {},
   "outputs": [
    {
     "data": {
      "text/plain": [
       "66.0"
      ]
     },
     "execution_count": 50,
     "metadata": {},
     "output_type": "execute_result"
    }
   ],
   "source": [
    "mysql_data[\"price\"].max()#可以查看某一列的某个统计值"
   ]
  },
  {
   "cell_type": "code",
   "execution_count": 51,
   "id": "e00315b7",
   "metadata": {},
   "outputs": [
    {
     "data": {
      "text/plain": [
       "37.400000000000006"
      ]
     },
     "execution_count": 51,
     "metadata": {},
     "output_type": "execute_result"
    }
   ],
   "source": [
    "mysql_data[\"price\"].mean()"
   ]
  },
  {
   "cell_type": "code",
   "execution_count": 52,
   "id": "2afa86a3",
   "metadata": {},
   "outputs": [
    {
     "data": {
      "text/plain": [
       "id                 13\n",
       "book_name        阿Q正传\n",
       "type_id             3\n",
       "author          黑马程序员\n",
       "publish         辽海出版社\n",
       "price            66.0\n",
       "number            213\n",
       "status              1\n",
       "remark       鲁迅小说全集系列\n",
       "dtype: object"
      ]
     },
     "execution_count": 52,
     "metadata": {},
     "output_type": "execute_result"
    }
   ],
   "source": [
    "mysql_data.max()  #同样可以查看所有列的"
   ]
  },
  {
   "cell_type": "markdown",
   "id": "48ea65ee",
   "metadata": {},
   "source": [
    "### 2·唯一去重和按值计数"
   ]
  },
  {
   "cell_type": "markdown",
   "id": "a560a37a",
   "metadata": {},
   "source": [
    "#### ------唯一去重\n",
    "一般不用于数值列，而是枚举、分类列"
   ]
  },
  {
   "cell_type": "code",
   "execution_count": 53,
   "id": "97093d3d",
   "metadata": {},
   "outputs": [
    {
     "data": {
      "text/plain": [
       "array(['吴承恩', '黑马程序员', '施耐庵 ', '陈文新', '传智播客高教产品研发部', '鲁迅', '周志华'],\n",
       "      dtype=object)"
      ]
     },
     "execution_count": 53,
     "metadata": {},
     "output_type": "execute_result"
    }
   ],
   "source": [
    "mysql_data[\"author\"].unique()   #去重顺序返回"
   ]
  },
  {
   "cell_type": "code",
   "execution_count": 54,
   "id": "ad7db098",
   "metadata": {},
   "outputs": [
    {
     "data": {
      "text/plain": [
       "numpy.ndarray"
      ]
     },
     "execution_count": 54,
     "metadata": {},
     "output_type": "execute_result"
    }
   ],
   "source": [
    "type(mysql_data[\"author\"].unique()) #返回的是numpy的n维数组类型"
   ]
  },
  {
   "cell_type": "markdown",
   "id": "373dd5c0",
   "metadata": {},
   "source": [
    "#### ------按值计数\n",
    "去重结果会按照降序排列"
   ]
  },
  {
   "cell_type": "code",
   "execution_count": 55,
   "id": "ee72f8da",
   "metadata": {},
   "outputs": [
    {
     "data": {
      "text/plain": [
       "黑马程序员          4\n",
       "鲁迅             4\n",
       "吴承恩            1\n",
       "施耐庵            1\n",
       "陈文新            1\n",
       "传智播客高教产品研发部    1\n",
       "周志华            1\n",
       "Name: author, dtype: int64"
      ]
     },
     "execution_count": 55,
     "metadata": {},
     "output_type": "execute_result"
    }
   ],
   "source": [
    "mysql_data[\"author\"].value_counts()"
   ]
  },
  {
   "cell_type": "code",
   "execution_count": 56,
   "id": "049df039",
   "metadata": {},
   "outputs": [
    {
     "data": {
      "text/plain": [
       "pandas.core.series.Series"
      ]
     },
     "execution_count": 56,
     "metadata": {},
     "output_type": "execute_result"
    }
   ],
   "source": [
    "type(mysql_data[\"author\"].value_counts())#返回的是pandas的Series类型"
   ]
  },
  {
   "cell_type": "markdown",
   "id": "8caa456d",
   "metadata": {},
   "source": [
    "### 相关系数和协方差 "
   ]
  },
  {
   "cell_type": "markdown",
   "id": "c5297203",
   "metadata": {},
   "source": [
    "#### ----谐方差（右边有大佬解释）   https://www.zhihu.com/question/20852004"
   ]
  },
  {
   "cell_type": "markdown",
   "id": "3a9777c0",
   "metadata": {},
   "source": [
    "两个变量在变化过程同方向/反方向变化程度"
   ]
  },
  {
   "cell_type": "markdown",
   "id": "f3c54a58",
   "metadata": {},
   "source": [
    "#### ----相关系数  (右边有大佬解释）  https://www.zhihu.com/question/20852004"
   ]
  },
  {
   "cell_type": "markdown",
   "id": "2e128e85",
   "metadata": {},
   "source": [
    "衡量相似程度，如果为正，则说明两个变量同向变化，为负则异向"
   ]
  },
  {
   "cell_type": "markdown",
   "id": "8be7b62a",
   "metadata": {},
   "source": [
    "为1时同向相似程度最大，反之-1反向相似度最小"
   ]
  },
  {
   "cell_type": "markdown",
   "id": "97a7f50e",
   "metadata": {},
   "source": [
    "用途：两只股票是否同时涨跌，程度如何？产品销量的波动和那些因素有关？"
   ]
  },
  {
   "cell_type": "code",
   "execution_count": 57,
   "id": "0ec42944",
   "metadata": {},
   "outputs": [
    {
     "data": {
      "text/html": [
       "<div>\n",
       "<style scoped>\n",
       "    .dataframe tbody tr th:only-of-type {\n",
       "        vertical-align: middle;\n",
       "    }\n",
       "\n",
       "    .dataframe tbody tr th {\n",
       "        vertical-align: top;\n",
       "    }\n",
       "\n",
       "    .dataframe thead th {\n",
       "        text-align: right;\n",
       "    }\n",
       "</style>\n",
       "<table border=\"1\" class=\"dataframe\">\n",
       "  <thead>\n",
       "    <tr style=\"text-align: right;\">\n",
       "      <th></th>\n",
       "      <th>id</th>\n",
       "      <th>type_id</th>\n",
       "      <th>price</th>\n",
       "      <th>number</th>\n",
       "      <th>status</th>\n",
       "    </tr>\n",
       "  </thead>\n",
       "  <tbody>\n",
       "    <tr>\n",
       "      <th>id</th>\n",
       "      <td>15.166667</td>\n",
       "      <td>-0.166667</td>\n",
       "      <td>28.008333</td>\n",
       "      <td>-102.416667</td>\n",
       "      <td>0.0</td>\n",
       "    </tr>\n",
       "    <tr>\n",
       "      <th>type_id</th>\n",
       "      <td>-0.166667</td>\n",
       "      <td>1.000000</td>\n",
       "      <td>-1.791667</td>\n",
       "      <td>19.500000</td>\n",
       "      <td>0.0</td>\n",
       "    </tr>\n",
       "    <tr>\n",
       "      <th>price</th>\n",
       "      <td>28.008333</td>\n",
       "      <td>-1.791667</td>\n",
       "      <td>180.943333</td>\n",
       "      <td>-284.825000</td>\n",
       "      <td>0.0</td>\n",
       "    </tr>\n",
       "    <tr>\n",
       "      <th>number</th>\n",
       "      <td>-102.416667</td>\n",
       "      <td>19.500000</td>\n",
       "      <td>-284.825000</td>\n",
       "      <td>2868.692308</td>\n",
       "      <td>0.0</td>\n",
       "    </tr>\n",
       "    <tr>\n",
       "      <th>status</th>\n",
       "      <td>0.000000</td>\n",
       "      <td>0.000000</td>\n",
       "      <td>0.000000</td>\n",
       "      <td>0.000000</td>\n",
       "      <td>0.0</td>\n",
       "    </tr>\n",
       "  </tbody>\n",
       "</table>\n",
       "</div>"
      ],
      "text/plain": [
       "                 id    type_id       price       number  status\n",
       "id        15.166667  -0.166667   28.008333  -102.416667     0.0\n",
       "type_id   -0.166667   1.000000   -1.791667    19.500000     0.0\n",
       "price     28.008333  -1.791667  180.943333  -284.825000     0.0\n",
       "number  -102.416667  19.500000 -284.825000  2868.692308     0.0\n",
       "status     0.000000   0.000000    0.000000     0.000000     0.0"
      ]
     },
     "execution_count": 57,
     "metadata": {},
     "output_type": "execute_result"
    }
   ],
   "source": [
    "mysql_data.cov()   #谐方差矩阵   其实我的数据不好"
   ]
  },
  {
   "cell_type": "code",
   "execution_count": 58,
   "id": "092db4cc",
   "metadata": {},
   "outputs": [
    {
     "data": {
      "text/html": [
       "<div>\n",
       "<style scoped>\n",
       "    .dataframe tbody tr th:only-of-type {\n",
       "        vertical-align: middle;\n",
       "    }\n",
       "\n",
       "    .dataframe tbody tr th {\n",
       "        vertical-align: top;\n",
       "    }\n",
       "\n",
       "    .dataframe thead th {\n",
       "        text-align: right;\n",
       "    }\n",
       "</style>\n",
       "<table border=\"1\" class=\"dataframe\">\n",
       "  <thead>\n",
       "    <tr style=\"text-align: right;\">\n",
       "      <th></th>\n",
       "      <th>id</th>\n",
       "      <th>type_id</th>\n",
       "      <th>price</th>\n",
       "      <th>number</th>\n",
       "      <th>status</th>\n",
       "    </tr>\n",
       "  </thead>\n",
       "  <tbody>\n",
       "    <tr>\n",
       "      <th>id</th>\n",
       "      <td>1.000000</td>\n",
       "      <td>-0.042796</td>\n",
       "      <td>0.534652</td>\n",
       "      <td>-0.491002</td>\n",
       "      <td>NaN</td>\n",
       "    </tr>\n",
       "    <tr>\n",
       "      <th>type_id</th>\n",
       "      <td>-0.042796</td>\n",
       "      <td>1.000000</td>\n",
       "      <td>-0.133194</td>\n",
       "      <td>0.364076</td>\n",
       "      <td>NaN</td>\n",
       "    </tr>\n",
       "    <tr>\n",
       "      <th>price</th>\n",
       "      <td>0.534652</td>\n",
       "      <td>-0.133194</td>\n",
       "      <td>1.000000</td>\n",
       "      <td>-0.395335</td>\n",
       "      <td>NaN</td>\n",
       "    </tr>\n",
       "    <tr>\n",
       "      <th>number</th>\n",
       "      <td>-0.491002</td>\n",
       "      <td>0.364076</td>\n",
       "      <td>-0.395335</td>\n",
       "      <td>1.000000</td>\n",
       "      <td>NaN</td>\n",
       "    </tr>\n",
       "    <tr>\n",
       "      <th>status</th>\n",
       "      <td>NaN</td>\n",
       "      <td>NaN</td>\n",
       "      <td>NaN</td>\n",
       "      <td>NaN</td>\n",
       "      <td>NaN</td>\n",
       "    </tr>\n",
       "  </tbody>\n",
       "</table>\n",
       "</div>"
      ],
      "text/plain": [
       "               id   type_id     price    number  status\n",
       "id       1.000000 -0.042796  0.534652 -0.491002     NaN\n",
       "type_id -0.042796  1.000000 -0.133194  0.364076     NaN\n",
       "price    0.534652 -0.133194  1.000000 -0.395335     NaN\n",
       "number  -0.491002  0.364076 -0.395335  1.000000     NaN\n",
       "status        NaN       NaN       NaN       NaN     NaN"
      ]
     },
     "execution_count": 58,
     "metadata": {},
     "output_type": "execute_result"
    }
   ],
   "source": [
    "mysql_data.corr()   #相关系数矩阵"
   ]
  },
  {
   "cell_type": "code",
   "execution_count": 59,
   "id": "43a5a395",
   "metadata": {},
   "outputs": [
    {
     "data": {
      "text/plain": [
       "-0.13319438611805307"
      ]
     },
     "execution_count": 59,
     "metadata": {},
     "output_type": "execute_result"
    }
   ],
   "source": [
    "mysql_data[\"type_id\"].corr(mysql_data[\"price\"])   #可以单独查看两者的关系"
   ]
  },
  {
   "cell_type": "markdown",
   "id": "1bace8d9",
   "metadata": {},
   "source": [
    "# Pandas对缺省值的处理\n",
    "Pandas使用这些方法处理缺失值"
   ]
  },
  {
   "cell_type": "code",
   "execution_count": 60,
   "id": "9b9af987",
   "metadata": {},
   "outputs": [],
   "source": [
    "import pandas as pd   #导库"
   ]
  },
  {
   "cell_type": "markdown",
   "id": "043cf3d5",
   "metadata": {},
   "source": [
    "导入原始数据(原始数据存在大量空行，姓名单元格被合并，存在考生小王数学成绩丢失)"
   ]
  },
  {
   "cell_type": "code",
   "execution_count": 61,
   "id": "cb69c792",
   "metadata": {},
   "outputs": [],
   "source": [
    "stu_data=pd.read_excel(\"D:/编程项目/python项目/bigdata/data/student_excel.xlsx\"\n",
    "                          ,skiprows=2)   #新知识点:reas_xxx的skiprows属性可以掠过顶部几个行"
   ]
  },
  {
   "cell_type": "code",
   "execution_count": 62,
   "id": "ffe92783",
   "metadata": {},
   "outputs": [
    {
     "data": {
      "text/html": [
       "<div>\n",
       "<style scoped>\n",
       "    .dataframe tbody tr th:only-of-type {\n",
       "        vertical-align: middle;\n",
       "    }\n",
       "\n",
       "    .dataframe tbody tr th {\n",
       "        vertical-align: top;\n",
       "    }\n",
       "\n",
       "    .dataframe thead th {\n",
       "        text-align: right;\n",
       "    }\n",
       "</style>\n",
       "<table border=\"1\" class=\"dataframe\">\n",
       "  <thead>\n",
       "    <tr style=\"text-align: right;\">\n",
       "      <th></th>\n",
       "      <th>Unnamed: 0</th>\n",
       "      <th>姓名</th>\n",
       "      <th>科目</th>\n",
       "      <th>分数</th>\n",
       "    </tr>\n",
       "  </thead>\n",
       "  <tbody>\n",
       "    <tr>\n",
       "      <th>0</th>\n",
       "      <td>NaN</td>\n",
       "      <td>小明</td>\n",
       "      <td>语文</td>\n",
       "      <td>85.0</td>\n",
       "    </tr>\n",
       "    <tr>\n",
       "      <th>1</th>\n",
       "      <td>NaN</td>\n",
       "      <td>NaN</td>\n",
       "      <td>数学</td>\n",
       "      <td>80.0</td>\n",
       "    </tr>\n",
       "    <tr>\n",
       "      <th>2</th>\n",
       "      <td>NaN</td>\n",
       "      <td>NaN</td>\n",
       "      <td>英语</td>\n",
       "      <td>90.0</td>\n",
       "    </tr>\n",
       "    <tr>\n",
       "      <th>3</th>\n",
       "      <td>NaN</td>\n",
       "      <td>NaN</td>\n",
       "      <td>NaN</td>\n",
       "      <td>NaN</td>\n",
       "    </tr>\n",
       "    <tr>\n",
       "      <th>4</th>\n",
       "      <td>NaN</td>\n",
       "      <td>小王</td>\n",
       "      <td>语文</td>\n",
       "      <td>85.0</td>\n",
       "    </tr>\n",
       "    <tr>\n",
       "      <th>5</th>\n",
       "      <td>NaN</td>\n",
       "      <td>NaN</td>\n",
       "      <td>数学</td>\n",
       "      <td>NaN</td>\n",
       "    </tr>\n",
       "    <tr>\n",
       "      <th>6</th>\n",
       "      <td>NaN</td>\n",
       "      <td>NaN</td>\n",
       "      <td>英语</td>\n",
       "      <td>90.0</td>\n",
       "    </tr>\n",
       "    <tr>\n",
       "      <th>7</th>\n",
       "      <td>NaN</td>\n",
       "      <td>NaN</td>\n",
       "      <td>NaN</td>\n",
       "      <td>NaN</td>\n",
       "    </tr>\n",
       "    <tr>\n",
       "      <th>8</th>\n",
       "      <td>NaN</td>\n",
       "      <td>小刚</td>\n",
       "      <td>语文</td>\n",
       "      <td>85.0</td>\n",
       "    </tr>\n",
       "    <tr>\n",
       "      <th>9</th>\n",
       "      <td>NaN</td>\n",
       "      <td>NaN</td>\n",
       "      <td>数学</td>\n",
       "      <td>80.0</td>\n",
       "    </tr>\n",
       "    <tr>\n",
       "      <th>10</th>\n",
       "      <td>NaN</td>\n",
       "      <td>NaN</td>\n",
       "      <td>英语</td>\n",
       "      <td>90.0</td>\n",
       "    </tr>\n",
       "  </tbody>\n",
       "</table>\n",
       "</div>"
      ],
      "text/plain": [
       "    Unnamed: 0   姓名   科目    分数\n",
       "0          NaN   小明   语文  85.0\n",
       "1          NaN  NaN   数学  80.0\n",
       "2          NaN  NaN   英语  90.0\n",
       "3          NaN  NaN  NaN   NaN\n",
       "4          NaN   小王   语文  85.0\n",
       "5          NaN  NaN   数学   NaN\n",
       "6          NaN  NaN   英语  90.0\n",
       "7          NaN  NaN  NaN   NaN\n",
       "8          NaN   小刚   语文  85.0\n",
       "9          NaN  NaN   数学  80.0\n",
       "10         NaN  NaN   英语  90.0"
      ]
     },
     "execution_count": 62,
     "metadata": {},
     "output_type": "execute_result"
    }
   ],
   "source": [
    "stu_data  #数据来源 蚂蚁学Python https://github.com/peiss/ant-learn-pandas/tree/master/datas/student_excel"
   ]
  },
  {
   "cell_type": "markdown",
   "id": "1a0175f0",
   "metadata": {},
   "source": [
    "## isnull和notnull可以检测是否为空值\n",
    "#### 可用于DataFrame与Series"
   ]
  },
  {
   "cell_type": "code",
   "execution_count": 63,
   "id": "23a7554c",
   "metadata": {},
   "outputs": [
    {
     "data": {
      "text/html": [
       "<div>\n",
       "<style scoped>\n",
       "    .dataframe tbody tr th:only-of-type {\n",
       "        vertical-align: middle;\n",
       "    }\n",
       "\n",
       "    .dataframe tbody tr th {\n",
       "        vertical-align: top;\n",
       "    }\n",
       "\n",
       "    .dataframe thead th {\n",
       "        text-align: right;\n",
       "    }\n",
       "</style>\n",
       "<table border=\"1\" class=\"dataframe\">\n",
       "  <thead>\n",
       "    <tr style=\"text-align: right;\">\n",
       "      <th></th>\n",
       "      <th>Unnamed: 0</th>\n",
       "      <th>姓名</th>\n",
       "      <th>科目</th>\n",
       "      <th>分数</th>\n",
       "    </tr>\n",
       "  </thead>\n",
       "  <tbody>\n",
       "    <tr>\n",
       "      <th>0</th>\n",
       "      <td>True</td>\n",
       "      <td>False</td>\n",
       "      <td>False</td>\n",
       "      <td>False</td>\n",
       "    </tr>\n",
       "    <tr>\n",
       "      <th>1</th>\n",
       "      <td>True</td>\n",
       "      <td>True</td>\n",
       "      <td>False</td>\n",
       "      <td>False</td>\n",
       "    </tr>\n",
       "    <tr>\n",
       "      <th>2</th>\n",
       "      <td>True</td>\n",
       "      <td>True</td>\n",
       "      <td>False</td>\n",
       "      <td>False</td>\n",
       "    </tr>\n",
       "    <tr>\n",
       "      <th>3</th>\n",
       "      <td>True</td>\n",
       "      <td>True</td>\n",
       "      <td>True</td>\n",
       "      <td>True</td>\n",
       "    </tr>\n",
       "    <tr>\n",
       "      <th>4</th>\n",
       "      <td>True</td>\n",
       "      <td>False</td>\n",
       "      <td>False</td>\n",
       "      <td>False</td>\n",
       "    </tr>\n",
       "    <tr>\n",
       "      <th>5</th>\n",
       "      <td>True</td>\n",
       "      <td>True</td>\n",
       "      <td>False</td>\n",
       "      <td>True</td>\n",
       "    </tr>\n",
       "    <tr>\n",
       "      <th>6</th>\n",
       "      <td>True</td>\n",
       "      <td>True</td>\n",
       "      <td>False</td>\n",
       "      <td>False</td>\n",
       "    </tr>\n",
       "    <tr>\n",
       "      <th>7</th>\n",
       "      <td>True</td>\n",
       "      <td>True</td>\n",
       "      <td>True</td>\n",
       "      <td>True</td>\n",
       "    </tr>\n",
       "    <tr>\n",
       "      <th>8</th>\n",
       "      <td>True</td>\n",
       "      <td>False</td>\n",
       "      <td>False</td>\n",
       "      <td>False</td>\n",
       "    </tr>\n",
       "    <tr>\n",
       "      <th>9</th>\n",
       "      <td>True</td>\n",
       "      <td>True</td>\n",
       "      <td>False</td>\n",
       "      <td>False</td>\n",
       "    </tr>\n",
       "    <tr>\n",
       "      <th>10</th>\n",
       "      <td>True</td>\n",
       "      <td>True</td>\n",
       "      <td>False</td>\n",
       "      <td>False</td>\n",
       "    </tr>\n",
       "  </tbody>\n",
       "</table>\n",
       "</div>"
      ],
      "text/plain": [
       "    Unnamed: 0     姓名     科目     分数\n",
       "0         True  False  False  False\n",
       "1         True   True  False  False\n",
       "2         True   True  False  False\n",
       "3         True   True   True   True\n",
       "4         True  False  False  False\n",
       "5         True   True  False   True\n",
       "6         True   True  False  False\n",
       "7         True   True   True   True\n",
       "8         True  False  False  False\n",
       "9         True   True  False  False\n",
       "10        True   True  False  False"
      ]
     },
     "execution_count": 63,
     "metadata": {},
     "output_type": "execute_result"
    }
   ],
   "source": [
    "stu_data.isnull()   #检测是否为空值"
   ]
  },
  {
   "cell_type": "code",
   "execution_count": 64,
   "id": "5bd09452",
   "metadata": {},
   "outputs": [
    {
     "data": {
      "text/plain": [
       "0     False\n",
       "1     False\n",
       "2     False\n",
       "3      True\n",
       "4     False\n",
       "5      True\n",
       "6     False\n",
       "7      True\n",
       "8     False\n",
       "9     False\n",
       "10    False\n",
       "Name: 分数, dtype: bool"
      ]
     },
     "execution_count": 64,
     "metadata": {},
     "output_type": "execute_result"
    }
   ],
   "source": [
    "stu_data[\"分数\"].isnull()#可以再单列上判断是否为空值"
   ]
  },
  {
   "cell_type": "code",
   "execution_count": 65,
   "id": "0d1b95f4",
   "metadata": {
    "scrolled": true
   },
   "outputs": [
    {
     "data": {
      "text/plain": [
       "0      True\n",
       "1     False\n",
       "2     False\n",
       "3     False\n",
       "4      True\n",
       "5     False\n",
       "6     False\n",
       "7     False\n",
       "8      True\n",
       "9     False\n",
       "10    False\n",
       "Name: 姓名, dtype: bool"
      ]
     },
     "execution_count": 65,
     "metadata": {},
     "output_type": "execute_result"
    }
   ],
   "source": [
    "stu_data[\"姓名\"].notnull() #当然，还有不为空值----与isnull相反"
   ]
  },
  {
   "cell_type": "code",
   "execution_count": 66,
   "id": "56328200",
   "metadata": {
    "scrolled": true
   },
   "outputs": [
    {
     "data": {
      "text/html": [
       "<div>\n",
       "<style scoped>\n",
       "    .dataframe tbody tr th:only-of-type {\n",
       "        vertical-align: middle;\n",
       "    }\n",
       "\n",
       "    .dataframe tbody tr th {\n",
       "        vertical-align: top;\n",
       "    }\n",
       "\n",
       "    .dataframe thead th {\n",
       "        text-align: right;\n",
       "    }\n",
       "</style>\n",
       "<table border=\"1\" class=\"dataframe\">\n",
       "  <thead>\n",
       "    <tr style=\"text-align: right;\">\n",
       "      <th></th>\n",
       "      <th>Unnamed: 0</th>\n",
       "      <th>姓名</th>\n",
       "      <th>科目</th>\n",
       "      <th>分数</th>\n",
       "    </tr>\n",
       "  </thead>\n",
       "  <tbody>\n",
       "    <tr>\n",
       "      <th>0</th>\n",
       "      <td>NaN</td>\n",
       "      <td>小明</td>\n",
       "      <td>语文</td>\n",
       "      <td>85.0</td>\n",
       "    </tr>\n",
       "    <tr>\n",
       "      <th>1</th>\n",
       "      <td>NaN</td>\n",
       "      <td>NaN</td>\n",
       "      <td>数学</td>\n",
       "      <td>80.0</td>\n",
       "    </tr>\n",
       "    <tr>\n",
       "      <th>2</th>\n",
       "      <td>NaN</td>\n",
       "      <td>NaN</td>\n",
       "      <td>英语</td>\n",
       "      <td>90.0</td>\n",
       "    </tr>\n",
       "    <tr>\n",
       "      <th>4</th>\n",
       "      <td>NaN</td>\n",
       "      <td>小王</td>\n",
       "      <td>语文</td>\n",
       "      <td>85.0</td>\n",
       "    </tr>\n",
       "    <tr>\n",
       "      <th>6</th>\n",
       "      <td>NaN</td>\n",
       "      <td>NaN</td>\n",
       "      <td>英语</td>\n",
       "      <td>90.0</td>\n",
       "    </tr>\n",
       "    <tr>\n",
       "      <th>8</th>\n",
       "      <td>NaN</td>\n",
       "      <td>小刚</td>\n",
       "      <td>语文</td>\n",
       "      <td>85.0</td>\n",
       "    </tr>\n",
       "    <tr>\n",
       "      <th>9</th>\n",
       "      <td>NaN</td>\n",
       "      <td>NaN</td>\n",
       "      <td>数学</td>\n",
       "      <td>80.0</td>\n",
       "    </tr>\n",
       "    <tr>\n",
       "      <th>10</th>\n",
       "      <td>NaN</td>\n",
       "      <td>NaN</td>\n",
       "      <td>英语</td>\n",
       "      <td>90.0</td>\n",
       "    </tr>\n",
       "  </tbody>\n",
       "</table>\n",
       "</div>"
      ],
      "text/plain": [
       "    Unnamed: 0   姓名  科目    分数\n",
       "0          NaN   小明  语文  85.0\n",
       "1          NaN  NaN  数学  80.0\n",
       "2          NaN  NaN  英语  90.0\n",
       "4          NaN   小王  语文  85.0\n",
       "6          NaN  NaN  英语  90.0\n",
       "8          NaN   小刚  语文  85.0\n",
       "9          NaN  NaN  数学  80.0\n",
       "10         NaN  NaN  英语  90.0"
      ]
     },
     "execution_count": 66,
     "metadata": {},
     "output_type": "execute_result"
    }
   ],
   "source": [
    "stu_data.loc[stu_data[\"分数\"].notnull()]  #结合之前知识点返回分数不为空的行"
   ]
  },
  {
   "cell_type": "markdown",
   "id": "27e8eee2",
   "metadata": {},
   "source": [
    "## dropna：丢弃、删除缺失值\n",
    "##### -----axis:删除行(=0 or ='index')/列 (=1 or ='columns')\n",
    "##### -----how：如果等于\"any\"则任何值为空的都删除，如果等于\"all\"则当所有值为空才删除\n",
    "##### -----inplace：如果等于True则修改当前DataFrame，否者返汇新的DataFrame"
   ]
  },
  {
   "cell_type": "code",
   "execution_count": 67,
   "id": "75092633",
   "metadata": {},
   "outputs": [
    {
     "data": {
      "text/html": [
       "<div>\n",
       "<style scoped>\n",
       "    .dataframe tbody tr th:only-of-type {\n",
       "        vertical-align: middle;\n",
       "    }\n",
       "\n",
       "    .dataframe tbody tr th {\n",
       "        vertical-align: top;\n",
       "    }\n",
       "\n",
       "    .dataframe thead th {\n",
       "        text-align: right;\n",
       "    }\n",
       "</style>\n",
       "<table border=\"1\" class=\"dataframe\">\n",
       "  <thead>\n",
       "    <tr style=\"text-align: right;\">\n",
       "      <th></th>\n",
       "      <th>姓名</th>\n",
       "      <th>科目</th>\n",
       "      <th>分数</th>\n",
       "    </tr>\n",
       "  </thead>\n",
       "  <tbody>\n",
       "    <tr>\n",
       "      <th>0</th>\n",
       "      <td>小明</td>\n",
       "      <td>语文</td>\n",
       "      <td>85.0</td>\n",
       "    </tr>\n",
       "    <tr>\n",
       "      <th>1</th>\n",
       "      <td>NaN</td>\n",
       "      <td>数学</td>\n",
       "      <td>80.0</td>\n",
       "    </tr>\n",
       "    <tr>\n",
       "      <th>2</th>\n",
       "      <td>NaN</td>\n",
       "      <td>英语</td>\n",
       "      <td>90.0</td>\n",
       "    </tr>\n",
       "    <tr>\n",
       "      <th>3</th>\n",
       "      <td>NaN</td>\n",
       "      <td>NaN</td>\n",
       "      <td>NaN</td>\n",
       "    </tr>\n",
       "    <tr>\n",
       "      <th>4</th>\n",
       "      <td>小王</td>\n",
       "      <td>语文</td>\n",
       "      <td>85.0</td>\n",
       "    </tr>\n",
       "  </tbody>\n",
       "</table>\n",
       "</div>"
      ],
      "text/plain": [
       "    姓名   科目    分数\n",
       "0   小明   语文  85.0\n",
       "1  NaN   数学  80.0\n",
       "2  NaN   英语  90.0\n",
       "3  NaN  NaN   NaN\n",
       "4   小王   语文  85.0"
      ]
     },
     "execution_count": 67,
     "metadata": {},
     "output_type": "execute_result"
    }
   ],
   "source": [
    "stu_data.dropna(axis=1    #按列删除\n",
    "                ,how=\"all\"   #该行所有数据为空才删除\n",
    "                ,inplace=True  #仅修改当前df\n",
    "               )\n",
    "stu_data.head()  #可见第0列被删除"
   ]
  },
  {
   "cell_type": "code",
   "execution_count": 68,
   "id": "4ca6a4ee",
   "metadata": {},
   "outputs": [
    {
     "data": {
      "text/html": [
       "<div>\n",
       "<style scoped>\n",
       "    .dataframe tbody tr th:only-of-type {\n",
       "        vertical-align: middle;\n",
       "    }\n",
       "\n",
       "    .dataframe tbody tr th {\n",
       "        vertical-align: top;\n",
       "    }\n",
       "\n",
       "    .dataframe thead th {\n",
       "        text-align: right;\n",
       "    }\n",
       "</style>\n",
       "<table border=\"1\" class=\"dataframe\">\n",
       "  <thead>\n",
       "    <tr style=\"text-align: right;\">\n",
       "      <th></th>\n",
       "      <th>姓名</th>\n",
       "      <th>科目</th>\n",
       "      <th>分数</th>\n",
       "    </tr>\n",
       "  </thead>\n",
       "  <tbody>\n",
       "    <tr>\n",
       "      <th>0</th>\n",
       "      <td>小明</td>\n",
       "      <td>语文</td>\n",
       "      <td>85.0</td>\n",
       "    </tr>\n",
       "    <tr>\n",
       "      <th>1</th>\n",
       "      <td>NaN</td>\n",
       "      <td>数学</td>\n",
       "      <td>80.0</td>\n",
       "    </tr>\n",
       "    <tr>\n",
       "      <th>2</th>\n",
       "      <td>NaN</td>\n",
       "      <td>英语</td>\n",
       "      <td>90.0</td>\n",
       "    </tr>\n",
       "    <tr>\n",
       "      <th>4</th>\n",
       "      <td>小王</td>\n",
       "      <td>语文</td>\n",
       "      <td>85.0</td>\n",
       "    </tr>\n",
       "    <tr>\n",
       "      <th>5</th>\n",
       "      <td>NaN</td>\n",
       "      <td>数学</td>\n",
       "      <td>NaN</td>\n",
       "    </tr>\n",
       "  </tbody>\n",
       "</table>\n",
       "</div>"
      ],
      "text/plain": [
       "    姓名  科目    分数\n",
       "0   小明  语文  85.0\n",
       "1  NaN  数学  80.0\n",
       "2  NaN  英语  90.0\n",
       "4   小王  语文  85.0\n",
       "5  NaN  数学   NaN"
      ]
     },
     "execution_count": 68,
     "metadata": {},
     "output_type": "execute_result"
    }
   ],
   "source": [
    "stu_data.dropna(axis=0    #按行删除\n",
    "                ,how=\"all\"   #该行所有数据为空才删除\n",
    "                ,inplace=True  #仅修改当前df\n",
    "               )\n",
    "stu_data.head()  #可见中间空行被删除"
   ]
  },
  {
   "cell_type": "markdown",
   "id": "fc6b7e0d",
   "metadata": {},
   "source": [
    "当前还剩下以下问题：部分姓名为空（单元格合并导致），小王数学成绩为空"
   ]
  },
  {
   "cell_type": "markdown",
   "id": "1650c877",
   "metadata": {},
   "source": [
    "## fillna：填充空值\n",
    "##### -----value(缺省)：用于填充的值，值可以是当个值，或是字典（字典的key为列名，value为值）\n",
    "##### ------method：等于ffill时使用前一个不为空的值填充f；等于bfill使用后一个不为空的值填充\n",
    "##### ------axis：指定按 行(=0 or ='index')/列 (=1 or ='columns') 填充\n",
    "##### ------inplace：如果为True则修改但钱DataFrame，否者返回新的DataFrame"
   ]
  },
  {
   "cell_type": "code",
   "execution_count": 69,
   "id": "3af435e6",
   "metadata": {},
   "outputs": [
    {
     "data": {
      "text/html": [
       "<div>\n",
       "<style scoped>\n",
       "    .dataframe tbody tr th:only-of-type {\n",
       "        vertical-align: middle;\n",
       "    }\n",
       "\n",
       "    .dataframe tbody tr th {\n",
       "        vertical-align: top;\n",
       "    }\n",
       "\n",
       "    .dataframe thead th {\n",
       "        text-align: right;\n",
       "    }\n",
       "</style>\n",
       "<table border=\"1\" class=\"dataframe\">\n",
       "  <thead>\n",
       "    <tr style=\"text-align: right;\">\n",
       "      <th></th>\n",
       "      <th>姓名</th>\n",
       "      <th>科目</th>\n",
       "      <th>分数</th>\n",
       "    </tr>\n",
       "  </thead>\n",
       "  <tbody>\n",
       "    <tr>\n",
       "      <th>0</th>\n",
       "      <td>小明</td>\n",
       "      <td>语文</td>\n",
       "      <td>85.0</td>\n",
       "    </tr>\n",
       "    <tr>\n",
       "      <th>1</th>\n",
       "      <td>NaN</td>\n",
       "      <td>数学</td>\n",
       "      <td>80.0</td>\n",
       "    </tr>\n",
       "    <tr>\n",
       "      <th>2</th>\n",
       "      <td>NaN</td>\n",
       "      <td>英语</td>\n",
       "      <td>90.0</td>\n",
       "    </tr>\n",
       "    <tr>\n",
       "      <th>4</th>\n",
       "      <td>小王</td>\n",
       "      <td>语文</td>\n",
       "      <td>85.0</td>\n",
       "    </tr>\n",
       "    <tr>\n",
       "      <th>5</th>\n",
       "      <td>NaN</td>\n",
       "      <td>数学</td>\n",
       "      <td>0.0</td>\n",
       "    </tr>\n",
       "    <tr>\n",
       "      <th>6</th>\n",
       "      <td>NaN</td>\n",
       "      <td>英语</td>\n",
       "      <td>90.0</td>\n",
       "    </tr>\n",
       "    <tr>\n",
       "      <th>8</th>\n",
       "      <td>小刚</td>\n",
       "      <td>语文</td>\n",
       "      <td>85.0</td>\n",
       "    </tr>\n",
       "    <tr>\n",
       "      <th>9</th>\n",
       "      <td>NaN</td>\n",
       "      <td>数学</td>\n",
       "      <td>80.0</td>\n",
       "    </tr>\n",
       "    <tr>\n",
       "      <th>10</th>\n",
       "      <td>NaN</td>\n",
       "      <td>英语</td>\n",
       "      <td>90.0</td>\n",
       "    </tr>\n",
       "  </tbody>\n",
       "</table>\n",
       "</div>"
      ],
      "text/plain": [
       "     姓名  科目    分数\n",
       "0    小明  语文  85.0\n",
       "1   NaN  数学  80.0\n",
       "2   NaN  英语  90.0\n",
       "4    小王  语文  85.0\n",
       "5   NaN  数学   0.0\n",
       "6   NaN  英语  90.0\n",
       "8    小刚  语文  85.0\n",
       "9   NaN  数学  80.0\n",
       "10  NaN  英语  90.0"
      ]
     },
     "execution_count": 69,
     "metadata": {},
     "output_type": "execute_result"
    }
   ],
   "source": [
    "stu_data.fillna({\"分数\":0},inplace=True)  #方法一：向fillna传入字典 （分数列为空填充0）\n",
    "stu_data   #小王的数学分数被填充上了0"
   ]
  },
  {
   "cell_type": "code",
   "execution_count": 70,
   "id": "96921c7c",
   "metadata": {},
   "outputs": [
    {
     "data": {
      "text/html": [
       "<div>\n",
       "<style scoped>\n",
       "    .dataframe tbody tr th:only-of-type {\n",
       "        vertical-align: middle;\n",
       "    }\n",
       "\n",
       "    .dataframe tbody tr th {\n",
       "        vertical-align: top;\n",
       "    }\n",
       "\n",
       "    .dataframe thead th {\n",
       "        text-align: right;\n",
       "    }\n",
       "</style>\n",
       "<table border=\"1\" class=\"dataframe\">\n",
       "  <thead>\n",
       "    <tr style=\"text-align: right;\">\n",
       "      <th></th>\n",
       "      <th>姓名</th>\n",
       "      <th>科目</th>\n",
       "      <th>分数</th>\n",
       "    </tr>\n",
       "  </thead>\n",
       "  <tbody>\n",
       "    <tr>\n",
       "      <th>0</th>\n",
       "      <td>小明</td>\n",
       "      <td>语文</td>\n",
       "      <td>85.0</td>\n",
       "    </tr>\n",
       "    <tr>\n",
       "      <th>1</th>\n",
       "      <td>小明</td>\n",
       "      <td>数学</td>\n",
       "      <td>80.0</td>\n",
       "    </tr>\n",
       "    <tr>\n",
       "      <th>2</th>\n",
       "      <td>小明</td>\n",
       "      <td>英语</td>\n",
       "      <td>90.0</td>\n",
       "    </tr>\n",
       "    <tr>\n",
       "      <th>4</th>\n",
       "      <td>小王</td>\n",
       "      <td>语文</td>\n",
       "      <td>85.0</td>\n",
       "    </tr>\n",
       "    <tr>\n",
       "      <th>5</th>\n",
       "      <td>小王</td>\n",
       "      <td>数学</td>\n",
       "      <td>0.0</td>\n",
       "    </tr>\n",
       "    <tr>\n",
       "      <th>6</th>\n",
       "      <td>小王</td>\n",
       "      <td>英语</td>\n",
       "      <td>90.0</td>\n",
       "    </tr>\n",
       "    <tr>\n",
       "      <th>8</th>\n",
       "      <td>小刚</td>\n",
       "      <td>语文</td>\n",
       "      <td>85.0</td>\n",
       "    </tr>\n",
       "    <tr>\n",
       "      <th>9</th>\n",
       "      <td>小刚</td>\n",
       "      <td>数学</td>\n",
       "      <td>80.0</td>\n",
       "    </tr>\n",
       "    <tr>\n",
       "      <th>10</th>\n",
       "      <td>小刚</td>\n",
       "      <td>英语</td>\n",
       "      <td>90.0</td>\n",
       "    </tr>\n",
       "  </tbody>\n",
       "</table>\n",
       "</div>"
      ],
      "text/plain": [
       "    姓名  科目    分数\n",
       "0   小明  语文  85.0\n",
       "1   小明  数学  80.0\n",
       "2   小明  英语  90.0\n",
       "4   小王  语文  85.0\n",
       "5   小王  数学   0.0\n",
       "6   小王  英语  90.0\n",
       "8   小刚  语文  85.0\n",
       "9   小刚  数学  80.0\n",
       "10  小刚  英语  90.0"
      ]
     },
     "execution_count": 70,
     "metadata": {},
     "output_type": "execute_result"
    }
   ],
   "source": [
    "stu_data.loc[:,\"姓名\"] = stu_data[\"姓名\"].fillna(method=\"ffill\")\n",
    "#方法二：赋值法，这里是用前一个不为空的值进行填充\n",
    "stu_data"
   ]
  },
  {
   "cell_type": "markdown",
   "id": "8a7910fb",
   "metadata": {},
   "source": [
    "## 将清洗好的数据进行保存"
   ]
  },
  {
   "cell_type": "code",
   "execution_count": 71,
   "id": "2c672b2c",
   "metadata": {},
   "outputs": [],
   "source": [
    "stu_data.to_excel(\"D:\\\\编程项目\\\\python项目\\\\bigdata\\\\data\\\\student_excel_clean.xlsx\"\n",
    "                 ,index=False  #不保存行索引\n",
    "                 )"
   ]
  },
  {
   "cell_type": "markdown",
   "id": "3543efa5",
   "metadata": {},
   "source": [
    "# Pandas数据排序"
   ]
  },
  {
   "cell_type": "code",
   "execution_count": 72,
   "id": "11bba310",
   "metadata": {},
   "outputs": [],
   "source": [
    "import pandas as pd"
   ]
  },
  {
   "cell_type": "code",
   "execution_count": 73,
   "id": "590cd910",
   "metadata": {},
   "outputs": [],
   "source": [
    "tq_data=pd.read_csv(\"D:/编程项目/python项目/bigdata/data/beijing_tianqi_2018.csv\")  #天气数据来自UP主的Github"
   ]
  },
  {
   "cell_type": "code",
   "execution_count": 74,
   "id": "2f6fa294",
   "metadata": {},
   "outputs": [
    {
     "data": {
      "text/html": [
       "<div>\n",
       "<style scoped>\n",
       "    .dataframe tbody tr th:only-of-type {\n",
       "        vertical-align: middle;\n",
       "    }\n",
       "\n",
       "    .dataframe tbody tr th {\n",
       "        vertical-align: top;\n",
       "    }\n",
       "\n",
       "    .dataframe thead th {\n",
       "        text-align: right;\n",
       "    }\n",
       "</style>\n",
       "<table border=\"1\" class=\"dataframe\">\n",
       "  <thead>\n",
       "    <tr style=\"text-align: right;\">\n",
       "      <th></th>\n",
       "      <th>ymd</th>\n",
       "      <th>bWendu</th>\n",
       "      <th>yWendu</th>\n",
       "      <th>tianqi</th>\n",
       "      <th>fengxiang</th>\n",
       "      <th>fengli</th>\n",
       "      <th>aqi</th>\n",
       "      <th>aqiInfo</th>\n",
       "      <th>aqiLevel</th>\n",
       "    </tr>\n",
       "  </thead>\n",
       "  <tbody>\n",
       "    <tr>\n",
       "      <th>0</th>\n",
       "      <td>2018-01-01</td>\n",
       "      <td>3℃</td>\n",
       "      <td>-6℃</td>\n",
       "      <td>晴~多云</td>\n",
       "      <td>东北风</td>\n",
       "      <td>1-2级</td>\n",
       "      <td>59</td>\n",
       "      <td>良</td>\n",
       "      <td>2</td>\n",
       "    </tr>\n",
       "    <tr>\n",
       "      <th>1</th>\n",
       "      <td>2018-01-02</td>\n",
       "      <td>2℃</td>\n",
       "      <td>-5℃</td>\n",
       "      <td>阴~多云</td>\n",
       "      <td>东北风</td>\n",
       "      <td>1-2级</td>\n",
       "      <td>49</td>\n",
       "      <td>优</td>\n",
       "      <td>1</td>\n",
       "    </tr>\n",
       "    <tr>\n",
       "      <th>2</th>\n",
       "      <td>2018-01-03</td>\n",
       "      <td>2℃</td>\n",
       "      <td>-5℃</td>\n",
       "      <td>多云</td>\n",
       "      <td>北风</td>\n",
       "      <td>1-2级</td>\n",
       "      <td>28</td>\n",
       "      <td>优</td>\n",
       "      <td>1</td>\n",
       "    </tr>\n",
       "    <tr>\n",
       "      <th>3</th>\n",
       "      <td>2018-01-04</td>\n",
       "      <td>0℃</td>\n",
       "      <td>-8℃</td>\n",
       "      <td>阴</td>\n",
       "      <td>东北风</td>\n",
       "      <td>1-2级</td>\n",
       "      <td>28</td>\n",
       "      <td>优</td>\n",
       "      <td>1</td>\n",
       "    </tr>\n",
       "    <tr>\n",
       "      <th>4</th>\n",
       "      <td>2018-01-05</td>\n",
       "      <td>3℃</td>\n",
       "      <td>-6℃</td>\n",
       "      <td>多云~晴</td>\n",
       "      <td>西北风</td>\n",
       "      <td>1-2级</td>\n",
       "      <td>50</td>\n",
       "      <td>优</td>\n",
       "      <td>1</td>\n",
       "    </tr>\n",
       "  </tbody>\n",
       "</table>\n",
       "</div>"
      ],
      "text/plain": [
       "          ymd bWendu yWendu tianqi fengxiang fengli  aqi aqiInfo  aqiLevel\n",
       "0  2018-01-01     3℃    -6℃   晴~多云       东北风   1-2级   59       良         2\n",
       "1  2018-01-02     2℃    -5℃   阴~多云       东北风   1-2级   49       优         1\n",
       "2  2018-01-03     2℃    -5℃     多云        北风   1-2级   28       优         1\n",
       "3  2018-01-04     0℃    -8℃      阴       东北风   1-2级   28       优         1\n",
       "4  2018-01-05     3℃    -6℃   多云~晴       西北风   1-2级   50       优         1"
      ]
     },
     "execution_count": 74,
     "metadata": {},
     "output_type": "execute_result"
    }
   ],
   "source": [
    "tq_data.head()"
   ]
  },
  {
   "cell_type": "markdown",
   "id": "1f46c5ec",
   "metadata": {},
   "source": [
    "### Series的排序"
   ]
  },
  {
   "cell_type": "markdown",
   "id": "6306e035",
   "metadata": {},
   "source": [
    "#### Series.sort_values(ascending=True,inplace=False)\n",
    "##### -----ascending:为True升序（默认），False降序\n",
    "##### -----inplace：是否修改原始Series，默认不修改"
   ]
  },
  {
   "cell_type": "code",
   "execution_count": 75,
   "id": "fbf5c74b",
   "metadata": {},
   "outputs": [
    {
     "data": {
      "text/plain": [
       "271     21\n",
       "281     21\n",
       "249     22\n",
       "272     22\n",
       "301     22\n",
       "      ... \n",
       "317    266\n",
       "71     287\n",
       "91     287\n",
       "72     293\n",
       "86     387\n",
       "Name: aqi, Length: 365, dtype: int64"
      ]
     },
     "execution_count": 75,
     "metadata": {},
     "output_type": "execute_result"
    }
   ],
   "source": [
    "tq_data[\"aqi\"].sort_values()   #左侧为索引，右侧为数据，默认升序排列，不修改原数据内容"
   ]
  },
  {
   "cell_type": "code",
   "execution_count": 76,
   "id": "4bd37df2",
   "metadata": {},
   "outputs": [
    {
     "data": {
      "text/plain": [
       "86     387\n",
       "72     293\n",
       "71     287\n",
       "91     287\n",
       "317    266\n",
       "      ... \n",
       "249     22\n",
       "301     22\n",
       "272     22\n",
       "271     21\n",
       "281     21\n",
       "Name: aqi, Length: 365, dtype: int64"
      ]
     },
     "execution_count": 76,
     "metadata": {},
     "output_type": "execute_result"
    }
   ],
   "source": [
    "tq_data[\"aqi\"].sort_values(ascending=False)   #修改ascending返回结果为降序"
   ]
  },
  {
   "cell_type": "code",
   "execution_count": 77,
   "id": "82fbfa42",
   "metadata": {},
   "outputs": [
    {
     "data": {
      "text/plain": [
       "225     中雨~小雨\n",
       "230     中雨~小雨\n",
       "197    中雨~雷阵雨\n",
       "196    中雨~雷阵雨\n",
       "112        多云\n",
       "        ...  \n",
       "191    雷阵雨~大雨\n",
       "219     雷阵雨~阴\n",
       "335      雾~多云\n",
       "353         霾\n",
       "348         霾\n",
       "Name: tianqi, Length: 365, dtype: object"
      ]
     },
     "execution_count": 77,
     "metadata": {},
     "output_type": "execute_result"
    }
   ],
   "source": [
    "tq_data[\"tianqi\"].sort_values()"
   ]
  },
  {
   "cell_type": "markdown",
   "id": "256b950c",
   "metadata": {},
   "source": [
    "### DataFrame的排序"
   ]
  },
  {
   "cell_type": "markdown",
   "id": "6fe38ef3",
   "metadata": {},
   "source": [
    "#### 一、DataFrame.sort_balues(by,ascending=True,inplace=False)\n",
    "##### -----by:以那行进行排序，字符串或者List<字符串>,当列或多列排序\n",
    "##### -----axis:若axis=0或者'index'(默认),按照指定的列排序，若axis=1或者'columns',按照指定的行排序\n",
    "##### -----ascending：默认是True,上升排序，False则为降序排列\n",
    "##### -----inplace：是否用排序后的数据集替换原来的数据，默认为False，即不替换"
   ]
  },
  {
   "cell_type": "code",
   "execution_count": 78,
   "id": "f9d0a5bd",
   "metadata": {},
   "outputs": [
    {
     "data": {
      "text/html": [
       "<div>\n",
       "<style scoped>\n",
       "    .dataframe tbody tr th:only-of-type {\n",
       "        vertical-align: middle;\n",
       "    }\n",
       "\n",
       "    .dataframe tbody tr th {\n",
       "        vertical-align: top;\n",
       "    }\n",
       "\n",
       "    .dataframe thead th {\n",
       "        text-align: right;\n",
       "    }\n",
       "</style>\n",
       "<table border=\"1\" class=\"dataframe\">\n",
       "  <thead>\n",
       "    <tr style=\"text-align: right;\">\n",
       "      <th></th>\n",
       "      <th>ymd</th>\n",
       "      <th>bWendu</th>\n",
       "      <th>yWendu</th>\n",
       "      <th>tianqi</th>\n",
       "      <th>fengxiang</th>\n",
       "      <th>fengli</th>\n",
       "      <th>aqi</th>\n",
       "      <th>aqiInfo</th>\n",
       "      <th>aqiLevel</th>\n",
       "    </tr>\n",
       "  </thead>\n",
       "  <tbody>\n",
       "    <tr>\n",
       "      <th>271</th>\n",
       "      <td>2018-09-29</td>\n",
       "      <td>22℃</td>\n",
       "      <td>11℃</td>\n",
       "      <td>晴</td>\n",
       "      <td>北风</td>\n",
       "      <td>3-4级</td>\n",
       "      <td>21</td>\n",
       "      <td>优</td>\n",
       "      <td>1</td>\n",
       "    </tr>\n",
       "    <tr>\n",
       "      <th>281</th>\n",
       "      <td>2018-10-09</td>\n",
       "      <td>15℃</td>\n",
       "      <td>4℃</td>\n",
       "      <td>多云~晴</td>\n",
       "      <td>西北风</td>\n",
       "      <td>4-5级</td>\n",
       "      <td>21</td>\n",
       "      <td>优</td>\n",
       "      <td>1</td>\n",
       "    </tr>\n",
       "    <tr>\n",
       "      <th>249</th>\n",
       "      <td>2018-09-07</td>\n",
       "      <td>27℃</td>\n",
       "      <td>16℃</td>\n",
       "      <td>晴</td>\n",
       "      <td>西北风</td>\n",
       "      <td>3-4级</td>\n",
       "      <td>22</td>\n",
       "      <td>优</td>\n",
       "      <td>1</td>\n",
       "    </tr>\n",
       "  </tbody>\n",
       "</table>\n",
       "</div>"
      ],
      "text/plain": [
       "            ymd bWendu yWendu tianqi fengxiang fengli  aqi aqiInfo  aqiLevel\n",
       "271  2018-09-29    22℃    11℃      晴        北风   3-4级   21       优         1\n",
       "281  2018-10-09    15℃     4℃   多云~晴       西北风   4-5级   21       优         1\n",
       "249  2018-09-07    27℃    16℃      晴       西北风   3-4级   22       优         1"
      ]
     },
     "execution_count": 78,
     "metadata": {},
     "output_type": "execute_result"
    }
   ],
   "source": [
    "tq_data.sort_values(by=\"aqi\").head(3)  #指定按空气质量指数升序排列(对排序列所在的整个行进行排序)"
   ]
  },
  {
   "cell_type": "code",
   "execution_count": 79,
   "id": "6f531c5c",
   "metadata": {},
   "outputs": [
    {
     "data": {
      "text/html": [
       "<div>\n",
       "<style scoped>\n",
       "    .dataframe tbody tr th:only-of-type {\n",
       "        vertical-align: middle;\n",
       "    }\n",
       "\n",
       "    .dataframe tbody tr th {\n",
       "        vertical-align: top;\n",
       "    }\n",
       "\n",
       "    .dataframe thead th {\n",
       "        text-align: right;\n",
       "    }\n",
       "</style>\n",
       "<table border=\"1\" class=\"dataframe\">\n",
       "  <thead>\n",
       "    <tr style=\"text-align: right;\">\n",
       "      <th></th>\n",
       "      <th>ymd</th>\n",
       "      <th>bWendu</th>\n",
       "      <th>yWendu</th>\n",
       "      <th>tianqi</th>\n",
       "      <th>fengxiang</th>\n",
       "      <th>fengli</th>\n",
       "      <th>aqi</th>\n",
       "      <th>aqiInfo</th>\n",
       "      <th>aqiLevel</th>\n",
       "    </tr>\n",
       "  </thead>\n",
       "  <tbody>\n",
       "    <tr>\n",
       "      <th>86</th>\n",
       "      <td>2018-03-28</td>\n",
       "      <td>25℃</td>\n",
       "      <td>9℃</td>\n",
       "      <td>多云~晴</td>\n",
       "      <td>东风</td>\n",
       "      <td>1-2级</td>\n",
       "      <td>387</td>\n",
       "      <td>严重污染</td>\n",
       "      <td>6</td>\n",
       "    </tr>\n",
       "    <tr>\n",
       "      <th>72</th>\n",
       "      <td>2018-03-14</td>\n",
       "      <td>15℃</td>\n",
       "      <td>6℃</td>\n",
       "      <td>多云~阴</td>\n",
       "      <td>东北风</td>\n",
       "      <td>1-2级</td>\n",
       "      <td>293</td>\n",
       "      <td>重度污染</td>\n",
       "      <td>5</td>\n",
       "    </tr>\n",
       "    <tr>\n",
       "      <th>71</th>\n",
       "      <td>2018-03-13</td>\n",
       "      <td>17℃</td>\n",
       "      <td>5℃</td>\n",
       "      <td>晴~多云</td>\n",
       "      <td>南风</td>\n",
       "      <td>1-2级</td>\n",
       "      <td>287</td>\n",
       "      <td>重度污染</td>\n",
       "      <td>5</td>\n",
       "    </tr>\n",
       "  </tbody>\n",
       "</table>\n",
       "</div>"
      ],
      "text/plain": [
       "           ymd bWendu yWendu tianqi fengxiang fengli  aqi aqiInfo  aqiLevel\n",
       "86  2018-03-28    25℃     9℃   多云~晴        东风   1-2级  387    严重污染         6\n",
       "72  2018-03-14    15℃     6℃   多云~阴       东北风   1-2级  293    重度污染         5\n",
       "71  2018-03-13    17℃     5℃   晴~多云        南风   1-2级  287    重度污染         5"
      ]
     },
     "execution_count": 79,
     "metadata": {},
     "output_type": "execute_result"
    }
   ],
   "source": [
    "tq_data.sort_values(by=\"aqi\",ascending=False).head(3)  #指定按空气质量指数降序排列"
   ]
  },
  {
   "cell_type": "code",
   "execution_count": 80,
   "id": "d523beab",
   "metadata": {},
   "outputs": [
    {
     "data": {
      "text/html": [
       "<div>\n",
       "<style scoped>\n",
       "    .dataframe tbody tr th:only-of-type {\n",
       "        vertical-align: middle;\n",
       "    }\n",
       "\n",
       "    .dataframe tbody tr th {\n",
       "        vertical-align: top;\n",
       "    }\n",
       "\n",
       "    .dataframe thead th {\n",
       "        text-align: right;\n",
       "    }\n",
       "</style>\n",
       "<table border=\"1\" class=\"dataframe\">\n",
       "  <thead>\n",
       "    <tr style=\"text-align: right;\">\n",
       "      <th></th>\n",
       "      <th>ymd</th>\n",
       "      <th>bWendu</th>\n",
       "      <th>yWendu</th>\n",
       "      <th>tianqi</th>\n",
       "      <th>fengxiang</th>\n",
       "      <th>fengli</th>\n",
       "      <th>aqi</th>\n",
       "      <th>aqiInfo</th>\n",
       "      <th>aqiLevel</th>\n",
       "    </tr>\n",
       "  </thead>\n",
       "  <tbody>\n",
       "    <tr>\n",
       "      <th>281</th>\n",
       "      <td>2018-10-09</td>\n",
       "      <td>15℃</td>\n",
       "      <td>4℃</td>\n",
       "      <td>多云~晴</td>\n",
       "      <td>西北风</td>\n",
       "      <td>4-5级</td>\n",
       "      <td>21</td>\n",
       "      <td>优</td>\n",
       "      <td>1</td>\n",
       "    </tr>\n",
       "    <tr>\n",
       "      <th>271</th>\n",
       "      <td>2018-09-29</td>\n",
       "      <td>22℃</td>\n",
       "      <td>11℃</td>\n",
       "      <td>晴</td>\n",
       "      <td>北风</td>\n",
       "      <td>3-4级</td>\n",
       "      <td>21</td>\n",
       "      <td>优</td>\n",
       "      <td>1</td>\n",
       "    </tr>\n",
       "    <tr>\n",
       "      <th>301</th>\n",
       "      <td>2018-10-29</td>\n",
       "      <td>15℃</td>\n",
       "      <td>3℃</td>\n",
       "      <td>晴</td>\n",
       "      <td>北风</td>\n",
       "      <td>3-4级</td>\n",
       "      <td>22</td>\n",
       "      <td>优</td>\n",
       "      <td>1</td>\n",
       "    </tr>\n",
       "  </tbody>\n",
       "</table>\n",
       "</div>"
      ],
      "text/plain": [
       "            ymd bWendu yWendu tianqi fengxiang fengli  aqi aqiInfo  aqiLevel\n",
       "281  2018-10-09    15℃     4℃   多云~晴       西北风   4-5级   21       优         1\n",
       "271  2018-09-29    22℃    11℃      晴        北风   3-4级   21       优         1\n",
       "301  2018-10-29    15℃     3℃      晴        北风   3-4级   22       优         1"
      ]
     },
     "execution_count": 80,
     "metadata": {},
     "output_type": "execute_result"
    }
   ],
   "source": [
    "tq_data.sort_values(by=[\"aqi\",\"bWendu\"]).head(3)   #多个参数进行排序时前面的参数优先级更高"
   ]
  },
  {
   "cell_type": "code",
   "execution_count": 81,
   "id": "332ca652",
   "metadata": {},
   "outputs": [
    {
     "data": {
      "text/html": [
       "<div>\n",
       "<style scoped>\n",
       "    .dataframe tbody tr th:only-of-type {\n",
       "        vertical-align: middle;\n",
       "    }\n",
       "\n",
       "    .dataframe tbody tr th {\n",
       "        vertical-align: top;\n",
       "    }\n",
       "\n",
       "    .dataframe thead th {\n",
       "        text-align: right;\n",
       "    }\n",
       "</style>\n",
       "<table border=\"1\" class=\"dataframe\">\n",
       "  <thead>\n",
       "    <tr style=\"text-align: right;\">\n",
       "      <th></th>\n",
       "      <th>ymd</th>\n",
       "      <th>bWendu</th>\n",
       "      <th>yWendu</th>\n",
       "      <th>tianqi</th>\n",
       "      <th>fengxiang</th>\n",
       "      <th>fengli</th>\n",
       "      <th>aqi</th>\n",
       "      <th>aqiInfo</th>\n",
       "      <th>aqiLevel</th>\n",
       "    </tr>\n",
       "  </thead>\n",
       "  <tbody>\n",
       "    <tr>\n",
       "      <th>271</th>\n",
       "      <td>2018-09-29</td>\n",
       "      <td>22℃</td>\n",
       "      <td>11℃</td>\n",
       "      <td>晴</td>\n",
       "      <td>北风</td>\n",
       "      <td>3-4级</td>\n",
       "      <td>21</td>\n",
       "      <td>优</td>\n",
       "      <td>1</td>\n",
       "    </tr>\n",
       "    <tr>\n",
       "      <th>281</th>\n",
       "      <td>2018-10-09</td>\n",
       "      <td>15℃</td>\n",
       "      <td>4℃</td>\n",
       "      <td>多云~晴</td>\n",
       "      <td>西北风</td>\n",
       "      <td>4-5级</td>\n",
       "      <td>21</td>\n",
       "      <td>优</td>\n",
       "      <td>1</td>\n",
       "    </tr>\n",
       "    <tr>\n",
       "      <th>249</th>\n",
       "      <td>2018-09-07</td>\n",
       "      <td>27℃</td>\n",
       "      <td>16℃</td>\n",
       "      <td>晴</td>\n",
       "      <td>西北风</td>\n",
       "      <td>3-4级</td>\n",
       "      <td>22</td>\n",
       "      <td>优</td>\n",
       "      <td>1</td>\n",
       "    </tr>\n",
       "  </tbody>\n",
       "</table>\n",
       "</div>"
      ],
      "text/plain": [
       "            ymd bWendu yWendu tianqi fengxiang fengli  aqi aqiInfo  aqiLevel\n",
       "271  2018-09-29    22℃    11℃      晴        北风   3-4级   21       优         1\n",
       "281  2018-10-09    15℃     4℃   多云~晴       西北风   4-5级   21       优         1\n",
       "249  2018-09-07    27℃    16℃      晴       西北风   3-4级   22       优         1"
      ]
     },
     "execution_count": 81,
     "metadata": {},
     "output_type": "execute_result"
    }
   ],
   "source": [
    "tq_data.sort_values(by=[\"aqi\",\"bWendu\"],ascending=[True,False]).head(3)  #升降序也可以分别设置"
   ]
  },
  {
   "cell_type": "markdown",
   "id": "6215b4d7",
   "metadata": {},
   "source": [
    "#### 二、利用DataFrame.take进行排列  (例：随机排列)\n",
    "- \n",
    "#### indices ：array-like：\n",
    "* 一个整数数组，指示要排列的位置。\n",
    "#### axis ：{0 或 ‘index’, 1 或 ‘columns’, None}, 默认为 0：\n",
    "* 选择元素的轴。0表示选择行，1表示选择列。\n",
    "#### is_copy ：bool\n",
    "* 在pandas 1.0之前，\n",
    "* is_copy=False可以指定以确保返回值是实际副本。\n",
    "* 从pandas 1.0开始， take始终返回一个副本，\n",
    "* 从1.0.0版开始不推荐使用。\n",
    "#### **kwargs\n",
    "* 用于与numpy.take()兼容。"
   ]
  },
  {
   "cell_type": "code",
   "execution_count": 82,
   "id": "b832f8cf",
   "metadata": {},
   "outputs": [
    {
     "data": {
      "text/plain": [
       "array([ 23,  90, 245, 263, 239,  44,  91, 191, 111, 223])"
      ]
     },
     "execution_count": 82,
     "metadata": {},
     "output_type": "execute_result"
    }
   ],
   "source": [
    "#利用shape获得行数如何生成函数个的1~行数 的随机不重复array\n",
    "rarray=np.random.permutation(tq_data.shape[0])[:10]\n",
    "rarray"
   ]
  },
  {
   "cell_type": "code",
   "execution_count": 83,
   "id": "07ff7ba1",
   "metadata": {},
   "outputs": [
    {
     "data": {
      "text/html": [
       "<div>\n",
       "<style scoped>\n",
       "    .dataframe tbody tr th:only-of-type {\n",
       "        vertical-align: middle;\n",
       "    }\n",
       "\n",
       "    .dataframe tbody tr th {\n",
       "        vertical-align: top;\n",
       "    }\n",
       "\n",
       "    .dataframe thead th {\n",
       "        text-align: right;\n",
       "    }\n",
       "</style>\n",
       "<table border=\"1\" class=\"dataframe\">\n",
       "  <thead>\n",
       "    <tr style=\"text-align: right;\">\n",
       "      <th></th>\n",
       "      <th>ymd</th>\n",
       "      <th>bWendu</th>\n",
       "      <th>yWendu</th>\n",
       "      <th>tianqi</th>\n",
       "      <th>fengxiang</th>\n",
       "      <th>fengli</th>\n",
       "      <th>aqi</th>\n",
       "      <th>aqiInfo</th>\n",
       "      <th>aqiLevel</th>\n",
       "    </tr>\n",
       "  </thead>\n",
       "  <tbody>\n",
       "    <tr>\n",
       "      <th>23</th>\n",
       "      <td>2018-01-24</td>\n",
       "      <td>-4℃</td>\n",
       "      <td>-11℃</td>\n",
       "      <td>晴</td>\n",
       "      <td>西南风</td>\n",
       "      <td>1-2级</td>\n",
       "      <td>34</td>\n",
       "      <td>优</td>\n",
       "      <td>1</td>\n",
       "    </tr>\n",
       "    <tr>\n",
       "      <th>90</th>\n",
       "      <td>2018-04-01</td>\n",
       "      <td>25℃</td>\n",
       "      <td>11℃</td>\n",
       "      <td>晴~多云</td>\n",
       "      <td>南风</td>\n",
       "      <td>1-2级</td>\n",
       "      <td>218</td>\n",
       "      <td>重度污染</td>\n",
       "      <td>5</td>\n",
       "    </tr>\n",
       "    <tr>\n",
       "      <th>245</th>\n",
       "      <td>2018-09-03</td>\n",
       "      <td>30℃</td>\n",
       "      <td>19℃</td>\n",
       "      <td>晴</td>\n",
       "      <td>北风</td>\n",
       "      <td>3-4级</td>\n",
       "      <td>70</td>\n",
       "      <td>良</td>\n",
       "      <td>2</td>\n",
       "    </tr>\n",
       "  </tbody>\n",
       "</table>\n",
       "</div>"
      ],
      "text/plain": [
       "            ymd bWendu yWendu tianqi fengxiang fengli  aqi aqiInfo  aqiLevel\n",
       "23   2018-01-24    -4℃   -11℃      晴       西南风   1-2级   34       优         1\n",
       "90   2018-04-01    25℃    11℃   晴~多云        南风   1-2级  218    重度污染         5\n",
       "245  2018-09-03    30℃    19℃      晴        北风   3-4级   70       良         2"
      ]
     },
     "execution_count": 83,
     "metadata": {},
     "output_type": "execute_result"
    }
   ],
   "source": [
    "tq_data.take(rarray).head(3)  #利用刚刚的随机array带入take方法实现随机排列"
   ]
  },
  {
   "cell_type": "markdown",
   "id": "75193180",
   "metadata": {},
   "source": [
    "# Pandas字符串的处理"
   ]
  },
  {
   "cell_type": "markdown",
   "id": "0e61aab9",
   "metadata": {},
   "source": [
    "使用方法：先获取Series的str属性，然后在属性上调用函数"
   ]
  },
  {
   "cell_type": "markdown",
   "id": "d1945894",
   "metadata": {},
   "source": [
    "只能在字符串列上使用(字符串列一般在object列里)"
   ]
  },
  {
   "cell_type": "markdown",
   "id": "8536c714",
   "metadata": {},
   "source": [
    "DataFrame上没有str属性和处理方法"
   ]
  },
  {
   "cell_type": "markdown",
   "id": "3c4c1524",
   "metadata": {},
   "source": [
    "Series.str与原生的str类似，但这是一套独立的方法"
   ]
  },
  {
   "cell_type": "markdown",
   "id": "d3fc5b0c",
   "metadata": {},
   "source": [
    "具体有那些方法https://pandas.pydata.org/docs/reference/series.html\n",
    "（搜索String handling，下面都是）"
   ]
  },
  {
   "cell_type": "code",
   "execution_count": 84,
   "id": "ce10fa61",
   "metadata": {},
   "outputs": [
    {
     "data": {
      "text/plain": [
       "ymd          object\n",
       "bWendu       object\n",
       "yWendu       object\n",
       "tianqi       object\n",
       "fengxiang    object\n",
       "fengli       object\n",
       "aqi           int64\n",
       "aqiInfo      object\n",
       "aqiLevel      int64\n",
       "dtype: object"
      ]
     },
     "execution_count": 84,
     "metadata": {},
     "output_type": "execute_result"
    }
   ],
   "source": [
    "tq_data.dtypes  #查看每个列的类型"
   ]
  },
  {
   "cell_type": "markdown",
   "id": "69a34a93",
   "metadata": {},
   "source": [
    "## 常用方法"
   ]
  },
  {
   "cell_type": "code",
   "execution_count": 85,
   "id": "49384a79",
   "metadata": {},
   "outputs": [
    {
     "data": {
      "text/plain": [
       "<pandas.core.strings.accessor.StringMethods at 0x1f5f8f76d30>"
      ]
     },
     "execution_count": 85,
     "metadata": {},
     "output_type": "execute_result"
    }
   ],
   "source": [
    "tq_data[\"tianqi\"].str"
   ]
  },
  {
   "cell_type": "code",
   "execution_count": 86,
   "id": "fcc139f8",
   "metadata": {
    "scrolled": true
   },
   "outputs": [],
   "source": [
    "# tq_data.str   #DataFrame数据不能使用"
   ]
  },
  {
   "cell_type": "markdown",
   "id": "a965b80b",
   "metadata": {},
   "source": [
    "### Series.str.replace()  替换"
   ]
  },
  {
   "cell_type": "code",
   "execution_count": 87,
   "id": "fb655c31",
   "metadata": {},
   "outputs": [
    {
     "data": {
      "text/plain": [
       "0       3\n",
       "1       2\n",
       "2       2\n",
       "3       0\n",
       "4       3\n",
       "       ..\n",
       "360    -5\n",
       "361    -3\n",
       "362    -3\n",
       "363    -2\n",
       "364    -2\n",
       "Name: bWendu, Length: 365, dtype: object"
      ]
     },
     "execution_count": 87,
     "metadata": {},
     "output_type": "execute_result"
    }
   ],
   "source": [
    "tq_data[\"bWendu\"].str.replace(\"℃\",\"\")  #返回将最高温的℃符号替换成空字符串后的列"
   ]
  },
  {
   "cell_type": "code",
   "execution_count": 88,
   "id": "ab1a7b2d",
   "metadata": {},
   "outputs": [
    {
     "data": {
      "text/html": [
       "<div>\n",
       "<style scoped>\n",
       "    .dataframe tbody tr th:only-of-type {\n",
       "        vertical-align: middle;\n",
       "    }\n",
       "\n",
       "    .dataframe tbody tr th {\n",
       "        vertical-align: top;\n",
       "    }\n",
       "\n",
       "    .dataframe thead th {\n",
       "        text-align: right;\n",
       "    }\n",
       "</style>\n",
       "<table border=\"1\" class=\"dataframe\">\n",
       "  <thead>\n",
       "    <tr style=\"text-align: right;\">\n",
       "      <th></th>\n",
       "      <th>ymd</th>\n",
       "      <th>bWendu</th>\n",
       "      <th>yWendu</th>\n",
       "      <th>tianqi</th>\n",
       "      <th>fengxiang</th>\n",
       "      <th>fengli</th>\n",
       "      <th>aqi</th>\n",
       "      <th>aqiInfo</th>\n",
       "      <th>aqiLevel</th>\n",
       "    </tr>\n",
       "  </thead>\n",
       "  <tbody>\n",
       "    <tr>\n",
       "      <th>0</th>\n",
       "      <td>2018-01-01</td>\n",
       "      <td>3℃</td>\n",
       "      <td>-6℃</td>\n",
       "      <td>晴~多云</td>\n",
       "      <td>东北风</td>\n",
       "      <td>1-2级</td>\n",
       "      <td>59</td>\n",
       "      <td>良</td>\n",
       "      <td>2</td>\n",
       "    </tr>\n",
       "    <tr>\n",
       "      <th>1</th>\n",
       "      <td>2018-01-02</td>\n",
       "      <td>2℃</td>\n",
       "      <td>-5℃</td>\n",
       "      <td>阴~多云</td>\n",
       "      <td>东北风</td>\n",
       "      <td>1-2级</td>\n",
       "      <td>49</td>\n",
       "      <td>优</td>\n",
       "      <td>1</td>\n",
       "    </tr>\n",
       "    <tr>\n",
       "      <th>2</th>\n",
       "      <td>2018-01-03</td>\n",
       "      <td>2℃</td>\n",
       "      <td>-5℃</td>\n",
       "      <td>多云</td>\n",
       "      <td>北风</td>\n",
       "      <td>1-2级</td>\n",
       "      <td>28</td>\n",
       "      <td>优</td>\n",
       "      <td>1</td>\n",
       "    </tr>\n",
       "    <tr>\n",
       "      <th>3</th>\n",
       "      <td>2018-01-04</td>\n",
       "      <td>0℃</td>\n",
       "      <td>-8℃</td>\n",
       "      <td>阴</td>\n",
       "      <td>东北风</td>\n",
       "      <td>1-2级</td>\n",
       "      <td>28</td>\n",
       "      <td>优</td>\n",
       "      <td>1</td>\n",
       "    </tr>\n",
       "    <tr>\n",
       "      <th>4</th>\n",
       "      <td>2018-01-05</td>\n",
       "      <td>3℃</td>\n",
       "      <td>-6℃</td>\n",
       "      <td>多云~晴</td>\n",
       "      <td>西北风</td>\n",
       "      <td>1-2级</td>\n",
       "      <td>50</td>\n",
       "      <td>优</td>\n",
       "      <td>1</td>\n",
       "    </tr>\n",
       "  </tbody>\n",
       "</table>\n",
       "</div>"
      ],
      "text/plain": [
       "          ymd bWendu yWendu tianqi fengxiang fengli  aqi aqiInfo  aqiLevel\n",
       "0  2018-01-01     3℃    -6℃   晴~多云       东北风   1-2级   59       良         2\n",
       "1  2018-01-02     2℃    -5℃   阴~多云       东北风   1-2级   49       优         1\n",
       "2  2018-01-03     2℃    -5℃     多云        北风   1-2级   28       优         1\n",
       "3  2018-01-04     0℃    -8℃      阴       东北风   1-2级   28       优         1\n",
       "4  2018-01-05     3℃    -6℃   多云~晴       西北风   1-2级   50       优         1"
      ]
     },
     "execution_count": 88,
     "metadata": {},
     "output_type": "execute_result"
    }
   ],
   "source": [
    "tq_data.head()    #注意！！，以下方法皆是只返回处理结果，并不修改原数据"
   ]
  },
  {
   "cell_type": "markdown",
   "id": "5510d7a6",
   "metadata": {},
   "source": [
    "### Series.str.isnumeric()   判断是否为纯数字"
   ]
  },
  {
   "cell_type": "code",
   "execution_count": 89,
   "id": "fc212a5a",
   "metadata": {},
   "outputs": [
    {
     "data": {
      "text/plain": [
       "0      False\n",
       "1      False\n",
       "2      False\n",
       "3      False\n",
       "4      False\n",
       "       ...  \n",
       "360    False\n",
       "361    False\n",
       "362    False\n",
       "363    False\n",
       "364    False\n",
       "Name: bWendu, Length: 365, dtype: bool"
      ]
     },
     "execution_count": 89,
     "metadata": {},
     "output_type": "execute_result"
    }
   ],
   "source": [
    "tq_data[\"bWendu\"].str.isnumeric()  #返回这个字符串是否纯全数字（布尔类型）"
   ]
  },
  {
   "cell_type": "markdown",
   "id": "69c54aef",
   "metadata": {},
   "source": [
    "### Series.str.len()   返回列各字符串长度;与原生不同，这是方法"
   ]
  },
  {
   "cell_type": "code",
   "execution_count": 90,
   "id": "edfbccbb",
   "metadata": {},
   "outputs": [
    {
     "data": {
      "text/plain": [
       "0      3\n",
       "1      3\n",
       "2      2\n",
       "3      3\n",
       "4      3\n",
       "      ..\n",
       "360    3\n",
       "361    3\n",
       "362    3\n",
       "363    3\n",
       "364    3\n",
       "Name: fengxiang, Length: 365, dtype: int64"
      ]
     },
     "execution_count": 90,
     "metadata": {},
     "output_type": "execute_result"
    }
   ],
   "source": [
    "tq_data[\"fengxiang\"].str.len()"
   ]
  },
  {
   "cell_type": "markdown",
   "id": "b9d665c0",
   "metadata": {},
   "source": [
    "### Series.str.startswith()  / Series.str.contains() \n",
    "#### 返回布尔类型的Series查询结果"
   ]
  },
  {
   "cell_type": "code",
   "execution_count": 91,
   "id": "25adb1a2",
   "metadata": {},
   "outputs": [
    {
     "data": {
      "text/plain": [
       "0       True\n",
       "1       True\n",
       "2      False\n",
       "3       True\n",
       "4      False\n",
       "       ...  \n",
       "360    False\n",
       "361    False\n",
       "362    False\n",
       "363     True\n",
       "364     True\n",
       "Name: fengxiang, Length: 365, dtype: bool"
      ]
     },
     "execution_count": 91,
     "metadata": {},
     "output_type": "execute_result"
    }
   ],
   "source": [
    "tq_data[\"fengxiang\"].str.startswith(\"东北风\")"
   ]
  },
  {
   "cell_type": "code",
   "execution_count": 92,
   "id": "7dbe654b",
   "metadata": {},
   "outputs": [
    {
     "data": {
      "text/plain": [
       "0       True\n",
       "1       True\n",
       "2      False\n",
       "3       True\n",
       "4      False\n",
       "       ...  \n",
       "360    False\n",
       "361    False\n",
       "362    False\n",
       "363     True\n",
       "364     True\n",
       "Name: fengxiang, Length: 365, dtype: bool"
      ]
     },
     "execution_count": 92,
     "metadata": {},
     "output_type": "execute_result"
    }
   ],
   "source": [
    "tq_data[\"fengxiang\"].str.contains(\"东北风\")"
   ]
  },
  {
   "cell_type": "code",
   "execution_count": 93,
   "id": "9f79aea0",
   "metadata": {},
   "outputs": [
    {
     "data": {
      "text/html": [
       "<div>\n",
       "<style scoped>\n",
       "    .dataframe tbody tr th:only-of-type {\n",
       "        vertical-align: middle;\n",
       "    }\n",
       "\n",
       "    .dataframe tbody tr th {\n",
       "        vertical-align: top;\n",
       "    }\n",
       "\n",
       "    .dataframe thead th {\n",
       "        text-align: right;\n",
       "    }\n",
       "</style>\n",
       "<table border=\"1\" class=\"dataframe\">\n",
       "  <thead>\n",
       "    <tr style=\"text-align: right;\">\n",
       "      <th></th>\n",
       "      <th>ymd</th>\n",
       "      <th>bWendu</th>\n",
       "      <th>yWendu</th>\n",
       "      <th>tianqi</th>\n",
       "      <th>fengxiang</th>\n",
       "      <th>fengli</th>\n",
       "      <th>aqi</th>\n",
       "      <th>aqiInfo</th>\n",
       "      <th>aqiLevel</th>\n",
       "    </tr>\n",
       "  </thead>\n",
       "  <tbody>\n",
       "    <tr>\n",
       "      <th>0</th>\n",
       "      <td>2018-01-01</td>\n",
       "      <td>3℃</td>\n",
       "      <td>-6℃</td>\n",
       "      <td>晴~多云</td>\n",
       "      <td>东北风</td>\n",
       "      <td>1-2级</td>\n",
       "      <td>59</td>\n",
       "      <td>良</td>\n",
       "      <td>2</td>\n",
       "    </tr>\n",
       "    <tr>\n",
       "      <th>1</th>\n",
       "      <td>2018-01-02</td>\n",
       "      <td>2℃</td>\n",
       "      <td>-5℃</td>\n",
       "      <td>阴~多云</td>\n",
       "      <td>东北风</td>\n",
       "      <td>1-2级</td>\n",
       "      <td>49</td>\n",
       "      <td>优</td>\n",
       "      <td>1</td>\n",
       "    </tr>\n",
       "    <tr>\n",
       "      <th>3</th>\n",
       "      <td>2018-01-04</td>\n",
       "      <td>0℃</td>\n",
       "      <td>-8℃</td>\n",
       "      <td>阴</td>\n",
       "      <td>东北风</td>\n",
       "      <td>1-2级</td>\n",
       "      <td>28</td>\n",
       "      <td>优</td>\n",
       "      <td>1</td>\n",
       "    </tr>\n",
       "    <tr>\n",
       "      <th>20</th>\n",
       "      <td>2018-01-21</td>\n",
       "      <td>0℃</td>\n",
       "      <td>-5℃</td>\n",
       "      <td>阴~小雪</td>\n",
       "      <td>东北风</td>\n",
       "      <td>1-2级</td>\n",
       "      <td>63</td>\n",
       "      <td>良</td>\n",
       "      <td>2</td>\n",
       "    </tr>\n",
       "    <tr>\n",
       "      <th>24</th>\n",
       "      <td>2018-01-25</td>\n",
       "      <td>-3℃</td>\n",
       "      <td>-11℃</td>\n",
       "      <td>多云</td>\n",
       "      <td>东北风</td>\n",
       "      <td>1-2级</td>\n",
       "      <td>27</td>\n",
       "      <td>优</td>\n",
       "      <td>1</td>\n",
       "    </tr>\n",
       "  </tbody>\n",
       "</table>\n",
       "</div>"
      ],
      "text/plain": [
       "           ymd bWendu yWendu tianqi fengxiang fengli  aqi aqiInfo  aqiLevel\n",
       "0   2018-01-01     3℃    -6℃   晴~多云       东北风   1-2级   59       良         2\n",
       "1   2018-01-02     2℃    -5℃   阴~多云       东北风   1-2级   49       优         1\n",
       "3   2018-01-04     0℃    -8℃      阴       东北风   1-2级   28       优         1\n",
       "20  2018-01-21     0℃    -5℃   阴~小雪       东北风   1-2级   63       良         2\n",
       "24  2018-01-25    -3℃   -11℃     多云       东北风   1-2级   27       优         1"
      ]
     },
     "execution_count": 93,
     "metadata": {},
     "output_type": "execute_result"
    }
   ],
   "source": [
    "tq_data[tq_data[\"fengxiang\"].str.contains(\"东北风\")].head()  #前五个刮东北风的当天数据"
   ]
  },
  {
   "cell_type": "markdown",
   "id": "1bbb6d0c",
   "metadata": {},
   "source": [
    "## str.xx方法的链式使用的注意事项"
   ]
  },
  {
   "cell_type": "code",
   "execution_count": 94,
   "id": "706ee826",
   "metadata": {},
   "outputs": [
    {
     "data": {
      "text/plain": [
       "0      3\n",
       "1      3\n",
       "2      2\n",
       "3      3\n",
       "4      3\n",
       "      ..\n",
       "360    3\n",
       "361    3\n",
       "362    3\n",
       "363    3\n",
       "364    3\n",
       "Name: fengxiang, Length: 365, dtype: int64"
      ]
     },
     "execution_count": 94,
     "metadata": {},
     "output_type": "execute_result"
    }
   ],
   "source": [
    "tq_data[\"fengxiang\"].replace(\"风\",\"\").str.len()"
   ]
  },
  {
   "cell_type": "code",
   "execution_count": 95,
   "id": "d04242f6",
   "metadata": {},
   "outputs": [
    {
     "data": {
      "text/plain": [
       "'\\n注意！！！\\n上述方法返回的均是Series类型，而上述方法都是Series.str属性的方法，而不是Series的方法\\n需要加上“.str”以调用返回结果的str属性\\n'"
      ]
     },
     "execution_count": 95,
     "metadata": {},
     "output_type": "execute_result"
    }
   ],
   "source": [
    " # tq_data[\"fengxiang\"].replace(\"风\",\"\").len()    #反面教材！！\n",
    "'''\n",
    "注意！！！\n",
    "上述方法返回的均是Series类型，而上述方法都是Series.str属性的方法，而不是Series的方法\n",
    "需要加上“.str”以调用返回结果的str属性\n",
    "'''"
   ]
  },
  {
   "cell_type": "markdown",
   "id": "41f16d41",
   "metadata": {},
   "source": [
    "## 使用正则表达式处理"
   ]
  },
  {
   "cell_type": "code",
   "execution_count": 96,
   "id": "e1bd59d5",
   "metadata": {},
   "outputs": [
    {
     "data": {
      "text/plain": [
       "0      2018年01月01日\n",
       "1      2018年01月02日\n",
       "2      2018年01月03日\n",
       "3      2018年01月04日\n",
       "4      2018年01月05日\n",
       "          ...     \n",
       "360    2018年12月27日\n",
       "361    2018年12月28日\n",
       "362    2018年12月29日\n",
       "363    2018年12月30日\n",
       "364    2018年12月31日\n",
       "Length: 365, dtype: object"
      ]
     },
     "execution_count": 96,
     "metadata": {},
     "output_type": "execute_result"
    }
   ],
   "source": [
    "#例子1\n",
    "def zhongwenrq (x):\n",
    "    y,m,d=x['ymd'].split(\"-\")#匹配到\"ymd\"任意一字符就使用\"-\"分割\n",
    "    return f\"{y}年{m}月{d}日\"\n",
    "zw_date=tq_data.apply(zhongwenrq,axis=1)\n",
    "zw_date"
   ]
  },
  {
   "cell_type": "code",
   "execution_count": 97,
   "id": "6691a028",
   "metadata": {},
   "outputs": [
    {
     "name": "stderr",
     "output_type": "stream",
     "text": [
      "<ipython-input-97-0a001cac03d1>:2: FutureWarning: The default value of regex will change from True to False in a future version.\n",
      "  zw_date.str.replace(\"[年月日]\",\"\")\n"
     ]
    },
    {
     "data": {
      "text/plain": [
       "0      20180101\n",
       "1      20180102\n",
       "2      20180103\n",
       "3      20180104\n",
       "4      20180105\n",
       "         ...   \n",
       "360    20181227\n",
       "361    20181228\n",
       "362    20181229\n",
       "363    20181230\n",
       "364    20181231\n",
       "Length: 365, dtype: object"
      ]
     },
     "execution_count": 97,
     "metadata": {},
     "output_type": "execute_result"
    }
   ],
   "source": [
    "#例子2\n",
    "zw_date.str.replace(\"[年月日]\",\"\")"
   ]
  },
  {
   "cell_type": "markdown",
   "id": "011ecbf5",
   "metadata": {},
   "source": [
    "#### ⚠来自Pandas的警告：\n",
    "在将来的版本中，Series.str.replace()的regex的默认值将从True变为False。此外，当设置regex=True时，单字符正则表达式不会被视为文本字符串"
   ]
  },
  {
   "cell_type": "markdown",
   "id": "e87a3035",
   "metadata": {},
   "source": [
    "# Pandas的axis参数"
   ]
  },
  {
   "cell_type": "code",
   "execution_count": 98,
   "id": "5d4c26f3",
   "metadata": {},
   "outputs": [
    {
     "data": {
      "text/html": [
       "<div>\n",
       "<style scoped>\n",
       "    .dataframe tbody tr th:only-of-type {\n",
       "        vertical-align: middle;\n",
       "    }\n",
       "\n",
       "    .dataframe tbody tr th {\n",
       "        vertical-align: top;\n",
       "    }\n",
       "\n",
       "    .dataframe thead th {\n",
       "        text-align: right;\n",
       "    }\n",
       "</style>\n",
       "<table border=\"1\" class=\"dataframe\">\n",
       "  <thead>\n",
       "    <tr style=\"text-align: right;\">\n",
       "      <th></th>\n",
       "      <th>第一列</th>\n",
       "      <th>第二列</th>\n",
       "      <th>第三列</th>\n",
       "      <th>第四列</th>\n",
       "    </tr>\n",
       "  </thead>\n",
       "  <tbody>\n",
       "    <tr>\n",
       "      <th>第一行</th>\n",
       "      <td>0</td>\n",
       "      <td>1</td>\n",
       "      <td>2</td>\n",
       "      <td>3</td>\n",
       "    </tr>\n",
       "    <tr>\n",
       "      <th>第二行</th>\n",
       "      <td>4</td>\n",
       "      <td>5</td>\n",
       "      <td>6</td>\n",
       "      <td>7</td>\n",
       "    </tr>\n",
       "    <tr>\n",
       "      <th>第三行</th>\n",
       "      <td>8</td>\n",
       "      <td>9</td>\n",
       "      <td>10</td>\n",
       "      <td>11</td>\n",
       "    </tr>\n",
       "    <tr>\n",
       "      <th>第四行</th>\n",
       "      <td>12</td>\n",
       "      <td>13</td>\n",
       "      <td>14</td>\n",
       "      <td>15</td>\n",
       "    </tr>\n",
       "  </tbody>\n",
       "</table>\n",
       "</div>"
      ],
      "text/plain": [
       "     第一列  第二列  第三列  第四列\n",
       "第一行    0    1    2    3\n",
       "第二行    4    5    6    7\n",
       "第三行    8    9   10   11\n",
       "第四行   12   13   14   15"
      ]
     },
     "execution_count": 98,
     "metadata": {},
     "output_type": "execute_result"
    }
   ],
   "source": [
    "df = pd.DataFrame(\n",
    "    np.arange(16).reshape(4,4)  #4X4的数据\n",
    "    ,columns=['第一列','第二列','第三列','第四列']\n",
    "    ,index=['第一行','第二行','第三行','第四行']\n",
    ")\n",
    "df"
   ]
  },
  {
   "cell_type": "markdown",
   "id": "267fd635",
   "metadata": {},
   "source": [
    "### axis=0 or \"index\""
   ]
  },
  {
   "cell_type": "markdown",
   "id": "ee6f76f8",
   "metadata": {},
   "source": [
    "如果是单行操作，则是指某一行，如果是聚合操作，则是每一列"
   ]
  },
  {
   "cell_type": "code",
   "execution_count": 99,
   "id": "c8bfe436",
   "metadata": {},
   "outputs": [
    {
     "data": {
      "text/html": [
       "<div>\n",
       "<style scoped>\n",
       "    .dataframe tbody tr th:only-of-type {\n",
       "        vertical-align: middle;\n",
       "    }\n",
       "\n",
       "    .dataframe tbody tr th {\n",
       "        vertical-align: top;\n",
       "    }\n",
       "\n",
       "    .dataframe thead th {\n",
       "        text-align: right;\n",
       "    }\n",
       "</style>\n",
       "<table border=\"1\" class=\"dataframe\">\n",
       "  <thead>\n",
       "    <tr style=\"text-align: right;\">\n",
       "      <th></th>\n",
       "      <th>第一列</th>\n",
       "      <th>第二列</th>\n",
       "      <th>第三列</th>\n",
       "      <th>第四列</th>\n",
       "    </tr>\n",
       "  </thead>\n",
       "  <tbody>\n",
       "    <tr>\n",
       "      <th>第二行</th>\n",
       "      <td>4</td>\n",
       "      <td>5</td>\n",
       "      <td>6</td>\n",
       "      <td>7</td>\n",
       "    </tr>\n",
       "    <tr>\n",
       "      <th>第三行</th>\n",
       "      <td>8</td>\n",
       "      <td>9</td>\n",
       "      <td>10</td>\n",
       "      <td>11</td>\n",
       "    </tr>\n",
       "    <tr>\n",
       "      <th>第四行</th>\n",
       "      <td>12</td>\n",
       "      <td>13</td>\n",
       "      <td>14</td>\n",
       "      <td>15</td>\n",
       "    </tr>\n",
       "  </tbody>\n",
       "</table>\n",
       "</div>"
      ],
      "text/plain": [
       "     第一列  第二列  第三列  第四列\n",
       "第二行    4    5    6    7\n",
       "第三行    8    9   10   11\n",
       "第四行   12   13   14   15"
      ]
     },
     "execution_count": 99,
     "metadata": {},
     "output_type": "execute_result"
    }
   ],
   "source": [
    "df.drop(\"第一行\",axis=0)   #正常情况   --删除第一行  （drop方法返回处理结果，并不直接修改原数据）"
   ]
  },
  {
   "cell_type": "code",
   "execution_count": 100,
   "id": "3f18365d",
   "metadata": {},
   "outputs": [
    {
     "data": {
      "text/plain": [
       "第一列    0\n",
       "第二列    1\n",
       "第三列    2\n",
       "第四列    3\n",
       "dtype: int32"
      ]
     },
     "execution_count": 100,
     "metadata": {},
     "output_type": "execute_result"
    }
   ],
   "source": [
    "df.min(axis=0)   #聚合操作(最小值)  可以理解成每一列中，所有的行的聚合操作结果 "
   ]
  },
  {
   "cell_type": "markdown",
   "id": "0d17ba53",
   "metadata": {},
   "source": [
    "😉惊不惊喜！！意不意外！！"
   ]
  },
  {
   "cell_type": "markdown",
   "id": "5592e62a",
   "metadata": {},
   "source": [
    "这里UP主的视频非常直观，不理解可以看看我学习Pandas的那位UP主"
   ]
  },
  {
   "cell_type": "markdown",
   "id": "c9dd90ec",
   "metadata": {},
   "source": [
    "https://www.bilibili.com/video/BV1UJ411A7Fs"
   ]
  },
  {
   "cell_type": "markdown",
   "id": "7f7db532",
   "metadata": {},
   "source": [
    "### axis=1 or \"columns\""
   ]
  },
  {
   "cell_type": "markdown",
   "id": "ca1dd7cf",
   "metadata": {},
   "source": [
    "如果是单列操作，则是指某一列；如果是聚合操作，则是每一行"
   ]
  },
  {
   "cell_type": "code",
   "execution_count": 101,
   "id": "35d27e58",
   "metadata": {},
   "outputs": [
    {
     "data": {
      "text/html": [
       "<div>\n",
       "<style scoped>\n",
       "    .dataframe tbody tr th:only-of-type {\n",
       "        vertical-align: middle;\n",
       "    }\n",
       "\n",
       "    .dataframe tbody tr th {\n",
       "        vertical-align: top;\n",
       "    }\n",
       "\n",
       "    .dataframe thead th {\n",
       "        text-align: right;\n",
       "    }\n",
       "</style>\n",
       "<table border=\"1\" class=\"dataframe\">\n",
       "  <thead>\n",
       "    <tr style=\"text-align: right;\">\n",
       "      <th></th>\n",
       "      <th>第一列</th>\n",
       "      <th>第三列</th>\n",
       "      <th>第四列</th>\n",
       "    </tr>\n",
       "  </thead>\n",
       "  <tbody>\n",
       "    <tr>\n",
       "      <th>第一行</th>\n",
       "      <td>0</td>\n",
       "      <td>2</td>\n",
       "      <td>3</td>\n",
       "    </tr>\n",
       "    <tr>\n",
       "      <th>第二行</th>\n",
       "      <td>4</td>\n",
       "      <td>6</td>\n",
       "      <td>7</td>\n",
       "    </tr>\n",
       "    <tr>\n",
       "      <th>第三行</th>\n",
       "      <td>8</td>\n",
       "      <td>10</td>\n",
       "      <td>11</td>\n",
       "    </tr>\n",
       "    <tr>\n",
       "      <th>第四行</th>\n",
       "      <td>12</td>\n",
       "      <td>14</td>\n",
       "      <td>15</td>\n",
       "    </tr>\n",
       "  </tbody>\n",
       "</table>\n",
       "</div>"
      ],
      "text/plain": [
       "     第一列  第三列  第四列\n",
       "第一行    0    2    3\n",
       "第二行    4    6    7\n",
       "第三行    8   10   11\n",
       "第四行   12   14   15"
      ]
     },
     "execution_count": 101,
     "metadata": {},
     "output_type": "execute_result"
    }
   ],
   "source": [
    "df.drop(\"第二列\",axis=1)   #正常情况   --删除第二列"
   ]
  },
  {
   "cell_type": "code",
   "execution_count": 102,
   "id": "b77a3546",
   "metadata": {},
   "outputs": [
    {
     "data": {
      "text/plain": [
       "第一行     0\n",
       "第二行     4\n",
       "第三行     8\n",
       "第四行    12\n",
       "dtype: int32"
      ]
     },
     "execution_count": 102,
     "metadata": {},
     "output_type": "execute_result"
    }
   ],
   "source": [
    "df.min(axis=1)   #聚合操作(最小值)  可以理解成每一行中，所有的列的聚合操作结果"
   ]
  },
  {
   "cell_type": "markdown",
   "id": "e61f18b8",
   "metadata": {},
   "source": [
    "# Pandas的index"
   ]
  },
  {
   "cell_type": "code",
   "execution_count": 103,
   "id": "824e2d47",
   "metadata": {},
   "outputs": [],
   "source": [
    "df=pd.read_csv(\"D:\\\\编程项目\\\\python项目\\\\bigdata\\\\data\\\\ratings.csv\")"
   ]
  },
  {
   "cell_type": "markdown",
   "id": "ba252241",
   "metadata": {},
   "source": [
    "### 使用index相较于普通的column列有以下好处"
   ]
  },
  {
   "cell_type": "markdown",
   "id": "bae23f7e",
   "metadata": {},
   "source": [
    "1--查询数据更加方便"
   ]
  },
  {
   "cell_type": "code",
   "execution_count": 104,
   "id": "62681ff3",
   "metadata": {},
   "outputs": [
    {
     "data": {
      "text/html": [
       "<div>\n",
       "<style scoped>\n",
       "    .dataframe tbody tr th:only-of-type {\n",
       "        vertical-align: middle;\n",
       "    }\n",
       "\n",
       "    .dataframe tbody tr th {\n",
       "        vertical-align: top;\n",
       "    }\n",
       "\n",
       "    .dataframe thead th {\n",
       "        text-align: right;\n",
       "    }\n",
       "</style>\n",
       "<table border=\"1\" class=\"dataframe\">\n",
       "  <thead>\n",
       "    <tr style=\"text-align: right;\">\n",
       "      <th></th>\n",
       "      <th>userId</th>\n",
       "      <th>movieId</th>\n",
       "      <th>rating</th>\n",
       "      <th>timestamp</th>\n",
       "    </tr>\n",
       "  </thead>\n",
       "  <tbody>\n",
       "    <tr>\n",
       "      <th>0</th>\n",
       "      <td>1</td>\n",
       "      <td>1</td>\n",
       "      <td>4.0</td>\n",
       "      <td>964982703</td>\n",
       "    </tr>\n",
       "    <tr>\n",
       "      <th>1</th>\n",
       "      <td>1</td>\n",
       "      <td>3</td>\n",
       "      <td>4.0</td>\n",
       "      <td>964981247</td>\n",
       "    </tr>\n",
       "    <tr>\n",
       "      <th>2</th>\n",
       "      <td>1</td>\n",
       "      <td>6</td>\n",
       "      <td>4.0</td>\n",
       "      <td>964982224</td>\n",
       "    </tr>\n",
       "    <tr>\n",
       "      <th>3</th>\n",
       "      <td>1</td>\n",
       "      <td>47</td>\n",
       "      <td>5.0</td>\n",
       "      <td>964983815</td>\n",
       "    </tr>\n",
       "    <tr>\n",
       "      <th>4</th>\n",
       "      <td>1</td>\n",
       "      <td>50</td>\n",
       "      <td>5.0</td>\n",
       "      <td>964982931</td>\n",
       "    </tr>\n",
       "  </tbody>\n",
       "</table>\n",
       "</div>"
      ],
      "text/plain": [
       "   userId  movieId  rating  timestamp\n",
       "0       1        1     4.0  964982703\n",
       "1       1        3     4.0  964981247\n",
       "2       1        6     4.0  964982224\n",
       "3       1       47     5.0  964983815\n",
       "4       1       50     5.0  964982931"
      ]
     },
     "execution_count": 104,
     "metadata": {},
     "output_type": "execute_result"
    }
   ],
   "source": [
    "df.head()"
   ]
  },
  {
   "cell_type": "code",
   "execution_count": 105,
   "id": "8f9f3896",
   "metadata": {},
   "outputs": [
    {
     "data": {
      "text/html": [
       "<div>\n",
       "<style scoped>\n",
       "    .dataframe tbody tr th:only-of-type {\n",
       "        vertical-align: middle;\n",
       "    }\n",
       "\n",
       "    .dataframe tbody tr th {\n",
       "        vertical-align: top;\n",
       "    }\n",
       "\n",
       "    .dataframe thead th {\n",
       "        text-align: right;\n",
       "    }\n",
       "</style>\n",
       "<table border=\"1\" class=\"dataframe\">\n",
       "  <thead>\n",
       "    <tr style=\"text-align: right;\">\n",
       "      <th></th>\n",
       "      <th>userId</th>\n",
       "      <th>movieId</th>\n",
       "      <th>rating</th>\n",
       "      <th>timestamp</th>\n",
       "    </tr>\n",
       "    <tr>\n",
       "      <th>userId</th>\n",
       "      <th></th>\n",
       "      <th></th>\n",
       "      <th></th>\n",
       "      <th></th>\n",
       "    </tr>\n",
       "  </thead>\n",
       "  <tbody>\n",
       "    <tr>\n",
       "      <th>1</th>\n",
       "      <td>1</td>\n",
       "      <td>1</td>\n",
       "      <td>4.0</td>\n",
       "      <td>964982703</td>\n",
       "    </tr>\n",
       "    <tr>\n",
       "      <th>1</th>\n",
       "      <td>1</td>\n",
       "      <td>3</td>\n",
       "      <td>4.0</td>\n",
       "      <td>964981247</td>\n",
       "    </tr>\n",
       "    <tr>\n",
       "      <th>1</th>\n",
       "      <td>1</td>\n",
       "      <td>6</td>\n",
       "      <td>4.0</td>\n",
       "      <td>964982224</td>\n",
       "    </tr>\n",
       "    <tr>\n",
       "      <th>1</th>\n",
       "      <td>1</td>\n",
       "      <td>47</td>\n",
       "      <td>5.0</td>\n",
       "      <td>964983815</td>\n",
       "    </tr>\n",
       "    <tr>\n",
       "      <th>1</th>\n",
       "      <td>1</td>\n",
       "      <td>50</td>\n",
       "      <td>5.0</td>\n",
       "      <td>964982931</td>\n",
       "    </tr>\n",
       "    <tr>\n",
       "      <th>...</th>\n",
       "      <td>...</td>\n",
       "      <td>...</td>\n",
       "      <td>...</td>\n",
       "      <td>...</td>\n",
       "    </tr>\n",
       "    <tr>\n",
       "      <th>610</th>\n",
       "      <td>610</td>\n",
       "      <td>166534</td>\n",
       "      <td>4.0</td>\n",
       "      <td>1493848402</td>\n",
       "    </tr>\n",
       "    <tr>\n",
       "      <th>610</th>\n",
       "      <td>610</td>\n",
       "      <td>168248</td>\n",
       "      <td>5.0</td>\n",
       "      <td>1493850091</td>\n",
       "    </tr>\n",
       "    <tr>\n",
       "      <th>610</th>\n",
       "      <td>610</td>\n",
       "      <td>168250</td>\n",
       "      <td>5.0</td>\n",
       "      <td>1494273047</td>\n",
       "    </tr>\n",
       "    <tr>\n",
       "      <th>610</th>\n",
       "      <td>610</td>\n",
       "      <td>168252</td>\n",
       "      <td>5.0</td>\n",
       "      <td>1493846352</td>\n",
       "    </tr>\n",
       "    <tr>\n",
       "      <th>610</th>\n",
       "      <td>610</td>\n",
       "      <td>170875</td>\n",
       "      <td>3.0</td>\n",
       "      <td>1493846415</td>\n",
       "    </tr>\n",
       "  </tbody>\n",
       "</table>\n",
       "<p>100836 rows × 4 columns</p>\n",
       "</div>"
      ],
      "text/plain": [
       "        userId  movieId  rating   timestamp\n",
       "userId                                     \n",
       "1            1        1     4.0   964982703\n",
       "1            1        3     4.0   964981247\n",
       "1            1        6     4.0   964982224\n",
       "1            1       47     5.0   964983815\n",
       "1            1       50     5.0   964982931\n",
       "...        ...      ...     ...         ...\n",
       "610        610   166534     4.0  1493848402\n",
       "610        610   168248     5.0  1493850091\n",
       "610        610   168250     5.0  1494273047\n",
       "610        610   168252     5.0  1493846352\n",
       "610        610   170875     3.0  1493846415\n",
       "\n",
       "[100836 rows x 4 columns]"
      ]
     },
     "execution_count": 105,
     "metadata": {},
     "output_type": "execute_result"
    }
   ],
   "source": [
    "df.set_index(\n",
    "    \"userId\"      #使用userId列作为索引\n",
    "    ,inplace=True\n",
    "    ,drop=False    #不删除userId列\n",
    ")\n",
    "df"
   ]
  },
  {
   "cell_type": "code",
   "execution_count": 106,
   "id": "5d892f65",
   "metadata": {},
   "outputs": [
    {
     "data": {
      "text/plain": [
       "Int64Index([  1,   1,   1,   1,   1,   1,   1,   1,   1,   1,\n",
       "            ...\n",
       "            610, 610, 610, 610, 610, 610, 610, 610, 610, 610],\n",
       "           dtype='int64', name='userId', length=100836)"
      ]
     },
     "execution_count": 106,
     "metadata": {},
     "output_type": "execute_result"
    }
   ],
   "source": [
    "df.index   #index并不算数据体本身，它只是一个索引"
   ]
  },
  {
   "cell_type": "code",
   "execution_count": 107,
   "id": "19b41067",
   "metadata": {},
   "outputs": [
    {
     "data": {
      "text/html": [
       "<div>\n",
       "<style scoped>\n",
       "    .dataframe tbody tr th:only-of-type {\n",
       "        vertical-align: middle;\n",
       "    }\n",
       "\n",
       "    .dataframe tbody tr th {\n",
       "        vertical-align: top;\n",
       "    }\n",
       "\n",
       "    .dataframe thead th {\n",
       "        text-align: right;\n",
       "    }\n",
       "</style>\n",
       "<table border=\"1\" class=\"dataframe\">\n",
       "  <thead>\n",
       "    <tr style=\"text-align: right;\">\n",
       "      <th></th>\n",
       "      <th>userId</th>\n",
       "      <th>movieId</th>\n",
       "      <th>rating</th>\n",
       "      <th>timestamp</th>\n",
       "    </tr>\n",
       "    <tr>\n",
       "      <th>userId</th>\n",
       "      <th></th>\n",
       "      <th></th>\n",
       "      <th></th>\n",
       "      <th></th>\n",
       "    </tr>\n",
       "  </thead>\n",
       "  <tbody>\n",
       "    <tr>\n",
       "      <th>300</th>\n",
       "      <td>300</td>\n",
       "      <td>318</td>\n",
       "      <td>4.0</td>\n",
       "      <td>1425351440</td>\n",
       "    </tr>\n",
       "    <tr>\n",
       "      <th>300</th>\n",
       "      <td>300</td>\n",
       "      <td>356</td>\n",
       "      <td>4.0</td>\n",
       "      <td>1425351838</td>\n",
       "    </tr>\n",
       "    <tr>\n",
       "      <th>300</th>\n",
       "      <td>300</td>\n",
       "      <td>527</td>\n",
       "      <td>5.0</td>\n",
       "      <td>1425351444</td>\n",
       "    </tr>\n",
       "  </tbody>\n",
       "</table>\n",
       "</div>"
      ],
      "text/plain": [
       "        userId  movieId  rating   timestamp\n",
       "userId                                     \n",
       "300        300      318     4.0  1425351440\n",
       "300        300      356     4.0  1425351838\n",
       "300        300      527     5.0  1425351444"
      ]
     },
     "execution_count": 107,
     "metadata": {},
     "output_type": "execute_result"
    }
   ],
   "source": [
    "#使用传统column查询\n",
    "df.loc[df[\"userId\"]==300].head(3)"
   ]
  },
  {
   "cell_type": "code",
   "execution_count": 108,
   "id": "f07d099b",
   "metadata": {},
   "outputs": [
    {
     "data": {
      "text/html": [
       "<div>\n",
       "<style scoped>\n",
       "    .dataframe tbody tr th:only-of-type {\n",
       "        vertical-align: middle;\n",
       "    }\n",
       "\n",
       "    .dataframe tbody tr th {\n",
       "        vertical-align: top;\n",
       "    }\n",
       "\n",
       "    .dataframe thead th {\n",
       "        text-align: right;\n",
       "    }\n",
       "</style>\n",
       "<table border=\"1\" class=\"dataframe\">\n",
       "  <thead>\n",
       "    <tr style=\"text-align: right;\">\n",
       "      <th></th>\n",
       "      <th>userId</th>\n",
       "      <th>movieId</th>\n",
       "      <th>rating</th>\n",
       "      <th>timestamp</th>\n",
       "    </tr>\n",
       "    <tr>\n",
       "      <th>userId</th>\n",
       "      <th></th>\n",
       "      <th></th>\n",
       "      <th></th>\n",
       "      <th></th>\n",
       "    </tr>\n",
       "  </thead>\n",
       "  <tbody>\n",
       "    <tr>\n",
       "      <th>300</th>\n",
       "      <td>300</td>\n",
       "      <td>318</td>\n",
       "      <td>4.0</td>\n",
       "      <td>1425351440</td>\n",
       "    </tr>\n",
       "    <tr>\n",
       "      <th>300</th>\n",
       "      <td>300</td>\n",
       "      <td>356</td>\n",
       "      <td>4.0</td>\n",
       "      <td>1425351838</td>\n",
       "    </tr>\n",
       "    <tr>\n",
       "      <th>300</th>\n",
       "      <td>300</td>\n",
       "      <td>527</td>\n",
       "      <td>5.0</td>\n",
       "      <td>1425351444</td>\n",
       "    </tr>\n",
       "  </tbody>\n",
       "</table>\n",
       "</div>"
      ],
      "text/plain": [
       "        userId  movieId  rating   timestamp\n",
       "userId                                     \n",
       "300        300      318     4.0  1425351440\n",
       "300        300      356     4.0  1425351838\n",
       "300        300      527     5.0  1425351444"
      ]
     },
     "execution_count": 108,
     "metadata": {},
     "output_type": "execute_result"
    }
   ],
   "source": [
    "#使用index查询\n",
    "df.loc[300].head(3)     #因为userId是index，所以可以简化上述方法"
   ]
  },
  {
   "cell_type": "markdown",
   "id": "71909945",
   "metadata": {},
   "source": [
    "2--index拥有更好的性能"
   ]
  },
  {
   "cell_type": "markdown",
   "id": "b1137504",
   "metadata": {},
   "source": [
    "##### -----如果index是唯一的，Pandas会使用哈希表优化算法，查询性能为O(1)"
   ]
  },
  {
   "cell_type": "markdown",
   "id": "4d4ecfc7",
   "metadata": {},
   "source": [
    "##### -----如果index是不唯一但有序的，Pandas会使用二分表算法，查询性能为O(logN)"
   ]
  },
  {
   "cell_type": "markdown",
   "id": "580c30b8",
   "metadata": {},
   "source": [
    "##### ------如果index是不唯一且无序的，Pandas会逐个扫描全表，查询性能为O(N)"
   ]
  },
  {
   "cell_type": "markdown",
   "id": "55d72ed9",
   "metadata": {},
   "source": [
    "参考自 https://www.cnblogs.com/xingxingnbsp/p/13851900.html 并进行简化"
   ]
  },
  {
   "cell_type": "code",
   "execution_count": 109,
   "id": "a241dfe2",
   "metadata": {},
   "outputs": [
    {
     "name": "stdout",
     "output_type": "stream",
     "text": [
      "************************* 将数据随机打散,打印前几行数据 *************************\n",
      "        userId  movieId  rating   timestamp\n",
      "userId                                     \n",
      "580        580       70     5.0  1167673477\n",
      "292        292    72641     4.0  1293562657\n",
      "133        133      153     1.0   843490845\n",
      "************************* 判断索引是否是递增的 *************************\n",
      "False\n",
      "************************* 判断索引是否唯一 *************************\n",
      "False\n",
      "************************* 计时查询id==500的数据查询性能 *************************\n",
      "0.005984899999999627\n"
     ]
    }
   ],
   "source": [
    "#重复且无序的index\n",
    "import pandas as pd\n",
    "import timeit\n",
    "from sklearn.utils import shuffle\n",
    "\n",
    "# 将数据随机打散\n",
    "print('*' * 25, '将数据随机打散,打印前几行数据', '*' * 25)\n",
    "df_shuffle = shuffle(df)\n",
    "print(df_shuffle.head(3))\n",
    "\n",
    "# 判断索引是否是递增的\n",
    "print('*' * 25, '判断索引是否是递增的', '*' * 25)\n",
    "print(df_shuffle.index.is_monotonic_increasing)\n",
    "\n",
    "# 判断索引是否唯一\n",
    "print('*' * 25, '判断索引是否唯一', '*' * 25)\n",
    "print(df_shuffle.index.is_unique)\n",
    "\n",
    "# 计时查询id==500的数据查询性能\n",
    "print('*' * 25, '计时查询id==500的数据查询性能', '*' * 25)\n",
    "def test():\n",
    "    return df_shuffle.loc[500]\n",
    "print(timeit.timeit(stmt=test, number=10))"
   ]
  },
  {
   "cell_type": "code",
   "execution_count": 110,
   "id": "b7a3bb81",
   "metadata": {},
   "outputs": [
    {
     "name": "stdout",
     "output_type": "stream",
     "text": [
      "************************* 将数据按照index排序,打印前几行数据 *************************\n",
      "        userId  movieId  rating  timestamp\n",
      "userId                                    \n",
      "1            1     2654     5.0  964983393\n",
      "1            1      367     4.0  964981710\n",
      "1            1     1214     4.0  964981855\n",
      "************************* 判断索引是否是递增的 *************************\n",
      "True\n",
      "************************* 判断索引是否唯一 *************************\n",
      "False\n",
      "************************* 计时查询id==500的数据查询性能 *************************\n",
      "0.0011867999999992662\n"
     ]
    }
   ],
   "source": [
    "#重复但顺序的index\n",
    "# 将数据按照index排序\n",
    "print('*' * 25, '将数据按照index排序,打印前几行数据', '*' * 25)\n",
    "df_sorted = df_shuffle.sort_index()   #index排序\n",
    "print(df_sorted.head(3))#打印\n",
    "\n",
    "# 判断索引是否是递增的\n",
    "print('*' * 25, '判断索引是否是递增的', '*' * 25)\n",
    "print(df_sorted.index.is_monotonic_increasing)\n",
    "\n",
    "# 判断索引是否唯一\n",
    "print('*' * 25, '判断索引是否唯一', '*' * 25)\n",
    "print(df_sorted.index.is_unique)\n",
    "\n",
    "# 计时查询id==500的数据查询性能\n",
    "print('*' * 25, '计时查询id==500的数据查询性能', '*' * 25)\n",
    "def test():\n",
    "    return df_sorted.loc[500]\n",
    "print(timeit.timeit(stmt=test, number=10))\n"
   ]
  },
  {
   "cell_type": "markdown",
   "id": "792fe8b8",
   "metadata": {},
   "source": [
    "3--数据自动对齐"
   ]
  },
  {
   "cell_type": "code",
   "execution_count": 111,
   "id": "3edba849",
   "metadata": {},
   "outputs": [
    {
     "data": {
      "text/plain": [
       "a    1\n",
       "b    2\n",
       "c    3\n",
       "dtype: int64"
      ]
     },
     "execution_count": 111,
     "metadata": {},
     "output_type": "execute_result"
    }
   ],
   "source": [
    "s3_1=pd.Series([1,2,3],index=list(\"abc\"))\n",
    "s3_1"
   ]
  },
  {
   "cell_type": "code",
   "execution_count": 112,
   "id": "a451e8be",
   "metadata": {},
   "outputs": [
    {
     "data": {
      "text/plain": [
       "b    2\n",
       "c    3\n",
       "d    4\n",
       "dtype: int64"
      ]
     },
     "execution_count": 112,
     "metadata": {},
     "output_type": "execute_result"
    }
   ],
   "source": [
    "s3_2=pd.Series([2,3,4],index=list(\"bcd\"))\n",
    "s3_2"
   ]
  },
  {
   "cell_type": "code",
   "execution_count": 113,
   "id": "0565c0fd",
   "metadata": {},
   "outputs": [
    {
     "data": {
      "text/plain": [
       "a    NaN\n",
       "b    4.0\n",
       "c    6.0\n",
       "d    NaN\n",
       "dtype: float64"
      ]
     },
     "execution_count": 113,
     "metadata": {},
     "output_type": "execute_result"
    }
   ],
   "source": [
    "s3_1+s3_2   #bc是两个都有的，Pandas会自动对其相同的index进行计算\n",
    "            #而ad并非两个都有，所以它并找不到对应的index进行对其，计算结果就是空"
   ]
  },
  {
   "cell_type": "markdown",
   "id": "adef49ae",
   "metadata": {},
   "source": [
    "4--支持更多更强大的数据结构"
   ]
  },
  {
   "cell_type": "raw",
   "id": "e95fce6f",
   "metadata": {},
   "source": [
    "-CategoricalIndex, 基于分类数据的index,提升性能；\n",
    "-MultiIndex, 多维索引，用于groupby多维聚合后结果等；\n",
    "-DatetimeIndex, 时间类型索引，强大的日期和时间的方法支持；"
   ]
  },
  {
   "cell_type": "markdown",
   "id": "5fb06e7c",
   "metadata": {},
   "source": [
    "# Pandas的Merge语法"
   ]
  },
  {
   "cell_type": "markdown",
   "id": "99555792",
   "metadata": {},
   "source": [
    "Merge语法的作用是把不同的DataFrame数据Merge成一个大表；Pandas的Merge，相当于Sql的Join，将不同的表按key关联到一个表"
   ]
  },
  {
   "cell_type": "markdown",
   "id": "4f24a970",
   "metadata": {},
   "source": [
    "## Merge语法 \n",
    "##### https://blog.csdn.net/weixin_39059031/article/details/108017814\n",
    "pd.merge(left, right, how='inner', on=None, left_on=None, right_on=None, left_index=False, right_index=False, sort=True, suffixes=('_x', '_y'), copy=True, indicator=False, validate=None)"
   ]
  },
  {
   "cell_type": "markdown",
   "id": "b6148f3d",
   "metadata": {},
   "source": [
    "##### left，right：要merge的dataframe或者有name的Series。\n",
    "\n",
    "##### how：join类型，‘left’,左连接 ‘right’右连接, ‘outer’外链接, ‘inner’内连接。\n",
    "\n",
    "##### on：join的key，left和right都需要有这个key。\n",
    "\n",
    "##### left_on：left的df或者series的key。\n",
    "\n",
    "##### right_on：right的df或者seires的key。\n",
    "\n",
    "##### left_index，right_index：使用index而不是普通的column做join。\n",
    "\n",
    "##### suffixes：两个元素的后缀，如果列有重名，自动添加后缀，默认是(’_x’, ‘_y’)。\n",
    "\n",
    "###### 官方文档地址：\n",
    "https://pandas.pydata.org/pandas-docs/stable/reference/api/pandas.DataFrame.merge.html"
   ]
  },
  {
   "cell_type": "markdown",
   "id": "8c88c212",
   "metadata": {},
   "source": [
    "### 电影数据集的join实例\n",
    "数据源 https://grouplens.org/datasets/movielens/ or \n",
    "https://github.com/peiss/ant-learn-pandas/tree/master/datas/movielens-1m"
   ]
  },
  {
   "cell_type": "code",
   "execution_count": 114,
   "id": "e067aaa7",
   "metadata": {},
   "outputs": [],
   "source": [
    "#分别导入电影评分数据集    #数据量有那么点大，所以有那么点慢\n",
    "ratings_data = pd.read_csv(  #导入电影评级数据\n",
    "    \"D:\\\\编程项目\\\\python项目\\\\bigdata\\\\data\\movie_data\\\\ratings.dat\"\n",
    "    ,sep=\"::\"   #数据分隔符\n",
    "    ,engine=\"python\"  #指定引擎\n",
    "    ,names=['用户ID','电影ID','评级','时间戳']  #列名\n",
    ")\n",
    "users_data = pd.read_csv(  #导入观众数据\n",
    "    \"D:\\\\编程项目\\\\python项目\\\\bigdata\\\\data\\movie_data\\\\users.dat\"\n",
    "    ,sep=\"::\"   #数据分隔符\n",
    "    ,engine=\"python\"  #指定引擎\n",
    "    ,names=['用户ID','性别','年龄','职业','邮编']  #列名\n",
    ")\n",
    "movies_data = pd.read_csv(  #导入电影数据\n",
    "    \"D:\\\\编程项目\\\\python项目\\\\bigdata\\\\data\\movie_data\\\\movies.dat\"\n",
    "    ,sep=\"::\"   #数据分隔符\n",
    "    ,engine=\"python\"  #指定引擎\n",
    "    ,names=['电影ID','电影名称','电影分类']  #列名\n",
    ")"
   ]
  },
  {
   "cell_type": "markdown",
   "id": "9c4b8650",
   "metadata": {},
   "source": [
    "分别看看数据结构"
   ]
  },
  {
   "cell_type": "code",
   "execution_count": 115,
   "id": "d6f424ef",
   "metadata": {},
   "outputs": [
    {
     "data": {
      "text/html": [
       "<div>\n",
       "<style scoped>\n",
       "    .dataframe tbody tr th:only-of-type {\n",
       "        vertical-align: middle;\n",
       "    }\n",
       "\n",
       "    .dataframe tbody tr th {\n",
       "        vertical-align: top;\n",
       "    }\n",
       "\n",
       "    .dataframe thead th {\n",
       "        text-align: right;\n",
       "    }\n",
       "</style>\n",
       "<table border=\"1\" class=\"dataframe\">\n",
       "  <thead>\n",
       "    <tr style=\"text-align: right;\">\n",
       "      <th></th>\n",
       "      <th>用户ID</th>\n",
       "      <th>电影ID</th>\n",
       "      <th>评级</th>\n",
       "      <th>时间戳</th>\n",
       "    </tr>\n",
       "  </thead>\n",
       "  <tbody>\n",
       "    <tr>\n",
       "      <th>0</th>\n",
       "      <td>1</td>\n",
       "      <td>1193</td>\n",
       "      <td>5</td>\n",
       "      <td>978300760</td>\n",
       "    </tr>\n",
       "    <tr>\n",
       "      <th>1</th>\n",
       "      <td>1</td>\n",
       "      <td>661</td>\n",
       "      <td>3</td>\n",
       "      <td>978302109</td>\n",
       "    </tr>\n",
       "    <tr>\n",
       "      <th>2</th>\n",
       "      <td>1</td>\n",
       "      <td>914</td>\n",
       "      <td>3</td>\n",
       "      <td>978301968</td>\n",
       "    </tr>\n",
       "  </tbody>\n",
       "</table>\n",
       "</div>"
      ],
      "text/plain": [
       "   用户ID  电影ID  评级        时间戳\n",
       "0     1  1193   5  978300760\n",
       "1     1   661   3  978302109\n",
       "2     1   914   3  978301968"
      ]
     },
     "execution_count": 115,
     "metadata": {},
     "output_type": "execute_result"
    }
   ],
   "source": [
    "ratings_data.head(3)"
   ]
  },
  {
   "cell_type": "code",
   "execution_count": 116,
   "id": "c753221c",
   "metadata": {},
   "outputs": [
    {
     "data": {
      "text/html": [
       "<div>\n",
       "<style scoped>\n",
       "    .dataframe tbody tr th:only-of-type {\n",
       "        vertical-align: middle;\n",
       "    }\n",
       "\n",
       "    .dataframe tbody tr th {\n",
       "        vertical-align: top;\n",
       "    }\n",
       "\n",
       "    .dataframe thead th {\n",
       "        text-align: right;\n",
       "    }\n",
       "</style>\n",
       "<table border=\"1\" class=\"dataframe\">\n",
       "  <thead>\n",
       "    <tr style=\"text-align: right;\">\n",
       "      <th></th>\n",
       "      <th>用户ID</th>\n",
       "      <th>性别</th>\n",
       "      <th>年龄</th>\n",
       "      <th>职业</th>\n",
       "      <th>邮编</th>\n",
       "    </tr>\n",
       "  </thead>\n",
       "  <tbody>\n",
       "    <tr>\n",
       "      <th>0</th>\n",
       "      <td>1</td>\n",
       "      <td>F</td>\n",
       "      <td>1</td>\n",
       "      <td>10</td>\n",
       "      <td>48067</td>\n",
       "    </tr>\n",
       "    <tr>\n",
       "      <th>1</th>\n",
       "      <td>2</td>\n",
       "      <td>M</td>\n",
       "      <td>56</td>\n",
       "      <td>16</td>\n",
       "      <td>70072</td>\n",
       "    </tr>\n",
       "    <tr>\n",
       "      <th>2</th>\n",
       "      <td>3</td>\n",
       "      <td>M</td>\n",
       "      <td>25</td>\n",
       "      <td>15</td>\n",
       "      <td>55117</td>\n",
       "    </tr>\n",
       "  </tbody>\n",
       "</table>\n",
       "</div>"
      ],
      "text/plain": [
       "   用户ID 性别  年龄  职业     邮编\n",
       "0     1  F   1  10  48067\n",
       "1     2  M  56  16  70072\n",
       "2     3  M  25  15  55117"
      ]
     },
     "execution_count": 116,
     "metadata": {},
     "output_type": "execute_result"
    }
   ],
   "source": [
    "users_data.head(3)"
   ]
  },
  {
   "cell_type": "code",
   "execution_count": 117,
   "id": "2779597e",
   "metadata": {},
   "outputs": [
    {
     "data": {
      "text/html": [
       "<div>\n",
       "<style scoped>\n",
       "    .dataframe tbody tr th:only-of-type {\n",
       "        vertical-align: middle;\n",
       "    }\n",
       "\n",
       "    .dataframe tbody tr th {\n",
       "        vertical-align: top;\n",
       "    }\n",
       "\n",
       "    .dataframe thead th {\n",
       "        text-align: right;\n",
       "    }\n",
       "</style>\n",
       "<table border=\"1\" class=\"dataframe\">\n",
       "  <thead>\n",
       "    <tr style=\"text-align: right;\">\n",
       "      <th></th>\n",
       "      <th>电影ID</th>\n",
       "      <th>电影名称</th>\n",
       "      <th>电影分类</th>\n",
       "    </tr>\n",
       "  </thead>\n",
       "  <tbody>\n",
       "    <tr>\n",
       "      <th>0</th>\n",
       "      <td>1</td>\n",
       "      <td>Toy Story (1995)</td>\n",
       "      <td>Animation|Children's|Comedy</td>\n",
       "    </tr>\n",
       "    <tr>\n",
       "      <th>1</th>\n",
       "      <td>2</td>\n",
       "      <td>Jumanji (1995)</td>\n",
       "      <td>Adventure|Children's|Fantasy</td>\n",
       "    </tr>\n",
       "    <tr>\n",
       "      <th>2</th>\n",
       "      <td>3</td>\n",
       "      <td>Grumpier Old Men (1995)</td>\n",
       "      <td>Comedy|Romance</td>\n",
       "    </tr>\n",
       "  </tbody>\n",
       "</table>\n",
       "</div>"
      ],
      "text/plain": [
       "   电影ID                     电影名称                          电影分类\n",
       "0     1         Toy Story (1995)   Animation|Children's|Comedy\n",
       "1     2           Jumanji (1995)  Adventure|Children's|Fantasy\n",
       "2     3  Grumpier Old Men (1995)                Comedy|Romance"
      ]
     },
     "execution_count": 117,
     "metadata": {},
     "output_type": "execute_result"
    }
   ],
   "source": [
    "movies_data.head(3)"
   ]
  },
  {
   "cell_type": "markdown",
   "id": "d050063f",
   "metadata": {},
   "source": [
    "### 使用merge进行数据连接"
   ]
  },
  {
   "cell_type": "code",
   "execution_count": 118,
   "id": "14112658",
   "metadata": {},
   "outputs": [
    {
     "data": {
      "text/html": [
       "<div>\n",
       "<style scoped>\n",
       "    .dataframe tbody tr th:only-of-type {\n",
       "        vertical-align: middle;\n",
       "    }\n",
       "\n",
       "    .dataframe tbody tr th {\n",
       "        vertical-align: top;\n",
       "    }\n",
       "\n",
       "    .dataframe thead th {\n",
       "        text-align: right;\n",
       "    }\n",
       "</style>\n",
       "<table border=\"1\" class=\"dataframe\">\n",
       "  <thead>\n",
       "    <tr style=\"text-align: right;\">\n",
       "      <th></th>\n",
       "      <th>用户ID</th>\n",
       "      <th>电影ID</th>\n",
       "      <th>评级</th>\n",
       "      <th>时间戳</th>\n",
       "      <th>性别</th>\n",
       "      <th>年龄</th>\n",
       "      <th>职业</th>\n",
       "      <th>邮编</th>\n",
       "    </tr>\n",
       "  </thead>\n",
       "  <tbody>\n",
       "    <tr>\n",
       "      <th>0</th>\n",
       "      <td>1</td>\n",
       "      <td>1193</td>\n",
       "      <td>5</td>\n",
       "      <td>978300760</td>\n",
       "      <td>F</td>\n",
       "      <td>1</td>\n",
       "      <td>10</td>\n",
       "      <td>48067</td>\n",
       "    </tr>\n",
       "    <tr>\n",
       "      <th>1</th>\n",
       "      <td>1</td>\n",
       "      <td>661</td>\n",
       "      <td>3</td>\n",
       "      <td>978302109</td>\n",
       "      <td>F</td>\n",
       "      <td>1</td>\n",
       "      <td>10</td>\n",
       "      <td>48067</td>\n",
       "    </tr>\n",
       "    <tr>\n",
       "      <th>2</th>\n",
       "      <td>1</td>\n",
       "      <td>914</td>\n",
       "      <td>3</td>\n",
       "      <td>978301968</td>\n",
       "      <td>F</td>\n",
       "      <td>1</td>\n",
       "      <td>10</td>\n",
       "      <td>48067</td>\n",
       "    </tr>\n",
       "    <tr>\n",
       "      <th>3</th>\n",
       "      <td>1</td>\n",
       "      <td>3408</td>\n",
       "      <td>4</td>\n",
       "      <td>978300275</td>\n",
       "      <td>F</td>\n",
       "      <td>1</td>\n",
       "      <td>10</td>\n",
       "      <td>48067</td>\n",
       "    </tr>\n",
       "    <tr>\n",
       "      <th>4</th>\n",
       "      <td>1</td>\n",
       "      <td>2355</td>\n",
       "      <td>5</td>\n",
       "      <td>978824291</td>\n",
       "      <td>F</td>\n",
       "      <td>1</td>\n",
       "      <td>10</td>\n",
       "      <td>48067</td>\n",
       "    </tr>\n",
       "    <tr>\n",
       "      <th>...</th>\n",
       "      <td>...</td>\n",
       "      <td>...</td>\n",
       "      <td>...</td>\n",
       "      <td>...</td>\n",
       "      <td>...</td>\n",
       "      <td>...</td>\n",
       "      <td>...</td>\n",
       "      <td>...</td>\n",
       "    </tr>\n",
       "    <tr>\n",
       "      <th>1000204</th>\n",
       "      <td>6040</td>\n",
       "      <td>1091</td>\n",
       "      <td>1</td>\n",
       "      <td>956716541</td>\n",
       "      <td>M</td>\n",
       "      <td>25</td>\n",
       "      <td>6</td>\n",
       "      <td>11106</td>\n",
       "    </tr>\n",
       "    <tr>\n",
       "      <th>1000205</th>\n",
       "      <td>6040</td>\n",
       "      <td>1094</td>\n",
       "      <td>5</td>\n",
       "      <td>956704887</td>\n",
       "      <td>M</td>\n",
       "      <td>25</td>\n",
       "      <td>6</td>\n",
       "      <td>11106</td>\n",
       "    </tr>\n",
       "    <tr>\n",
       "      <th>1000206</th>\n",
       "      <td>6040</td>\n",
       "      <td>562</td>\n",
       "      <td>5</td>\n",
       "      <td>956704746</td>\n",
       "      <td>M</td>\n",
       "      <td>25</td>\n",
       "      <td>6</td>\n",
       "      <td>11106</td>\n",
       "    </tr>\n",
       "    <tr>\n",
       "      <th>1000207</th>\n",
       "      <td>6040</td>\n",
       "      <td>1096</td>\n",
       "      <td>4</td>\n",
       "      <td>956715648</td>\n",
       "      <td>M</td>\n",
       "      <td>25</td>\n",
       "      <td>6</td>\n",
       "      <td>11106</td>\n",
       "    </tr>\n",
       "    <tr>\n",
       "      <th>1000208</th>\n",
       "      <td>6040</td>\n",
       "      <td>1097</td>\n",
       "      <td>4</td>\n",
       "      <td>956715569</td>\n",
       "      <td>M</td>\n",
       "      <td>25</td>\n",
       "      <td>6</td>\n",
       "      <td>11106</td>\n",
       "    </tr>\n",
       "  </tbody>\n",
       "</table>\n",
       "<p>1000209 rows × 8 columns</p>\n",
       "</div>"
      ],
      "text/plain": [
       "         用户ID  电影ID  评级        时间戳 性别  年龄  职业     邮编\n",
       "0           1  1193   5  978300760  F   1  10  48067\n",
       "1           1   661   3  978302109  F   1  10  48067\n",
       "2           1   914   3  978301968  F   1  10  48067\n",
       "3           1  3408   4  978300275  F   1  10  48067\n",
       "4           1  2355   5  978824291  F   1  10  48067\n",
       "...       ...   ...  ..        ... ..  ..  ..    ...\n",
       "1000204  6040  1091   1  956716541  M  25   6  11106\n",
       "1000205  6040  1094   5  956704887  M  25   6  11106\n",
       "1000206  6040   562   5  956704746  M  25   6  11106\n",
       "1000207  6040  1096   4  956715648  M  25   6  11106\n",
       "1000208  6040  1097   4  956715569  M  25   6  11106\n",
       "\n",
       "[1000209 rows x 8 columns]"
      ]
     },
     "execution_count": 118,
     "metadata": {},
     "output_type": "execute_result"
    }
   ],
   "source": [
    "ratings_users = pd.merge(  #链接评分和观众数据\n",
    "    ratings_data,users_data  #链接的两个数据\n",
    "    ,left_on=\"用户ID\"\n",
    "    ,right_on=\"用户ID\"\n",
    "    ,how=\"inner\"   #内连接：两边的数据(左表的用户ID与右表的用户ID)对上才会被保留\n",
    ")\n",
    "ratings_users "
   ]
  },
  {
   "cell_type": "code",
   "execution_count": 119,
   "id": "45b47629",
   "metadata": {},
   "outputs": [
    {
     "data": {
      "text/html": [
       "<div>\n",
       "<style scoped>\n",
       "    .dataframe tbody tr th:only-of-type {\n",
       "        vertical-align: middle;\n",
       "    }\n",
       "\n",
       "    .dataframe tbody tr th {\n",
       "        vertical-align: top;\n",
       "    }\n",
       "\n",
       "    .dataframe thead th {\n",
       "        text-align: right;\n",
       "    }\n",
       "</style>\n",
       "<table border=\"1\" class=\"dataframe\">\n",
       "  <thead>\n",
       "    <tr style=\"text-align: right;\">\n",
       "      <th></th>\n",
       "      <th>用户ID</th>\n",
       "      <th>电影ID</th>\n",
       "      <th>评级</th>\n",
       "      <th>时间戳</th>\n",
       "      <th>性别</th>\n",
       "      <th>年龄</th>\n",
       "      <th>职业</th>\n",
       "      <th>邮编</th>\n",
       "      <th>电影名称</th>\n",
       "      <th>电影分类</th>\n",
       "    </tr>\n",
       "  </thead>\n",
       "  <tbody>\n",
       "    <tr>\n",
       "      <th>0</th>\n",
       "      <td>1</td>\n",
       "      <td>1193</td>\n",
       "      <td>5</td>\n",
       "      <td>978300760</td>\n",
       "      <td>F</td>\n",
       "      <td>1</td>\n",
       "      <td>10</td>\n",
       "      <td>48067</td>\n",
       "      <td>One Flew Over the Cuckoo's Nest (1975)</td>\n",
       "      <td>Drama</td>\n",
       "    </tr>\n",
       "    <tr>\n",
       "      <th>1</th>\n",
       "      <td>2</td>\n",
       "      <td>1193</td>\n",
       "      <td>5</td>\n",
       "      <td>978298413</td>\n",
       "      <td>M</td>\n",
       "      <td>56</td>\n",
       "      <td>16</td>\n",
       "      <td>70072</td>\n",
       "      <td>One Flew Over the Cuckoo's Nest (1975)</td>\n",
       "      <td>Drama</td>\n",
       "    </tr>\n",
       "    <tr>\n",
       "      <th>2</th>\n",
       "      <td>12</td>\n",
       "      <td>1193</td>\n",
       "      <td>4</td>\n",
       "      <td>978220179</td>\n",
       "      <td>M</td>\n",
       "      <td>25</td>\n",
       "      <td>12</td>\n",
       "      <td>32793</td>\n",
       "      <td>One Flew Over the Cuckoo's Nest (1975)</td>\n",
       "      <td>Drama</td>\n",
       "    </tr>\n",
       "    <tr>\n",
       "      <th>3</th>\n",
       "      <td>15</td>\n",
       "      <td>1193</td>\n",
       "      <td>4</td>\n",
       "      <td>978199279</td>\n",
       "      <td>M</td>\n",
       "      <td>25</td>\n",
       "      <td>7</td>\n",
       "      <td>22903</td>\n",
       "      <td>One Flew Over the Cuckoo's Nest (1975)</td>\n",
       "      <td>Drama</td>\n",
       "    </tr>\n",
       "    <tr>\n",
       "      <th>4</th>\n",
       "      <td>17</td>\n",
       "      <td>1193</td>\n",
       "      <td>5</td>\n",
       "      <td>978158471</td>\n",
       "      <td>M</td>\n",
       "      <td>50</td>\n",
       "      <td>1</td>\n",
       "      <td>95350</td>\n",
       "      <td>One Flew Over the Cuckoo's Nest (1975)</td>\n",
       "      <td>Drama</td>\n",
       "    </tr>\n",
       "    <tr>\n",
       "      <th>...</th>\n",
       "      <td>...</td>\n",
       "      <td>...</td>\n",
       "      <td>...</td>\n",
       "      <td>...</td>\n",
       "      <td>...</td>\n",
       "      <td>...</td>\n",
       "      <td>...</td>\n",
       "      <td>...</td>\n",
       "      <td>...</td>\n",
       "      <td>...</td>\n",
       "    </tr>\n",
       "    <tr>\n",
       "      <th>1000204</th>\n",
       "      <td>5949</td>\n",
       "      <td>2198</td>\n",
       "      <td>5</td>\n",
       "      <td>958846401</td>\n",
       "      <td>M</td>\n",
       "      <td>18</td>\n",
       "      <td>17</td>\n",
       "      <td>47901</td>\n",
       "      <td>Modulations (1998)</td>\n",
       "      <td>Documentary</td>\n",
       "    </tr>\n",
       "    <tr>\n",
       "      <th>1000205</th>\n",
       "      <td>5675</td>\n",
       "      <td>2703</td>\n",
       "      <td>3</td>\n",
       "      <td>976029116</td>\n",
       "      <td>M</td>\n",
       "      <td>35</td>\n",
       "      <td>14</td>\n",
       "      <td>30030</td>\n",
       "      <td>Broken Vessels (1998)</td>\n",
       "      <td>Drama</td>\n",
       "    </tr>\n",
       "    <tr>\n",
       "      <th>1000206</th>\n",
       "      <td>5780</td>\n",
       "      <td>2845</td>\n",
       "      <td>1</td>\n",
       "      <td>958153068</td>\n",
       "      <td>M</td>\n",
       "      <td>18</td>\n",
       "      <td>17</td>\n",
       "      <td>92886</td>\n",
       "      <td>White Boys (1999)</td>\n",
       "      <td>Drama</td>\n",
       "    </tr>\n",
       "    <tr>\n",
       "      <th>1000207</th>\n",
       "      <td>5851</td>\n",
       "      <td>3607</td>\n",
       "      <td>5</td>\n",
       "      <td>957756608</td>\n",
       "      <td>F</td>\n",
       "      <td>18</td>\n",
       "      <td>20</td>\n",
       "      <td>55410</td>\n",
       "      <td>One Little Indian (1973)</td>\n",
       "      <td>Comedy|Drama|Western</td>\n",
       "    </tr>\n",
       "    <tr>\n",
       "      <th>1000208</th>\n",
       "      <td>5938</td>\n",
       "      <td>2909</td>\n",
       "      <td>4</td>\n",
       "      <td>957273353</td>\n",
       "      <td>M</td>\n",
       "      <td>25</td>\n",
       "      <td>1</td>\n",
       "      <td>35401</td>\n",
       "      <td>Five Wives, Three Secretaries and Me (1998)</td>\n",
       "      <td>Documentary</td>\n",
       "    </tr>\n",
       "  </tbody>\n",
       "</table>\n",
       "<p>1000209 rows × 10 columns</p>\n",
       "</div>"
      ],
      "text/plain": [
       "         用户ID  电影ID  评级        时间戳 性别  年龄  职业     邮编  \\\n",
       "0           1  1193   5  978300760  F   1  10  48067   \n",
       "1           2  1193   5  978298413  M  56  16  70072   \n",
       "2          12  1193   4  978220179  M  25  12  32793   \n",
       "3          15  1193   4  978199279  M  25   7  22903   \n",
       "4          17  1193   5  978158471  M  50   1  95350   \n",
       "...       ...   ...  ..        ... ..  ..  ..    ...   \n",
       "1000204  5949  2198   5  958846401  M  18  17  47901   \n",
       "1000205  5675  2703   3  976029116  M  35  14  30030   \n",
       "1000206  5780  2845   1  958153068  M  18  17  92886   \n",
       "1000207  5851  3607   5  957756608  F  18  20  55410   \n",
       "1000208  5938  2909   4  957273353  M  25   1  35401   \n",
       "\n",
       "                                                电影名称                  电影分类  \n",
       "0             One Flew Over the Cuckoo's Nest (1975)                 Drama  \n",
       "1             One Flew Over the Cuckoo's Nest (1975)                 Drama  \n",
       "2             One Flew Over the Cuckoo's Nest (1975)                 Drama  \n",
       "3             One Flew Over the Cuckoo's Nest (1975)                 Drama  \n",
       "4             One Flew Over the Cuckoo's Nest (1975)                 Drama  \n",
       "...                                              ...                   ...  \n",
       "1000204                           Modulations (1998)           Documentary  \n",
       "1000205                        Broken Vessels (1998)                 Drama  \n",
       "1000206                            White Boys (1999)                 Drama  \n",
       "1000207                     One Little Indian (1973)  Comedy|Drama|Western  \n",
       "1000208  Five Wives, Three Secretaries and Me (1998)           Documentary  \n",
       "\n",
       "[1000209 rows x 10 columns]"
      ]
     },
     "execution_count": 119,
     "metadata": {},
     "output_type": "execute_result"
    }
   ],
   "source": [
    "ratings_users_movies = pd.merge(\n",
    "    ratings_users,movies_data  #链接的三个数据(之前两个加一个)\n",
    "    ,left_on=\"电影ID\"\n",
    "    ,right_on=\"电影ID\"\n",
    "    ,how=\"inner\"   #内连接：两边的数据(左表的电影ID与右表的电影ID)对上才会被保留\n",
    ")\n",
    "ratings_users_movies"
   ]
  },
  {
   "cell_type": "markdown",
   "id": "296f9c17",
   "metadata": {},
   "source": [
    "### merge时数量的对其关系"
   ]
  },
  {
   "cell_type": "markdown",
   "id": "f47fb560",
   "metadata": {},
   "source": [
    "#### 一对一关系:关联的键是唯一的(A,B)merge(A,C)，结果条数为1*1"
   ]
  },
  {
   "cell_type": "code",
   "execution_count": 120,
   "id": "9f1d1fd1",
   "metadata": {},
   "outputs": [
    {
     "data": {
      "text/html": [
       "<div>\n",
       "<style scoped>\n",
       "    .dataframe tbody tr th:only-of-type {\n",
       "        vertical-align: middle;\n",
       "    }\n",
       "\n",
       "    .dataframe tbody tr th {\n",
       "        vertical-align: top;\n",
       "    }\n",
       "\n",
       "    .dataframe thead th {\n",
       "        text-align: right;\n",
       "    }\n",
       "</style>\n",
       "<table border=\"1\" class=\"dataframe\">\n",
       "  <thead>\n",
       "    <tr style=\"text-align: right;\">\n",
       "      <th></th>\n",
       "      <th>sno</th>\n",
       "      <th>name</th>\n",
       "      <th>age</th>\n",
       "    </tr>\n",
       "  </thead>\n",
       "  <tbody>\n",
       "    <tr>\n",
       "      <th>0</th>\n",
       "      <td>1</td>\n",
       "      <td>李二狗</td>\n",
       "      <td>16</td>\n",
       "    </tr>\n",
       "    <tr>\n",
       "      <th>1</th>\n",
       "      <td>2</td>\n",
       "      <td>赵三猫</td>\n",
       "      <td>17</td>\n",
       "    </tr>\n",
       "    <tr>\n",
       "      <th>2</th>\n",
       "      <td>3</td>\n",
       "      <td>李四毛</td>\n",
       "      <td>18</td>\n",
       "    </tr>\n",
       "    <tr>\n",
       "      <th>3</th>\n",
       "      <td>4</td>\n",
       "      <td>刘大牛</td>\n",
       "      <td>19</td>\n",
       "    </tr>\n",
       "  </tbody>\n",
       "</table>\n",
       "</div>"
      ],
      "text/plain": [
       "   sno name  age\n",
       "0    1  李二狗   16\n",
       "1    2  赵三猫   17\n",
       "2    3  李四毛   18\n",
       "3    4  刘大牛   19"
      ]
     },
     "execution_count": 120,
     "metadata": {},
     "output_type": "execute_result"
    }
   ],
   "source": [
    "left=pd.DataFrame({\n",
    "    \"sno\":[1,2,3,4]\n",
    "     ,\"name\":['李二狗','赵三猫','李四毛','刘大牛']\n",
    "})\n",
    "right=pd.DataFrame({\n",
    "    \"sno\":[1,2,3,4]\n",
    "    ,\"age\":[16,17,18,19]\n",
    "})\n",
    "pd.merge(left,right\n",
    "         ,on=\"sno\"   #指定sno字段为键\n",
    ")   #每个键只有一行"
   ]
  },
  {
   "cell_type": "markdown",
   "id": "fa116162",
   "metadata": {},
   "source": [
    "#### 一对多关系:一边的键是唯一的，另一边不唯一(A,B)merge(A,[xxx,xxx,xxx])，结果条数1*N"
   ]
  },
  {
   "cell_type": "code",
   "execution_count": 121,
   "id": "5a1144e6",
   "metadata": {},
   "outputs": [
    {
     "data": {
      "text/html": [
       "<div>\n",
       "<style scoped>\n",
       "    .dataframe tbody tr th:only-of-type {\n",
       "        vertical-align: middle;\n",
       "    }\n",
       "\n",
       "    .dataframe tbody tr th {\n",
       "        vertical-align: top;\n",
       "    }\n",
       "\n",
       "    .dataframe thead th {\n",
       "        text-align: right;\n",
       "    }\n",
       "</style>\n",
       "<table border=\"1\" class=\"dataframe\">\n",
       "  <thead>\n",
       "    <tr style=\"text-align: right;\">\n",
       "      <th></th>\n",
       "      <th>sno</th>\n",
       "      <th>name</th>\n",
       "      <th>grade</th>\n",
       "    </tr>\n",
       "  </thead>\n",
       "  <tbody>\n",
       "    <tr>\n",
       "      <th>0</th>\n",
       "      <td>1</td>\n",
       "      <td>李二狗</td>\n",
       "      <td>语文：70</td>\n",
       "    </tr>\n",
       "    <tr>\n",
       "      <th>1</th>\n",
       "      <td>1</td>\n",
       "      <td>李二狗</td>\n",
       "      <td>数学：78</td>\n",
       "    </tr>\n",
       "    <tr>\n",
       "      <th>2</th>\n",
       "      <td>1</td>\n",
       "      <td>李二狗</td>\n",
       "      <td>英语：72</td>\n",
       "    </tr>\n",
       "    <tr>\n",
       "      <th>3</th>\n",
       "      <td>2</td>\n",
       "      <td>赵三猫</td>\n",
       "      <td>语文：89</td>\n",
       "    </tr>\n",
       "    <tr>\n",
       "      <th>4</th>\n",
       "      <td>2</td>\n",
       "      <td>赵三猫</td>\n",
       "      <td>数学：77</td>\n",
       "    </tr>\n",
       "    <tr>\n",
       "      <th>5</th>\n",
       "      <td>3</td>\n",
       "      <td>李四毛</td>\n",
       "      <td>语文：68</td>\n",
       "    </tr>\n",
       "  </tbody>\n",
       "</table>\n",
       "</div>"
      ],
      "text/plain": [
       "   sno name  grade\n",
       "0    1  李二狗  语文：70\n",
       "1    1  李二狗  数学：78\n",
       "2    1  李二狗  英语：72\n",
       "3    2  赵三猫  语文：89\n",
       "4    2  赵三猫  数学：77\n",
       "5    3  李四毛  语文：68"
      ]
     },
     "execution_count": 121,
     "metadata": {},
     "output_type": "execute_result"
    }
   ],
   "source": [
    "left=pd.DataFrame({\n",
    "    \"sno\":[1,2,3,4]\n",
    "     ,\"name\":['李二狗','赵三猫','李四毛','刘大牛']\n",
    "})\n",
    "right=pd.DataFrame({\n",
    "    \"sno\":[1,1,1,2,2,3]\n",
    "    ,\"grade\":['语文：70','数学：78','英语：72','语文：89','数学：77','语文：68']\n",
    "    #每个学号有多个成绩！！\n",
    "})\n",
    "student=pd.merge(left,right\n",
    "                 ,on=\"sno\" #指定sno字段为键\n",
    ")     #先保存，下个例子用\n",
    "student#可见cno与name数据会被复制使得数据量一致"
   ]
  },
  {
   "cell_type": "markdown",
   "id": "697b8885",
   "metadata": {},
   "source": [
    "⚠留意：赵大牛人没了 原因是how参数默认是\"inner\"内连接"
   ]
  },
  {
   "cell_type": "markdown",
   "id": "3887b966",
   "metadata": {},
   "source": [
    "#### 多对多关系：两边的键都不唯一(A,[xxx,xxx,xxx])mrege(A,[xxx,xxx,xxx])，结果条数M*N"
   ]
  },
  {
   "cell_type": "code",
   "execution_count": 122,
   "id": "7789f169",
   "metadata": {},
   "outputs": [
    {
     "data": {
      "text/html": [
       "<div>\n",
       "<style scoped>\n",
       "    .dataframe tbody tr th:only-of-type {\n",
       "        vertical-align: middle;\n",
       "    }\n",
       "\n",
       "    .dataframe tbody tr th {\n",
       "        vertical-align: top;\n",
       "    }\n",
       "\n",
       "    .dataframe thead th {\n",
       "        text-align: right;\n",
       "    }\n",
       "</style>\n",
       "<table border=\"1\" class=\"dataframe\">\n",
       "  <thead>\n",
       "    <tr style=\"text-align: right;\">\n",
       "      <th></th>\n",
       "      <th>sno</th>\n",
       "      <th>hobby</th>\n",
       "      <th>name</th>\n",
       "      <th>grade</th>\n",
       "    </tr>\n",
       "  </thead>\n",
       "  <tbody>\n",
       "    <tr>\n",
       "      <th>0</th>\n",
       "      <td>1</td>\n",
       "      <td>唱</td>\n",
       "      <td>李二狗</td>\n",
       "      <td>语文：70</td>\n",
       "    </tr>\n",
       "    <tr>\n",
       "      <th>1</th>\n",
       "      <td>1</td>\n",
       "      <td>唱</td>\n",
       "      <td>李二狗</td>\n",
       "      <td>数学：78</td>\n",
       "    </tr>\n",
       "    <tr>\n",
       "      <th>2</th>\n",
       "      <td>1</td>\n",
       "      <td>唱</td>\n",
       "      <td>李二狗</td>\n",
       "      <td>英语：72</td>\n",
       "    </tr>\n",
       "    <tr>\n",
       "      <th>3</th>\n",
       "      <td>1</td>\n",
       "      <td>跳</td>\n",
       "      <td>李二狗</td>\n",
       "      <td>语文：70</td>\n",
       "    </tr>\n",
       "    <tr>\n",
       "      <th>4</th>\n",
       "      <td>1</td>\n",
       "      <td>跳</td>\n",
       "      <td>李二狗</td>\n",
       "      <td>数学：78</td>\n",
       "    </tr>\n",
       "    <tr>\n",
       "      <th>5</th>\n",
       "      <td>1</td>\n",
       "      <td>跳</td>\n",
       "      <td>李二狗</td>\n",
       "      <td>英语：72</td>\n",
       "    </tr>\n",
       "    <tr>\n",
       "      <th>6</th>\n",
       "      <td>2</td>\n",
       "      <td>rep</td>\n",
       "      <td>赵三猫</td>\n",
       "      <td>语文：89</td>\n",
       "    </tr>\n",
       "    <tr>\n",
       "      <th>7</th>\n",
       "      <td>2</td>\n",
       "      <td>rep</td>\n",
       "      <td>赵三猫</td>\n",
       "      <td>数学：77</td>\n",
       "    </tr>\n",
       "    <tr>\n",
       "      <th>8</th>\n",
       "      <td>3</td>\n",
       "      <td>篮球</td>\n",
       "      <td>李四毛</td>\n",
       "      <td>语文：68</td>\n",
       "    </tr>\n",
       "  </tbody>\n",
       "</table>\n",
       "</div>"
      ],
      "text/plain": [
       "   sno hobby name  grade\n",
       "0    1     唱  李二狗  语文：70\n",
       "1    1     唱  李二狗  数学：78\n",
       "2    1     唱  李二狗  英语：72\n",
       "3    1     跳  李二狗  语文：70\n",
       "4    1     跳  李二狗  数学：78\n",
       "5    1     跳  李二狗  英语：72\n",
       "6    2   rep  赵三猫  语文：89\n",
       "7    2   rep  赵三猫  数学：77\n",
       "8    3    篮球  李四毛  语文：68"
      ]
     },
     "execution_count": 122,
     "metadata": {},
     "output_type": "execute_result"
    }
   ],
   "source": [
    "left=pd.DataFrame({\n",
    "    \"sno\":[1,1,2,3]\n",
    "     ,\"hobby\":['唱','跳','rep','篮球']\n",
    "})\n",
    "pd.merge(left,student\n",
    "         ,on=\"sno\" #指定sno字段为键\n",
    ")     #两边的数据都被复制，使得数据量一致"
   ]
  },
  {
   "cell_type": "markdown",
   "id": "12c074c2",
   "metadata": {},
   "source": [
    "## 左连接，右连接，外连接，内连接的区别\n",
    "我之前学习时看的视频：https://www.bilibili.com/video/BV1UJ411A7Fs?p=13"
   ]
  },
  {
   "cell_type": "code",
   "execution_count": 123,
   "id": "6206cc46",
   "metadata": {},
   "outputs": [],
   "source": [
    "left=pd.DataFrame({    #两个数据 LK为左边这个表专有，RK则右边表专有\n",
    "    \"key\":['k0','k1','LK2','LK3']\n",
    "    ,\"A\":['A1','A2','A3','A4']\n",
    "    ,\"B\":['B1','B2','B3','B4']\n",
    "})\n",
    "right=pd.DataFrame({\n",
    "    \"key\":['k0','k1','Rk4','Rk5']\n",
    "    ,\"C\":['C1','C2','C3','C4']\n",
    "    ,\"D\":['D1','D2','D3','D4']\n",
    "})"
   ]
  },
  {
   "cell_type": "markdown",
   "id": "e6b33b4b",
   "metadata": {},
   "source": [
    "### inner join (内连接) 默认值"
   ]
  },
  {
   "cell_type": "code",
   "execution_count": 124,
   "id": "0bf620a8",
   "metadata": {},
   "outputs": [
    {
     "data": {
      "text/html": [
       "<div>\n",
       "<style scoped>\n",
       "    .dataframe tbody tr th:only-of-type {\n",
       "        vertical-align: middle;\n",
       "    }\n",
       "\n",
       "    .dataframe tbody tr th {\n",
       "        vertical-align: top;\n",
       "    }\n",
       "\n",
       "    .dataframe thead th {\n",
       "        text-align: right;\n",
       "    }\n",
       "</style>\n",
       "<table border=\"1\" class=\"dataframe\">\n",
       "  <thead>\n",
       "    <tr style=\"text-align: right;\">\n",
       "      <th></th>\n",
       "      <th>key</th>\n",
       "      <th>A</th>\n",
       "      <th>B</th>\n",
       "      <th>C</th>\n",
       "      <th>D</th>\n",
       "    </tr>\n",
       "  </thead>\n",
       "  <tbody>\n",
       "    <tr>\n",
       "      <th>0</th>\n",
       "      <td>k0</td>\n",
       "      <td>A1</td>\n",
       "      <td>B1</td>\n",
       "      <td>C1</td>\n",
       "      <td>D1</td>\n",
       "    </tr>\n",
       "    <tr>\n",
       "      <th>1</th>\n",
       "      <td>k1</td>\n",
       "      <td>A2</td>\n",
       "      <td>B2</td>\n",
       "      <td>C2</td>\n",
       "      <td>D2</td>\n",
       "    </tr>\n",
       "  </tbody>\n",
       "</table>\n",
       "</div>"
      ],
      "text/plain": [
       "  key   A   B   C   D\n",
       "0  k0  A1  B1  C1  D1\n",
       "1  k1  A2  B2  C2  D2"
      ]
     },
     "execution_count": 124,
     "metadata": {},
     "output_type": "execute_result"
    }
   ],
   "source": [
    "pd.merge(left,right,how=\"inner\")  #两边都有的键，才会返回"
   ]
  },
  {
   "cell_type": "markdown",
   "id": "9caeaacb",
   "metadata": {},
   "source": [
    "### outer join （外连接）"
   ]
  },
  {
   "cell_type": "code",
   "execution_count": 125,
   "id": "63dfaf95",
   "metadata": {},
   "outputs": [
    {
     "data": {
      "text/html": [
       "<div>\n",
       "<style scoped>\n",
       "    .dataframe tbody tr th:only-of-type {\n",
       "        vertical-align: middle;\n",
       "    }\n",
       "\n",
       "    .dataframe tbody tr th {\n",
       "        vertical-align: top;\n",
       "    }\n",
       "\n",
       "    .dataframe thead th {\n",
       "        text-align: right;\n",
       "    }\n",
       "</style>\n",
       "<table border=\"1\" class=\"dataframe\">\n",
       "  <thead>\n",
       "    <tr style=\"text-align: right;\">\n",
       "      <th></th>\n",
       "      <th>key</th>\n",
       "      <th>A</th>\n",
       "      <th>B</th>\n",
       "      <th>C</th>\n",
       "      <th>D</th>\n",
       "    </tr>\n",
       "  </thead>\n",
       "  <tbody>\n",
       "    <tr>\n",
       "      <th>0</th>\n",
       "      <td>k0</td>\n",
       "      <td>A1</td>\n",
       "      <td>B1</td>\n",
       "      <td>C1</td>\n",
       "      <td>D1</td>\n",
       "    </tr>\n",
       "    <tr>\n",
       "      <th>1</th>\n",
       "      <td>k1</td>\n",
       "      <td>A2</td>\n",
       "      <td>B2</td>\n",
       "      <td>C2</td>\n",
       "      <td>D2</td>\n",
       "    </tr>\n",
       "    <tr>\n",
       "      <th>2</th>\n",
       "      <td>LK2</td>\n",
       "      <td>A3</td>\n",
       "      <td>B3</td>\n",
       "      <td>NaN</td>\n",
       "      <td>NaN</td>\n",
       "    </tr>\n",
       "    <tr>\n",
       "      <th>3</th>\n",
       "      <td>LK3</td>\n",
       "      <td>A4</td>\n",
       "      <td>B4</td>\n",
       "      <td>NaN</td>\n",
       "      <td>NaN</td>\n",
       "    </tr>\n",
       "    <tr>\n",
       "      <th>4</th>\n",
       "      <td>Rk4</td>\n",
       "      <td>NaN</td>\n",
       "      <td>NaN</td>\n",
       "      <td>C3</td>\n",
       "      <td>D3</td>\n",
       "    </tr>\n",
       "    <tr>\n",
       "      <th>5</th>\n",
       "      <td>Rk5</td>\n",
       "      <td>NaN</td>\n",
       "      <td>NaN</td>\n",
       "      <td>C4</td>\n",
       "      <td>D4</td>\n",
       "    </tr>\n",
       "  </tbody>\n",
       "</table>\n",
       "</div>"
      ],
      "text/plain": [
       "   key    A    B    C    D\n",
       "0   k0   A1   B1   C1   D1\n",
       "1   k1   A2   B2   C2   D2\n",
       "2  LK2   A3   B3  NaN  NaN\n",
       "3  LK3   A4   B4  NaN  NaN\n",
       "4  Rk4  NaN  NaN   C3   D3\n",
       "5  Rk5  NaN  NaN   C4   D4"
      ]
     },
     "execution_count": 125,
     "metadata": {},
     "output_type": "execute_result"
    }
   ],
   "source": [
    "pd.merge(left,right,how=\"outer\")  #所有的键，都会返回,键匹配不到对应值，则为空"
   ]
  },
  {
   "cell_type": "markdown",
   "id": "45088d29",
   "metadata": {},
   "source": [
    "### left join (左连接)"
   ]
  },
  {
   "cell_type": "code",
   "execution_count": 126,
   "id": "2a3359d6",
   "metadata": {},
   "outputs": [
    {
     "data": {
      "text/html": [
       "<div>\n",
       "<style scoped>\n",
       "    .dataframe tbody tr th:only-of-type {\n",
       "        vertical-align: middle;\n",
       "    }\n",
       "\n",
       "    .dataframe tbody tr th {\n",
       "        vertical-align: top;\n",
       "    }\n",
       "\n",
       "    .dataframe thead th {\n",
       "        text-align: right;\n",
       "    }\n",
       "</style>\n",
       "<table border=\"1\" class=\"dataframe\">\n",
       "  <thead>\n",
       "    <tr style=\"text-align: right;\">\n",
       "      <th></th>\n",
       "      <th>key</th>\n",
       "      <th>A</th>\n",
       "      <th>B</th>\n",
       "      <th>C</th>\n",
       "      <th>D</th>\n",
       "    </tr>\n",
       "  </thead>\n",
       "  <tbody>\n",
       "    <tr>\n",
       "      <th>0</th>\n",
       "      <td>k0</td>\n",
       "      <td>A1</td>\n",
       "      <td>B1</td>\n",
       "      <td>C1</td>\n",
       "      <td>D1</td>\n",
       "    </tr>\n",
       "    <tr>\n",
       "      <th>1</th>\n",
       "      <td>k1</td>\n",
       "      <td>A2</td>\n",
       "      <td>B2</td>\n",
       "      <td>C2</td>\n",
       "      <td>D2</td>\n",
       "    </tr>\n",
       "    <tr>\n",
       "      <th>2</th>\n",
       "      <td>LK2</td>\n",
       "      <td>A3</td>\n",
       "      <td>B3</td>\n",
       "      <td>NaN</td>\n",
       "      <td>NaN</td>\n",
       "    </tr>\n",
       "    <tr>\n",
       "      <th>3</th>\n",
       "      <td>LK3</td>\n",
       "      <td>A4</td>\n",
       "      <td>B4</td>\n",
       "      <td>NaN</td>\n",
       "      <td>NaN</td>\n",
       "    </tr>\n",
       "  </tbody>\n",
       "</table>\n",
       "</div>"
      ],
      "text/plain": [
       "   key   A   B    C    D\n",
       "0   k0  A1  B1   C1   D1\n",
       "1   k1  A2  B2   C2   D2\n",
       "2  LK2  A3  B3  NaN  NaN\n",
       "3  LK3  A4  B4  NaN  NaN"
      ]
     },
     "execution_count": 126,
     "metadata": {},
     "output_type": "execute_result"
    }
   ],
   "source": [
    "pd.merge(left,right,how=\"left\")\n",
    "#相当于拿左边的键去连接右边的，所有左边的键都会存在，但左边的键匹配不到对应值则为空"
   ]
  },
  {
   "cell_type": "markdown",
   "id": "1fe7402d",
   "metadata": {},
   "source": [
    "### right join （右连接）"
   ]
  },
  {
   "cell_type": "code",
   "execution_count": 127,
   "id": "1896e03b",
   "metadata": {},
   "outputs": [
    {
     "data": {
      "text/html": [
       "<div>\n",
       "<style scoped>\n",
       "    .dataframe tbody tr th:only-of-type {\n",
       "        vertical-align: middle;\n",
       "    }\n",
       "\n",
       "    .dataframe tbody tr th {\n",
       "        vertical-align: top;\n",
       "    }\n",
       "\n",
       "    .dataframe thead th {\n",
       "        text-align: right;\n",
       "    }\n",
       "</style>\n",
       "<table border=\"1\" class=\"dataframe\">\n",
       "  <thead>\n",
       "    <tr style=\"text-align: right;\">\n",
       "      <th></th>\n",
       "      <th>key</th>\n",
       "      <th>A</th>\n",
       "      <th>B</th>\n",
       "      <th>C</th>\n",
       "      <th>D</th>\n",
       "    </tr>\n",
       "  </thead>\n",
       "  <tbody>\n",
       "    <tr>\n",
       "      <th>0</th>\n",
       "      <td>k0</td>\n",
       "      <td>A1</td>\n",
       "      <td>B1</td>\n",
       "      <td>C1</td>\n",
       "      <td>D1</td>\n",
       "    </tr>\n",
       "    <tr>\n",
       "      <th>1</th>\n",
       "      <td>k1</td>\n",
       "      <td>A2</td>\n",
       "      <td>B2</td>\n",
       "      <td>C2</td>\n",
       "      <td>D2</td>\n",
       "    </tr>\n",
       "    <tr>\n",
       "      <th>2</th>\n",
       "      <td>Rk4</td>\n",
       "      <td>NaN</td>\n",
       "      <td>NaN</td>\n",
       "      <td>C3</td>\n",
       "      <td>D3</td>\n",
       "    </tr>\n",
       "    <tr>\n",
       "      <th>3</th>\n",
       "      <td>Rk5</td>\n",
       "      <td>NaN</td>\n",
       "      <td>NaN</td>\n",
       "      <td>C4</td>\n",
       "      <td>D4</td>\n",
       "    </tr>\n",
       "  </tbody>\n",
       "</table>\n",
       "</div>"
      ],
      "text/plain": [
       "   key    A    B   C   D\n",
       "0   k0   A1   B1  C1  D1\n",
       "1   k1   A2   B2  C2  D2\n",
       "2  Rk4  NaN  NaN  C3  D3\n",
       "3  Rk5  NaN  NaN  C4  D4"
      ]
     },
     "execution_count": 127,
     "metadata": {},
     "output_type": "execute_result"
    }
   ],
   "source": [
    "pd.merge(left,right,how=\"right\")\n",
    "#相当于拿右边的键去连接左边的，所有右边的键都会存在，但右边的键匹配不到对应值则为空"
   ]
  },
  {
   "cell_type": "markdown",
   "id": "05175661",
   "metadata": {},
   "source": [
    "### 如果非key字段出现重名"
   ]
  },
  {
   "cell_type": "code",
   "execution_count": 128,
   "id": "6715ab1b",
   "metadata": {},
   "outputs": [],
   "source": [
    "left=pd.DataFrame({\n",
    "    \"key\":['1','2','3','4']\n",
    "    ,\"A\":['A1','A2','A3','A4']\n",
    "    ,\"B\":['B1','B2','B3','B4']\n",
    "})\n",
    "right=pd.DataFrame({\n",
    "    \"key\":['1','2','3','4']\n",
    "    ,\"A\":['A1','A2','A3','A4']\n",
    "    ,\"C\":['C1','C2','C3','C4']\n",
    "})"
   ]
  },
  {
   "cell_type": "code",
   "execution_count": 129,
   "id": "922e491d",
   "metadata": {},
   "outputs": [
    {
     "data": {
      "text/html": [
       "<div>\n",
       "<style scoped>\n",
       "    .dataframe tbody tr th:only-of-type {\n",
       "        vertical-align: middle;\n",
       "    }\n",
       "\n",
       "    .dataframe tbody tr th {\n",
       "        vertical-align: top;\n",
       "    }\n",
       "\n",
       "    .dataframe thead th {\n",
       "        text-align: right;\n",
       "    }\n",
       "</style>\n",
       "<table border=\"1\" class=\"dataframe\">\n",
       "  <thead>\n",
       "    <tr style=\"text-align: right;\">\n",
       "      <th></th>\n",
       "      <th>key</th>\n",
       "      <th>A_x</th>\n",
       "      <th>B</th>\n",
       "      <th>A_y</th>\n",
       "      <th>C</th>\n",
       "    </tr>\n",
       "  </thead>\n",
       "  <tbody>\n",
       "    <tr>\n",
       "      <th>0</th>\n",
       "      <td>1</td>\n",
       "      <td>A1</td>\n",
       "      <td>B1</td>\n",
       "      <td>A1</td>\n",
       "      <td>C1</td>\n",
       "    </tr>\n",
       "    <tr>\n",
       "      <th>1</th>\n",
       "      <td>2</td>\n",
       "      <td>A2</td>\n",
       "      <td>B2</td>\n",
       "      <td>A2</td>\n",
       "      <td>C2</td>\n",
       "    </tr>\n",
       "    <tr>\n",
       "      <th>2</th>\n",
       "      <td>3</td>\n",
       "      <td>A3</td>\n",
       "      <td>B3</td>\n",
       "      <td>A3</td>\n",
       "      <td>C3</td>\n",
       "    </tr>\n",
       "    <tr>\n",
       "      <th>3</th>\n",
       "      <td>4</td>\n",
       "      <td>A4</td>\n",
       "      <td>B4</td>\n",
       "      <td>A4</td>\n",
       "      <td>C4</td>\n",
       "    </tr>\n",
       "  </tbody>\n",
       "</table>\n",
       "</div>"
      ],
      "text/plain": [
       "  key A_x   B A_y   C\n",
       "0   1  A1  B1  A1  C1\n",
       "1   2  A2  B2  A2  C2\n",
       "2   3  A3  B3  A3  C3\n",
       "3   4  A4  B4  A4  C4"
      ]
     },
     "execution_count": 129,
     "metadata": {},
     "output_type": "execute_result"
    }
   ],
   "source": [
    "pd.merge(left,right,on=\"key\")  #加上了后缀_x/_y"
   ]
  },
  {
   "cell_type": "code",
   "execution_count": 130,
   "id": "aebccbc7",
   "metadata": {},
   "outputs": [
    {
     "data": {
      "text/html": [
       "<div>\n",
       "<style scoped>\n",
       "    .dataframe tbody tr th:only-of-type {\n",
       "        vertical-align: middle;\n",
       "    }\n",
       "\n",
       "    .dataframe tbody tr th {\n",
       "        vertical-align: top;\n",
       "    }\n",
       "\n",
       "    .dataframe thead th {\n",
       "        text-align: right;\n",
       "    }\n",
       "</style>\n",
       "<table border=\"1\" class=\"dataframe\">\n",
       "  <thead>\n",
       "    <tr style=\"text-align: right;\">\n",
       "      <th></th>\n",
       "      <th>key</th>\n",
       "      <th>A_L</th>\n",
       "      <th>B</th>\n",
       "      <th>A_R</th>\n",
       "      <th>C</th>\n",
       "    </tr>\n",
       "  </thead>\n",
       "  <tbody>\n",
       "    <tr>\n",
       "      <th>0</th>\n",
       "      <td>1</td>\n",
       "      <td>A1</td>\n",
       "      <td>B1</td>\n",
       "      <td>A1</td>\n",
       "      <td>C1</td>\n",
       "    </tr>\n",
       "    <tr>\n",
       "      <th>1</th>\n",
       "      <td>2</td>\n",
       "      <td>A2</td>\n",
       "      <td>B2</td>\n",
       "      <td>A2</td>\n",
       "      <td>C2</td>\n",
       "    </tr>\n",
       "    <tr>\n",
       "      <th>2</th>\n",
       "      <td>3</td>\n",
       "      <td>A3</td>\n",
       "      <td>B3</td>\n",
       "      <td>A3</td>\n",
       "      <td>C3</td>\n",
       "    </tr>\n",
       "    <tr>\n",
       "      <th>3</th>\n",
       "      <td>4</td>\n",
       "      <td>A4</td>\n",
       "      <td>B4</td>\n",
       "      <td>A4</td>\n",
       "      <td>C4</td>\n",
       "    </tr>\n",
       "  </tbody>\n",
       "</table>\n",
       "</div>"
      ],
      "text/plain": [
       "  key A_L   B A_R   C\n",
       "0   1  A1  B1  A1  C1\n",
       "1   2  A2  B2  A2  C2\n",
       "2   3  A3  B3  A3  C3\n",
       "3   4  A4  B4  A4  C4"
      ]
     },
     "execution_count": 130,
     "metadata": {},
     "output_type": "execute_result"
    }
   ],
   "source": [
    "pd.merge(left,right,on=\"key\",suffixes=[\"_L\",\"_R\"])   #可以指定后缀"
   ]
  },
  {
   "cell_type": "markdown",
   "id": "8a9308a6",
   "metadata": {},
   "source": [
    "# Pandas的Concat数据合并\n",
    "可以合并相同格式的Excel，给DataFrame添加行/列"
   ]
  },
  {
   "cell_type": "markdown",
   "id": "f78ddc8a",
   "metadata": {},
   "source": [
    "##### 使用inner/outer的方式合并\n",
    "##### 指定沿着某个轴向（axis=0/1）\n",
    "##### 把多个Pandas对象合并成一个"
   ]
  },
  {
   "cell_type": "markdown",
   "id": "9b615bfb",
   "metadata": {},
   "source": [
    "## concat语法：\n",
    "pd.concat(objs, axis=0, join='outer',join_axes=None, ignore_index=False,keys=None, levels=None, names=None, verify_integrity=False,copy=True)\n",
    "#### objs：一个列表，可以是Series或DataFrame，也可以是两者混合。如果传递了dict，则排序的键将用作键参数，除非它被传递\n",
    "#### axis：默认0按行合并，1按列合并\n",
    "#### join:合并时索引的对齐方式，默认为outer join(不匹配的索引将留下) 也可以是inner join(不匹配的索引将抛弃)\n",
    "#### ignore_index：是否忽略掉原来的数据索引，默认False"
   ]
  },
  {
   "cell_type": "code",
   "execution_count": 131,
   "id": "c7c0cb00",
   "metadata": {},
   "outputs": [],
   "source": [
    "df_1=pd.DataFrame({\n",
    "    \"A\":['A1','A2','A3','A4']\n",
    "    ,\"B\":['B1','B2','B3','B4']\n",
    "    ,\"C\":['C1','C2','C3','C4']\n",
    "    ,\"D\":['D1','D2','D3','D4']\n",
    "})\n",
    "df_2=pd.DataFrame({\n",
    "    \"A\":['A5','A6','A7','A8']\n",
    "    ,\"B\":['B5','B6','B7','B8']\n",
    "    ,\"C\":['C5','C6','C7','C8']\n",
    "    ,\"E\":['E5','E6','E7','E8']\n",
    "})"
   ]
  },
  {
   "cell_type": "code",
   "execution_count": 132,
   "id": "5ad79cbc",
   "metadata": {},
   "outputs": [
    {
     "data": {
      "text/html": [
       "<div>\n",
       "<style scoped>\n",
       "    .dataframe tbody tr th:only-of-type {\n",
       "        vertical-align: middle;\n",
       "    }\n",
       "\n",
       "    .dataframe tbody tr th {\n",
       "        vertical-align: top;\n",
       "    }\n",
       "\n",
       "    .dataframe thead th {\n",
       "        text-align: right;\n",
       "    }\n",
       "</style>\n",
       "<table border=\"1\" class=\"dataframe\">\n",
       "  <thead>\n",
       "    <tr style=\"text-align: right;\">\n",
       "      <th></th>\n",
       "      <th>A</th>\n",
       "      <th>B</th>\n",
       "      <th>C</th>\n",
       "      <th>D</th>\n",
       "      <th>E</th>\n",
       "    </tr>\n",
       "  </thead>\n",
       "  <tbody>\n",
       "    <tr>\n",
       "      <th>0</th>\n",
       "      <td>A1</td>\n",
       "      <td>B1</td>\n",
       "      <td>C1</td>\n",
       "      <td>D1</td>\n",
       "      <td>NaN</td>\n",
       "    </tr>\n",
       "    <tr>\n",
       "      <th>1</th>\n",
       "      <td>A2</td>\n",
       "      <td>B2</td>\n",
       "      <td>C2</td>\n",
       "      <td>D2</td>\n",
       "      <td>NaN</td>\n",
       "    </tr>\n",
       "    <tr>\n",
       "      <th>2</th>\n",
       "      <td>A3</td>\n",
       "      <td>B3</td>\n",
       "      <td>C3</td>\n",
       "      <td>D3</td>\n",
       "      <td>NaN</td>\n",
       "    </tr>\n",
       "    <tr>\n",
       "      <th>3</th>\n",
       "      <td>A4</td>\n",
       "      <td>B4</td>\n",
       "      <td>C4</td>\n",
       "      <td>D4</td>\n",
       "      <td>NaN</td>\n",
       "    </tr>\n",
       "    <tr>\n",
       "      <th>0</th>\n",
       "      <td>A5</td>\n",
       "      <td>B5</td>\n",
       "      <td>C5</td>\n",
       "      <td>NaN</td>\n",
       "      <td>E5</td>\n",
       "    </tr>\n",
       "    <tr>\n",
       "      <th>1</th>\n",
       "      <td>A6</td>\n",
       "      <td>B6</td>\n",
       "      <td>C6</td>\n",
       "      <td>NaN</td>\n",
       "      <td>E6</td>\n",
       "    </tr>\n",
       "    <tr>\n",
       "      <th>2</th>\n",
       "      <td>A7</td>\n",
       "      <td>B7</td>\n",
       "      <td>C7</td>\n",
       "      <td>NaN</td>\n",
       "      <td>E7</td>\n",
       "    </tr>\n",
       "    <tr>\n",
       "      <th>3</th>\n",
       "      <td>A8</td>\n",
       "      <td>B8</td>\n",
       "      <td>C8</td>\n",
       "      <td>NaN</td>\n",
       "      <td>E8</td>\n",
       "    </tr>\n",
       "  </tbody>\n",
       "</table>\n",
       "</div>"
      ],
      "text/plain": [
       "    A   B   C    D    E\n",
       "0  A1  B1  C1   D1  NaN\n",
       "1  A2  B2  C2   D2  NaN\n",
       "2  A3  B3  C3   D3  NaN\n",
       "3  A4  B4  C4   D4  NaN\n",
       "0  A5  B5  C5  NaN   E5\n",
       "1  A6  B6  C6  NaN   E6\n",
       "2  A7  B7  C7  NaN   E7\n",
       "3  A8  B8  C8  NaN   E8"
      ]
     },
     "execution_count": 132,
     "metadata": {},
     "output_type": "execute_result"
    }
   ],
   "source": [
    "pd.concat([df_1,df_2])   #注意，objs以一个列表方式传入"
   ]
  },
  {
   "cell_type": "code",
   "execution_count": 133,
   "id": "78d69d6c",
   "metadata": {},
   "outputs": [
    {
     "data": {
      "text/html": [
       "<div>\n",
       "<style scoped>\n",
       "    .dataframe tbody tr th:only-of-type {\n",
       "        vertical-align: middle;\n",
       "    }\n",
       "\n",
       "    .dataframe tbody tr th {\n",
       "        vertical-align: top;\n",
       "    }\n",
       "\n",
       "    .dataframe thead th {\n",
       "        text-align: right;\n",
       "    }\n",
       "</style>\n",
       "<table border=\"1\" class=\"dataframe\">\n",
       "  <thead>\n",
       "    <tr style=\"text-align: right;\">\n",
       "      <th></th>\n",
       "      <th>A</th>\n",
       "      <th>B</th>\n",
       "      <th>C</th>\n",
       "      <th>D</th>\n",
       "      <th>E</th>\n",
       "    </tr>\n",
       "  </thead>\n",
       "  <tbody>\n",
       "    <tr>\n",
       "      <th>0</th>\n",
       "      <td>A1</td>\n",
       "      <td>B1</td>\n",
       "      <td>C1</td>\n",
       "      <td>D1</td>\n",
       "      <td>NaN</td>\n",
       "    </tr>\n",
       "    <tr>\n",
       "      <th>1</th>\n",
       "      <td>A2</td>\n",
       "      <td>B2</td>\n",
       "      <td>C2</td>\n",
       "      <td>D2</td>\n",
       "      <td>NaN</td>\n",
       "    </tr>\n",
       "    <tr>\n",
       "      <th>2</th>\n",
       "      <td>A3</td>\n",
       "      <td>B3</td>\n",
       "      <td>C3</td>\n",
       "      <td>D3</td>\n",
       "      <td>NaN</td>\n",
       "    </tr>\n",
       "    <tr>\n",
       "      <th>3</th>\n",
       "      <td>A4</td>\n",
       "      <td>B4</td>\n",
       "      <td>C4</td>\n",
       "      <td>D4</td>\n",
       "      <td>NaN</td>\n",
       "    </tr>\n",
       "    <tr>\n",
       "      <th>4</th>\n",
       "      <td>A5</td>\n",
       "      <td>B5</td>\n",
       "      <td>C5</td>\n",
       "      <td>NaN</td>\n",
       "      <td>E5</td>\n",
       "    </tr>\n",
       "    <tr>\n",
       "      <th>5</th>\n",
       "      <td>A6</td>\n",
       "      <td>B6</td>\n",
       "      <td>C6</td>\n",
       "      <td>NaN</td>\n",
       "      <td>E6</td>\n",
       "    </tr>\n",
       "    <tr>\n",
       "      <th>6</th>\n",
       "      <td>A7</td>\n",
       "      <td>B7</td>\n",
       "      <td>C7</td>\n",
       "      <td>NaN</td>\n",
       "      <td>E7</td>\n",
       "    </tr>\n",
       "    <tr>\n",
       "      <th>7</th>\n",
       "      <td>A8</td>\n",
       "      <td>B8</td>\n",
       "      <td>C8</td>\n",
       "      <td>NaN</td>\n",
       "      <td>E8</td>\n",
       "    </tr>\n",
       "  </tbody>\n",
       "</table>\n",
       "</div>"
      ],
      "text/plain": [
       "    A   B   C    D    E\n",
       "0  A1  B1  C1   D1  NaN\n",
       "1  A2  B2  C2   D2  NaN\n",
       "2  A3  B3  C3   D3  NaN\n",
       "3  A4  B4  C4   D4  NaN\n",
       "4  A5  B5  C5  NaN   E5\n",
       "5  A6  B6  C6  NaN   E6\n",
       "6  A7  B7  C7  NaN   E7\n",
       "7  A8  B8  C8  NaN   E8"
      ]
     },
     "execution_count": 133,
     "metadata": {},
     "output_type": "execute_result"
    }
   ],
   "source": [
    "pd.concat([df_1,df_2],ignore_index=True)  #抛弃之前的索引，重新创建"
   ]
  },
  {
   "cell_type": "code",
   "execution_count": 134,
   "id": "debf73ae",
   "metadata": {},
   "outputs": [
    {
     "data": {
      "text/html": [
       "<div>\n",
       "<style scoped>\n",
       "    .dataframe tbody tr th:only-of-type {\n",
       "        vertical-align: middle;\n",
       "    }\n",
       "\n",
       "    .dataframe tbody tr th {\n",
       "        vertical-align: top;\n",
       "    }\n",
       "\n",
       "    .dataframe thead th {\n",
       "        text-align: right;\n",
       "    }\n",
       "</style>\n",
       "<table border=\"1\" class=\"dataframe\">\n",
       "  <thead>\n",
       "    <tr style=\"text-align: right;\">\n",
       "      <th></th>\n",
       "      <th>A</th>\n",
       "      <th>B</th>\n",
       "      <th>C</th>\n",
       "    </tr>\n",
       "  </thead>\n",
       "  <tbody>\n",
       "    <tr>\n",
       "      <th>0</th>\n",
       "      <td>A1</td>\n",
       "      <td>B1</td>\n",
       "      <td>C1</td>\n",
       "    </tr>\n",
       "    <tr>\n",
       "      <th>1</th>\n",
       "      <td>A2</td>\n",
       "      <td>B2</td>\n",
       "      <td>C2</td>\n",
       "    </tr>\n",
       "    <tr>\n",
       "      <th>2</th>\n",
       "      <td>A3</td>\n",
       "      <td>B3</td>\n",
       "      <td>C3</td>\n",
       "    </tr>\n",
       "    <tr>\n",
       "      <th>3</th>\n",
       "      <td>A4</td>\n",
       "      <td>B4</td>\n",
       "      <td>C4</td>\n",
       "    </tr>\n",
       "    <tr>\n",
       "      <th>0</th>\n",
       "      <td>A5</td>\n",
       "      <td>B5</td>\n",
       "      <td>C5</td>\n",
       "    </tr>\n",
       "    <tr>\n",
       "      <th>1</th>\n",
       "      <td>A6</td>\n",
       "      <td>B6</td>\n",
       "      <td>C6</td>\n",
       "    </tr>\n",
       "    <tr>\n",
       "      <th>2</th>\n",
       "      <td>A7</td>\n",
       "      <td>B7</td>\n",
       "      <td>C7</td>\n",
       "    </tr>\n",
       "    <tr>\n",
       "      <th>3</th>\n",
       "      <td>A8</td>\n",
       "      <td>B8</td>\n",
       "      <td>C8</td>\n",
       "    </tr>\n",
       "  </tbody>\n",
       "</table>\n",
       "</div>"
      ],
      "text/plain": [
       "    A   B   C\n",
       "0  A1  B1  C1\n",
       "1  A2  B2  C2\n",
       "2  A3  B3  C3\n",
       "3  A4  B4  C4\n",
       "0  A5  B5  C5\n",
       "1  A6  B6  C6\n",
       "2  A7  B7  C7\n",
       "3  A8  B8  C8"
      ]
     },
     "execution_count": 134,
     "metadata": {},
     "output_type": "execute_result"
    }
   ],
   "source": [
    "pd.concat([df_1,df_2],join='inner')   #抛弃不匹配的数据"
   ]
  },
  {
   "cell_type": "code",
   "execution_count": 135,
   "id": "8daab1d6",
   "metadata": {},
   "outputs": [
    {
     "data": {
      "text/html": [
       "<div>\n",
       "<style scoped>\n",
       "    .dataframe tbody tr th:only-of-type {\n",
       "        vertical-align: middle;\n",
       "    }\n",
       "\n",
       "    .dataframe tbody tr th {\n",
       "        vertical-align: top;\n",
       "    }\n",
       "\n",
       "    .dataframe thead th {\n",
       "        text-align: right;\n",
       "    }\n",
       "</style>\n",
       "<table border=\"1\" class=\"dataframe\">\n",
       "  <thead>\n",
       "    <tr style=\"text-align: right;\">\n",
       "      <th></th>\n",
       "      <th>A</th>\n",
       "      <th>B</th>\n",
       "      <th>C</th>\n",
       "      <th>D</th>\n",
       "      <th>A</th>\n",
       "      <th>B</th>\n",
       "      <th>C</th>\n",
       "      <th>E</th>\n",
       "    </tr>\n",
       "  </thead>\n",
       "  <tbody>\n",
       "    <tr>\n",
       "      <th>0</th>\n",
       "      <td>A1</td>\n",
       "      <td>B1</td>\n",
       "      <td>C1</td>\n",
       "      <td>D1</td>\n",
       "      <td>A5</td>\n",
       "      <td>B5</td>\n",
       "      <td>C5</td>\n",
       "      <td>E5</td>\n",
       "    </tr>\n",
       "    <tr>\n",
       "      <th>1</th>\n",
       "      <td>A2</td>\n",
       "      <td>B2</td>\n",
       "      <td>C2</td>\n",
       "      <td>D2</td>\n",
       "      <td>A6</td>\n",
       "      <td>B6</td>\n",
       "      <td>C6</td>\n",
       "      <td>E6</td>\n",
       "    </tr>\n",
       "    <tr>\n",
       "      <th>2</th>\n",
       "      <td>A3</td>\n",
       "      <td>B3</td>\n",
       "      <td>C3</td>\n",
       "      <td>D3</td>\n",
       "      <td>A7</td>\n",
       "      <td>B7</td>\n",
       "      <td>C7</td>\n",
       "      <td>E7</td>\n",
       "    </tr>\n",
       "    <tr>\n",
       "      <th>3</th>\n",
       "      <td>A4</td>\n",
       "      <td>B4</td>\n",
       "      <td>C4</td>\n",
       "      <td>D4</td>\n",
       "      <td>A8</td>\n",
       "      <td>B8</td>\n",
       "      <td>C8</td>\n",
       "      <td>E8</td>\n",
       "    </tr>\n",
       "  </tbody>\n",
       "</table>\n",
       "</div>"
      ],
      "text/plain": [
       "    A   B   C   D   A   B   C   E\n",
       "0  A1  B1  C1  D1  A5  B5  C5  E5\n",
       "1  A2  B2  C2  D2  A6  B6  C6  E6\n",
       "2  A3  B3  C3  D3  A7  B7  C7  E7\n",
       "3  A4  B4  C4  D4  A8  B8  C8  E8"
      ]
     },
     "execution_count": 135,
     "metadata": {},
     "output_type": "execute_result"
    }
   ],
   "source": [
    "pd.concat([df_1,df_2],axis=1)   #按列合并"
   ]
  },
  {
   "cell_type": "markdown",
   "id": "5dfa80bf",
   "metadata": {},
   "source": [
    "## append语法：\n",
    "DataFrame.append(other, ignore_index=False, verify_integrity=False, sort=None)\n",
    "#### other：可以是DataFrame / Series / dict / list\n",
    "#### ignore_index：是否忽略掉原来的数据索引，默认False\n",
    "append只有按行合并，没有按列合并"
   ]
  },
  {
   "cell_type": "code",
   "execution_count": 136,
   "id": "d5a4520b",
   "metadata": {},
   "outputs": [],
   "source": [
    "df_1=pd.DataFrame([[1,2],[3,4]],columns=[\"A\",\"B\"])\n",
    "df_2=pd.DataFrame([[5,6],[7,8]],columns=[\"A\",\"B\"])"
   ]
  },
  {
   "cell_type": "code",
   "execution_count": 137,
   "id": "20e614ab",
   "metadata": {},
   "outputs": [
    {
     "data": {
      "text/html": [
       "<div>\n",
       "<style scoped>\n",
       "    .dataframe tbody tr th:only-of-type {\n",
       "        vertical-align: middle;\n",
       "    }\n",
       "\n",
       "    .dataframe tbody tr th {\n",
       "        vertical-align: top;\n",
       "    }\n",
       "\n",
       "    .dataframe thead th {\n",
       "        text-align: right;\n",
       "    }\n",
       "</style>\n",
       "<table border=\"1\" class=\"dataframe\">\n",
       "  <thead>\n",
       "    <tr style=\"text-align: right;\">\n",
       "      <th></th>\n",
       "      <th>A</th>\n",
       "      <th>B</th>\n",
       "    </tr>\n",
       "  </thead>\n",
       "  <tbody>\n",
       "    <tr>\n",
       "      <th>0</th>\n",
       "      <td>1</td>\n",
       "      <td>2</td>\n",
       "    </tr>\n",
       "    <tr>\n",
       "      <th>1</th>\n",
       "      <td>3</td>\n",
       "      <td>4</td>\n",
       "    </tr>\n",
       "    <tr>\n",
       "      <th>0</th>\n",
       "      <td>5</td>\n",
       "      <td>6</td>\n",
       "    </tr>\n",
       "    <tr>\n",
       "      <th>1</th>\n",
       "      <td>7</td>\n",
       "      <td>8</td>\n",
       "    </tr>\n",
       "  </tbody>\n",
       "</table>\n",
       "</div>"
      ],
      "text/plain": [
       "   A  B\n",
       "0  1  2\n",
       "1  3  4\n",
       "0  5  6\n",
       "1  7  8"
      ]
     },
     "execution_count": 137,
     "metadata": {},
     "output_type": "execute_result"
    }
   ],
   "source": [
    "df_1.append(df_2)   #数据的合并"
   ]
  },
  {
   "cell_type": "code",
   "execution_count": 138,
   "id": "d8218630",
   "metadata": {},
   "outputs": [
    {
     "data": {
      "text/html": [
       "<div>\n",
       "<style scoped>\n",
       "    .dataframe tbody tr th:only-of-type {\n",
       "        vertical-align: middle;\n",
       "    }\n",
       "\n",
       "    .dataframe tbody tr th {\n",
       "        vertical-align: top;\n",
       "    }\n",
       "\n",
       "    .dataframe thead th {\n",
       "        text-align: right;\n",
       "    }\n",
       "</style>\n",
       "<table border=\"1\" class=\"dataframe\">\n",
       "  <thead>\n",
       "    <tr style=\"text-align: right;\">\n",
       "      <th></th>\n",
       "      <th>A</th>\n",
       "      <th>B</th>\n",
       "    </tr>\n",
       "  </thead>\n",
       "  <tbody>\n",
       "    <tr>\n",
       "      <th>0</th>\n",
       "      <td>1</td>\n",
       "      <td>2</td>\n",
       "    </tr>\n",
       "    <tr>\n",
       "      <th>1</th>\n",
       "      <td>3</td>\n",
       "      <td>4</td>\n",
       "    </tr>\n",
       "    <tr>\n",
       "      <th>2</th>\n",
       "      <td>5</td>\n",
       "      <td>6</td>\n",
       "    </tr>\n",
       "    <tr>\n",
       "      <th>3</th>\n",
       "      <td>7</td>\n",
       "      <td>8</td>\n",
       "    </tr>\n",
       "  </tbody>\n",
       "</table>\n",
       "</div>"
      ],
      "text/plain": [
       "   A  B\n",
       "0  1  2\n",
       "1  3  4\n",
       "2  5  6\n",
       "3  7  8"
      ]
     },
     "execution_count": 138,
     "metadata": {},
     "output_type": "execute_result"
    }
   ],
   "source": [
    "df_1.append(df_2,ignore_index=True)  #忽略原索引"
   ]
  },
  {
   "cell_type": "markdown",
   "id": "5169e90b",
   "metadata": {},
   "source": [
    "### 如何一行行的给DataFrame添加数据"
   ]
  },
  {
   "cell_type": "code",
   "execution_count": 139,
   "id": "a70dada0",
   "metadata": {},
   "outputs": [
    {
     "name": "stdout",
     "output_type": "stream",
     "text": [
      "耗时： 0.20887749999999983 S\n"
     ]
    }
   ],
   "source": [
    "#方法1（低性能）\n",
    "import timeit\n",
    "def test():\n",
    "    df=pd.DataFrame(columns=[\"A\"]) #空的DataFrame\n",
    "    for i in range(100):   #写一个for循环，每次append一个\n",
    "        df=df.append({\"A\":i},ignore_index=True)   #每次形成一个性的DataFrame进行赋值\n",
    "print(\"耗时：\",timeit.timeit(stmt=test,number=1),\"S\")\n"
   ]
  },
  {
   "cell_type": "code",
   "execution_count": 140,
   "id": "88732a09",
   "metadata": {},
   "outputs": [
    {
     "name": "stdout",
     "output_type": "stream",
     "text": [
      "耗时： 0.04003439999999969 S\n"
     ]
    }
   ],
   "source": [
    "#方法2（相对更高的性能）\n",
    "import timeit\n",
    "def test():\n",
    "    pd.concat(\n",
    "        [pd.DataFrame([i],columns=[\"A\"]) for i in range(100)]\n",
    "        ,ignore_index=True\n",
    "    )\n",
    "print(\"耗时：\",timeit.timeit(stmt=test,number=1),\"S\")"
   ]
  },
  {
   "cell_type": "markdown",
   "id": "2aad3a7e",
   "metadata": {},
   "source": [
    "# Pandas批量拆分与合并Excel文件  （实战应用）\n",
    "参考与数据来源：B站UP主蚂蚁学python：https://www.bilibili.com/video/BV1UJ411A7Fs?p=15"
   ]
  },
  {
   "cell_type": "code",
   "execution_count": 141,
   "id": "03e03e30",
   "metadata": {},
   "outputs": [],
   "source": [
    "work_dir=\"D:\\\\编程项目\\\\python项目\\\\bigdata\\\\data\\\\excel_split_marge\"\n",
    "split_dir=f\"{work_dir}/splits\"   #用来放置拆分后的小文件"
   ]
  },
  {
   "cell_type": "code",
   "execution_count": 142,
   "id": "ba20cb43",
   "metadata": {},
   "outputs": [],
   "source": [
    "import os\n",
    "if not os.path.exists(split_dir):    #如果不存在splits文件夹\n",
    "    os.mkdir(split_dir)    #则创建"
   ]
  },
  {
   "cell_type": "markdown",
   "id": "445a8097",
   "metadata": {},
   "source": [
    "### 读取原数据"
   ]
  },
  {
   "cell_type": "code",
   "execution_count": 143,
   "id": "a9e0dcda",
   "metadata": {},
   "outputs": [
    {
     "data": {
      "text/html": [
       "<div>\n",
       "<style scoped>\n",
       "    .dataframe tbody tr th:only-of-type {\n",
       "        vertical-align: middle;\n",
       "    }\n",
       "\n",
       "    .dataframe tbody tr th {\n",
       "        vertical-align: top;\n",
       "    }\n",
       "\n",
       "    .dataframe thead th {\n",
       "        text-align: right;\n",
       "    }\n",
       "</style>\n",
       "<table border=\"1\" class=\"dataframe\">\n",
       "  <thead>\n",
       "    <tr style=\"text-align: right;\">\n",
       "      <th></th>\n",
       "      <th>id</th>\n",
       "      <th>title</th>\n",
       "      <th>tags</th>\n",
       "    </tr>\n",
       "  </thead>\n",
       "  <tbody>\n",
       "    <tr>\n",
       "      <th>0</th>\n",
       "      <td>2585</td>\n",
       "      <td>Tensorflow怎样接收变长列表特征</td>\n",
       "      <td>python,tensorflow,特征工程</td>\n",
       "    </tr>\n",
       "    <tr>\n",
       "      <th>1</th>\n",
       "      <td>2583</td>\n",
       "      <td>Pandas实现数据的合并concat</td>\n",
       "      <td>pandas,python,数据分析</td>\n",
       "    </tr>\n",
       "    <tr>\n",
       "      <th>2</th>\n",
       "      <td>2574</td>\n",
       "      <td>Pandas的Index索引有什么用途？</td>\n",
       "      <td>pandas,python,数据分析</td>\n",
       "    </tr>\n",
       "  </tbody>\n",
       "</table>\n",
       "</div>"
      ],
      "text/plain": [
       "     id                 title                    tags\n",
       "0  2585  Tensorflow怎样接收变长列表特征  python,tensorflow,特征工程\n",
       "1  2583   Pandas实现数据的合并concat      pandas,python,数据分析\n",
       "2  2574  Pandas的Index索引有什么用途？      pandas,python,数据分析"
      ]
     },
     "execution_count": 143,
     "metadata": {},
     "output_type": "execute_result"
    }
   ],
   "source": [
    "df_soure = pd.read_excel(f\"{work_dir}/crazyant_blog_articles_source.xlsx\")\n",
    "df_soure.head(3)"
   ]
  },
  {
   "cell_type": "code",
   "execution_count": 144,
   "id": "40164faa",
   "metadata": {},
   "outputs": [
    {
     "data": {
      "text/plain": [
       "RangeIndex(start=0, stop=258, step=1)"
      ]
     },
     "execution_count": 144,
     "metadata": {},
     "output_type": "execute_result"
    }
   ],
   "source": [
    "df_soure.index   #索引"
   ]
  },
  {
   "cell_type": "code",
   "execution_count": 145,
   "id": "4a190638",
   "metadata": {},
   "outputs": [
    {
     "data": {
      "text/plain": [
       "(258, 3)"
      ]
     },
     "execution_count": 145,
     "metadata": {},
     "output_type": "execute_result"
    }
   ],
   "source": [
    "df_soure.shape   #形状（行，列）"
   ]
  },
  {
   "cell_type": "code",
   "execution_count": 146,
   "id": "63c7fade",
   "metadata": {},
   "outputs": [
    {
     "data": {
      "text/plain": [
       "258"
      ]
     },
     "execution_count": 146,
     "metadata": {},
     "output_type": "execute_result"
    }
   ],
   "source": [
    "total_row_count = df_soure.shape[0]   #取元组第0个元素（行）\n",
    "total_row_count"
   ]
  },
  {
   "cell_type": "markdown",
   "id": "84881a61",
   "metadata": {},
   "source": [
    "## 将一个大的Excel拆分成几个小的Excel\n",
    "##### 1--使用df.iloc方法，将一个大的DataFrame拆分成多个小的DataFrame\n",
    "##### 2--使用DataFrame.to_excel方法保存拆分后的结果到小文件\n"
   ]
  },
  {
   "cell_type": "markdown",
   "id": "1c1aa75e",
   "metadata": {},
   "source": [
    "1，计算拆分后每个excel的行数"
   ]
  },
  {
   "cell_type": "code",
   "execution_count": 147,
   "id": "9a782262",
   "metadata": {},
   "outputs": [],
   "source": [
    "#把这个大Excel分给几个人来处理\n",
    "user_names=['小华','小王','小明','小磊','小波','小红']   #拆分几个文件就\"叫\"几个人"
   ]
  },
  {
   "cell_type": "code",
   "execution_count": 148,
   "id": "9c41d622",
   "metadata": {},
   "outputs": [
    {
     "data": {
      "text/plain": [
       "43"
      ]
     },
     "execution_count": 148,
     "metadata": {},
     "output_type": "execute_result"
    }
   ],
   "source": [
    "#确定每个人的任务条目\n",
    "split_size = total_row_count // len(user_names)\n",
    "if total_row_count % len(user_names) != 0:   #要是不能平均分那就每个人加一条\n",
    "    split_size += 1\n",
    "split_size   #每个人需要处理的条目"
   ]
  },
  {
   "cell_type": "markdown",
   "id": "c2355b91",
   "metadata": {},
   "source": [
    "2，拆分成多个DataFrame"
   ]
  },
  {
   "cell_type": "code",
   "execution_count": 149,
   "id": "409b9cc8",
   "metadata": {
    "scrolled": true
   },
   "outputs": [
    {
     "data": {
      "text/plain": [
       "[(0,\n",
       "  '小华',\n",
       "        id                                    title  \\\n",
       "  0   2585                     Tensorflow怎样接收变长列表特征   \n",
       "  1   2583                      Pandas实现数据的合并concat   \n",
       "  2   2574                     Pandas的Index索引有什么用途？   \n",
       "  3   2564                              机器学习常用数据集大全   \n",
       "  4   2561                             一个数据科学家的修炼路径   \n",
       "  5   2546                       Pandas的axis参数怎么理解？   \n",
       "  6   2541                           Pandas怎样处理字符串？   \n",
       "  7   2536                         Pandas怎样对数据进行排序？   \n",
       "  8   2534               CTR预估：(标签-权重)列表类特征怎么输入到模型？   \n",
       "  9   2532                            Pandas对缺失值的处理   \n",
       "  10  2528     Pandas的SettingWithCopyWarning报警怎么回事？   \n",
       "  11  2525                    3分钟Python爬取9000张表情包图片   \n",
       "  12  2523                      Pandas系列 – 怎样新增数据列？   \n",
       "  13  2521                        Pandas系列 – 数据统计函数   \n",
       "  14  2517                   Pandas怎样根据码表更新ID对应的名称？   \n",
       "  15  2515                          Pandas怎样按条件删除行？   \n",
       "  16  2506                       Pandas系列-查询数据的5种方法   \n",
       "  17  2502            Pandas系列-DataFrame和Series数据结构   \n",
       "  18  2499             Pandas系列-读取csv/excel/mysql数据   \n",
       "  19  2469                   Spark使用Java开发遇到的那些类型错误   \n",
       "  20  2454                       推荐系统：实现文章相似推荐的简单实例   \n",
       "  21  2447        Spark使用word2vec训练item2vec实现内容相关推荐   \n",
       "  22  2434                Pandas中对轴axis=0和axis=1的理解   \n",
       "  23  2419              Flask使用Pyecharts在单个页面展示多个图表   \n",
       "  24  2404                              听樊登的《非暴力沟通》   \n",
       "  25  2367  Java和Python使用Grpc访问Tensorflow的Serving代码   \n",
       "  26  2351                          推荐系统：怎样实现内容相似推荐   \n",
       "  27  2343        Flask怎样从其他Python文件导入app.route视图函数   \n",
       "  28  2336                             我为什么从工程转了算法？   \n",
       "  29  2324                         推荐系统：爱奇艺知识推荐系统架构   \n",
       "  30  2303            Spark使用JAVA编写自定义函数修改DataFrame   \n",
       "  31  2301                   tensorflow怎样输入具有多个值的特征   \n",
       "  32  2283         Python3用scan和delete命令批量清理redis数据   \n",
       "  33  2273                   CentOS自己编译安装Python3的命令   \n",
       "  34  2261                 PyCharm开发PySpark程序的配置和实例   \n",
       "  35  2231                            Spark数据倾斜解决方法   \n",
       "  36  2194                        读书笔记 – 数据驱动从方法到实践   \n",
       "  37  2177              使用PaddlePaddle搭建卷积网络做文本数据分类   \n",
       "  38  2167                  使用Kmeans对Word2vec的输出做聚类   \n",
       "  39  2160                          Hive实现返回MAP的UDF   \n",
       "  40  2150                             Python高级编程技巧   \n",
       "  41  2145                      快速找到Tomcat中最耗CPU的线程   \n",
       "  42  2124              Java线程池ThreadPoolExecutor详解   \n",
       "  \n",
       "                                tags  \n",
       "  0           python,tensorflow,特征工程  \n",
       "  1               pandas,python,数据分析  \n",
       "  2               pandas,python,数据分析  \n",
       "  3                      python,机器学习  \n",
       "  4                             数据分析  \n",
       "  5               pandas,python,数据分析  \n",
       "  6               pandas,python,数据分析  \n",
       "  7               pandas,python,数据分析  \n",
       "  8                      python,机器学习  \n",
       "  9               pandas,python,数据分析  \n",
       "  10              pandas,python,数据分析  \n",
       "  11                       python,爬虫  \n",
       "  12                   pandas,python  \n",
       "  13              pandas,python,数据分析  \n",
       "  14                          pandas  \n",
       "  15                   pandas,python  \n",
       "  16              pandas,python,数据分析  \n",
       "  17              pandas,python,数据分析  \n",
       "  18              pandas,python,数据分析  \n",
       "  19                      java,spark  \n",
       "  20      pandas,python,sklearn,推荐系统  \n",
       "  21              item2vec,java,推荐系统  \n",
       "  22                   pandas,python  \n",
       "  23  echarts,flask,pyecharts,python  \n",
       "  24                            程序人生  \n",
       "  25          java,python,tensorflow  \n",
       "  26                            推荐系统  \n",
       "  27                    flask,python  \n",
       "  28                     大数据,程序人生,算法  \n",
       "  29                            推荐系统  \n",
       "  30                java,mysql,spark  \n",
       "  31               python,tensorflow  \n",
       "  32                    python,redis  \n",
       "  33                    python,shell  \n",
       "  34            pyspark,python,spark  \n",
       "  35                           spark  \n",
       "  36                   人工智能,大数据,数据驱动  \n",
       "  37               paddlepaddle,机器学习  \n",
       "  38                         机器学习,聚类  \n",
       "  39                            hive  \n",
       "  40                          python  \n",
       "  41                 java,jvm,tomcat  \n",
       "  42                            java  ),\n",
       " (1,\n",
       "  '小王',\n",
       "        id                                              title  \\\n",
       "  43  2120                              Zookeeper并不保证读取的是最新数据   \n",
       "  44  2089                                Mybatis源码解读-初始化过程详解   \n",
       "  45  2076                               怎样借助Python爬虫给宝宝起个好名字   \n",
       "  46  2022                                 Mybatis源码解读-设计模式总结   \n",
       "  47  2012                                 打工者心态、主人公意识、个人公司品牌   \n",
       "  48  1980                           Tomcat内存分析相关方法(jmap和mat)   \n",
       "  49  1973                                  如此重要但是经常被忽视的代码架构！   \n",
       "  50  1964                          Stay hungry, Stay foolish   \n",
       "  51  1961                                MAC挂载NTFS移动硬盘进行读写操作   \n",
       "  52  1957                                         工程师的月亮和六便士   \n",
       "  53  1946                                  MAC环境堪比Visio的画图神器   \n",
       "  54  1931                      Log4j将不同Package的日志输出到不同的文件的方法   \n",
       "  55  1922                            数据处理中提升性能的方法-引入并发但是避免同步   \n",
       "  56  1901                       MySQL导入导出数据时遇到Tab符号和换行符号怎么办？   \n",
       "  57  1898                              使用PHPUnit编写PHP单元测试的方法   \n",
       "  58  1895                              Bash Shell怎样检查文件是否存在？   \n",
       "  59  1890                        Python使用unittest实现简单的单元测试实例   \n",
       "  60  1886                              将Maven工程打包成可执行JAR包的方法   \n",
       "  61  1861                                      Java线程死亡的几种情况   \n",
       "  62  1858                                 通过JVM堆栈分析出现大量线程的原因   \n",
       "  63  1835                                想要加悲观锁可是数据行还不存在怎么办？   \n",
       "  64  1810                  Java堆溢出OutOfMemoryError之代码实例和原因分析   \n",
       "  65  1789                          Python中文转拼音代码(支持全拼和首字母缩写)   \n",
       "  66  1784  使用javap命令或者eclipse的Bytecode visualizer插件阅读java...   \n",
       "  67  1782                                 Java怎样单测void类型的方法？   \n",
       "  68  1777                              《解忧杂货店》- 解答心中已经有结论的疑问   \n",
       "  69  1763                                  有了事务为什么还需要乐观锁和悲观锁   \n",
       "  70  1741                                       数据库并发控制机制的理解   \n",
       "  71  1735                                        读书破万卷，代码如有神   \n",
       "  72  1722           《Spring in action》3rd中SpringPizza项目的运行方法   \n",
       "  73  1712                                           做设计就像创世界   \n",
       "  74  1707                  Python使用list字段模式或者dict字段模式读取文件的方法   \n",
       "  75  1703                        Java怎样创建两个KEY（key-pair）的MAP   \n",
       "  76  1697                                           《超体》中的哲学   \n",
       "  77  1689                               Java枚举类型代码的二逼写法和艺术写法   \n",
       "  78  1664                                  Python操作MySQL视频教程   \n",
       "  79  1625                                      Hive开发经验问答式总结   \n",
       "  80  1607                       将普通Maven Spring项目转换成Web项目的方法   \n",
       "  81  1600                              Hive取非Group by字段数据的方法   \n",
       "  82  1587                         MySQL执行Select语句将结果导出到文件的方法   \n",
       "  83  1470  Hive的left join、left outer join和left semi join三...   \n",
       "  84  1465                                       将网站的创意变成钱的过程   \n",
       "  85  1459                                       从产品和技术的对比想到的   \n",
       "  \n",
       "                                tags  \n",
       "  43                       zookeeper  \n",
       "  44                         mybatis  \n",
       "  45                       python,爬虫  \n",
       "  46                    mybatis,设计模式  \n",
       "  47                            程序人生  \n",
       "  48                     java,tomcat  \n",
       "  49                            技术架构  \n",
       "  50                            程序人生  \n",
       "  51                             mac  \n",
       "  52                            程序人生  \n",
       "  53                             mac  \n",
       "  54                      java,log4j  \n",
       "  55  java,php,python,shell,大数据,数据处理  \n",
       "  56                    mysql,python  \n",
       "  57                             php  \n",
       "  58                     linux,shell  \n",
       "  59                       python,单测  \n",
       "  60                      java,maven  \n",
       "  61                            java  \n",
       "  62                        java,jvm  \n",
       "  63                       java,并发控制  \n",
       "  64                        java,jvm  \n",
       "  65                          python  \n",
       "  66                            java  \n",
       "  67                            java  \n",
       "  68                            程序人生  \n",
       "  69                       mysql,数据库  \n",
       "  70                              事务  \n",
       "  71                         java,阅读  \n",
       "  72                          spring  \n",
       "  73                         程序人生,设计  \n",
       "  74                          python  \n",
       "  75                            java  \n",
       "  76                              思考  \n",
       "  77                            java  \n",
       "  78                 mysql,python,视频  \n",
       "  79                            hive  \n",
       "  80                      java,maven  \n",
       "  81                            hive  \n",
       "  82                           mysql  \n",
       "  83                            hive  \n",
       "  84                              站长  \n",
       "  85                            程序人生  ),\n",
       " (2,\n",
       "  '小明',\n",
       "         id                                 title                     tags\n",
       "  86   1456          Hive中Order by和Sort by的区别是什么?                     hive\n",
       "  87   1451                      向Hive程序传递变量的三种方法                     hive\n",
       "  88   1440                       把HIVE程序优化30倍的经验                     hive\n",
       "  89   1437           Hive使用TRANSFORM运行Python脚本总结                     hive\n",
       "  90   1428                MySQL 查看数据库中每个表占用的空间大小                    mysql\n",
       "  91   1426       Java使用lombok自动生成getter和setter方法                     java\n",
       "  92   1423                   MapReduce文件切分个数计算方法                   hadoop\n",
       "  93   1413                        《大数据时代》是一部科幻小说                   hadoop\n",
       "  94   1409        [转]Hive中对group结果分组取limit N值的实现                     hive\n",
       "  95   1404                           HIVE的几个使用技巧                     hive\n",
       "  96   1397                      Python批量重命名文件的方法                   python\n",
       "  97   1390  Python内置函数map、reduce、filter在文本处理中的应用                   python\n",
       "  98   1372      chrome自动刷新网页插件：Auto Refresh Plus                   chrome\n",
       "  99   1355                     MySQL数据导入导出实例教程手册                    mysql\n",
       "  100  1345                     MySQL一条语句更新多个表的方法                    mysql\n",
       "  101  1337                      mysql根据A表更新B表的方法             mysql,python\n",
       "  102  1326           [织梦DEDE迁移]读取织梦MySQL生成所有文章链接                       织梦\n",
       "  103  1321                   Python访问MySQL封装的常用类             mysql,python\n",
       "  104  1319                    python执行shell的两种方法             python,shell\n",
       "  105  1309                       Python封装的常用日期函数                   python\n",
       "  106  1303                       python子类调用父类的方法                   python\n",
       "  107  1297               wordpress按层级方式显示分类链接的方法                wordpress\n",
       "  108  1292                       Firefox数据采集插件大全                  数据采集,爬虫\n",
       "  109  1216                    Python生成文件md5校验值函数                   python\n",
       "  110  1214  网站从织梦DEDECMS迁移到WordPress过程以及URL重定向方法                       织梦\n",
       "  111  1209             shell/hadoop/hive一些有用命令收集  hadoop,hive,mysql,shell\n",
       "  112  1203                      Hive开发中使用变量的两种方法                     hive\n",
       "  113  1197                 hive从查询中获取数据插入到表或动态分区                     hive\n",
       "  114  1193                  Hive元数据存于mysql中文乱码解决               hive,mysql\n",
       "  115  1185      为eclipse安装python、shell开发环境和SVN插件             python,shell\n",
       "  116  1144      hadoop第一个程序WordCount.java的编译运行过程                   hadoop\n",
       "  117  1129                   MYSQL向数据表插入默认字段值的方法                    mysql\n",
       "  118  1122         Hadoop-Streaming实战经验及问题解决方法总结                   hadoop\n",
       "  119  1112          Hadoop之使用python实现数据集合间join操作            hadoop,python\n",
       "  120  1094  Rational Rose根据Java代码自动生成类图（教程和错误解决）                     java\n",
       "  121  1088         MathType(数学公式编辑器) 汉化绿色版V6.7下载                 mathtype\n",
       "  122  1072                JSP使用JNA调用DLL函数遇到的几个问题                     java\n",
       "  123  1066                 读《疯狂的站长》- 回顾反思我的个人站长路                       站长\n",
       "  124  1064                      给计算机专业求职的同学推荐几本书                     程序人生\n",
       "  125  1061                        MySQL数据库存储过程教程                    mysql\n",
       "  126  1057                Magento获取指定分类下的所有子分类信息              magento,php\n",
       "  127  1055               WIN7使用VisualSVN建立SVN服务器                 svn,win7\n",
       "  128  1044            织梦DEDECMS简洁蓝色模板免费下载（资讯文章类）                       织梦),\n",
       " (3,\n",
       "  '小磊',\n",
       "         id                                              title  \\\n",
       "  129  1036                                     Django基本命令最全收集   \n",
       "  130  1030                  2012年百度、腾讯、微软、奇虎360、人人、去哪网找工作经历总结   \n",
       "  131  1022                                 PHP对数组的高级遍历和操作处理方法   \n",
       "  132  1014                          使用PHP连接、操纵Memcached的原理和教程   \n",
       "  133  1005                    Django关于站点管理Admin Site的常见问题解决方法   \n",
       "  134  1001                对Django框架架构和Request/Response处理流程的分析   \n",
       "  135   970                                    PHP开发者最好的学习资源收集   \n",
       "  136   955     Ubuntu10.10 Server+Nginx+Django+Postgresql安装步骤   \n",
       "  137   930                      PHP和MySQL处理树状、分级、无限分类、分层数据的方法   \n",
       "  138   920                                  PHP创建和解析JSON数据的方法   \n",
       "  139   914                                程序员做开发，前台、后台、测试哪个累？   \n",
       "  140   912                             PHP的验证码实现（w3schools推荐）   \n",
       "  141   897                                    国外10个非常有趣的PHP博客   \n",
       "  142   886                                 PHP读写Word文件的最佳类库收集   \n",
       "  143   874                          2012年度读写Excel文件的最佳PHP类库收集   \n",
       "  144   855           使用Google搭建自己的SVN或Git或Mercurial代码服务器之完美教程   \n",
       "  145   821                          PHP远程操纵WordPress的方法(流程剖析）   \n",
       "  146   818                              Python模拟登陆新浪微博并实现投票功能   \n",
       "  147   814          Django中定制自己的User和Group管理模块（类似对admin的二次开发）   \n",
       "  148   811                 django1.4设置模板路径和CSS,JS,image等路径的方法   \n",
       "  149   808                              珠玑：在仔细研究数据的基础上得出程序的结构   \n",
       "  150   796             Python使用cookielib和urllib2模拟登陆新浪微博并抓取数据   \n",
       "  151   790                     《SEO实战密码》高清电子版PDF下载地址（SEO学习必备）   \n",
       "  152   781                              重装Win7后恢复和找回Ubuntu启动项   \n",
       "  153   756                            putty连接linux出现中文乱码的解决方法   \n",
       "  154   754  Ubuntu 安装 PostgreSQL 和 python-psycopg2基础教程（以及错...   \n",
       "  155   749                          eclipse远程发布代码的方法（SSH自动同步）   \n",
       "  156   747                         python在linux下安装方法（解决旧版本冲突）   \n",
       "  157   740                                    2012年度PHP最佳类库收集   \n",
       "  158   734                                  php判断远程文件或网站是否能打开   \n",
       "  159   731                PHP数据采集之使用CURL、DOMDocument和DOMXPath   \n",
       "  160   724                                   Python关于apply的知识   \n",
       "  161   722                        Python知识之什么是*args和**kwargs？   \n",
       "  162   717                   PHP魔法方法之__sleep()方法和__wakeup()方法   \n",
       "  163   712                                      Python中的操作符重载   \n",
       "  164   707                                 数据采集简单示例：采集爱帮网电话号码   \n",
       "  165   700                  数据采集技术之在Python中Libxml模块安装与使用XPath   \n",
       "  166   686                          Python操作Mysql实例代码教程（查询手册）   \n",
       "  167   678                     MySQL-python Windows下EXE安装文件下载   \n",
       "  168   675                                数据采集必备知识-php计划任务的实现   \n",
       "  169   658                                 个人博客SEO第一步-提交自己的网站   \n",
       "  170   655                                   情理之中又意料之外的超强减肥方法   \n",
       "  171   647                          新浪微博的mid转换成base62格式的PHP函数   \n",
       "  \n",
       "                      tags  \n",
       "  129        django,python  \n",
       "  130                 程序人生  \n",
       "  131                  php  \n",
       "  132    memcached,php,数据库  \n",
       "  133        django,python  \n",
       "  134        django,python  \n",
       "  135                  php  \n",
       "  136  django,ngnix,ubuntu  \n",
       "  137            mysql,php  \n",
       "  138             json,php  \n",
       "  139                 程序人生  \n",
       "  140              php,验证码  \n",
       "  141                  php  \n",
       "  142             php,word  \n",
       "  143            excel,php  \n",
       "  144              git,svn  \n",
       "  145        php,wordpress  \n",
       "  146            python,爬虫  \n",
       "  147        django,python  \n",
       "  148        django,python  \n",
       "  149                   算法  \n",
       "  150       python,模拟登陆,爬虫  \n",
       "  151                  seo  \n",
       "  152    linux,ubuntu,win7  \n",
       "  153        python,ubuntu  \n",
       "  154               ubuntu  \n",
       "  155       eclipse,python  \n",
       "  156         linux,python  \n",
       "  157                  php  \n",
       "  158                  php  \n",
       "  159               php,爬虫  \n",
       "  160               python  \n",
       "  161               python  \n",
       "  162                  php  \n",
       "  163               python  \n",
       "  164               php,爬虫  \n",
       "  165            python,爬虫  \n",
       "  166     mysql,python,数据库  \n",
       "  167               python  \n",
       "  168               php,爬虫  \n",
       "  169                  seo  \n",
       "  170                 程序人生  \n",
       "  171               php,爬虫  ),\n",
       " (4,\n",
       "  '小波',\n",
       "        id                                        title  \\\n",
       "  172  639        windows下PHP环境（apache,PHP,Mysql）详细配置方法   \n",
       "  173  636                          PHP100视频教程2012版解压密码   \n",
       "  174  629                     Redis+Mysql模式和内存+硬盘模式的异同   \n",
       "  175  611  Redis详细完整教程-windows下的安装、测试(php+redis+mysql)   \n",
       "  176  604            Windows Live Writer快捷方式（打开服务器文档等）   \n",
       "  177  600                              PHP字符串函数、知识要点总结   \n",
       "  178  591                             PHP数组使用、特性、函数的总结   \n",
       "  179  581                                  PHP对文件的操作总结   \n",
       "  180  576                            PHP操作符可变变量测试变量等总结   \n",
       "  181  548                                     有句话说的非常好   \n",
       "  182  545                       [C++]数据结构之堆-上滤下滤以及用于排序   \n",
       "  183  540                          C++拆分字符串代码（实现split）   \n",
       "  184  515                   看完这20部电影相当于学了经济学（投资理财必看电影）   \n",
       "  185  512          Adobe Dreamweaver CS6官方简体中文版安装+破解过程   \n",
       "  186  505               win7系统笔记本设置成虚拟WiFi热点（即“无线路由器”）   \n",
       "  187  502                  按大小拆分超大文件的方法（本文测试了一个62G的文件）   \n",
       "  188  499                            Dedecms备份还原网站有效方法   \n",
       "  189  495                    WIN7下硬盘安装Ubuntu 11.10系统成功   \n",
       "  190  491                          程序员找工作网啊站-计算机专业学生必看   \n",
       "  191  485                         被深深鄙视的2012找暑期实习，哥很伤心   \n",
       "  192  483                    phpmyadmin远程连接mysql数据库的方法   \n",
       "  193  480                           mysql用命令行链接远程主机的方法   \n",
       "  194  478                            c/c++批量向mysql插入数据   \n",
       "  195  471                     [站长]推荐一个网页分享按钮条插件JiaThis   \n",
       "  196  466                 [网址]在线转换编码-BASE64_URLENCODE等   \n",
       "  197  454                           [PHP]发送邮件方法介绍和代码示例   \n",
       "  198  449                 [C++]win32输出当前系统时间函数，可用以程序计时   \n",
       "  199  444            [转]office – word2010每次打开弹出配置框解决方法   \n",
       "  200  414    Linux下GCC和Makefile实例（从GCC的编译到Makefile的引入）   \n",
       "  201  410                                   让QT支持中文的方法   \n",
       "  202  408                           QT-creater一个非常棒的教程   \n",
       "  203  402           玩大灾变出现“igxprd32显示驱动程序已经停止正常工作”解决方法   \n",
       "  204  391                     在GATE工具中使用自己的XSD模式进行语义标注   \n",
       "  205  381                C++ Primer 4th：第九章 《顺序容器》学习心得   \n",
       "  206  259                       win7下快速硬盘安装ghost xp的方法   \n",
       "  207  254                               C++实现字符串与数字的连接   \n",
       "  208  251             c++字符集之间转换(UTF-8,UNICODE,Gb2312)   \n",
       "  209  245     数据采集利器-PHP用DOM方式处理HTML之《Simple HTML DOM》   \n",
       "  210  236                                  C++数组类型学习笔记   \n",
       "  211  234                           C++标准库string类型学习笔记   \n",
       "  212  224                               9个高质量图标的最佳搜索引擎   \n",
       "  213  219                        navicat-MySQL前台管理工具利器   \n",
       "  214  215                               17个非常有用的PHP类和库   \n",
       "  \n",
       "                           tags  \n",
       "  172  apache,mysql,php,windows  \n",
       "  173                       php  \n",
       "  174               mysql,redis  \n",
       "  175           mysql,php,redis  \n",
       "  176                 wordpress  \n",
       "  177                       php  \n",
       "  178                       php  \n",
       "  179                       php  \n",
       "  180                       php  \n",
       "  181                      程序人生  \n",
       "  182                       c++  \n",
       "  183                       c++  \n",
       "  184                      程序人生  \n",
       "  185               dreamweaver  \n",
       "  186                      win7  \n",
       "  187               linux,shell  \n",
       "  188                        织梦  \n",
       "  189               ubuntu,win7  \n",
       "  190                      程序人生  \n",
       "  191                      程序人生  \n",
       "  192                 mysql,php  \n",
       "  193                     mysql  \n",
       "  194                 c++,mysql  \n",
       "  195                        站长  \n",
       "  196                        算法  \n",
       "  197                 email,php  \n",
       "  198                       c++  \n",
       "  199               office,word  \n",
       "  200                     linux  \n",
       "  201                        qt  \n",
       "  202                        qt  \n",
       "  203                      魔兽世界  \n",
       "  204                      gate  \n",
       "  205                       c++  \n",
       "  206                      win7  \n",
       "  207                       c++  \n",
       "  208                       c++  \n",
       "  209                    php,爬虫  \n",
       "  210                       c++  \n",
       "  211                       c++  \n",
       "  212                        设计  \n",
       "  213                     mysql  \n",
       "  214                    php,类库  ),\n",
       " (5,\n",
       "  '小红',\n",
       "        id                                              title  \\\n",
       "  215  210                              使用DEDE的全国地区分类导入到其它CMS   \n",
       "  216  206                                         对自己将来的一些思考   \n",
       "  217  204                  推荐一个可以用u盘安装fedora,ubuntu等Linux的工具   \n",
       "  218  198                            ubuntu官方live cd和dvd下载地址   \n",
       "  219  195           非常好用的一款磁盘管理工具Acronis Disk Director Suite   \n",
       "  220  191                            jQuery圆角工具jQuery Corner   \n",
       "  221  179                                 筛选出来的常用jQuery幻灯片插件   \n",
       "  222  161                                   PHP-浏览器参数防注入检测函数   \n",
       "  223  159                                     PHP从checkbox取值   \n",
       "  224  157                            毕业设计出现的一个严重错误—-文件不能相互引用   \n",
       "  225  155                                  php函数-计算两个日期相差多少天   \n",
       "  226  153                                   Apache禁止目录访问方法介绍   \n",
       "  227  151                                       PHP操作EXCEL相关   \n",
       "  228  149                             phpexcel-自己写的几个非常好用的函数   \n",
       "  229  146                                Fckeditor-动态增减按钮的方法   \n",
       "  230  144                                           PHP验证码-类   \n",
       "  231  142                                  mysql-修改root密码的方法   \n",
       "  232  138                                获取服务器传来的数据-必须用JS去空格   \n",
       "  233  136                                      php实现当前用户在线人数   \n",
       "  234  134                                          网上选课系统-进度   \n",
       "  235  132                                             屏幕取色工具   \n",
       "  236  130                                     PHP-非常好用的文件操作类   \n",
       "  237  128                         PHP删除无限分类并同时删除它下面的所有子分类的方法   \n",
       "  238  126                                     PHP获取IP的多种方式解析   \n",
       "  239  124                              Javascript trim()函数实现   \n",
       "  240  122                                        PHP只下载不打开文件   \n",
       "  241  119                                  日期选择控件-date_input   \n",
       "  242  117                                       项目经历2-电子台账系统   \n",
       "  243  115                               删除记录之前-切记要检查是不是存在该记录   \n",
       "  244  113                          phpmyadmin无法加载mcrypt的解决方法   \n",
       "  245  111                      AJAX中文乱码PHP完美解决(IE和Firefox兼容)   \n",
       "  246  109                                         java环境变量配置   \n",
       "  247  107                                     PHP输出Excel实例代码   \n",
       "  248  105                                            PHP安全笔记   \n",
       "  249  103                                    文件下载代码-来自PBDigg   \n",
       "  250   99                                          PHP中文乱码解决   \n",
       "  251   97                  PHP IE下载时提示”无法复制 无法读取源文件或磁盘”的解决办法   \n",
       "  252   94                                          搜索关键词高亮显示   \n",
       "  253   91                                            vi编辑器命令   \n",
       "  254   87                      硬盘分区表丢失、修复大事记–分区表修复利器testdisk   \n",
       "  255   85                                     linux下禁止机箱蜂鸣方法   \n",
       "  256   83  当用header方法输出内容时出现“Cannot modify header informa...   \n",
       "  257   78                     JavaScript对Select的子元素Option的操作   \n",
       "  \n",
       "                       tags  \n",
       "  215                   php  \n",
       "  216                  程序人生  \n",
       "  217                 linux  \n",
       "  218                ubuntu  \n",
       "  219                  操作系统  \n",
       "  220                jquery  \n",
       "  221                jquery  \n",
       "  222                   php  \n",
       "  223                   php  \n",
       "  224                  程序人生  \n",
       "  225                   php  \n",
       "  226                apache  \n",
       "  227                   php  \n",
       "  228                   php  \n",
       "  229             fckeditor  \n",
       "  230                   php  \n",
       "  231                 mysql  \n",
       "  232            javascript  \n",
       "  233                   php  \n",
       "  234                  程序人生  \n",
       "  235                  工具软件  \n",
       "  236                   php  \n",
       "  237                   php  \n",
       "  238                   php  \n",
       "  239            javascript  \n",
       "  240                   php  \n",
       "  241            javascript  \n",
       "  242                  程序人生  \n",
       "  243                 mysql  \n",
       "  244  mysql,phpmyadmin,数据库  \n",
       "  245        javascript,php  \n",
       "  246                  java  \n",
       "  247             excel,php  \n",
       "  248                php,安全  \n",
       "  249                   php  \n",
       "  250                   php  \n",
       "  251                   php  \n",
       "  252            javascript  \n",
       "  253             linux,vim  \n",
       "  254                  操作系统  \n",
       "  255                 linux  \n",
       "  256                   php  \n",
       "  257            javascript  )]"
      ]
     },
     "execution_count": 149,
     "metadata": {},
     "output_type": "execute_result"
    }
   ],
   "source": [
    "df_subs = []\n",
    "for idx,user_name in enumerate(user_names):#enumerate() 函数用于将一个可遍历的数据对象(如列表、元组或字符串)组合为一个索引序列，同时列出数据和数据下标，一般用在 for 循环当中\n",
    "    #每个人处理的iloc的开始索引\n",
    "    begin = idx*split_size\n",
    "    #每个人处理的iloc的结束索引\n",
    "    end = begin+split_size\n",
    "    #实现df按照iloc拆分\n",
    "    df_sub = df_soure.iloc[begin:end]  #切片赋值\n",
    "    #将每个df存入列表\n",
    "    df_subs.append((idx,user_name,df_sub))  #每个人的下标，用户名，需要处理的df\n",
    "df_subs"
   ]
  },
  {
   "cell_type": "markdown",
   "id": "a545eb92",
   "metadata": {},
   "source": [
    "3，将每个DayaFrame存入几个小的Excel"
   ]
  },
  {
   "cell_type": "code",
   "execution_count": 150,
   "id": "fbd8a867",
   "metadata": {
    "scrolled": true
   },
   "outputs": [],
   "source": [
    "for idx,user_name,df_sub in df_subs:\n",
    "    file_name = f\"{split_dir}/{idx}_{user_name}拆分后数据.xlsx\"\n",
    "    df_sub.to_excel(file_name,index=False)    #保存文件——抛弃索引"
   ]
  },
  {
   "cell_type": "markdown",
   "id": "abfd0060",
   "metadata": {},
   "source": [
    "## 将多个小的Excel合并成一个大的Excel添加\n",
    "#### 1--遍历文件夹，得到想要合并的文件列表\n",
    "#### 2--分别读取DataFrame，给每个DataFrame一列标记数据来源\n",
    "#### 3--使用pd.concat进行数据合并\n",
    "#### 4--将合并后的数据输出到文件"
   ]
  },
  {
   "cell_type": "markdown",
   "id": "68b3d37e",
   "metadata": {},
   "source": [
    "1，得到文件列表"
   ]
  },
  {
   "cell_type": "code",
   "execution_count": 151,
   "id": "2c26cc26",
   "metadata": {},
   "outputs": [
    {
     "data": {
      "text/plain": [
       "['0_小华拆分后数据.xlsx',\n",
       " '1_小王拆分后数据.xlsx',\n",
       " '2_小明拆分后数据.xlsx',\n",
       " '3_小磊拆分后数据.xlsx',\n",
       " '4_小波拆分后数据.xlsx',\n",
       " '5_小红拆分后数据.xlsx']"
      ]
     },
     "execution_count": 151,
     "metadata": {},
     "output_type": "execute_result"
    }
   ],
   "source": [
    "import os\n",
    "file_list = []\n",
    "for excel_name in os.listdir(split_dir):   #遍历这个目录\n",
    "    file_list.append(excel_name)\n",
    "file_list"
   ]
  },
  {
   "cell_type": "markdown",
   "id": "8cf3fbd2",
   "metadata": {},
   "source": [
    "2,分别读取到DataFrame"
   ]
  },
  {
   "cell_type": "code",
   "execution_count": 152,
   "id": "44d7b6f5",
   "metadata": {},
   "outputs": [
    {
     "name": "stdout",
     "output_type": "stream",
     "text": [
      "0_小华拆分后数据.xlsx ====> 小华\n",
      "1_小王拆分后数据.xlsx ====> 小王\n",
      "2_小明拆分后数据.xlsx ====> 小明\n",
      "3_小磊拆分后数据.xlsx ====> 小磊\n",
      "4_小波拆分后数据.xlsx ====> 小波\n",
      "5_小红拆分后数据.xlsx ====> 小红\n"
     ]
    }
   ],
   "source": [
    "df_list = []\n",
    "\n",
    "for excel_name in file_list:\n",
    "    #读取每个excel到df\n",
    "    excel_path = f\"{split_dir}/{excel_name}\"   #每个文件的路径\n",
    "    df_split = pd.read_excel(excel_path)\n",
    "    #得到username\n",
    "    username=excel_name.replace(\"拆分后数据\",\"\").replace(\".xlsx\",\"\")[2:]\n",
    "                                 #前后清空           #后缀名清空  #第二个元素往后\n",
    "    print(excel_name,\"====>\",username)\n",
    "    #给给个df添加一列，集用户名字（数据来源）\n",
    "    df_split[\"数据来源\"]=username   #加一列\n",
    "    \n",
    "    df_list.append(df_split)"
   ]
  },
  {
   "cell_type": "markdown",
   "id": "ea5a03ae",
   "metadata": {},
   "source": [
    "3，使用pd.concat进行数据合并|"
   ]
  },
  {
   "cell_type": "code",
   "execution_count": 153,
   "id": "ac652ce4",
   "metadata": {},
   "outputs": [],
   "source": [
    "df_merged = pd.concat(df_list)   #数据合并"
   ]
  },
  {
   "cell_type": "code",
   "execution_count": 154,
   "id": "941cd64f",
   "metadata": {},
   "outputs": [
    {
     "data": {
      "text/plain": [
       "(258, 4)"
      ]
     },
     "execution_count": 154,
     "metadata": {},
     "output_type": "execute_result"
    }
   ],
   "source": [
    "df_merged.shape"
   ]
  },
  {
   "cell_type": "code",
   "execution_count": 155,
   "id": "0b05adf0",
   "metadata": {},
   "outputs": [
    {
     "data": {
      "text/html": [
       "<div>\n",
       "<style scoped>\n",
       "    .dataframe tbody tr th:only-of-type {\n",
       "        vertical-align: middle;\n",
       "    }\n",
       "\n",
       "    .dataframe tbody tr th {\n",
       "        vertical-align: top;\n",
       "    }\n",
       "\n",
       "    .dataframe thead th {\n",
       "        text-align: right;\n",
       "    }\n",
       "</style>\n",
       "<table border=\"1\" class=\"dataframe\">\n",
       "  <thead>\n",
       "    <tr style=\"text-align: right;\">\n",
       "      <th></th>\n",
       "      <th>id</th>\n",
       "      <th>title</th>\n",
       "      <th>tags</th>\n",
       "      <th>数据来源</th>\n",
       "    </tr>\n",
       "  </thead>\n",
       "  <tbody>\n",
       "    <tr>\n",
       "      <th>0</th>\n",
       "      <td>2585</td>\n",
       "      <td>Tensorflow怎样接收变长列表特征</td>\n",
       "      <td>python,tensorflow,特征工程</td>\n",
       "      <td>小华</td>\n",
       "    </tr>\n",
       "    <tr>\n",
       "      <th>1</th>\n",
       "      <td>2583</td>\n",
       "      <td>Pandas实现数据的合并concat</td>\n",
       "      <td>pandas,python,数据分析</td>\n",
       "      <td>小华</td>\n",
       "    </tr>\n",
       "    <tr>\n",
       "      <th>2</th>\n",
       "      <td>2574</td>\n",
       "      <td>Pandas的Index索引有什么用途？</td>\n",
       "      <td>pandas,python,数据分析</td>\n",
       "      <td>小华</td>\n",
       "    </tr>\n",
       "    <tr>\n",
       "      <th>3</th>\n",
       "      <td>2564</td>\n",
       "      <td>机器学习常用数据集大全</td>\n",
       "      <td>python,机器学习</td>\n",
       "      <td>小华</td>\n",
       "    </tr>\n",
       "    <tr>\n",
       "      <th>4</th>\n",
       "      <td>2561</td>\n",
       "      <td>一个数据科学家的修炼路径</td>\n",
       "      <td>数据分析</td>\n",
       "      <td>小华</td>\n",
       "    </tr>\n",
       "  </tbody>\n",
       "</table>\n",
       "</div>"
      ],
      "text/plain": [
       "     id                 title                    tags 数据来源\n",
       "0  2585  Tensorflow怎样接收变长列表特征  python,tensorflow,特征工程   小华\n",
       "1  2583   Pandas实现数据的合并concat      pandas,python,数据分析   小华\n",
       "2  2574  Pandas的Index索引有什么用途？      pandas,python,数据分析   小华\n",
       "3  2564           机器学习常用数据集大全             python,机器学习   小华\n",
       "4  2561          一个数据科学家的修炼路径                    数据分析   小华"
      ]
     },
     "execution_count": 155,
     "metadata": {},
     "output_type": "execute_result"
    }
   ],
   "source": [
    "df_merged.head()"
   ]
  },
  {
   "cell_type": "code",
   "execution_count": 156,
   "id": "6b0596ac",
   "metadata": {},
   "outputs": [
    {
     "data": {
      "text/plain": [
       "小华    43\n",
       "小王    43\n",
       "小明    43\n",
       "小磊    43\n",
       "小波    43\n",
       "小红    43\n",
       "Name: 数据来源, dtype: int64"
      ]
     },
     "execution_count": 156,
     "metadata": {},
     "output_type": "execute_result"
    }
   ],
   "source": [
    "df_merged[\"数据来源\"].value_counts()  #计数"
   ]
  },
  {
   "cell_type": "markdown",
   "id": "cfac231a",
   "metadata": {},
   "source": [
    "没想到博主的数据这么正好"
   ]
  },
  {
   "cell_type": "markdown",
   "id": "53821ac6",
   "metadata": {},
   "source": [
    "4，将合并后的DataFrame输出到Excel文件"
   ]
  },
  {
   "cell_type": "code",
   "execution_count": 157,
   "id": "08b0c859",
   "metadata": {},
   "outputs": [],
   "source": [
    "df_merged.to_excel(f\"{work_dir}/合并后的数据.xlsx\",index=False)  #输出到文件，丢弃索引"
   ]
  },
  {
   "cell_type": "markdown",
   "id": "8894a4f1",
   "metadata": {},
   "source": [
    "# 使用Pandas实现SQL group by分组统计"
   ]
  },
  {
   "cell_type": "code",
   "execution_count": 158,
   "id": "027c8eac",
   "metadata": {},
   "outputs": [
    {
     "data": {
      "text/html": [
       "<div>\n",
       "<style scoped>\n",
       "    .dataframe tbody tr th:only-of-type {\n",
       "        vertical-align: middle;\n",
       "    }\n",
       "\n",
       "    .dataframe tbody tr th {\n",
       "        vertical-align: top;\n",
       "    }\n",
       "\n",
       "    .dataframe thead th {\n",
       "        text-align: right;\n",
       "    }\n",
       "</style>\n",
       "<table border=\"1\" class=\"dataframe\">\n",
       "  <thead>\n",
       "    <tr style=\"text-align: right;\">\n",
       "      <th></th>\n",
       "      <th>A</th>\n",
       "      <th>B</th>\n",
       "      <th>C</th>\n",
       "      <th>D</th>\n",
       "    </tr>\n",
       "  </thead>\n",
       "  <tbody>\n",
       "    <tr>\n",
       "      <th>0</th>\n",
       "      <td>A</td>\n",
       "      <td>1</td>\n",
       "      <td>0.718924</td>\n",
       "      <td>-1.422460</td>\n",
       "    </tr>\n",
       "    <tr>\n",
       "      <th>1</th>\n",
       "      <td>B</td>\n",
       "      <td>2</td>\n",
       "      <td>-0.427055</td>\n",
       "      <td>-0.777578</td>\n",
       "    </tr>\n",
       "    <tr>\n",
       "      <th>2</th>\n",
       "      <td>A</td>\n",
       "      <td>3</td>\n",
       "      <td>1.225891</td>\n",
       "      <td>-1.250336</td>\n",
       "    </tr>\n",
       "    <tr>\n",
       "      <th>3</th>\n",
       "      <td>B</td>\n",
       "      <td>1</td>\n",
       "      <td>-1.056546</td>\n",
       "      <td>0.111682</td>\n",
       "    </tr>\n",
       "    <tr>\n",
       "      <th>4</th>\n",
       "      <td>A</td>\n",
       "      <td>2</td>\n",
       "      <td>-1.047442</td>\n",
       "      <td>0.544052</td>\n",
       "    </tr>\n",
       "    <tr>\n",
       "      <th>5</th>\n",
       "      <td>A</td>\n",
       "      <td>3</td>\n",
       "      <td>0.533974</td>\n",
       "      <td>-0.335168</td>\n",
       "    </tr>\n",
       "    <tr>\n",
       "      <th>6</th>\n",
       "      <td>B</td>\n",
       "      <td>2</td>\n",
       "      <td>1.428965</td>\n",
       "      <td>1.195634</td>\n",
       "    </tr>\n",
       "    <tr>\n",
       "      <th>7</th>\n",
       "      <td>B</td>\n",
       "      <td>2</td>\n",
       "      <td>-0.915071</td>\n",
       "      <td>0.736376</td>\n",
       "    </tr>\n",
       "  </tbody>\n",
       "</table>\n",
       "</div>"
      ],
      "text/plain": [
       "   A  B         C         D\n",
       "0  A  1  0.718924 -1.422460\n",
       "1  B  2 -0.427055 -0.777578\n",
       "2  A  3  1.225891 -1.250336\n",
       "3  B  1 -1.056546  0.111682\n",
       "4  A  2 -1.047442  0.544052\n",
       "5  A  3  0.533974 -0.335168\n",
       "6  B  2  1.428965  1.195634\n",
       "7  B  2 -0.915071  0.736376"
      ]
     },
     "execution_count": 158,
     "metadata": {},
     "output_type": "execute_result"
    }
   ],
   "source": [
    "df=pd.DataFrame({\n",
    "        \"A\":['A','B','A','B','A','A','B','B'],\n",
    "        \"B\":['1','2','3','1','2','3','2','2'],\n",
    "        \"C\":np.random.randn(8),\n",
    "        \"D\":np.random.randn(8)\n",
    "})\n",
    "df"
   ]
  },
  {
   "cell_type": "markdown",
   "id": "ea388c9c",
   "metadata": {},
   "source": [
    "## 1-单个列group by"
   ]
  },
  {
   "cell_type": "code",
   "execution_count": 159,
   "id": "876b0d75",
   "metadata": {},
   "outputs": [
    {
     "data": {
      "text/html": [
       "<div>\n",
       "<style scoped>\n",
       "    .dataframe tbody tr th:only-of-type {\n",
       "        vertical-align: middle;\n",
       "    }\n",
       "\n",
       "    .dataframe tbody tr th {\n",
       "        vertical-align: top;\n",
       "    }\n",
       "\n",
       "    .dataframe thead th {\n",
       "        text-align: right;\n",
       "    }\n",
       "</style>\n",
       "<table border=\"1\" class=\"dataframe\">\n",
       "  <thead>\n",
       "    <tr style=\"text-align: right;\">\n",
       "      <th></th>\n",
       "      <th>C</th>\n",
       "      <th>D</th>\n",
       "    </tr>\n",
       "    <tr>\n",
       "      <th>A</th>\n",
       "      <th></th>\n",
       "      <th></th>\n",
       "    </tr>\n",
       "  </thead>\n",
       "  <tbody>\n",
       "    <tr>\n",
       "      <th>A</th>\n",
       "      <td>1.431348</td>\n",
       "      <td>-2.463912</td>\n",
       "    </tr>\n",
       "    <tr>\n",
       "      <th>B</th>\n",
       "      <td>-0.969707</td>\n",
       "      <td>1.266113</td>\n",
       "    </tr>\n",
       "  </tbody>\n",
       "</table>\n",
       "</div>"
      ],
      "text/plain": [
       "          C         D\n",
       "A                    \n",
       "A  1.431348 -2.463912\n",
       "B -0.969707  1.266113"
      ]
     },
     "execution_count": 159,
     "metadata": {},
     "output_type": "execute_result"
    }
   ],
   "source": [
    "df.groupby('A').sum()"
   ]
  },
  {
   "cell_type": "markdown",
   "id": "fa9e41ed",
   "metadata": {},
   "source": [
    "A这一列变成了索引,B列是字符串，被自动抛弃"
   ]
  },
  {
   "cell_type": "markdown",
   "id": "855a1655",
   "metadata": {},
   "source": [
    "## 2-多列group by"
   ]
  },
  {
   "cell_type": "code",
   "execution_count": 160,
   "id": "1b67eebb",
   "metadata": {},
   "outputs": [
    {
     "data": {
      "text/html": [
       "<div>\n",
       "<style scoped>\n",
       "    .dataframe tbody tr th:only-of-type {\n",
       "        vertical-align: middle;\n",
       "    }\n",
       "\n",
       "    .dataframe tbody tr th {\n",
       "        vertical-align: top;\n",
       "    }\n",
       "\n",
       "    .dataframe thead th {\n",
       "        text-align: right;\n",
       "    }\n",
       "</style>\n",
       "<table border=\"1\" class=\"dataframe\">\n",
       "  <thead>\n",
       "    <tr style=\"text-align: right;\">\n",
       "      <th></th>\n",
       "      <th></th>\n",
       "      <th>C</th>\n",
       "      <th>D</th>\n",
       "    </tr>\n",
       "    <tr>\n",
       "      <th>A</th>\n",
       "      <th>B</th>\n",
       "      <th></th>\n",
       "      <th></th>\n",
       "    </tr>\n",
       "  </thead>\n",
       "  <tbody>\n",
       "    <tr>\n",
       "      <th rowspan=\"3\" valign=\"top\">A</th>\n",
       "      <th>1</th>\n",
       "      <td>0.718924</td>\n",
       "      <td>-1.422460</td>\n",
       "    </tr>\n",
       "    <tr>\n",
       "      <th>2</th>\n",
       "      <td>-1.047442</td>\n",
       "      <td>0.544052</td>\n",
       "    </tr>\n",
       "    <tr>\n",
       "      <th>3</th>\n",
       "      <td>0.879933</td>\n",
       "      <td>-0.792752</td>\n",
       "    </tr>\n",
       "    <tr>\n",
       "      <th rowspan=\"2\" valign=\"top\">B</th>\n",
       "      <th>1</th>\n",
       "      <td>-1.056546</td>\n",
       "      <td>0.111682</td>\n",
       "    </tr>\n",
       "    <tr>\n",
       "      <th>2</th>\n",
       "      <td>0.028947</td>\n",
       "      <td>0.384810</td>\n",
       "    </tr>\n",
       "  </tbody>\n",
       "</table>\n",
       "</div>"
      ],
      "text/plain": [
       "            C         D\n",
       "A B                    \n",
       "A 1  0.718924 -1.422460\n",
       "  2 -1.047442  0.544052\n",
       "  3  0.879933 -0.792752\n",
       "B 1 -1.056546  0.111682\n",
       "  2  0.028947  0.384810"
      ]
     },
     "execution_count": 160,
     "metadata": {},
     "output_type": "execute_result"
    }
   ],
   "source": [
    "df.groupby([\"A\",\"B\"]).mean()"
   ]
  },
  {
   "cell_type": "markdown",
   "id": "f5d72633",
   "metadata": {},
   "source": [
    "AB两列变成了多级索引"
   ]
  },
  {
   "cell_type": "markdown",
   "id": "2e4d41a0",
   "metadata": {},
   "source": [
    "## 3-可以同时进行多种数据统计"
   ]
  },
  {
   "cell_type": "code",
   "execution_count": 161,
   "id": "aeba8114",
   "metadata": {},
   "outputs": [
    {
     "data": {
      "text/html": [
       "<div>\n",
       "<style scoped>\n",
       "    .dataframe tbody tr th:only-of-type {\n",
       "        vertical-align: middle;\n",
       "    }\n",
       "\n",
       "    .dataframe tbody tr th {\n",
       "        vertical-align: top;\n",
       "    }\n",
       "\n",
       "    .dataframe thead tr th {\n",
       "        text-align: left;\n",
       "    }\n",
       "\n",
       "    .dataframe thead tr:last-of-type th {\n",
       "        text-align: right;\n",
       "    }\n",
       "</style>\n",
       "<table border=\"1\" class=\"dataframe\">\n",
       "  <thead>\n",
       "    <tr>\n",
       "      <th></th>\n",
       "      <th colspan=\"3\" halign=\"left\">B</th>\n",
       "      <th colspan=\"3\" halign=\"left\">C</th>\n",
       "      <th colspan=\"3\" halign=\"left\">D</th>\n",
       "    </tr>\n",
       "    <tr>\n",
       "      <th></th>\n",
       "      <th>sum</th>\n",
       "      <th>mean</th>\n",
       "      <th>std</th>\n",
       "      <th>sum</th>\n",
       "      <th>mean</th>\n",
       "      <th>std</th>\n",
       "      <th>sum</th>\n",
       "      <th>mean</th>\n",
       "      <th>std</th>\n",
       "    </tr>\n",
       "    <tr>\n",
       "      <th>A</th>\n",
       "      <th></th>\n",
       "      <th></th>\n",
       "      <th></th>\n",
       "      <th></th>\n",
       "      <th></th>\n",
       "      <th></th>\n",
       "      <th></th>\n",
       "      <th></th>\n",
       "      <th></th>\n",
       "    </tr>\n",
       "  </thead>\n",
       "  <tbody>\n",
       "    <tr>\n",
       "      <th>A</th>\n",
       "      <td>1323</td>\n",
       "      <td>330.75</td>\n",
       "      <td>0.957427</td>\n",
       "      <td>1.431348</td>\n",
       "      <td>0.357837</td>\n",
       "      <td>0.981450</td>\n",
       "      <td>-2.463912</td>\n",
       "      <td>-0.615978</td>\n",
       "      <td>0.908726</td>\n",
       "    </tr>\n",
       "    <tr>\n",
       "      <th>B</th>\n",
       "      <td>2122</td>\n",
       "      <td>530.50</td>\n",
       "      <td>0.500000</td>\n",
       "      <td>-0.969707</td>\n",
       "      <td>-0.242427</td>\n",
       "      <td>1.146426</td>\n",
       "      <td>1.266113</td>\n",
       "      <td>0.316528</td>\n",
       "      <td>0.854035</td>\n",
       "    </tr>\n",
       "  </tbody>\n",
       "</table>\n",
       "</div>"
      ],
      "text/plain": [
       "      B                           C                             D            \\\n",
       "    sum    mean       std       sum      mean       std       sum      mean   \n",
       "A                                                                             \n",
       "A  1323  330.75  0.957427  1.431348  0.357837  0.981450 -2.463912 -0.615978   \n",
       "B  2122  530.50  0.500000 -0.969707 -0.242427  1.146426  1.266113  0.316528   \n",
       "\n",
       "             \n",
       "        std  \n",
       "A            \n",
       "A  0.908726  \n",
       "B  0.854035  "
      ]
     },
     "execution_count": 161,
     "metadata": {},
     "output_type": "execute_result"
    }
   ],
   "source": [
    "df.groupby(\"A\").agg([np.sum,np.mean,np.std])"
   ]
  },
  {
   "cell_type": "markdown",
   "id": "0dbbf08e",
   "metadata": {},
   "source": [
    "列变成多级索引"
   ]
  },
  {
   "cell_type": "code",
   "execution_count": 162,
   "id": "5d0c98be",
   "metadata": {},
   "outputs": [
    {
     "data": {
      "text/html": [
       "<div>\n",
       "<style scoped>\n",
       "    .dataframe tbody tr th:only-of-type {\n",
       "        vertical-align: middle;\n",
       "    }\n",
       "\n",
       "    .dataframe tbody tr th {\n",
       "        vertical-align: top;\n",
       "    }\n",
       "\n",
       "    .dataframe thead th {\n",
       "        text-align: right;\n",
       "    }\n",
       "</style>\n",
       "<table border=\"1\" class=\"dataframe\">\n",
       "  <thead>\n",
       "    <tr style=\"text-align: right;\">\n",
       "      <th></th>\n",
       "      <th>sum</th>\n",
       "      <th>mean</th>\n",
       "      <th>std</th>\n",
       "    </tr>\n",
       "    <tr>\n",
       "      <th>A</th>\n",
       "      <th></th>\n",
       "      <th></th>\n",
       "      <th></th>\n",
       "    </tr>\n",
       "  </thead>\n",
       "  <tbody>\n",
       "    <tr>\n",
       "      <th>A</th>\n",
       "      <td>1.431348</td>\n",
       "      <td>0.357837</td>\n",
       "      <td>0.981450</td>\n",
       "    </tr>\n",
       "    <tr>\n",
       "      <th>B</th>\n",
       "      <td>-0.969707</td>\n",
       "      <td>-0.242427</td>\n",
       "      <td>1.146426</td>\n",
       "    </tr>\n",
       "  </tbody>\n",
       "</table>\n",
       "</div>"
      ],
      "text/plain": [
       "        sum      mean       std\n",
       "A                              \n",
       "A  1.431348  0.357837  0.981450\n",
       "B -0.969707 -0.242427  1.146426"
      ]
     },
     "execution_count": 162,
     "metadata": {},
     "output_type": "execute_result"
    }
   ],
   "source": [
    "df.groupby(\"A\")[\"C\"].agg([np.sum,np.mean,np.std])  #某一列的多种结果"
   ]
  },
  {
   "cell_type": "markdown",
   "id": "299d7e44",
   "metadata": {},
   "source": [
    "## 4-对不同的列进行不同的聚合函数"
   ]
  },
  {
   "cell_type": "code",
   "execution_count": 163,
   "id": "663a6645",
   "metadata": {},
   "outputs": [
    {
     "data": {
      "text/html": [
       "<div>\n",
       "<style scoped>\n",
       "    .dataframe tbody tr th:only-of-type {\n",
       "        vertical-align: middle;\n",
       "    }\n",
       "\n",
       "    .dataframe tbody tr th {\n",
       "        vertical-align: top;\n",
       "    }\n",
       "\n",
       "    .dataframe thead tr th {\n",
       "        text-align: left;\n",
       "    }\n",
       "\n",
       "    .dataframe thead tr:last-of-type th {\n",
       "        text-align: right;\n",
       "    }\n",
       "</style>\n",
       "<table border=\"1\" class=\"dataframe\">\n",
       "  <thead>\n",
       "    <tr>\n",
       "      <th></th>\n",
       "      <th>C</th>\n",
       "      <th colspan=\"2\" halign=\"left\">D</th>\n",
       "    </tr>\n",
       "    <tr>\n",
       "      <th></th>\n",
       "      <th>mean</th>\n",
       "      <th>sum</th>\n",
       "      <th>amin</th>\n",
       "    </tr>\n",
       "    <tr>\n",
       "      <th>A</th>\n",
       "      <th></th>\n",
       "      <th></th>\n",
       "      <th></th>\n",
       "    </tr>\n",
       "  </thead>\n",
       "  <tbody>\n",
       "    <tr>\n",
       "      <th>A</th>\n",
       "      <td>0.357837</td>\n",
       "      <td>-2.463912</td>\n",
       "      <td>-1.422460</td>\n",
       "    </tr>\n",
       "    <tr>\n",
       "      <th>B</th>\n",
       "      <td>-0.242427</td>\n",
       "      <td>1.266113</td>\n",
       "      <td>-0.777578</td>\n",
       "    </tr>\n",
       "  </tbody>\n",
       "</table>\n",
       "</div>"
      ],
      "text/plain": [
       "          C         D          \n",
       "       mean       sum      amin\n",
       "A                              \n",
       "A  0.357837 -2.463912 -1.422460\n",
       "B -0.242427  1.266113 -0.777578"
      ]
     },
     "execution_count": 163,
     "metadata": {},
     "output_type": "execute_result"
    }
   ],
   "source": [
    "df.groupby(\"A\").agg({\"C\":np.mean,\"D\":[np.sum,np.min]})"
   ]
  },
  {
   "cell_type": "markdown",
   "id": "ddd06870",
   "metadata": {},
   "source": [
    "## 5-1遍历单个列聚合的分组   (探究数据结构)"
   ]
  },
  {
   "cell_type": "code",
   "execution_count": 164,
   "id": "f4c2f5c2",
   "metadata": {},
   "outputs": [
    {
     "name": "stdout",
     "output_type": "stream",
     "text": [
      "A\n",
      "   A  B         C         D\n",
      "0  A  1  0.718924 -1.422460\n",
      "2  A  3  1.225891 -1.250336\n",
      "4  A  2 -1.047442  0.544052\n",
      "5  A  3  0.533974 -0.335168\n",
      "----------------------------------------\n",
      "B\n",
      "   A  B         C         D\n",
      "1  B  2 -0.427055 -0.777578\n",
      "3  B  1 -1.056546  0.111682\n",
      "6  B  2  1.428965  1.195634\n",
      "7  B  2 -0.915071  0.736376\n",
      "----------------------------------------\n"
     ]
    }
   ],
   "source": [
    "for name,group in df.groupby(\"A\"):\n",
    "    print(name)\n",
    "    print(group)\n",
    "    print(\"-\"*40)"
   ]
  },
  {
   "cell_type": "code",
   "execution_count": 165,
   "id": "2f68a8f8",
   "metadata": {},
   "outputs": [
    {
     "data": {
      "text/html": [
       "<div>\n",
       "<style scoped>\n",
       "    .dataframe tbody tr th:only-of-type {\n",
       "        vertical-align: middle;\n",
       "    }\n",
       "\n",
       "    .dataframe tbody tr th {\n",
       "        vertical-align: top;\n",
       "    }\n",
       "\n",
       "    .dataframe thead th {\n",
       "        text-align: right;\n",
       "    }\n",
       "</style>\n",
       "<table border=\"1\" class=\"dataframe\">\n",
       "  <thead>\n",
       "    <tr style=\"text-align: right;\">\n",
       "      <th></th>\n",
       "      <th>A</th>\n",
       "      <th>B</th>\n",
       "      <th>C</th>\n",
       "      <th>D</th>\n",
       "    </tr>\n",
       "  </thead>\n",
       "  <tbody>\n",
       "    <tr>\n",
       "      <th>1</th>\n",
       "      <td>B</td>\n",
       "      <td>2</td>\n",
       "      <td>-0.427055</td>\n",
       "      <td>-0.777578</td>\n",
       "    </tr>\n",
       "    <tr>\n",
       "      <th>3</th>\n",
       "      <td>B</td>\n",
       "      <td>1</td>\n",
       "      <td>-1.056546</td>\n",
       "      <td>0.111682</td>\n",
       "    </tr>\n",
       "    <tr>\n",
       "      <th>6</th>\n",
       "      <td>B</td>\n",
       "      <td>2</td>\n",
       "      <td>1.428965</td>\n",
       "      <td>1.195634</td>\n",
       "    </tr>\n",
       "    <tr>\n",
       "      <th>7</th>\n",
       "      <td>B</td>\n",
       "      <td>2</td>\n",
       "      <td>-0.915071</td>\n",
       "      <td>0.736376</td>\n",
       "    </tr>\n",
       "  </tbody>\n",
       "</table>\n",
       "</div>"
      ],
      "text/plain": [
       "   A  B         C         D\n",
       "1  B  2 -0.427055 -0.777578\n",
       "3  B  1 -1.056546  0.111682\n",
       "6  B  2  1.428965  1.195634\n",
       "7  B  2 -0.915071  0.736376"
      ]
     },
     "execution_count": 165,
     "metadata": {},
     "output_type": "execute_result"
    }
   ],
   "source": [
    "#获取单个分组的数据\n",
    "df.groupby(\"A\").get_group(\"B\")"
   ]
  },
  {
   "cell_type": "markdown",
   "id": "bed71aa6",
   "metadata": {},
   "source": [
    "## 5-2遍历多个列集合的分组(探究数据结构)"
   ]
  },
  {
   "cell_type": "code",
   "execution_count": 166,
   "id": "9e48cbfb",
   "metadata": {},
   "outputs": [
    {
     "name": "stdout",
     "output_type": "stream",
     "text": [
      "('A', '1')\n",
      "   A  B         C        D\n",
      "0  A  1  0.718924 -1.42246\n",
      "----------------------------------------\n",
      "('A', '2')\n",
      "   A  B         C         D\n",
      "4  A  2 -1.047442  0.544052\n",
      "----------------------------------------\n",
      "('A', '3')\n",
      "   A  B         C         D\n",
      "2  A  3  1.225891 -1.250336\n",
      "5  A  3  0.533974 -0.335168\n",
      "----------------------------------------\n",
      "('B', '1')\n",
      "   A  B         C         D\n",
      "3  B  1 -1.056546  0.111682\n",
      "----------------------------------------\n",
      "('B', '2')\n",
      "   A  B         C         D\n",
      "1  B  2 -0.427055 -0.777578\n",
      "6  B  2  1.428965  1.195634\n",
      "7  B  2 -0.915071  0.736376\n",
      "----------------------------------------\n"
     ]
    }
   ],
   "source": [
    "for name,group in df.groupby([\"A\",\"B\"]):\n",
    "    print(name)\n",
    "    print(group)\n",
    "    print(\"-\"*40)"
   ]
  },
  {
   "cell_type": "code",
   "execution_count": 167,
   "id": "c52fa00f",
   "metadata": {},
   "outputs": [
    {
     "data": {
      "text/html": [
       "<div>\n",
       "<style scoped>\n",
       "    .dataframe tbody tr th:only-of-type {\n",
       "        vertical-align: middle;\n",
       "    }\n",
       "\n",
       "    .dataframe tbody tr th {\n",
       "        vertical-align: top;\n",
       "    }\n",
       "\n",
       "    .dataframe thead th {\n",
       "        text-align: right;\n",
       "    }\n",
       "</style>\n",
       "<table border=\"1\" class=\"dataframe\">\n",
       "  <thead>\n",
       "    <tr style=\"text-align: right;\">\n",
       "      <th></th>\n",
       "      <th>A</th>\n",
       "      <th>B</th>\n",
       "      <th>C</th>\n",
       "      <th>D</th>\n",
       "    </tr>\n",
       "  </thead>\n",
       "  <tbody>\n",
       "    <tr>\n",
       "      <th>4</th>\n",
       "      <td>A</td>\n",
       "      <td>2</td>\n",
       "      <td>-1.047442</td>\n",
       "      <td>0.544052</td>\n",
       "    </tr>\n",
       "  </tbody>\n",
       "</table>\n",
       "</div>"
      ],
      "text/plain": [
       "   A  B         C         D\n",
       "4  A  2 -1.047442  0.544052"
      ]
     },
     "execution_count": 167,
     "metadata": {},
     "output_type": "execute_result"
    }
   ],
   "source": [
    "#查看当个分组元素\n",
    "df.groupby([\"A\",\"B\"]).get_group((\"A\",\"2\"))"
   ]
  },
  {
   "cell_type": "markdown",
   "id": "c8ac823c",
   "metadata": {},
   "source": [
    "### 可以直接查询以及遍历group后的某几列，生成结果是Series或DataFrame"
   ]
  },
  {
   "cell_type": "code",
   "execution_count": 168,
   "id": "84dddd79",
   "metadata": {},
   "outputs": [
    {
     "data": {
      "text/plain": [
       "<pandas.core.groupby.generic.SeriesGroupBy object at 0x000001F582795CA0>"
      ]
     },
     "execution_count": 168,
     "metadata": {},
     "output_type": "execute_result"
    }
   ],
   "source": [
    "df.groupby([\"A\",\"B\"])[\"C\"]"
   ]
  },
  {
   "cell_type": "code",
   "execution_count": 169,
   "id": "e65a7cd8",
   "metadata": {},
   "outputs": [
    {
     "name": "stdout",
     "output_type": "stream",
     "text": [
      "('A', '1')\n",
      "0    0.718924\n",
      "Name: C, dtype: float64\n",
      "<class 'pandas.core.series.Series'>\n",
      "----------------------------------------\n",
      "('A', '2')\n",
      "4   -1.047442\n",
      "Name: C, dtype: float64\n",
      "<class 'pandas.core.series.Series'>\n",
      "----------------------------------------\n",
      "('A', '3')\n",
      "2    1.225891\n",
      "5    0.533974\n",
      "Name: C, dtype: float64\n",
      "<class 'pandas.core.series.Series'>\n",
      "----------------------------------------\n",
      "('B', '1')\n",
      "3   -1.056546\n",
      "Name: C, dtype: float64\n",
      "<class 'pandas.core.series.Series'>\n",
      "----------------------------------------\n",
      "('B', '2')\n",
      "1   -0.427055\n",
      "6    1.428965\n",
      "7   -0.915071\n",
      "Name: C, dtype: float64\n",
      "<class 'pandas.core.series.Series'>\n",
      "----------------------------------------\n"
     ]
    }
   ],
   "source": [
    "for name,group in df.groupby([\"A\",\"B\"])[\"C\"]:\n",
    "    print(name)\n",
    "    print(group)\n",
    "    print(type(group))\n",
    "    print(\"-\"*40)"
   ]
  },
  {
   "cell_type": "markdown",
   "id": "4b789d75",
   "metadata": {},
   "source": [
    "# Pandas的分成索引（multolndex）\n",
    "#### 分成索引：在一个轴向上拥有多个索引层级，可以用来表达更高维度的数据新式\n",
    "#### 可以更方便发进行数据的筛选，如果索引有序，这拥有更好的性能\n",
    "#### groupby等操作，如果是多KEY，则结果是多层索引(笔记上一个小节)\n",
    "#### 一般来说，不要我们手动创建分成索引"
   ]
  },
  {
   "cell_type": "markdown",
   "id": "6059b6c1",
   "metadata": {},
   "source": [
    "###### 数据来自：英为财经\n",
    "###### https://cn.investing.com/\n",
    "###### 笔记参考自B站博主：蚂蚁学python"
   ]
  },
  {
   "cell_type": "code",
   "execution_count": 170,
   "id": "e3e94d69",
   "metadata": {},
   "outputs": [],
   "source": [
    "stocks = pd.read_excel(\"D:\\\\编程项目\\\\python项目\\\\bigdata\\\\data\\\\互联网公司股票.xlsx\")"
   ]
  },
  {
   "cell_type": "code",
   "execution_count": 171,
   "id": "e43e14c6",
   "metadata": {},
   "outputs": [
    {
     "data": {
      "text/html": [
       "<div>\n",
       "<style scoped>\n",
       "    .dataframe tbody tr th:only-of-type {\n",
       "        vertical-align: middle;\n",
       "    }\n",
       "\n",
       "    .dataframe tbody tr th {\n",
       "        vertical-align: top;\n",
       "    }\n",
       "\n",
       "    .dataframe thead th {\n",
       "        text-align: right;\n",
       "    }\n",
       "</style>\n",
       "<table border=\"1\" class=\"dataframe\">\n",
       "  <thead>\n",
       "    <tr style=\"text-align: right;\">\n",
       "      <th></th>\n",
       "      <th>日期</th>\n",
       "      <th>公司</th>\n",
       "      <th>收盘</th>\n",
       "      <th>开盘</th>\n",
       "      <th>高</th>\n",
       "      <th>低</th>\n",
       "      <th>交易量</th>\n",
       "      <th>涨跌幅</th>\n",
       "    </tr>\n",
       "  </thead>\n",
       "  <tbody>\n",
       "    <tr>\n",
       "      <th>0</th>\n",
       "      <td>2019-10-03</td>\n",
       "      <td>BAIDU</td>\n",
       "      <td>104.32</td>\n",
       "      <td>102.35</td>\n",
       "      <td>104.73</td>\n",
       "      <td>101.15</td>\n",
       "      <td>2.24</td>\n",
       "      <td>0.02</td>\n",
       "    </tr>\n",
       "    <tr>\n",
       "      <th>1</th>\n",
       "      <td>2019-10-02</td>\n",
       "      <td>BAIDU</td>\n",
       "      <td>102.62</td>\n",
       "      <td>100.85</td>\n",
       "      <td>103.24</td>\n",
       "      <td>99.50</td>\n",
       "      <td>2.69</td>\n",
       "      <td>0.01</td>\n",
       "    </tr>\n",
       "    <tr>\n",
       "      <th>2</th>\n",
       "      <td>2019-10-01</td>\n",
       "      <td>BAIDU</td>\n",
       "      <td>102.00</td>\n",
       "      <td>102.80</td>\n",
       "      <td>103.26</td>\n",
       "      <td>101.00</td>\n",
       "      <td>1.78</td>\n",
       "      <td>-0.01</td>\n",
       "    </tr>\n",
       "    <tr>\n",
       "      <th>3</th>\n",
       "      <td>2019-10-03</td>\n",
       "      <td>BABA</td>\n",
       "      <td>169.48</td>\n",
       "      <td>166.65</td>\n",
       "      <td>170.18</td>\n",
       "      <td>165.00</td>\n",
       "      <td>10.39</td>\n",
       "      <td>0.02</td>\n",
       "    </tr>\n",
       "    <tr>\n",
       "      <th>4</th>\n",
       "      <td>2019-10-02</td>\n",
       "      <td>BABA</td>\n",
       "      <td>165.77</td>\n",
       "      <td>162.82</td>\n",
       "      <td>166.88</td>\n",
       "      <td>161.90</td>\n",
       "      <td>11.60</td>\n",
       "      <td>0.00</td>\n",
       "    </tr>\n",
       "  </tbody>\n",
       "</table>\n",
       "</div>"
      ],
      "text/plain": [
       "           日期     公司      收盘      开盘       高       低    交易量   涨跌幅\n",
       "0  2019-10-03  BAIDU  104.32  102.35  104.73  101.15   2.24  0.02\n",
       "1  2019-10-02  BAIDU  102.62  100.85  103.24   99.50   2.69  0.01\n",
       "2  2019-10-01  BAIDU  102.00  102.80  103.26  101.00   1.78 -0.01\n",
       "3  2019-10-03   BABA  169.48  166.65  170.18  165.00  10.39  0.02\n",
       "4  2019-10-02   BABA  165.77  162.82  166.88  161.90  11.60  0.00"
      ]
     },
     "execution_count": 171,
     "metadata": {},
     "output_type": "execute_result"
    }
   ],
   "source": [
    "stocks.head()"
   ]
  },
  {
   "cell_type": "code",
   "execution_count": 172,
   "id": "c48c7cd6",
   "metadata": {},
   "outputs": [
    {
     "data": {
      "text/plain": [
       "array(['BAIDU', 'BABA', 'IQ', 'JD'], dtype=object)"
      ]
     },
     "execution_count": 172,
     "metadata": {},
     "output_type": "execute_result"
    }
   ],
   "source": [
    "stocks[\"公司\"].unique()"
   ]
  },
  {
   "cell_type": "code",
   "execution_count": 173,
   "id": "daa53a8b",
   "metadata": {},
   "outputs": [
    {
     "data": {
      "text/plain": [
       "RangeIndex(start=0, stop=12, step=1)"
      ]
     },
     "execution_count": 173,
     "metadata": {},
     "output_type": "execute_result"
    }
   ],
   "source": [
    "stocks.index"
   ]
  },
  {
   "cell_type": "markdown",
   "id": "1a511acd",
   "metadata": {},
   "source": [
    "## Series的分成索引"
   ]
  },
  {
   "cell_type": "code",
   "execution_count": 174,
   "id": "51e3b2c8",
   "metadata": {},
   "outputs": [
    {
     "data": {
      "text/plain": [
       "公司     日期        \n",
       "BABA   2019-10-01    165.15\n",
       "       2019-10-02    165.77\n",
       "       2019-10-03    169.48\n",
       "BAIDU  2019-10-01    102.00\n",
       "       2019-10-02    102.62\n",
       "       2019-10-03    104.32\n",
       "IQ     2019-10-01     15.92\n",
       "       2019-10-02     15.72\n",
       "       2019-10-03     16.06\n",
       "JD     2019-10-01     28.19\n",
       "       2019-10-02     28.06\n",
       "       2019-10-03     28.80\n",
       "Name: 收盘, dtype: float64"
      ]
     },
     "execution_count": 174,
     "metadata": {},
     "output_type": "execute_result"
    }
   ],
   "source": [
    "ser=stocks.groupby([\"公司\",\"日期\"])[\"收盘\"].mean()\n",
    "ser    #这个Series有两个索引"
   ]
  },
  {
   "cell_type": "code",
   "execution_count": 175,
   "id": "4e91269d",
   "metadata": {},
   "outputs": [
    {
     "data": {
      "text/plain": [
       "MultiIndex([( 'BABA', '2019-10-01'),\n",
       "            ( 'BABA', '2019-10-02'),\n",
       "            ( 'BABA', '2019-10-03'),\n",
       "            ('BAIDU', '2019-10-01'),\n",
       "            ('BAIDU', '2019-10-02'),\n",
       "            ('BAIDU', '2019-10-03'),\n",
       "            (   'IQ', '2019-10-01'),\n",
       "            (   'IQ', '2019-10-02'),\n",
       "            (   'IQ', '2019-10-03'),\n",
       "            (   'JD', '2019-10-01'),\n",
       "            (   'JD', '2019-10-02'),\n",
       "            (   'JD', '2019-10-03')],\n",
       "           names=['公司', '日期'])"
      ]
     },
     "execution_count": 175,
     "metadata": {},
     "output_type": "execute_result"
    }
   ],
   "source": [
    "ser.index       #MultiIndex---多级索引"
   ]
  },
  {
   "cell_type": "code",
   "execution_count": 176,
   "id": "d7e6290e",
   "metadata": {},
   "outputs": [
    {
     "data": {
      "text/html": [
       "<div>\n",
       "<style scoped>\n",
       "    .dataframe tbody tr th:only-of-type {\n",
       "        vertical-align: middle;\n",
       "    }\n",
       "\n",
       "    .dataframe tbody tr th {\n",
       "        vertical-align: top;\n",
       "    }\n",
       "\n",
       "    .dataframe thead th {\n",
       "        text-align: right;\n",
       "    }\n",
       "</style>\n",
       "<table border=\"1\" class=\"dataframe\">\n",
       "  <thead>\n",
       "    <tr style=\"text-align: right;\">\n",
       "      <th>日期</th>\n",
       "      <th>2019-10-01</th>\n",
       "      <th>2019-10-02</th>\n",
       "      <th>2019-10-03</th>\n",
       "    </tr>\n",
       "    <tr>\n",
       "      <th>公司</th>\n",
       "      <th></th>\n",
       "      <th></th>\n",
       "      <th></th>\n",
       "    </tr>\n",
       "  </thead>\n",
       "  <tbody>\n",
       "    <tr>\n",
       "      <th>BABA</th>\n",
       "      <td>165.15</td>\n",
       "      <td>165.77</td>\n",
       "      <td>169.48</td>\n",
       "    </tr>\n",
       "    <tr>\n",
       "      <th>BAIDU</th>\n",
       "      <td>102.00</td>\n",
       "      <td>102.62</td>\n",
       "      <td>104.32</td>\n",
       "    </tr>\n",
       "    <tr>\n",
       "      <th>IQ</th>\n",
       "      <td>15.92</td>\n",
       "      <td>15.72</td>\n",
       "      <td>16.06</td>\n",
       "    </tr>\n",
       "    <tr>\n",
       "      <th>JD</th>\n",
       "      <td>28.19</td>\n",
       "      <td>28.06</td>\n",
       "      <td>28.80</td>\n",
       "    </tr>\n",
       "  </tbody>\n",
       "</table>\n",
       "</div>"
      ],
      "text/plain": [
       "日期     2019-10-01  2019-10-02  2019-10-03\n",
       "公司                                       \n",
       "BABA       165.15      165.77      169.48\n",
       "BAIDU      102.00      102.62      104.32\n",
       "IQ          15.92       15.72       16.06\n",
       "JD          28.19       28.06       28.80"
      ]
     },
     "execution_count": 176,
     "metadata": {},
     "output_type": "execute_result"
    }
   ],
   "source": [
    "ser.unstack()   #把第二级索引变成列   （一维数据->二维数据）"
   ]
  },
  {
   "cell_type": "code",
   "execution_count": 177,
   "id": "e660b0fb",
   "metadata": {},
   "outputs": [
    {
     "data": {
      "text/html": [
       "<div>\n",
       "<style scoped>\n",
       "    .dataframe tbody tr th:only-of-type {\n",
       "        vertical-align: middle;\n",
       "    }\n",
       "\n",
       "    .dataframe tbody tr th {\n",
       "        vertical-align: top;\n",
       "    }\n",
       "\n",
       "    .dataframe thead th {\n",
       "        text-align: right;\n",
       "    }\n",
       "</style>\n",
       "<table border=\"1\" class=\"dataframe\">\n",
       "  <thead>\n",
       "    <tr style=\"text-align: right;\">\n",
       "      <th></th>\n",
       "      <th>公司</th>\n",
       "      <th>日期</th>\n",
       "      <th>收盘</th>\n",
       "    </tr>\n",
       "  </thead>\n",
       "  <tbody>\n",
       "    <tr>\n",
       "      <th>0</th>\n",
       "      <td>BABA</td>\n",
       "      <td>2019-10-01</td>\n",
       "      <td>165.15</td>\n",
       "    </tr>\n",
       "    <tr>\n",
       "      <th>1</th>\n",
       "      <td>BABA</td>\n",
       "      <td>2019-10-02</td>\n",
       "      <td>165.77</td>\n",
       "    </tr>\n",
       "    <tr>\n",
       "      <th>2</th>\n",
       "      <td>BABA</td>\n",
       "      <td>2019-10-03</td>\n",
       "      <td>169.48</td>\n",
       "    </tr>\n",
       "    <tr>\n",
       "      <th>3</th>\n",
       "      <td>BAIDU</td>\n",
       "      <td>2019-10-01</td>\n",
       "      <td>102.00</td>\n",
       "    </tr>\n",
       "    <tr>\n",
       "      <th>4</th>\n",
       "      <td>BAIDU</td>\n",
       "      <td>2019-10-02</td>\n",
       "      <td>102.62</td>\n",
       "    </tr>\n",
       "    <tr>\n",
       "      <th>5</th>\n",
       "      <td>BAIDU</td>\n",
       "      <td>2019-10-03</td>\n",
       "      <td>104.32</td>\n",
       "    </tr>\n",
       "    <tr>\n",
       "      <th>6</th>\n",
       "      <td>IQ</td>\n",
       "      <td>2019-10-01</td>\n",
       "      <td>15.92</td>\n",
       "    </tr>\n",
       "    <tr>\n",
       "      <th>7</th>\n",
       "      <td>IQ</td>\n",
       "      <td>2019-10-02</td>\n",
       "      <td>15.72</td>\n",
       "    </tr>\n",
       "    <tr>\n",
       "      <th>8</th>\n",
       "      <td>IQ</td>\n",
       "      <td>2019-10-03</td>\n",
       "      <td>16.06</td>\n",
       "    </tr>\n",
       "    <tr>\n",
       "      <th>9</th>\n",
       "      <td>JD</td>\n",
       "      <td>2019-10-01</td>\n",
       "      <td>28.19</td>\n",
       "    </tr>\n",
       "    <tr>\n",
       "      <th>10</th>\n",
       "      <td>JD</td>\n",
       "      <td>2019-10-02</td>\n",
       "      <td>28.06</td>\n",
       "    </tr>\n",
       "    <tr>\n",
       "      <th>11</th>\n",
       "      <td>JD</td>\n",
       "      <td>2019-10-03</td>\n",
       "      <td>28.80</td>\n",
       "    </tr>\n",
       "  </tbody>\n",
       "</table>\n",
       "</div>"
      ],
      "text/plain": [
       "       公司          日期      收盘\n",
       "0    BABA  2019-10-01  165.15\n",
       "1    BABA  2019-10-02  165.77\n",
       "2    BABA  2019-10-03  169.48\n",
       "3   BAIDU  2019-10-01  102.00\n",
       "4   BAIDU  2019-10-02  102.62\n",
       "5   BAIDU  2019-10-03  104.32\n",
       "6      IQ  2019-10-01   15.92\n",
       "7      IQ  2019-10-02   15.72\n",
       "8      IQ  2019-10-03   16.06\n",
       "9      JD  2019-10-01   28.19\n",
       "10     JD  2019-10-02   28.06\n",
       "11     JD  2019-10-03   28.80"
      ]
     },
     "execution_count": 177,
     "metadata": {},
     "output_type": "execute_result"
    }
   ],
   "source": [
    "ser.reset_index()   #把两层索引都变成列   （一维数据->二维数据）"
   ]
  },
  {
   "cell_type": "markdown",
   "id": "899b806a",
   "metadata": {},
   "source": [
    "## Series有多层索引的时候如何进行数据筛选"
   ]
  },
  {
   "cell_type": "code",
   "execution_count": 178,
   "id": "e5756ecf",
   "metadata": {},
   "outputs": [
    {
     "data": {
      "text/plain": [
       "日期\n",
       "2019-10-01    102.00\n",
       "2019-10-02    102.62\n",
       "2019-10-03    104.32\n",
       "Name: 收盘, dtype: float64"
      ]
     },
     "execution_count": 178,
     "metadata": {},
     "output_type": "execute_result"
    }
   ],
   "source": [
    "ser.loc[\"BAIDU\"]"
   ]
  },
  {
   "cell_type": "code",
   "execution_count": 179,
   "id": "003a04f9",
   "metadata": {},
   "outputs": [
    {
     "data": {
      "text/plain": [
       "102.0"
      ]
     },
     "execution_count": 179,
     "metadata": {},
     "output_type": "execute_result"
    }
   ],
   "source": [
    "ser.loc[\"BAIDU\",\"2019-10-01\"]"
   ]
  },
  {
   "cell_type": "code",
   "execution_count": 180,
   "id": "9bef820e",
   "metadata": {},
   "outputs": [
    {
     "data": {
      "text/plain": [
       "公司\n",
       "BABA     165.15\n",
       "BAIDU    102.00\n",
       "IQ        15.92\n",
       "JD        28.19\n",
       "Name: 收盘, dtype: float64"
      ]
     },
     "execution_count": 180,
     "metadata": {},
     "output_type": "execute_result"
    }
   ],
   "source": [
    "ser.loc[:,\"2019-10-01\"]"
   ]
  },
  {
   "cell_type": "markdown",
   "id": "77efe6b8",
   "metadata": {},
   "source": [
    "## DataFrame的多层索引"
   ]
  },
  {
   "cell_type": "code",
   "execution_count": 181,
   "id": "805129a9",
   "metadata": {},
   "outputs": [
    {
     "data": {
      "text/html": [
       "<div>\n",
       "<style scoped>\n",
       "    .dataframe tbody tr th:only-of-type {\n",
       "        vertical-align: middle;\n",
       "    }\n",
       "\n",
       "    .dataframe tbody tr th {\n",
       "        vertical-align: top;\n",
       "    }\n",
       "\n",
       "    .dataframe thead th {\n",
       "        text-align: right;\n",
       "    }\n",
       "</style>\n",
       "<table border=\"1\" class=\"dataframe\">\n",
       "  <thead>\n",
       "    <tr style=\"text-align: right;\">\n",
       "      <th></th>\n",
       "      <th>日期</th>\n",
       "      <th>公司</th>\n",
       "      <th>收盘</th>\n",
       "      <th>开盘</th>\n",
       "      <th>高</th>\n",
       "      <th>低</th>\n",
       "      <th>交易量</th>\n",
       "      <th>涨跌幅</th>\n",
       "    </tr>\n",
       "  </thead>\n",
       "  <tbody>\n",
       "    <tr>\n",
       "      <th>0</th>\n",
       "      <td>2019-10-03</td>\n",
       "      <td>BAIDU</td>\n",
       "      <td>104.32</td>\n",
       "      <td>102.35</td>\n",
       "      <td>104.73</td>\n",
       "      <td>101.15</td>\n",
       "      <td>2.24</td>\n",
       "      <td>0.02</td>\n",
       "    </tr>\n",
       "    <tr>\n",
       "      <th>1</th>\n",
       "      <td>2019-10-02</td>\n",
       "      <td>BAIDU</td>\n",
       "      <td>102.62</td>\n",
       "      <td>100.85</td>\n",
       "      <td>103.24</td>\n",
       "      <td>99.50</td>\n",
       "      <td>2.69</td>\n",
       "      <td>0.01</td>\n",
       "    </tr>\n",
       "    <tr>\n",
       "      <th>2</th>\n",
       "      <td>2019-10-01</td>\n",
       "      <td>BAIDU</td>\n",
       "      <td>102.00</td>\n",
       "      <td>102.80</td>\n",
       "      <td>103.26</td>\n",
       "      <td>101.00</td>\n",
       "      <td>1.78</td>\n",
       "      <td>-0.01</td>\n",
       "    </tr>\n",
       "  </tbody>\n",
       "</table>\n",
       "</div>"
      ],
      "text/plain": [
       "           日期     公司      收盘      开盘       高       低   交易量   涨跌幅\n",
       "0  2019-10-03  BAIDU  104.32  102.35  104.73  101.15  2.24  0.02\n",
       "1  2019-10-02  BAIDU  102.62  100.85  103.24   99.50  2.69  0.01\n",
       "2  2019-10-01  BAIDU  102.00  102.80  103.26  101.00  1.78 -0.01"
      ]
     },
     "execution_count": 181,
     "metadata": {},
     "output_type": "execute_result"
    }
   ],
   "source": [
    "stocks.head(3)"
   ]
  },
  {
   "cell_type": "code",
   "execution_count": 182,
   "id": "83b8e038",
   "metadata": {},
   "outputs": [
    {
     "data": {
      "text/html": [
       "<div>\n",
       "<style scoped>\n",
       "    .dataframe tbody tr th:only-of-type {\n",
       "        vertical-align: middle;\n",
       "    }\n",
       "\n",
       "    .dataframe tbody tr th {\n",
       "        vertical-align: top;\n",
       "    }\n",
       "\n",
       "    .dataframe thead th {\n",
       "        text-align: right;\n",
       "    }\n",
       "</style>\n",
       "<table border=\"1\" class=\"dataframe\">\n",
       "  <thead>\n",
       "    <tr style=\"text-align: right;\">\n",
       "      <th></th>\n",
       "      <th></th>\n",
       "      <th>收盘</th>\n",
       "      <th>开盘</th>\n",
       "      <th>高</th>\n",
       "      <th>低</th>\n",
       "      <th>交易量</th>\n",
       "      <th>涨跌幅</th>\n",
       "    </tr>\n",
       "    <tr>\n",
       "      <th>公司</th>\n",
       "      <th>日期</th>\n",
       "      <th></th>\n",
       "      <th></th>\n",
       "      <th></th>\n",
       "      <th></th>\n",
       "      <th></th>\n",
       "      <th></th>\n",
       "    </tr>\n",
       "  </thead>\n",
       "  <tbody>\n",
       "    <tr>\n",
       "      <th rowspan=\"3\" valign=\"top\">BAIDU</th>\n",
       "      <th>2019-10-03</th>\n",
       "      <td>104.32</td>\n",
       "      <td>102.35</td>\n",
       "      <td>104.73</td>\n",
       "      <td>101.15</td>\n",
       "      <td>2.24</td>\n",
       "      <td>0.02</td>\n",
       "    </tr>\n",
       "    <tr>\n",
       "      <th>2019-10-02</th>\n",
       "      <td>102.62</td>\n",
       "      <td>100.85</td>\n",
       "      <td>103.24</td>\n",
       "      <td>99.50</td>\n",
       "      <td>2.69</td>\n",
       "      <td>0.01</td>\n",
       "    </tr>\n",
       "    <tr>\n",
       "      <th>2019-10-01</th>\n",
       "      <td>102.00</td>\n",
       "      <td>102.80</td>\n",
       "      <td>103.26</td>\n",
       "      <td>101.00</td>\n",
       "      <td>1.78</td>\n",
       "      <td>-0.01</td>\n",
       "    </tr>\n",
       "    <tr>\n",
       "      <th rowspan=\"3\" valign=\"top\">BABA</th>\n",
       "      <th>2019-10-03</th>\n",
       "      <td>169.48</td>\n",
       "      <td>166.65</td>\n",
       "      <td>170.18</td>\n",
       "      <td>165.00</td>\n",
       "      <td>10.39</td>\n",
       "      <td>0.02</td>\n",
       "    </tr>\n",
       "    <tr>\n",
       "      <th>2019-10-02</th>\n",
       "      <td>165.77</td>\n",
       "      <td>162.82</td>\n",
       "      <td>166.88</td>\n",
       "      <td>161.90</td>\n",
       "      <td>11.60</td>\n",
       "      <td>0.00</td>\n",
       "    </tr>\n",
       "    <tr>\n",
       "      <th>2019-10-01</th>\n",
       "      <td>165.15</td>\n",
       "      <td>168.01</td>\n",
       "      <td>168.23</td>\n",
       "      <td>163.64</td>\n",
       "      <td>14.19</td>\n",
       "      <td>-0.01</td>\n",
       "    </tr>\n",
       "    <tr>\n",
       "      <th rowspan=\"3\" valign=\"top\">IQ</th>\n",
       "      <th>2019-10-03</th>\n",
       "      <td>16.06</td>\n",
       "      <td>15.71</td>\n",
       "      <td>16.38</td>\n",
       "      <td>15.32</td>\n",
       "      <td>10.08</td>\n",
       "      <td>0.02</td>\n",
       "    </tr>\n",
       "    <tr>\n",
       "      <th>2019-10-02</th>\n",
       "      <td>15.72</td>\n",
       "      <td>15.85</td>\n",
       "      <td>15.87</td>\n",
       "      <td>15.12</td>\n",
       "      <td>8.10</td>\n",
       "      <td>-0.01</td>\n",
       "    </tr>\n",
       "    <tr>\n",
       "      <th>2019-10-01</th>\n",
       "      <td>15.92</td>\n",
       "      <td>16.14</td>\n",
       "      <td>16.22</td>\n",
       "      <td>15.50</td>\n",
       "      <td>11.65</td>\n",
       "      <td>-0.01</td>\n",
       "    </tr>\n",
       "    <tr>\n",
       "      <th rowspan=\"3\" valign=\"top\">JD</th>\n",
       "      <th>2019-10-03</th>\n",
       "      <td>28.80</td>\n",
       "      <td>28.11</td>\n",
       "      <td>28.97</td>\n",
       "      <td>27.82</td>\n",
       "      <td>8.77</td>\n",
       "      <td>0.03</td>\n",
       "    </tr>\n",
       "    <tr>\n",
       "      <th>2019-10-02</th>\n",
       "      <td>28.06</td>\n",
       "      <td>28.00</td>\n",
       "      <td>28.22</td>\n",
       "      <td>27.53</td>\n",
       "      <td>9.53</td>\n",
       "      <td>0.00</td>\n",
       "    </tr>\n",
       "    <tr>\n",
       "      <th>2019-10-01</th>\n",
       "      <td>28.19</td>\n",
       "      <td>28.22</td>\n",
       "      <td>28.57</td>\n",
       "      <td>27.97</td>\n",
       "      <td>10.64</td>\n",
       "      <td>0.00</td>\n",
       "    </tr>\n",
       "  </tbody>\n",
       "</table>\n",
       "</div>"
      ],
      "text/plain": [
       "                      收盘      开盘       高       低    交易量   涨跌幅\n",
       "公司    日期                                                     \n",
       "BAIDU 2019-10-03  104.32  102.35  104.73  101.15   2.24  0.02\n",
       "      2019-10-02  102.62  100.85  103.24   99.50   2.69  0.01\n",
       "      2019-10-01  102.00  102.80  103.26  101.00   1.78 -0.01\n",
       "BABA  2019-10-03  169.48  166.65  170.18  165.00  10.39  0.02\n",
       "      2019-10-02  165.77  162.82  166.88  161.90  11.60  0.00\n",
       "      2019-10-01  165.15  168.01  168.23  163.64  14.19 -0.01\n",
       "IQ    2019-10-03   16.06   15.71   16.38   15.32  10.08  0.02\n",
       "      2019-10-02   15.72   15.85   15.87   15.12   8.10 -0.01\n",
       "      2019-10-01   15.92   16.14   16.22   15.50  11.65 -0.01\n",
       "JD    2019-10-03   28.80   28.11   28.97   27.82   8.77  0.03\n",
       "      2019-10-02   28.06   28.00   28.22   27.53   9.53  0.00\n",
       "      2019-10-01   28.19   28.22   28.57   27.97  10.64  0.00"
      ]
     },
     "execution_count": 182,
     "metadata": {},
     "output_type": "execute_result"
    }
   ],
   "source": [
    "stocks = pd.read_excel(\"D:\\\\编程项目\\\\python项目\\\\bigdata\\\\data\\\\互联网公司股票.xlsx\")\n",
    "stocks.set_index([\"公司\",\"日期\"],inplace=True)\n",
    "stocks    #手动将索引设置成多级"
   ]
  },
  {
   "cell_type": "code",
   "execution_count": 183,
   "id": "d4515116",
   "metadata": {},
   "outputs": [
    {
     "data": {
      "text/plain": [
       "MultiIndex([('BAIDU', '2019-10-03'),\n",
       "            ('BAIDU', '2019-10-02'),\n",
       "            ('BAIDU', '2019-10-01'),\n",
       "            ( 'BABA', '2019-10-03'),\n",
       "            ( 'BABA', '2019-10-02'),\n",
       "            ( 'BABA', '2019-10-01'),\n",
       "            (   'IQ', '2019-10-03'),\n",
       "            (   'IQ', '2019-10-02'),\n",
       "            (   'IQ', '2019-10-01'),\n",
       "            (   'JD', '2019-10-03'),\n",
       "            (   'JD', '2019-10-02'),\n",
       "            (   'JD', '2019-10-01')],\n",
       "           names=['公司', '日期'])"
      ]
     },
     "execution_count": 183,
     "metadata": {},
     "output_type": "execute_result"
    }
   ],
   "source": [
    "stocks.index"
   ]
  },
  {
   "cell_type": "markdown",
   "id": "dd41de05",
   "metadata": {},
   "source": [
    "## DataFrame有多层索引的时候如何进行数据筛选\\\n",
    "###### ⚠元组形式（key1，key2）代表多层索引，其中key1为一级索引，key2为二级索引\n",
    "###### ⚠列表形式[key1，key2 ] 代表同一层多个索引"
   ]
  },
  {
   "cell_type": "code",
   "execution_count": 184,
   "id": "676835a0",
   "metadata": {},
   "outputs": [
    {
     "data": {
      "text/html": [
       "<div>\n",
       "<style scoped>\n",
       "    .dataframe tbody tr th:only-of-type {\n",
       "        vertical-align: middle;\n",
       "    }\n",
       "\n",
       "    .dataframe tbody tr th {\n",
       "        vertical-align: top;\n",
       "    }\n",
       "\n",
       "    .dataframe thead th {\n",
       "        text-align: right;\n",
       "    }\n",
       "</style>\n",
       "<table border=\"1\" class=\"dataframe\">\n",
       "  <thead>\n",
       "    <tr style=\"text-align: right;\">\n",
       "      <th></th>\n",
       "      <th></th>\n",
       "      <th>收盘</th>\n",
       "      <th>开盘</th>\n",
       "      <th>高</th>\n",
       "      <th>低</th>\n",
       "      <th>交易量</th>\n",
       "      <th>涨跌幅</th>\n",
       "    </tr>\n",
       "    <tr>\n",
       "      <th>公司</th>\n",
       "      <th>日期</th>\n",
       "      <th></th>\n",
       "      <th></th>\n",
       "      <th></th>\n",
       "      <th></th>\n",
       "      <th></th>\n",
       "      <th></th>\n",
       "    </tr>\n",
       "  </thead>\n",
       "  <tbody>\n",
       "    <tr>\n",
       "      <th rowspan=\"3\" valign=\"top\">BABA</th>\n",
       "      <th>2019-10-03</th>\n",
       "      <td>169.48</td>\n",
       "      <td>166.65</td>\n",
       "      <td>170.18</td>\n",
       "      <td>165.00</td>\n",
       "      <td>10.39</td>\n",
       "      <td>0.02</td>\n",
       "    </tr>\n",
       "    <tr>\n",
       "      <th>2019-10-02</th>\n",
       "      <td>165.77</td>\n",
       "      <td>162.82</td>\n",
       "      <td>166.88</td>\n",
       "      <td>161.90</td>\n",
       "      <td>11.60</td>\n",
       "      <td>0.00</td>\n",
       "    </tr>\n",
       "    <tr>\n",
       "      <th>2019-10-01</th>\n",
       "      <td>165.15</td>\n",
       "      <td>168.01</td>\n",
       "      <td>168.23</td>\n",
       "      <td>163.64</td>\n",
       "      <td>14.19</td>\n",
       "      <td>-0.01</td>\n",
       "    </tr>\n",
       "    <tr>\n",
       "      <th rowspan=\"3\" valign=\"top\">BAIDU</th>\n",
       "      <th>2019-10-03</th>\n",
       "      <td>104.32</td>\n",
       "      <td>102.35</td>\n",
       "      <td>104.73</td>\n",
       "      <td>101.15</td>\n",
       "      <td>2.24</td>\n",
       "      <td>0.02</td>\n",
       "    </tr>\n",
       "    <tr>\n",
       "      <th>2019-10-02</th>\n",
       "      <td>102.62</td>\n",
       "      <td>100.85</td>\n",
       "      <td>103.24</td>\n",
       "      <td>99.50</td>\n",
       "      <td>2.69</td>\n",
       "      <td>0.01</td>\n",
       "    </tr>\n",
       "    <tr>\n",
       "      <th>2019-10-01</th>\n",
       "      <td>102.00</td>\n",
       "      <td>102.80</td>\n",
       "      <td>103.26</td>\n",
       "      <td>101.00</td>\n",
       "      <td>1.78</td>\n",
       "      <td>-0.01</td>\n",
       "    </tr>\n",
       "  </tbody>\n",
       "</table>\n",
       "</div>"
      ],
      "text/plain": [
       "                      收盘      开盘       高       低    交易量   涨跌幅\n",
       "公司    日期                                                     \n",
       "BABA  2019-10-03  169.48  166.65  170.18  165.00  10.39  0.02\n",
       "      2019-10-02  165.77  162.82  166.88  161.90  11.60  0.00\n",
       "      2019-10-01  165.15  168.01  168.23  163.64  14.19 -0.01\n",
       "BAIDU 2019-10-03  104.32  102.35  104.73  101.15   2.24  0.02\n",
       "      2019-10-02  102.62  100.85  103.24   99.50   2.69  0.01\n",
       "      2019-10-01  102.00  102.80  103.26  101.00   1.78 -0.01"
      ]
     },
     "execution_count": 184,
     "metadata": {},
     "output_type": "execute_result"
    }
   ],
   "source": [
    "stocks.loc[[\"BABA\",\"BAIDU\"],:]"
   ]
  },
  {
   "cell_type": "code",
   "execution_count": 185,
   "id": "45a16b43",
   "metadata": {},
   "outputs": [
    {
     "data": {
      "text/plain": [
       "公司     日期        \n",
       "BABA   2019-10-03    170.18\n",
       "       2019-10-02    166.88\n",
       "       2019-10-01    168.23\n",
       "BAIDU  2019-10-03    104.73\n",
       "       2019-10-02    103.24\n",
       "       2019-10-01    103.26\n",
       "Name: 高, dtype: float64"
      ]
     },
     "execution_count": 185,
     "metadata": {},
     "output_type": "execute_result"
    }
   ],
   "source": [
    "stocks.loc[[\"BABA\",\"BAIDU\"],\"高\"]"
   ]
  },
  {
   "cell_type": "code",
   "execution_count": 186,
   "id": "1270e823",
   "metadata": {},
   "outputs": [
    {
     "data": {
      "text/plain": [
       "收盘     165.15\n",
       "开盘     168.01\n",
       "高      168.23\n",
       "低      163.64\n",
       "交易量     14.19\n",
       "涨跌幅     -0.01\n",
       "Name: (BABA, 2019-10-01), dtype: float64"
      ]
     },
     "execution_count": 186,
     "metadata": {},
     "output_type": "execute_result"
    }
   ],
   "source": [
    "stocks.loc[(\"BABA\",\"2019-10-01\"),:]"
   ]
  },
  {
   "cell_type": "code",
   "execution_count": 187,
   "id": "ad873ed1",
   "metadata": {},
   "outputs": [
    {
     "data": {
      "text/plain": [
       "168.23"
      ]
     },
     "execution_count": 187,
     "metadata": {},
     "output_type": "execute_result"
    }
   ],
   "source": [
    "stocks.loc[(\"BABA\",\"2019-10-01\"),\"高\"]"
   ]
  },
  {
   "cell_type": "code",
   "execution_count": 188,
   "id": "3fbc905f",
   "metadata": {},
   "outputs": [
    {
     "data": {
      "text/html": [
       "<div>\n",
       "<style scoped>\n",
       "    .dataframe tbody tr th:only-of-type {\n",
       "        vertical-align: middle;\n",
       "    }\n",
       "\n",
       "    .dataframe tbody tr th {\n",
       "        vertical-align: top;\n",
       "    }\n",
       "\n",
       "    .dataframe thead th {\n",
       "        text-align: right;\n",
       "    }\n",
       "</style>\n",
       "<table border=\"1\" class=\"dataframe\">\n",
       "  <thead>\n",
       "    <tr style=\"text-align: right;\">\n",
       "      <th></th>\n",
       "      <th></th>\n",
       "      <th>收盘</th>\n",
       "      <th>开盘</th>\n",
       "      <th>高</th>\n",
       "      <th>低</th>\n",
       "      <th>交易量</th>\n",
       "      <th>涨跌幅</th>\n",
       "    </tr>\n",
       "    <tr>\n",
       "      <th>公司</th>\n",
       "      <th>日期</th>\n",
       "      <th></th>\n",
       "      <th></th>\n",
       "      <th></th>\n",
       "      <th></th>\n",
       "      <th></th>\n",
       "      <th></th>\n",
       "    </tr>\n",
       "  </thead>\n",
       "  <tbody>\n",
       "    <tr>\n",
       "      <th rowspan=\"2\" valign=\"top\">BABA</th>\n",
       "      <th>2019-10-01</th>\n",
       "      <td>165.15</td>\n",
       "      <td>168.01</td>\n",
       "      <td>168.23</td>\n",
       "      <td>163.64</td>\n",
       "      <td>14.19</td>\n",
       "      <td>-0.01</td>\n",
       "    </tr>\n",
       "    <tr>\n",
       "      <th>2019-10-02</th>\n",
       "      <td>165.77</td>\n",
       "      <td>162.82</td>\n",
       "      <td>166.88</td>\n",
       "      <td>161.90</td>\n",
       "      <td>11.60</td>\n",
       "      <td>0.00</td>\n",
       "    </tr>\n",
       "  </tbody>\n",
       "</table>\n",
       "</div>"
      ],
      "text/plain": [
       "                     收盘      开盘       高       低    交易量   涨跌幅\n",
       "公司   日期                                                     \n",
       "BABA 2019-10-01  165.15  168.01  168.23  163.64  14.19 -0.01\n",
       "     2019-10-02  165.77  162.82  166.88  161.90  11.60  0.00"
      ]
     },
     "execution_count": 188,
     "metadata": {},
     "output_type": "execute_result"
    }
   ],
   "source": [
    "stocks.loc[\"BABA\",['2019-10-01','2019-10-02'],:]"
   ]
  },
  {
   "cell_type": "code",
   "execution_count": 189,
   "id": "d1d03d82",
   "metadata": {},
   "outputs": [
    {
     "data": {
      "text/plain": [
       "公司     日期        \n",
       "BAIDU  2019-10-01     1.78\n",
       "BABA   2019-10-01    14.19\n",
       "IQ     2019-10-01    11.65\n",
       "JD     2019-10-01    10.64\n",
       "BAIDU  2019-10-02     2.69\n",
       "BABA   2019-10-02    11.60\n",
       "IQ     2019-10-02     8.10\n",
       "JD     2019-10-02     9.53\n",
       "Name: 交易量, dtype: float64"
      ]
     },
     "execution_count": 189,
     "metadata": {},
     "output_type": "execute_result"
    }
   ],
   "source": [
    "stocks.loc[slice(None),['2019-10-01','2019-10-02'],:][\"交易量\"]  #代表这个索引所有的内容"
   ]
  },
  {
   "cell_type": "markdown",
   "id": "a4f53074",
   "metadata": {},
   "source": [
    "# Pandas的数据转换函数\n",
    "#### map：只能用于Series，实现每个 值 到 值 的映射\n",
    "#### apply：用于Series的每个值的处理，或是DataFrame每个轴的Series的某个轴的处理\n",
    "#### applymap：只能用于DataFrame，用于DataFrame每个元素的处理\n",
    "参考视频：https://www.bilibili.com/video/BV1UJ411A7Fs?p=18"
   ]
  },
  {
   "cell_type": "markdown",
   "id": "ad43afe8",
   "metadata": {},
   "source": [
    "### map"
   ]
  },
  {
   "cell_type": "code",
   "execution_count": 190,
   "id": "c4895cc1",
   "metadata": {},
   "outputs": [],
   "source": [
    "stocks = pd.read_excel(\"D:\\\\编程项目\\\\python项目\\\\bigdata\\\\data\\\\互联网公司股票.xlsx\")"
   ]
  },
  {
   "cell_type": "code",
   "execution_count": 191,
   "id": "003f0c25",
   "metadata": {},
   "outputs": [
    {
     "data": {
      "text/plain": [
       "array(['BAIDU', 'BABA', 'IQ', 'JD'], dtype=object)"
      ]
     },
     "execution_count": 191,
     "metadata": {},
     "output_type": "execute_result"
    }
   ],
   "source": [
    "stocks['公司'].unique()"
   ]
  },
  {
   "cell_type": "code",
   "execution_count": 192,
   "id": "8eec63a1",
   "metadata": {},
   "outputs": [],
   "source": [
    "ch_names={   #中文名字映射，参考视频用小写，下列操作统一化处理\n",
    "    \"baidu\":\"百度\",\n",
    "    \"baba\":\"阿里巴巴\",\n",
    "    \"iq\":\"爱奇艺\",\n",
    "    \"jd\":\"京东\"\n",
    "}"
   ]
  },
  {
   "cell_type": "markdown",
   "id": "00ff0349",
   "metadata": {},
   "source": [
    "方法1：map函数接收一个有对应关系的字典"
   ]
  },
  {
   "cell_type": "code",
   "execution_count": 193,
   "id": "34ca7d9e",
   "metadata": {
    "scrolled": true
   },
   "outputs": [
    {
     "data": {
      "text/html": [
       "<div>\n",
       "<style scoped>\n",
       "    .dataframe tbody tr th:only-of-type {\n",
       "        vertical-align: middle;\n",
       "    }\n",
       "\n",
       "    .dataframe tbody tr th {\n",
       "        vertical-align: top;\n",
       "    }\n",
       "\n",
       "    .dataframe thead th {\n",
       "        text-align: right;\n",
       "    }\n",
       "</style>\n",
       "<table border=\"1\" class=\"dataframe\">\n",
       "  <thead>\n",
       "    <tr style=\"text-align: right;\">\n",
       "      <th></th>\n",
       "      <th>日期</th>\n",
       "      <th>公司</th>\n",
       "      <th>收盘</th>\n",
       "      <th>开盘</th>\n",
       "      <th>高</th>\n",
       "      <th>低</th>\n",
       "      <th>交易量</th>\n",
       "      <th>涨跌幅</th>\n",
       "      <th>公司中文1</th>\n",
       "    </tr>\n",
       "  </thead>\n",
       "  <tbody>\n",
       "    <tr>\n",
       "      <th>0</th>\n",
       "      <td>2019-10-03</td>\n",
       "      <td>BAIDU</td>\n",
       "      <td>104.32</td>\n",
       "      <td>102.35</td>\n",
       "      <td>104.73</td>\n",
       "      <td>101.15</td>\n",
       "      <td>2.24</td>\n",
       "      <td>0.02</td>\n",
       "      <td>百度</td>\n",
       "    </tr>\n",
       "    <tr>\n",
       "      <th>1</th>\n",
       "      <td>2019-10-02</td>\n",
       "      <td>BAIDU</td>\n",
       "      <td>102.62</td>\n",
       "      <td>100.85</td>\n",
       "      <td>103.24</td>\n",
       "      <td>99.50</td>\n",
       "      <td>2.69</td>\n",
       "      <td>0.01</td>\n",
       "      <td>百度</td>\n",
       "    </tr>\n",
       "    <tr>\n",
       "      <th>2</th>\n",
       "      <td>2019-10-01</td>\n",
       "      <td>BAIDU</td>\n",
       "      <td>102.00</td>\n",
       "      <td>102.80</td>\n",
       "      <td>103.26</td>\n",
       "      <td>101.00</td>\n",
       "      <td>1.78</td>\n",
       "      <td>-0.01</td>\n",
       "      <td>百度</td>\n",
       "    </tr>\n",
       "  </tbody>\n",
       "</table>\n",
       "</div>"
      ],
      "text/plain": [
       "           日期     公司      收盘      开盘       高       低   交易量   涨跌幅 公司中文1\n",
       "0  2019-10-03  BAIDU  104.32  102.35  104.73  101.15  2.24  0.02    百度\n",
       "1  2019-10-02  BAIDU  102.62  100.85  103.24   99.50  2.69  0.01    百度\n",
       "2  2019-10-01  BAIDU  102.00  102.80  103.26  101.00  1.78 -0.01    百度"
      ]
     },
     "execution_count": 193,
     "metadata": {},
     "output_type": "execute_result"
    }
   ],
   "source": [
    "stocks[\"公司中文1\"]=stocks[\"公司\"].str.lower().map(ch_names)\n",
    "stocks.head(3)"
   ]
  },
  {
   "cell_type": "markdown",
   "id": "0b3f96af",
   "metadata": {},
   "source": [
    "方法二：函数法，将公司名称转小写并传给map"
   ]
  },
  {
   "cell_type": "code",
   "execution_count": 194,
   "id": "9680e174",
   "metadata": {},
   "outputs": [
    {
     "data": {
      "text/html": [
       "<div>\n",
       "<style scoped>\n",
       "    .dataframe tbody tr th:only-of-type {\n",
       "        vertical-align: middle;\n",
       "    }\n",
       "\n",
       "    .dataframe tbody tr th {\n",
       "        vertical-align: top;\n",
       "    }\n",
       "\n",
       "    .dataframe thead th {\n",
       "        text-align: right;\n",
       "    }\n",
       "</style>\n",
       "<table border=\"1\" class=\"dataframe\">\n",
       "  <thead>\n",
       "    <tr style=\"text-align: right;\">\n",
       "      <th></th>\n",
       "      <th>日期</th>\n",
       "      <th>公司</th>\n",
       "      <th>收盘</th>\n",
       "      <th>开盘</th>\n",
       "      <th>高</th>\n",
       "      <th>低</th>\n",
       "      <th>交易量</th>\n",
       "      <th>涨跌幅</th>\n",
       "      <th>公司中文1</th>\n",
       "      <th>公司中文2</th>\n",
       "    </tr>\n",
       "  </thead>\n",
       "  <tbody>\n",
       "    <tr>\n",
       "      <th>0</th>\n",
       "      <td>2019-10-03</td>\n",
       "      <td>BAIDU</td>\n",
       "      <td>104.32</td>\n",
       "      <td>102.35</td>\n",
       "      <td>104.73</td>\n",
       "      <td>101.15</td>\n",
       "      <td>2.24</td>\n",
       "      <td>0.02</td>\n",
       "      <td>百度</td>\n",
       "      <td>百度</td>\n",
       "    </tr>\n",
       "    <tr>\n",
       "      <th>1</th>\n",
       "      <td>2019-10-02</td>\n",
       "      <td>BAIDU</td>\n",
       "      <td>102.62</td>\n",
       "      <td>100.85</td>\n",
       "      <td>103.24</td>\n",
       "      <td>99.50</td>\n",
       "      <td>2.69</td>\n",
       "      <td>0.01</td>\n",
       "      <td>百度</td>\n",
       "      <td>百度</td>\n",
       "    </tr>\n",
       "    <tr>\n",
       "      <th>2</th>\n",
       "      <td>2019-10-01</td>\n",
       "      <td>BAIDU</td>\n",
       "      <td>102.00</td>\n",
       "      <td>102.80</td>\n",
       "      <td>103.26</td>\n",
       "      <td>101.00</td>\n",
       "      <td>1.78</td>\n",
       "      <td>-0.01</td>\n",
       "      <td>百度</td>\n",
       "      <td>百度</td>\n",
       "    </tr>\n",
       "  </tbody>\n",
       "</table>\n",
       "</div>"
      ],
      "text/plain": [
       "           日期     公司      收盘      开盘       高       低   交易量   涨跌幅 公司中文1 公司中文2\n",
       "0  2019-10-03  BAIDU  104.32  102.35  104.73  101.15  2.24  0.02    百度    百度\n",
       "1  2019-10-02  BAIDU  102.62  100.85  103.24   99.50  2.69  0.01    百度    百度\n",
       "2  2019-10-01  BAIDU  102.00  102.80  103.26  101.00  1.78 -0.01    百度    百度"
      ]
     },
     "execution_count": 194,
     "metadata": {},
     "output_type": "execute_result"
    }
   ],
   "source": [
    "stocks[\"公司中文2\"]=stocks[\"公司\"].map(lambda x:ch_names[x.lower()])\n",
    "stocks.head(3)"
   ]
  },
  {
   "cell_type": "markdown",
   "id": "a9e370a4",
   "metadata": {},
   "source": [
    "## apply  \n",
    "难懂=>参考视频：https://www.bilibili.com/video/BV1UJ411A7Fs?p=18"
   ]
  },
  {
   "cell_type": "code",
   "execution_count": 195,
   "id": "80426afb",
   "metadata": {},
   "outputs": [],
   "source": [
    "#比较乱：重置下数据\n",
    "stocks = pd.read_excel(\"D:\\\\编程项目\\\\python项目\\\\bigdata\\\\data\\\\互联网公司股票.xlsx\")"
   ]
  },
  {
   "cell_type": "markdown",
   "id": "7974864b",
   "metadata": {},
   "source": [
    "Series的apply"
   ]
  },
  {
   "cell_type": "code",
   "execution_count": 196,
   "id": "e0080d2b",
   "metadata": {
    "scrolled": true
   },
   "outputs": [
    {
     "data": {
      "text/html": [
       "<div>\n",
       "<style scoped>\n",
       "    .dataframe tbody tr th:only-of-type {\n",
       "        vertical-align: middle;\n",
       "    }\n",
       "\n",
       "    .dataframe tbody tr th {\n",
       "        vertical-align: top;\n",
       "    }\n",
       "\n",
       "    .dataframe thead th {\n",
       "        text-align: right;\n",
       "    }\n",
       "</style>\n",
       "<table border=\"1\" class=\"dataframe\">\n",
       "  <thead>\n",
       "    <tr style=\"text-align: right;\">\n",
       "      <th></th>\n",
       "      <th>日期</th>\n",
       "      <th>公司</th>\n",
       "      <th>收盘</th>\n",
       "      <th>开盘</th>\n",
       "      <th>高</th>\n",
       "      <th>低</th>\n",
       "      <th>交易量</th>\n",
       "      <th>涨跌幅</th>\n",
       "      <th>公司中文3</th>\n",
       "    </tr>\n",
       "  </thead>\n",
       "  <tbody>\n",
       "    <tr>\n",
       "      <th>0</th>\n",
       "      <td>2019-10-03</td>\n",
       "      <td>BAIDU</td>\n",
       "      <td>104.32</td>\n",
       "      <td>102.35</td>\n",
       "      <td>104.73</td>\n",
       "      <td>101.15</td>\n",
       "      <td>2.24</td>\n",
       "      <td>0.02</td>\n",
       "      <td>百度</td>\n",
       "    </tr>\n",
       "    <tr>\n",
       "      <th>1</th>\n",
       "      <td>2019-10-02</td>\n",
       "      <td>BAIDU</td>\n",
       "      <td>102.62</td>\n",
       "      <td>100.85</td>\n",
       "      <td>103.24</td>\n",
       "      <td>99.50</td>\n",
       "      <td>2.69</td>\n",
       "      <td>0.01</td>\n",
       "      <td>百度</td>\n",
       "    </tr>\n",
       "    <tr>\n",
       "      <th>2</th>\n",
       "      <td>2019-10-01</td>\n",
       "      <td>BAIDU</td>\n",
       "      <td>102.00</td>\n",
       "      <td>102.80</td>\n",
       "      <td>103.26</td>\n",
       "      <td>101.00</td>\n",
       "      <td>1.78</td>\n",
       "      <td>-0.01</td>\n",
       "      <td>百度</td>\n",
       "    </tr>\n",
       "  </tbody>\n",
       "</table>\n",
       "</div>"
      ],
      "text/plain": [
       "           日期     公司      收盘      开盘       高       低   交易量   涨跌幅 公司中文3\n",
       "0  2019-10-03  BAIDU  104.32  102.35  104.73  101.15  2.24  0.02    百度\n",
       "1  2019-10-02  BAIDU  102.62  100.85  103.24   99.50  2.69  0.01    百度\n",
       "2  2019-10-01  BAIDU  102.00  102.80  103.26  101.00  1.78 -0.01    百度"
      ]
     },
     "execution_count": 196,
     "metadata": {},
     "output_type": "execute_result"
    }
   ],
   "source": [
    "stocks[\"公司中文3\"]=stocks[\"公司\"].apply(lambda x:ch_names[x.lower()])\n",
    "stocks.head(3)    #apply(一个函数)   这个函数的参数是一个Series的每个值 "
   ]
  },
  {
   "cell_type": "markdown",
   "id": "e6af8f75",
   "metadata": {},
   "source": [
    "DataFrame的apply"
   ]
  },
  {
   "cell_type": "code",
   "execution_count": 197,
   "id": "5d1d86fa",
   "metadata": {},
   "outputs": [
    {
     "data": {
      "text/html": [
       "<div>\n",
       "<style scoped>\n",
       "    .dataframe tbody tr th:only-of-type {\n",
       "        vertical-align: middle;\n",
       "    }\n",
       "\n",
       "    .dataframe tbody tr th {\n",
       "        vertical-align: top;\n",
       "    }\n",
       "\n",
       "    .dataframe thead th {\n",
       "        text-align: right;\n",
       "    }\n",
       "</style>\n",
       "<table border=\"1\" class=\"dataframe\">\n",
       "  <thead>\n",
       "    <tr style=\"text-align: right;\">\n",
       "      <th></th>\n",
       "      <th>日期</th>\n",
       "      <th>公司</th>\n",
       "      <th>收盘</th>\n",
       "      <th>开盘</th>\n",
       "      <th>高</th>\n",
       "      <th>低</th>\n",
       "      <th>交易量</th>\n",
       "      <th>涨跌幅</th>\n",
       "      <th>公司中文3</th>\n",
       "      <th>公司中文4</th>\n",
       "    </tr>\n",
       "  </thead>\n",
       "  <tbody>\n",
       "    <tr>\n",
       "      <th>0</th>\n",
       "      <td>2019-10-03</td>\n",
       "      <td>BAIDU</td>\n",
       "      <td>104.32</td>\n",
       "      <td>102.35</td>\n",
       "      <td>104.73</td>\n",
       "      <td>101.15</td>\n",
       "      <td>2.24</td>\n",
       "      <td>0.02</td>\n",
       "      <td>百度</td>\n",
       "      <td>百度</td>\n",
       "    </tr>\n",
       "    <tr>\n",
       "      <th>1</th>\n",
       "      <td>2019-10-02</td>\n",
       "      <td>BAIDU</td>\n",
       "      <td>102.62</td>\n",
       "      <td>100.85</td>\n",
       "      <td>103.24</td>\n",
       "      <td>99.50</td>\n",
       "      <td>2.69</td>\n",
       "      <td>0.01</td>\n",
       "      <td>百度</td>\n",
       "      <td>百度</td>\n",
       "    </tr>\n",
       "    <tr>\n",
       "      <th>2</th>\n",
       "      <td>2019-10-01</td>\n",
       "      <td>BAIDU</td>\n",
       "      <td>102.00</td>\n",
       "      <td>102.80</td>\n",
       "      <td>103.26</td>\n",
       "      <td>101.00</td>\n",
       "      <td>1.78</td>\n",
       "      <td>-0.01</td>\n",
       "      <td>百度</td>\n",
       "      <td>百度</td>\n",
       "    </tr>\n",
       "  </tbody>\n",
       "</table>\n",
       "</div>"
      ],
      "text/plain": [
       "           日期     公司      收盘      开盘       高       低   交易量   涨跌幅 公司中文3 公司中文4\n",
       "0  2019-10-03  BAIDU  104.32  102.35  104.73  101.15  2.24  0.02    百度    百度\n",
       "1  2019-10-02  BAIDU  102.62  100.85  103.24   99.50  2.69  0.01    百度    百度\n",
       "2  2019-10-01  BAIDU  102.00  102.80  103.26  101.00  1.78 -0.01    百度    百度"
      ]
     },
     "execution_count": 197,
     "metadata": {},
     "output_type": "execute_result"
    }
   ],
   "source": [
    "stocks[\"公司中文4\"]=stocks.apply(lambda x:ch_names[x[\"公司\"].lower()],axis=1)\n",
    "stocks.head(3)    #apply(一个函数)   这个函数的参数是索引轴的Series"
   ]
  },
  {
   "cell_type": "markdown",
   "id": "f5e3d8c9",
   "metadata": {},
   "source": [
    "## applymap"
   ]
  },
  {
   "cell_type": "markdown",
   "id": "7d21f247",
   "metadata": {},
   "source": [
    "将几个数据转换成整数类型"
   ]
  },
  {
   "cell_type": "code",
   "execution_count": 198,
   "id": "85b24ab9",
   "metadata": {},
   "outputs": [],
   "source": [
    "#比较乱：重置下数据\n",
    "stocks = pd.read_excel(\"D:\\\\编程项目\\\\python项目\\\\bigdata\\\\data\\\\互联网公司股票.xlsx\")"
   ]
  },
  {
   "cell_type": "code",
   "execution_count": 199,
   "id": "93617588",
   "metadata": {},
   "outputs": [
    {
     "data": {
      "text/html": [
       "<div>\n",
       "<style scoped>\n",
       "    .dataframe tbody tr th:only-of-type {\n",
       "        vertical-align: middle;\n",
       "    }\n",
       "\n",
       "    .dataframe tbody tr th {\n",
       "        vertical-align: top;\n",
       "    }\n",
       "\n",
       "    .dataframe thead th {\n",
       "        text-align: right;\n",
       "    }\n",
       "</style>\n",
       "<table border=\"1\" class=\"dataframe\">\n",
       "  <thead>\n",
       "    <tr style=\"text-align: right;\">\n",
       "      <th></th>\n",
       "      <th>收盘</th>\n",
       "      <th>开盘</th>\n",
       "      <th>高</th>\n",
       "      <th>低</th>\n",
       "      <th>交易量</th>\n",
       "    </tr>\n",
       "  </thead>\n",
       "  <tbody>\n",
       "    <tr>\n",
       "      <th>0</th>\n",
       "      <td>104.32</td>\n",
       "      <td>102.35</td>\n",
       "      <td>104.73</td>\n",
       "      <td>101.15</td>\n",
       "      <td>2.24</td>\n",
       "    </tr>\n",
       "    <tr>\n",
       "      <th>1</th>\n",
       "      <td>102.62</td>\n",
       "      <td>100.85</td>\n",
       "      <td>103.24</td>\n",
       "      <td>99.50</td>\n",
       "      <td>2.69</td>\n",
       "    </tr>\n",
       "    <tr>\n",
       "      <th>2</th>\n",
       "      <td>102.00</td>\n",
       "      <td>102.80</td>\n",
       "      <td>103.26</td>\n",
       "      <td>101.00</td>\n",
       "      <td>1.78</td>\n",
       "    </tr>\n",
       "    <tr>\n",
       "      <th>3</th>\n",
       "      <td>169.48</td>\n",
       "      <td>166.65</td>\n",
       "      <td>170.18</td>\n",
       "      <td>165.00</td>\n",
       "      <td>10.39</td>\n",
       "    </tr>\n",
       "    <tr>\n",
       "      <th>4</th>\n",
       "      <td>165.77</td>\n",
       "      <td>162.82</td>\n",
       "      <td>166.88</td>\n",
       "      <td>161.90</td>\n",
       "      <td>11.60</td>\n",
       "    </tr>\n",
       "  </tbody>\n",
       "</table>\n",
       "</div>"
      ],
      "text/plain": [
       "       收盘      开盘       高       低    交易量\n",
       "0  104.32  102.35  104.73  101.15   2.24\n",
       "1  102.62  100.85  103.24   99.50   2.69\n",
       "2  102.00  102.80  103.26  101.00   1.78\n",
       "3  169.48  166.65  170.18  165.00  10.39\n",
       "4  165.77  162.82  166.88  161.90  11.60"
      ]
     },
     "execution_count": 199,
     "metadata": {},
     "output_type": "execute_result"
    }
   ],
   "source": [
    "sub_df = stocks[[\"收盘\",\"开盘\",\"高\",\"低\",\"交易量\"]]   #注意双重括号\n",
    "sub_df.head()"
   ]
  },
  {
   "cell_type": "code",
   "execution_count": 200,
   "id": "4f097f08",
   "metadata": {},
   "outputs": [
    {
     "data": {
      "text/html": [
       "<div>\n",
       "<style scoped>\n",
       "    .dataframe tbody tr th:only-of-type {\n",
       "        vertical-align: middle;\n",
       "    }\n",
       "\n",
       "    .dataframe tbody tr th {\n",
       "        vertical-align: top;\n",
       "    }\n",
       "\n",
       "    .dataframe thead th {\n",
       "        text-align: right;\n",
       "    }\n",
       "</style>\n",
       "<table border=\"1\" class=\"dataframe\">\n",
       "  <thead>\n",
       "    <tr style=\"text-align: right;\">\n",
       "      <th></th>\n",
       "      <th>收盘</th>\n",
       "      <th>开盘</th>\n",
       "      <th>高</th>\n",
       "      <th>低</th>\n",
       "      <th>交易量</th>\n",
       "    </tr>\n",
       "  </thead>\n",
       "  <tbody>\n",
       "    <tr>\n",
       "      <th>0</th>\n",
       "      <td>104</td>\n",
       "      <td>102</td>\n",
       "      <td>104</td>\n",
       "      <td>101</td>\n",
       "      <td>2</td>\n",
       "    </tr>\n",
       "    <tr>\n",
       "      <th>1</th>\n",
       "      <td>102</td>\n",
       "      <td>100</td>\n",
       "      <td>103</td>\n",
       "      <td>99</td>\n",
       "      <td>2</td>\n",
       "    </tr>\n",
       "    <tr>\n",
       "      <th>2</th>\n",
       "      <td>102</td>\n",
       "      <td>102</td>\n",
       "      <td>103</td>\n",
       "      <td>101</td>\n",
       "      <td>1</td>\n",
       "    </tr>\n",
       "    <tr>\n",
       "      <th>3</th>\n",
       "      <td>169</td>\n",
       "      <td>166</td>\n",
       "      <td>170</td>\n",
       "      <td>165</td>\n",
       "      <td>10</td>\n",
       "    </tr>\n",
       "    <tr>\n",
       "      <th>4</th>\n",
       "      <td>165</td>\n",
       "      <td>162</td>\n",
       "      <td>166</td>\n",
       "      <td>161</td>\n",
       "      <td>11</td>\n",
       "    </tr>\n",
       "    <tr>\n",
       "      <th>5</th>\n",
       "      <td>165</td>\n",
       "      <td>168</td>\n",
       "      <td>168</td>\n",
       "      <td>163</td>\n",
       "      <td>14</td>\n",
       "    </tr>\n",
       "    <tr>\n",
       "      <th>6</th>\n",
       "      <td>16</td>\n",
       "      <td>15</td>\n",
       "      <td>16</td>\n",
       "      <td>15</td>\n",
       "      <td>10</td>\n",
       "    </tr>\n",
       "    <tr>\n",
       "      <th>7</th>\n",
       "      <td>15</td>\n",
       "      <td>15</td>\n",
       "      <td>15</td>\n",
       "      <td>15</td>\n",
       "      <td>8</td>\n",
       "    </tr>\n",
       "    <tr>\n",
       "      <th>8</th>\n",
       "      <td>15</td>\n",
       "      <td>16</td>\n",
       "      <td>16</td>\n",
       "      <td>15</td>\n",
       "      <td>11</td>\n",
       "    </tr>\n",
       "    <tr>\n",
       "      <th>9</th>\n",
       "      <td>28</td>\n",
       "      <td>28</td>\n",
       "      <td>28</td>\n",
       "      <td>27</td>\n",
       "      <td>8</td>\n",
       "    </tr>\n",
       "    <tr>\n",
       "      <th>10</th>\n",
       "      <td>28</td>\n",
       "      <td>28</td>\n",
       "      <td>28</td>\n",
       "      <td>27</td>\n",
       "      <td>9</td>\n",
       "    </tr>\n",
       "    <tr>\n",
       "      <th>11</th>\n",
       "      <td>28</td>\n",
       "      <td>28</td>\n",
       "      <td>28</td>\n",
       "      <td>27</td>\n",
       "      <td>10</td>\n",
       "    </tr>\n",
       "  </tbody>\n",
       "</table>\n",
       "</div>"
      ],
      "text/plain": [
       "     收盘   开盘    高    低  交易量\n",
       "0   104  102  104  101    2\n",
       "1   102  100  103   99    2\n",
       "2   102  102  103  101    1\n",
       "3   169  166  170  165   10\n",
       "4   165  162  166  161   11\n",
       "5   165  168  168  163   14\n",
       "6    16   15   16   15   10\n",
       "7    15   15   15   15    8\n",
       "8    15   16   16   15   11\n",
       "9    28   28   28   27    8\n",
       "10   28   28   28   27    9\n",
       "11   28   28   28   27   10"
      ]
     },
     "execution_count": 200,
     "metadata": {},
     "output_type": "execute_result"
    }
   ],
   "source": [
    "#把数据取整，然后应用于所有行\n",
    "sub_df.applymap(lambda x:int(x))"
   ]
  },
  {
   "cell_type": "code",
   "execution_count": 201,
   "id": "875b2324",
   "metadata": {
    "scrolled": true
   },
   "outputs": [
    {
     "data": {
      "text/html": [
       "<div>\n",
       "<style scoped>\n",
       "    .dataframe tbody tr th:only-of-type {\n",
       "        vertical-align: middle;\n",
       "    }\n",
       "\n",
       "    .dataframe tbody tr th {\n",
       "        vertical-align: top;\n",
       "    }\n",
       "\n",
       "    .dataframe thead th {\n",
       "        text-align: right;\n",
       "    }\n",
       "</style>\n",
       "<table border=\"1\" class=\"dataframe\">\n",
       "  <thead>\n",
       "    <tr style=\"text-align: right;\">\n",
       "      <th></th>\n",
       "      <th>日期</th>\n",
       "      <th>公司</th>\n",
       "      <th>收盘</th>\n",
       "      <th>开盘</th>\n",
       "      <th>高</th>\n",
       "      <th>低</th>\n",
       "      <th>交易量</th>\n",
       "      <th>涨跌幅</th>\n",
       "    </tr>\n",
       "  </thead>\n",
       "  <tbody>\n",
       "    <tr>\n",
       "      <th>0</th>\n",
       "      <td>2019-10-03</td>\n",
       "      <td>BAIDU</td>\n",
       "      <td>104</td>\n",
       "      <td>102</td>\n",
       "      <td>104</td>\n",
       "      <td>101</td>\n",
       "      <td>2</td>\n",
       "      <td>0.02</td>\n",
       "    </tr>\n",
       "    <tr>\n",
       "      <th>1</th>\n",
       "      <td>2019-10-02</td>\n",
       "      <td>BAIDU</td>\n",
       "      <td>102</td>\n",
       "      <td>100</td>\n",
       "      <td>103</td>\n",
       "      <td>99</td>\n",
       "      <td>2</td>\n",
       "      <td>0.01</td>\n",
       "    </tr>\n",
       "    <tr>\n",
       "      <th>2</th>\n",
       "      <td>2019-10-01</td>\n",
       "      <td>BAIDU</td>\n",
       "      <td>102</td>\n",
       "      <td>102</td>\n",
       "      <td>103</td>\n",
       "      <td>101</td>\n",
       "      <td>1</td>\n",
       "      <td>-0.01</td>\n",
       "    </tr>\n",
       "  </tbody>\n",
       "</table>\n",
       "</div>"
      ],
      "text/plain": [
       "           日期     公司   收盘   开盘    高    低  交易量   涨跌幅\n",
       "0  2019-10-03  BAIDU  104  102  104  101    2  0.02\n",
       "1  2019-10-02  BAIDU  102  100  103   99    2  0.01\n",
       "2  2019-10-01  BAIDU  102  102  103  101    1 -0.01"
      ]
     },
     "execution_count": 201,
     "metadata": {},
     "output_type": "execute_result"
    }
   ],
   "source": [
    "# 修改原始数据-->直接赋值\n",
    "stocks.loc[:,[\"收盘\",\"开盘\",\"高\",\"低\",\"交易量\"]]=sub_df.applymap(lambda x:int(x))\n",
    "stocks.head(3)"
   ]
  },
  {
   "cell_type": "markdown",
   "id": "b5bd086e",
   "metadata": {},
   "source": [
    "## 对每个分组应用apply函数\n",
    "###### GroupBy.apply(function)\n",
    "###### function 的第一个参数必须是DataFrame\n",
    "###### function的返回结果，可以是DataFrame；series；单个值 甚至可以和DataFrame没关系"
   ]
  },
  {
   "cell_type": "markdown",
   "id": "95d8511c",
   "metadata": {},
   "source": [
    "### 实例1，怎么对数据进行归一化\n",
    "###### 归一化就是将不同范围的数据映射到0-1之间\n",
    "归一化更容易进行数据的横向对比，在机器学习时可以用拥有更好的性能"
   ]
  },
  {
   "cell_type": "markdown",
   "id": "d1281211",
   "metadata": {},
   "source": [
    "### 演示：对用户对电影的评分做归一化\n",
    "有些乐观派评分偏高，悲观派评分偏低，通过归一化可以得知这个分数对他来说是高分还是低分"
   ]
  },
  {
   "cell_type": "code",
   "execution_count": 202,
   "id": "a8b0efab",
   "metadata": {},
   "outputs": [
    {
     "data": {
      "text/html": [
       "<div>\n",
       "<style scoped>\n",
       "    .dataframe tbody tr th:only-of-type {\n",
       "        vertical-align: middle;\n",
       "    }\n",
       "\n",
       "    .dataframe tbody tr th {\n",
       "        vertical-align: top;\n",
       "    }\n",
       "\n",
       "    .dataframe thead th {\n",
       "        text-align: right;\n",
       "    }\n",
       "</style>\n",
       "<table border=\"1\" class=\"dataframe\">\n",
       "  <thead>\n",
       "    <tr style=\"text-align: right;\">\n",
       "      <th></th>\n",
       "      <th>用户ID</th>\n",
       "      <th>电影ID</th>\n",
       "      <th>评分</th>\n",
       "      <th>时间戳</th>\n",
       "    </tr>\n",
       "  </thead>\n",
       "  <tbody>\n",
       "    <tr>\n",
       "      <th>0</th>\n",
       "      <td>1</td>\n",
       "      <td>1193</td>\n",
       "      <td>5</td>\n",
       "      <td>978300760</td>\n",
       "    </tr>\n",
       "    <tr>\n",
       "      <th>1</th>\n",
       "      <td>1</td>\n",
       "      <td>661</td>\n",
       "      <td>3</td>\n",
       "      <td>978302109</td>\n",
       "    </tr>\n",
       "    <tr>\n",
       "      <th>2</th>\n",
       "      <td>1</td>\n",
       "      <td>914</td>\n",
       "      <td>3</td>\n",
       "      <td>978301968</td>\n",
       "    </tr>\n",
       "  </tbody>\n",
       "</table>\n",
       "</div>"
      ],
      "text/plain": [
       "   用户ID  电影ID  评分        时间戳\n",
       "0     1  1193   5  978300760\n",
       "1     1   661   3  978302109\n",
       "2     1   914   3  978301968"
      ]
     },
     "execution_count": 202,
     "metadata": {},
     "output_type": "execute_result"
    }
   ],
   "source": [
    "rat=pd.read_csv(   #导入数据\n",
    "    \"D:\\\\编程项目\\\\python项目\\\\bigdata\\\\data\\\\movie_data\\\\ratings.dat\"\n",
    "    ,sep=\"::\"\n",
    "    ,engine=\"python\"\n",
    "    ,names=['用户ID','电影ID','评分','时间戳']\n",
    ")\n",
    "rat.head(3)"
   ]
  },
  {
   "cell_type": "code",
   "execution_count": 203,
   "id": "5c4339fe",
   "metadata": {
    "scrolled": true
   },
   "outputs": [
    {
     "data": {
      "text/html": [
       "<div>\n",
       "<style scoped>\n",
       "    .dataframe tbody tr th:only-of-type {\n",
       "        vertical-align: middle;\n",
       "    }\n",
       "\n",
       "    .dataframe tbody tr th {\n",
       "        vertical-align: top;\n",
       "    }\n",
       "\n",
       "    .dataframe thead th {\n",
       "        text-align: right;\n",
       "    }\n",
       "</style>\n",
       "<table border=\"1\" class=\"dataframe\">\n",
       "  <thead>\n",
       "    <tr style=\"text-align: right;\">\n",
       "      <th></th>\n",
       "      <th>用户ID</th>\n",
       "      <th>电影ID</th>\n",
       "      <th>评分</th>\n",
       "      <th>时间戳</th>\n",
       "      <th>归一化评分</th>\n",
       "    </tr>\n",
       "  </thead>\n",
       "  <tbody>\n",
       "    <tr>\n",
       "      <th>0</th>\n",
       "      <td>1</td>\n",
       "      <td>1193</td>\n",
       "      <td>5</td>\n",
       "      <td>978300760</td>\n",
       "      <td>1.0</td>\n",
       "    </tr>\n",
       "    <tr>\n",
       "      <th>1</th>\n",
       "      <td>1</td>\n",
       "      <td>661</td>\n",
       "      <td>3</td>\n",
       "      <td>978302109</td>\n",
       "      <td>0.0</td>\n",
       "    </tr>\n",
       "    <tr>\n",
       "      <th>2</th>\n",
       "      <td>1</td>\n",
       "      <td>914</td>\n",
       "      <td>3</td>\n",
       "      <td>978301968</td>\n",
       "      <td>0.0</td>\n",
       "    </tr>\n",
       "    <tr>\n",
       "      <th>3</th>\n",
       "      <td>1</td>\n",
       "      <td>3408</td>\n",
       "      <td>4</td>\n",
       "      <td>978300275</td>\n",
       "      <td>0.5</td>\n",
       "    </tr>\n",
       "    <tr>\n",
       "      <th>4</th>\n",
       "      <td>1</td>\n",
       "      <td>2355</td>\n",
       "      <td>5</td>\n",
       "      <td>978824291</td>\n",
       "      <td>1.0</td>\n",
       "    </tr>\n",
       "  </tbody>\n",
       "</table>\n",
       "</div>"
      ],
      "text/plain": [
       "   用户ID  电影ID  评分        时间戳  归一化评分\n",
       "0     1  1193   5  978300760    1.0\n",
       "1     1   661   3  978302109    0.0\n",
       "2     1   914   3  978301968    0.0\n",
       "3     1  3408   4  978300275    0.5\n",
       "4     1  2355   5  978824291    1.0"
      ]
     },
     "execution_count": 203,
     "metadata": {},
     "output_type": "execute_result"
    }
   ],
   "source": [
    "#实现按照用户ID分组，选取其一进行归一化\n",
    "def rat_norm(df):\n",
    "    #df:每个用户用来分组的DataFrame\n",
    "    min_val=df[\"评分\"].min()    #获取最小值与最大值\n",
    "    max_val=df[\"评分\"].max()\n",
    "    df[\"归一化评分\"]=df[\"评分\"].apply(\n",
    "        lambda x : (x - min_val)/(max_val - min_val)  #带入公式计算\n",
    "    )\n",
    "    return df\n",
    "rat=rat.groupby(\"用户ID\").apply(rat_norm)\n",
    "rat[rat[\"用户ID\"]==1].head()"
   ]
  },
  {
   "cell_type": "markdown",
   "id": "a5887c6d",
   "metadata": {},
   "source": [
    "id为1的用户，最高评分是5，最低是3，可见是一个乐观派"
   ]
  },
  {
   "cell_type": "markdown",
   "id": "f4203947",
   "metadata": {},
   "source": [
    "# Pandas的stack与pivot实现数据透视\n",
    "将列式数据变为二位交叉形式，便于后续的分析\n",
    "###### 参考至https://github.com/peiss/ant-learn-pandas/blob/master/20.%20Pandas%E7%9A%84stack%E5%92%8Cpivot%E5%AE%9E%E7%8E%B0%E6%95%B0%E6%8D%AE%E9%80%8F%E8%A7%86.ipynb"
   ]
  },
  {
   "cell_type": "markdown",
   "id": "9755fd34",
   "metadata": {},
   "source": [
    "## 1，通过统计得到多维度指标数据\n",
    "统计电影评分数据，得到每个月的每个分数被评分多少次"
   ]
  },
  {
   "cell_type": "code",
   "execution_count": 204,
   "id": "b20c8446",
   "metadata": {},
   "outputs": [
    {
     "data": {
      "text/html": [
       "<div>\n",
       "<style scoped>\n",
       "    .dataframe tbody tr th:only-of-type {\n",
       "        vertical-align: middle;\n",
       "    }\n",
       "\n",
       "    .dataframe tbody tr th {\n",
       "        vertical-align: top;\n",
       "    }\n",
       "\n",
       "    .dataframe thead th {\n",
       "        text-align: right;\n",
       "    }\n",
       "</style>\n",
       "<table border=\"1\" class=\"dataframe\">\n",
       "  <thead>\n",
       "    <tr style=\"text-align: right;\">\n",
       "      <th></th>\n",
       "      <th>用户ID</th>\n",
       "      <th>电影ID</th>\n",
       "      <th>评分</th>\n",
       "      <th>时间戳</th>\n",
       "    </tr>\n",
       "  </thead>\n",
       "  <tbody>\n",
       "    <tr>\n",
       "      <th>0</th>\n",
       "      <td>1</td>\n",
       "      <td>1193</td>\n",
       "      <td>5</td>\n",
       "      <td>978300760</td>\n",
       "    </tr>\n",
       "    <tr>\n",
       "      <th>1</th>\n",
       "      <td>1</td>\n",
       "      <td>661</td>\n",
       "      <td>3</td>\n",
       "      <td>978302109</td>\n",
       "    </tr>\n",
       "    <tr>\n",
       "      <th>2</th>\n",
       "      <td>1</td>\n",
       "      <td>914</td>\n",
       "      <td>3</td>\n",
       "      <td>978301968</td>\n",
       "    </tr>\n",
       "    <tr>\n",
       "      <th>3</th>\n",
       "      <td>1</td>\n",
       "      <td>3408</td>\n",
       "      <td>4</td>\n",
       "      <td>978300275</td>\n",
       "    </tr>\n",
       "    <tr>\n",
       "      <th>4</th>\n",
       "      <td>1</td>\n",
       "      <td>2355</td>\n",
       "      <td>5</td>\n",
       "      <td>978824291</td>\n",
       "    </tr>\n",
       "  </tbody>\n",
       "</table>\n",
       "</div>"
      ],
      "text/plain": [
       "   用户ID  电影ID  评分        时间戳\n",
       "0     1  1193   5  978300760\n",
       "1     1   661   3  978302109\n",
       "2     1   914   3  978301968\n",
       "3     1  3408   4  978300275\n",
       "4     1  2355   5  978824291"
      ]
     },
     "execution_count": 204,
     "metadata": {},
     "output_type": "execute_result"
    }
   ],
   "source": [
    "df=pd.read_csv(   #导入数据\n",
    "    \"D:\\\\编程项目\\\\python项目\\\\bigdata\\\\data\\\\movie_data\\\\ratings.dat\"\n",
    "    ,sep=\"::\"\n",
    "    ,engine=\"python\"\n",
    "    ,names=['用户ID','电影ID','评分','时间戳']\n",
    ")\n",
    "df.head()"
   ]
  },
  {
   "cell_type": "code",
   "execution_count": 205,
   "id": "e7f7c7f2",
   "metadata": {},
   "outputs": [
    {
     "data": {
      "text/html": [
       "<div>\n",
       "<style scoped>\n",
       "    .dataframe tbody tr th:only-of-type {\n",
       "        vertical-align: middle;\n",
       "    }\n",
       "\n",
       "    .dataframe tbody tr th {\n",
       "        vertical-align: top;\n",
       "    }\n",
       "\n",
       "    .dataframe thead th {\n",
       "        text-align: right;\n",
       "    }\n",
       "</style>\n",
       "<table border=\"1\" class=\"dataframe\">\n",
       "  <thead>\n",
       "    <tr style=\"text-align: right;\">\n",
       "      <th></th>\n",
       "      <th>用户ID</th>\n",
       "      <th>电影ID</th>\n",
       "      <th>评分</th>\n",
       "      <th>时间戳</th>\n",
       "      <th>日期</th>\n",
       "    </tr>\n",
       "  </thead>\n",
       "  <tbody>\n",
       "    <tr>\n",
       "      <th>0</th>\n",
       "      <td>1</td>\n",
       "      <td>1193</td>\n",
       "      <td>5</td>\n",
       "      <td>978300760</td>\n",
       "      <td>2000-12-31 22:12:40</td>\n",
       "    </tr>\n",
       "    <tr>\n",
       "      <th>1</th>\n",
       "      <td>1</td>\n",
       "      <td>661</td>\n",
       "      <td>3</td>\n",
       "      <td>978302109</td>\n",
       "      <td>2000-12-31 22:35:09</td>\n",
       "    </tr>\n",
       "    <tr>\n",
       "      <th>2</th>\n",
       "      <td>1</td>\n",
       "      <td>914</td>\n",
       "      <td>3</td>\n",
       "      <td>978301968</td>\n",
       "      <td>2000-12-31 22:32:48</td>\n",
       "    </tr>\n",
       "  </tbody>\n",
       "</table>\n",
       "</div>"
      ],
      "text/plain": [
       "   用户ID  电影ID  评分        时间戳                  日期\n",
       "0     1  1193   5  978300760 2000-12-31 22:12:40\n",
       "1     1   661   3  978302109 2000-12-31 22:35:09\n",
       "2     1   914   3  978301968 2000-12-31 22:32:48"
      ]
     },
     "execution_count": 205,
     "metadata": {},
     "output_type": "execute_result"
    }
   ],
   "source": [
    "#对日期进行处理\n",
    "df[\"日期\"]=pd.to_datetime(df[\"时间戳\"],unit=\"s\")  #unit=\"s\" 时间戳为秒的形式\n",
    "df.head(3)"
   ]
  },
  {
   "cell_type": "code",
   "execution_count": 206,
   "id": "8220d6d0",
   "metadata": {},
   "outputs": [
    {
     "data": {
      "text/plain": [
       "用户ID             int64\n",
       "电影ID             int64\n",
       "评分               int64\n",
       "时间戳              int64\n",
       "日期      datetime64[ns]\n",
       "dtype: object"
      ]
     },
     "execution_count": 206,
     "metadata": {},
     "output_type": "execute_result"
    }
   ],
   "source": [
    "df.dtypes"
   ]
  },
  {
   "cell_type": "code",
   "execution_count": 207,
   "id": "1fd8620c",
   "metadata": {},
   "outputs": [
    {
     "data": {
      "text/html": [
       "<div>\n",
       "<style scoped>\n",
       "    .dataframe tbody tr th:only-of-type {\n",
       "        vertical-align: middle;\n",
       "    }\n",
       "\n",
       "    .dataframe tbody tr th {\n",
       "        vertical-align: top;\n",
       "    }\n",
       "\n",
       "    .dataframe thead th {\n",
       "        text-align: right;\n",
       "    }\n",
       "</style>\n",
       "<table border=\"1\" class=\"dataframe\">\n",
       "  <thead>\n",
       "    <tr style=\"text-align: right;\">\n",
       "      <th></th>\n",
       "      <th></th>\n",
       "      <th>pv</th>\n",
       "    </tr>\n",
       "    <tr>\n",
       "      <th>日期</th>\n",
       "      <th>评分</th>\n",
       "      <th></th>\n",
       "    </tr>\n",
       "  </thead>\n",
       "  <tbody>\n",
       "    <tr>\n",
       "      <th rowspan=\"5\" valign=\"top\">1</th>\n",
       "      <th>1</th>\n",
       "      <td>2613452</td>\n",
       "    </tr>\n",
       "    <tr>\n",
       "      <th>2</th>\n",
       "      <td>5294359</td>\n",
       "    </tr>\n",
       "    <tr>\n",
       "      <th>3</th>\n",
       "      <td>12273331</td>\n",
       "    </tr>\n",
       "    <tr>\n",
       "      <th>4</th>\n",
       "      <td>16452340</td>\n",
       "    </tr>\n",
       "    <tr>\n",
       "      <th>5</th>\n",
       "      <td>9580889</td>\n",
       "    </tr>\n",
       "    <tr>\n",
       "      <th rowspan=\"5\" valign=\"top\">2</th>\n",
       "      <th>1</th>\n",
       "      <td>1608795</td>\n",
       "    </tr>\n",
       "    <tr>\n",
       "      <th>2</th>\n",
       "      <td>3747792</td>\n",
       "    </tr>\n",
       "    <tr>\n",
       "      <th>3</th>\n",
       "      <td>8608216</td>\n",
       "    </tr>\n",
       "    <tr>\n",
       "      <th>4</th>\n",
       "      <td>10941690</td>\n",
       "    </tr>\n",
       "    <tr>\n",
       "      <th>5</th>\n",
       "      <td>5819374</td>\n",
       "    </tr>\n",
       "    <tr>\n",
       "      <th rowspan=\"5\" valign=\"top\">3</th>\n",
       "      <th>1</th>\n",
       "      <td>1344378</td>\n",
       "    </tr>\n",
       "    <tr>\n",
       "      <th>2</th>\n",
       "      <td>2772172</td>\n",
       "    </tr>\n",
       "    <tr>\n",
       "      <th>3</th>\n",
       "      <td>6156512</td>\n",
       "    </tr>\n",
       "    <tr>\n",
       "      <th>4</th>\n",
       "      <td>6911661</td>\n",
       "    </tr>\n",
       "    <tr>\n",
       "      <th>5</th>\n",
       "      <td>3228406</td>\n",
       "    </tr>\n",
       "  </tbody>\n",
       "</table>\n",
       "</div>"
      ],
      "text/plain": [
       "             pv\n",
       "日期 评分          \n",
       "1  1    2613452\n",
       "   2    5294359\n",
       "   3   12273331\n",
       "   4   16452340\n",
       "   5    9580889\n",
       "2  1    1608795\n",
       "   2    3747792\n",
       "   3    8608216\n",
       "   4   10941690\n",
       "   5    5819374\n",
       "3  1    1344378\n",
       "   2    2772172\n",
       "   3    6156512\n",
       "   4    6911661\n",
       "   5    3228406"
      ]
     },
     "execution_count": 207,
     "metadata": {},
     "output_type": "execute_result"
    }
   ],
   "source": [
    "#实现数据统计\n",
    "df_group = df.groupby([df[\"日期\"].dt.month,\"评分\"])[\"用户ID\"].agg(pv=np.sum)\n",
    "df_group.head(15)"
   ]
  },
  {
   "cell_type": "markdown",
   "id": "da0bc8b7",
   "metadata": {},
   "source": [
    "## 2，使用unstack实现二维透视\n",
    "画图对比每个月份不同评分的数量趋势"
   ]
  },
  {
   "cell_type": "code",
   "execution_count": 208,
   "id": "54f7ca16",
   "metadata": {},
   "outputs": [
    {
     "data": {
      "text/html": [
       "<div>\n",
       "<style scoped>\n",
       "    .dataframe tbody tr th:only-of-type {\n",
       "        vertical-align: middle;\n",
       "    }\n",
       "\n",
       "    .dataframe tbody tr th {\n",
       "        vertical-align: top;\n",
       "    }\n",
       "\n",
       "    .dataframe thead tr th {\n",
       "        text-align: left;\n",
       "    }\n",
       "\n",
       "    .dataframe thead tr:last-of-type th {\n",
       "        text-align: right;\n",
       "    }\n",
       "</style>\n",
       "<table border=\"1\" class=\"dataframe\">\n",
       "  <thead>\n",
       "    <tr>\n",
       "      <th></th>\n",
       "      <th colspan=\"5\" halign=\"left\">pv</th>\n",
       "    </tr>\n",
       "    <tr>\n",
       "      <th>评分</th>\n",
       "      <th>1</th>\n",
       "      <th>2</th>\n",
       "      <th>3</th>\n",
       "      <th>4</th>\n",
       "      <th>5</th>\n",
       "    </tr>\n",
       "    <tr>\n",
       "      <th>日期</th>\n",
       "      <th></th>\n",
       "      <th></th>\n",
       "      <th></th>\n",
       "      <th></th>\n",
       "      <th></th>\n",
       "    </tr>\n",
       "  </thead>\n",
       "  <tbody>\n",
       "    <tr>\n",
       "      <th>1</th>\n",
       "      <td>2613452</td>\n",
       "      <td>5294359</td>\n",
       "      <td>12273331</td>\n",
       "      <td>16452340</td>\n",
       "      <td>9580889</td>\n",
       "    </tr>\n",
       "    <tr>\n",
       "      <th>2</th>\n",
       "      <td>1608795</td>\n",
       "      <td>3747792</td>\n",
       "      <td>8608216</td>\n",
       "      <td>10941690</td>\n",
       "      <td>5819374</td>\n",
       "    </tr>\n",
       "    <tr>\n",
       "      <th>3</th>\n",
       "      <td>1344378</td>\n",
       "      <td>2772172</td>\n",
       "      <td>6156512</td>\n",
       "      <td>6911661</td>\n",
       "      <td>3228406</td>\n",
       "    </tr>\n",
       "    <tr>\n",
       "      <th>4</th>\n",
       "      <td>4397883</td>\n",
       "      <td>10147641</td>\n",
       "      <td>25330546</td>\n",
       "      <td>30406281</td>\n",
       "      <td>18070625</td>\n",
       "    </tr>\n",
       "    <tr>\n",
       "      <th>5</th>\n",
       "      <td>24893943</td>\n",
       "      <td>41021601</td>\n",
       "      <td>99671422</td>\n",
       "      <td>138699142</td>\n",
       "      <td>98385825</td>\n",
       "    </tr>\n",
       "    <tr>\n",
       "      <th>6</th>\n",
       "      <td>15896973</td>\n",
       "      <td>31940801</td>\n",
       "      <td>75297592</td>\n",
       "      <td>109067096</td>\n",
       "      <td>72816021</td>\n",
       "    </tr>\n",
       "    <tr>\n",
       "      <th>7</th>\n",
       "      <td>22506252</td>\n",
       "      <td>44079974</td>\n",
       "      <td>118016191</td>\n",
       "      <td>163188814</td>\n",
       "      <td>104777329</td>\n",
       "    </tr>\n",
       "    <tr>\n",
       "      <th>8</th>\n",
       "      <td>42290096</td>\n",
       "      <td>80215303</td>\n",
       "      <td>196812819</td>\n",
       "      <td>250299153</td>\n",
       "      <td>165391463</td>\n",
       "    </tr>\n",
       "    <tr>\n",
       "      <th>9</th>\n",
       "      <td>10185866</td>\n",
       "      <td>19751997</td>\n",
       "      <td>49514561</td>\n",
       "      <td>66638484</td>\n",
       "      <td>43733790</td>\n",
       "    </tr>\n",
       "    <tr>\n",
       "      <th>10</th>\n",
       "      <td>6825621</td>\n",
       "      <td>14936083</td>\n",
       "      <td>37937741</td>\n",
       "      <td>49413212</td>\n",
       "      <td>31949765</td>\n",
       "    </tr>\n",
       "    <tr>\n",
       "      <th>11</th>\n",
       "      <td>29762500</td>\n",
       "      <td>55254306</td>\n",
       "      <td>133879416</td>\n",
       "      <td>181288004</td>\n",
       "      <td>118358977</td>\n",
       "    </tr>\n",
       "    <tr>\n",
       "      <th>12</th>\n",
       "      <td>5474475</td>\n",
       "      <td>11043533</td>\n",
       "      <td>25870578</td>\n",
       "      <td>33351106</td>\n",
       "      <td>19000303</td>\n",
       "    </tr>\n",
       "  </tbody>\n",
       "</table>\n",
       "</div>"
      ],
      "text/plain": [
       "          pv                                           \n",
       "评分         1         2          3          4          5\n",
       "日期                                                     \n",
       "1    2613452   5294359   12273331   16452340    9580889\n",
       "2    1608795   3747792    8608216   10941690    5819374\n",
       "3    1344378   2772172    6156512    6911661    3228406\n",
       "4    4397883  10147641   25330546   30406281   18070625\n",
       "5   24893943  41021601   99671422  138699142   98385825\n",
       "6   15896973  31940801   75297592  109067096   72816021\n",
       "7   22506252  44079974  118016191  163188814  104777329\n",
       "8   42290096  80215303  196812819  250299153  165391463\n",
       "9   10185866  19751997   49514561   66638484   43733790\n",
       "10   6825621  14936083   37937741   49413212   31949765\n",
       "11  29762500  55254306  133879416  181288004  118358977\n",
       "12   5474475  11043533   25870578   33351106   19000303"
      ]
     },
     "execution_count": 208,
     "metadata": {},
     "output_type": "execute_result"
    }
   ],
   "source": [
    "df_stack = df_group.unstack()\n",
    "df_stack"
   ]
  },
  {
   "cell_type": "code",
   "execution_count": 209,
   "id": "e86410b2",
   "metadata": {},
   "outputs": [
    {
     "data": {
      "text/plain": [
       "<AxesSubplot:xlabel='日期'>"
      ]
     },
     "execution_count": 209,
     "metadata": {},
     "output_type": "execute_result"
    },
    {
     "data": {
      "image/png": "[encoded data removed]",
      "text/plain": [
       "<Figure size 432x288 with 1 Axes>"
      ]
     },
     "metadata": {
      "needs_background": "light"
     },
     "output_type": "display_data"
    }
   ],
   "source": [
    "import matplotlib.pyplot as plt\n",
    "plt.rcParams['font.sans-serif'] = ['SimHei']  #更改一个有中文的字体\n",
    "plt.rcParams['axes.unicode_minus']=False  #解决符号不显示问题\n",
    "df_stack.plot()"
   ]
  },
  {
   "cell_type": "code",
   "execution_count": 210,
   "id": "e62696f5",
   "metadata": {},
   "outputs": [
    {
     "data": {
      "text/html": [
       "<div>\n",
       "<style scoped>\n",
       "    .dataframe tbody tr th:only-of-type {\n",
       "        vertical-align: middle;\n",
       "    }\n",
       "\n",
       "    .dataframe tbody tr th {\n",
       "        vertical-align: top;\n",
       "    }\n",
       "\n",
       "    .dataframe thead th {\n",
       "        text-align: right;\n",
       "    }\n",
       "</style>\n",
       "<table border=\"1\" class=\"dataframe\">\n",
       "  <thead>\n",
       "    <tr style=\"text-align: right;\">\n",
       "      <th></th>\n",
       "      <th></th>\n",
       "      <th>pv</th>\n",
       "    </tr>\n",
       "    <tr>\n",
       "      <th>日期</th>\n",
       "      <th>评分</th>\n",
       "      <th></th>\n",
       "    </tr>\n",
       "  </thead>\n",
       "  <tbody>\n",
       "    <tr>\n",
       "      <th rowspan=\"5\" valign=\"top\">1</th>\n",
       "      <th>1</th>\n",
       "      <td>2613452</td>\n",
       "    </tr>\n",
       "    <tr>\n",
       "      <th>2</th>\n",
       "      <td>5294359</td>\n",
       "    </tr>\n",
       "    <tr>\n",
       "      <th>3</th>\n",
       "      <td>12273331</td>\n",
       "    </tr>\n",
       "    <tr>\n",
       "      <th>4</th>\n",
       "      <td>16452340</td>\n",
       "    </tr>\n",
       "    <tr>\n",
       "      <th>5</th>\n",
       "      <td>9580889</td>\n",
       "    </tr>\n",
       "    <tr>\n",
       "      <th rowspan=\"5\" valign=\"top\">2</th>\n",
       "      <th>1</th>\n",
       "      <td>1608795</td>\n",
       "    </tr>\n",
       "    <tr>\n",
       "      <th>2</th>\n",
       "      <td>3747792</td>\n",
       "    </tr>\n",
       "    <tr>\n",
       "      <th>3</th>\n",
       "      <td>8608216</td>\n",
       "    </tr>\n",
       "    <tr>\n",
       "      <th>4</th>\n",
       "      <td>10941690</td>\n",
       "    </tr>\n",
       "    <tr>\n",
       "      <th>5</th>\n",
       "      <td>5819374</td>\n",
       "    </tr>\n",
       "  </tbody>\n",
       "</table>\n",
       "</div>"
      ],
      "text/plain": [
       "             pv\n",
       "日期 评分          \n",
       "1  1    2613452\n",
       "   2    5294359\n",
       "   3   12273331\n",
       "   4   16452340\n",
       "   5    9580889\n",
       "2  1    1608795\n",
       "   2    3747792\n",
       "   3    8608216\n",
       "   4   10941690\n",
       "   5    5819374"
      ]
     },
     "execution_count": 210,
     "metadata": {},
     "output_type": "execute_result"
    }
   ],
   "source": [
    "df_stack.stack().head(10)   #逆向操作还原unstack与stack互逆"
   ]
  },
  {
   "cell_type": "markdown",
   "id": "a48e252a",
   "metadata": {},
   "source": [
    "## 3，使用pivot简化透视数据"
   ]
  },
  {
   "cell_type": "code",
   "execution_count": 211,
   "id": "ceb00dd9",
   "metadata": {},
   "outputs": [
    {
     "data": {
      "text/html": [
       "<div>\n",
       "<style scoped>\n",
       "    .dataframe tbody tr th:only-of-type {\n",
       "        vertical-align: middle;\n",
       "    }\n",
       "\n",
       "    .dataframe tbody tr th {\n",
       "        vertical-align: top;\n",
       "    }\n",
       "\n",
       "    .dataframe thead th {\n",
       "        text-align: right;\n",
       "    }\n",
       "</style>\n",
       "<table border=\"1\" class=\"dataframe\">\n",
       "  <thead>\n",
       "    <tr style=\"text-align: right;\">\n",
       "      <th></th>\n",
       "      <th></th>\n",
       "      <th>pv</th>\n",
       "    </tr>\n",
       "    <tr>\n",
       "      <th>日期</th>\n",
       "      <th>评分</th>\n",
       "      <th></th>\n",
       "    </tr>\n",
       "  </thead>\n",
       "  <tbody>\n",
       "    <tr>\n",
       "      <th rowspan=\"5\" valign=\"top\">1</th>\n",
       "      <th>1</th>\n",
       "      <td>2613452</td>\n",
       "    </tr>\n",
       "    <tr>\n",
       "      <th>2</th>\n",
       "      <td>5294359</td>\n",
       "    </tr>\n",
       "    <tr>\n",
       "      <th>3</th>\n",
       "      <td>12273331</td>\n",
       "    </tr>\n",
       "    <tr>\n",
       "      <th>4</th>\n",
       "      <td>16452340</td>\n",
       "    </tr>\n",
       "    <tr>\n",
       "      <th>5</th>\n",
       "      <td>9580889</td>\n",
       "    </tr>\n",
       "    <tr>\n",
       "      <th rowspan=\"5\" valign=\"top\">2</th>\n",
       "      <th>1</th>\n",
       "      <td>1608795</td>\n",
       "    </tr>\n",
       "    <tr>\n",
       "      <th>2</th>\n",
       "      <td>3747792</td>\n",
       "    </tr>\n",
       "    <tr>\n",
       "      <th>3</th>\n",
       "      <td>8608216</td>\n",
       "    </tr>\n",
       "    <tr>\n",
       "      <th>4</th>\n",
       "      <td>10941690</td>\n",
       "    </tr>\n",
       "    <tr>\n",
       "      <th>5</th>\n",
       "      <td>5819374</td>\n",
       "    </tr>\n",
       "  </tbody>\n",
       "</table>\n",
       "</div>"
      ],
      "text/plain": [
       "             pv\n",
       "日期 评分          \n",
       "1  1    2613452\n",
       "   2    5294359\n",
       "   3   12273331\n",
       "   4   16452340\n",
       "   5    9580889\n",
       "2  1    1608795\n",
       "   2    3747792\n",
       "   3    8608216\n",
       "   4   10941690\n",
       "   5    5819374"
      ]
     },
     "execution_count": 211,
     "metadata": {},
     "output_type": "execute_result"
    }
   ],
   "source": [
    "df_group.head(10)"
   ]
  },
  {
   "cell_type": "code",
   "execution_count": 212,
   "id": "5a2e1031",
   "metadata": {},
   "outputs": [
    {
     "data": {
      "text/html": [
       "<div>\n",
       "<style scoped>\n",
       "    .dataframe tbody tr th:only-of-type {\n",
       "        vertical-align: middle;\n",
       "    }\n",
       "\n",
       "    .dataframe tbody tr th {\n",
       "        vertical-align: top;\n",
       "    }\n",
       "\n",
       "    .dataframe thead th {\n",
       "        text-align: right;\n",
       "    }\n",
       "</style>\n",
       "<table border=\"1\" class=\"dataframe\">\n",
       "  <thead>\n",
       "    <tr style=\"text-align: right;\">\n",
       "      <th></th>\n",
       "      <th>日期</th>\n",
       "      <th>评分</th>\n",
       "      <th>pv</th>\n",
       "    </tr>\n",
       "  </thead>\n",
       "  <tbody>\n",
       "    <tr>\n",
       "      <th>0</th>\n",
       "      <td>1</td>\n",
       "      <td>1</td>\n",
       "      <td>2613452</td>\n",
       "    </tr>\n",
       "    <tr>\n",
       "      <th>1</th>\n",
       "      <td>1</td>\n",
       "      <td>2</td>\n",
       "      <td>5294359</td>\n",
       "    </tr>\n",
       "    <tr>\n",
       "      <th>2</th>\n",
       "      <td>1</td>\n",
       "      <td>3</td>\n",
       "      <td>12273331</td>\n",
       "    </tr>\n",
       "    <tr>\n",
       "      <th>3</th>\n",
       "      <td>1</td>\n",
       "      <td>4</td>\n",
       "      <td>16452340</td>\n",
       "    </tr>\n",
       "    <tr>\n",
       "      <th>4</th>\n",
       "      <td>1</td>\n",
       "      <td>5</td>\n",
       "      <td>9580889</td>\n",
       "    </tr>\n",
       "    <tr>\n",
       "      <th>5</th>\n",
       "      <td>2</td>\n",
       "      <td>1</td>\n",
       "      <td>1608795</td>\n",
       "    </tr>\n",
       "    <tr>\n",
       "      <th>6</th>\n",
       "      <td>2</td>\n",
       "      <td>2</td>\n",
       "      <td>3747792</td>\n",
       "    </tr>\n",
       "    <tr>\n",
       "      <th>7</th>\n",
       "      <td>2</td>\n",
       "      <td>3</td>\n",
       "      <td>8608216</td>\n",
       "    </tr>\n",
       "    <tr>\n",
       "      <th>8</th>\n",
       "      <td>2</td>\n",
       "      <td>4</td>\n",
       "      <td>10941690</td>\n",
       "    </tr>\n",
       "    <tr>\n",
       "      <th>9</th>\n",
       "      <td>2</td>\n",
       "      <td>5</td>\n",
       "      <td>5819374</td>\n",
       "    </tr>\n",
       "  </tbody>\n",
       "</table>\n",
       "</div>"
      ],
      "text/plain": [
       "   日期  评分        pv\n",
       "0   1   1   2613452\n",
       "1   1   2   5294359\n",
       "2   1   3  12273331\n",
       "3   1   4  16452340\n",
       "4   1   5   9580889\n",
       "5   2   1   1608795\n",
       "6   2   2   3747792\n",
       "7   2   3   8608216\n",
       "8   2   4  10941690\n",
       "9   2   5   5819374"
      ]
     },
     "execution_count": 212,
     "metadata": {},
     "output_type": "execute_result"
    }
   ],
   "source": [
    "df_reset = df_group.reset_index()\n",
    "df_reset.head(10)"
   ]
  },
  {
   "cell_type": "code",
   "execution_count": 213,
   "id": "6c761983",
   "metadata": {},
   "outputs": [
    {
     "data": {
      "text/html": [
       "<div>\n",
       "<style scoped>\n",
       "    .dataframe tbody tr th:only-of-type {\n",
       "        vertical-align: middle;\n",
       "    }\n",
       "\n",
       "    .dataframe tbody tr th {\n",
       "        vertical-align: top;\n",
       "    }\n",
       "\n",
       "    .dataframe thead th {\n",
       "        text-align: right;\n",
       "    }\n",
       "</style>\n",
       "<table border=\"1\" class=\"dataframe\">\n",
       "  <thead>\n",
       "    <tr style=\"text-align: right;\">\n",
       "      <th>评分</th>\n",
       "      <th>1</th>\n",
       "      <th>2</th>\n",
       "      <th>3</th>\n",
       "      <th>4</th>\n",
       "      <th>5</th>\n",
       "    </tr>\n",
       "    <tr>\n",
       "      <th>日期</th>\n",
       "      <th></th>\n",
       "      <th></th>\n",
       "      <th></th>\n",
       "      <th></th>\n",
       "      <th></th>\n",
       "    </tr>\n",
       "  </thead>\n",
       "  <tbody>\n",
       "    <tr>\n",
       "      <th>1</th>\n",
       "      <td>2613452</td>\n",
       "      <td>5294359</td>\n",
       "      <td>12273331</td>\n",
       "      <td>16452340</td>\n",
       "      <td>9580889</td>\n",
       "    </tr>\n",
       "    <tr>\n",
       "      <th>2</th>\n",
       "      <td>1608795</td>\n",
       "      <td>3747792</td>\n",
       "      <td>8608216</td>\n",
       "      <td>10941690</td>\n",
       "      <td>5819374</td>\n",
       "    </tr>\n",
       "    <tr>\n",
       "      <th>3</th>\n",
       "      <td>1344378</td>\n",
       "      <td>2772172</td>\n",
       "      <td>6156512</td>\n",
       "      <td>6911661</td>\n",
       "      <td>3228406</td>\n",
       "    </tr>\n",
       "    <tr>\n",
       "      <th>4</th>\n",
       "      <td>4397883</td>\n",
       "      <td>10147641</td>\n",
       "      <td>25330546</td>\n",
       "      <td>30406281</td>\n",
       "      <td>18070625</td>\n",
       "    </tr>\n",
       "    <tr>\n",
       "      <th>5</th>\n",
       "      <td>24893943</td>\n",
       "      <td>41021601</td>\n",
       "      <td>99671422</td>\n",
       "      <td>138699142</td>\n",
       "      <td>98385825</td>\n",
       "    </tr>\n",
       "  </tbody>\n",
       "</table>\n",
       "</div>"
      ],
      "text/plain": [
       "评分         1         2         3          4         5\n",
       "日期                                                   \n",
       "1    2613452   5294359  12273331   16452340   9580889\n",
       "2    1608795   3747792   8608216   10941690   5819374\n",
       "3    1344378   2772172   6156512    6911661   3228406\n",
       "4    4397883  10147641  25330546   30406281  18070625\n",
       "5   24893943  41021601  99671422  138699142  98385825"
      ]
     },
     "execution_count": 213,
     "metadata": {},
     "output_type": "execute_result"
    }
   ],
   "source": [
    "df_pivot = df_reset.pivot(\"日期\",\"评分\",\"pv\")\n",
    "df_pivot.head()"
   ]
  },
  {
   "cell_type": "code",
   "execution_count": 214,
   "id": "9e677a21",
   "metadata": {},
   "outputs": [
    {
     "data": {
      "text/plain": [
       "<AxesSubplot:xlabel='日期'>"
      ]
     },
     "execution_count": 214,
     "metadata": {},
     "output_type": "execute_result"
    },
    {
     "data": {
      "image/png": "[encoded data removed]",
      "text/plain": [
       "<Figure size 432x288 with 1 Axes>"
      ]
     },
     "metadata": {
      "needs_background": "light"
     },
     "output_type": "display_data"
    }
   ],
   "source": [
    "df_pivot.plot()"
   ]
  },
  {
   "cell_type": "markdown",
   "id": "e29a0315",
   "metadata": {},
   "source": [
    "pivot相当于对DataFrame先使用set_index创建分成索引 然后再调用unstack"
   ]
  },
  {
   "cell_type": "code",
   "execution_count": null,
   "id": "d84d9bc3",
   "metadata": {},
   "outputs": [],
   "source": []
  },
  {
   "cell_type": "code",
   "execution_count": null,
   "id": "f1bb0d60",
   "metadata": {},
   "outputs": [],
   "source": []
  },
  {
   "cell_type": "code",
   "execution_count": null,
   "id": "155a8995",
   "metadata": {},
   "outputs": [],
   "source": []
  }
 ],
 "metadata": {
  "kernelspec": {
   "display_name": "Python 3",
   "language": "python",
   "name": "python3"
  },
  "language_info": {
   "codemirror_mode": {
    "name": "ipython",
    "version": 3
   },
   "file_extension": ".py",
   "mimetype": "text/x-python",
   "name": "python",
   "nbconvert_exporter": "python",
   "pygments_lexer": "ipython3",
   "version": "3.8.8"
  }
 },
 "nbformat": 4,
 "nbformat_minor": 5
}
