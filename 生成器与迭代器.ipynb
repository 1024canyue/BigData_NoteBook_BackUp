{
 "cells": [
  {
   "cell_type": "markdown",
   "id": "5e4afc3b",
   "metadata": {},
   "source": [
    "# 什么时迭代器\n",
    "### 迭代器是一个可以记住遍历的位置的对象\n",
    "### 基本方法\n",
    "- iter()  用于生成迭代器\n",
    "- next() 用于访问迭代器(从迭代器第一个元素开始向后访问，只能往后不能往前)\n",
    "### 原生的非键值对组合类型(列表、元组、字符串)都可通过iter()生成迭代器"
   ]
  },
  {
   "cell_type": "code",
   "execution_count": 1,
   "id": "f8fe796b",
   "metadata": {},
   "outputs": [],
   "source": [
    "list=[1,2,3,4,5]\n",
    "ddq=iter(list)"
   ]
  },
  {
   "cell_type": "markdown",
   "id": "416eec03",
   "metadata": {},
   "source": [
    "### 迭代器通过next访问"
   ]
  },
  {
   "cell_type": "code",
   "execution_count": 2,
   "id": "b9577779",
   "metadata": {},
   "outputs": [
    {
     "data": {
      "text/plain": [
       "1"
      ]
     },
     "execution_count": 2,
     "metadata": {},
     "output_type": "execute_result"
    }
   ],
   "source": [
    "next(ddq)"
   ]
  },
  {
   "cell_type": "code",
   "execution_count": 3,
   "id": "16073d4e",
   "metadata": {},
   "outputs": [
    {
     "data": {
      "text/plain": [
       "2"
      ]
     },
     "execution_count": 3,
     "metadata": {},
     "output_type": "execute_result"
    }
   ],
   "source": [
    "next(ddq)"
   ]
  },
  {
   "cell_type": "markdown",
   "id": "e550de9b",
   "metadata": {},
   "source": [
    "### 也可通过for循环遍历\n",
    "⚠迭代器会继续向后访问"
   ]
  },
  {
   "cell_type": "code",
   "execution_count": 4,
   "id": "ed9f48e9",
   "metadata": {},
   "outputs": [
    {
     "name": "stdout",
     "output_type": "stream",
     "text": [
      "3\n",
      "4\n",
      "5\n"
     ]
    }
   ],
   "source": [
    "for i in ddq:\n",
    "    print(i)"
   ]
  },
  {
   "cell_type": "markdown",
   "id": "18744a71",
   "metadata": {},
   "source": [
    "### 若迭代器已访问完，执行next会报错"
   ]
  },
  {
   "cell_type": "code",
   "execution_count": 5,
   "id": "3919387c",
   "metadata": {
    "scrolled": true
   },
   "outputs": [
    {
     "ename": "StopIteration",
     "evalue": "",
     "output_type": "error",
     "traceback": [
      "\u001b[1;31m---------------------------------------------------------------------------\u001b[0m",
      "\u001b[1;31mStopIteration\u001b[0m                             Traceback (most recent call last)",
      "\u001b[1;32m<ipython-input-5-ea2fdda97ed2>\u001b[0m in \u001b[0;36m<module>\u001b[1;34m\u001b[0m\n\u001b[1;32m----> 1\u001b[1;33m \u001b[0mnext\u001b[0m\u001b[1;33m(\u001b[0m\u001b[0mddq\u001b[0m\u001b[1;33m)\u001b[0m\u001b[1;33m\u001b[0m\u001b[1;33m\u001b[0m\u001b[0m\n\u001b[0m",
      "\u001b[1;31mStopIteration\u001b[0m: "
     ]
    }
   ],
   "source": [
    "next(ddq)"
   ]
  },
  {
   "cell_type": "code",
   "execution_count": 7,
   "id": "e07ad3dc",
   "metadata": {},
   "outputs": [],
   "source": [
    "for i in ddq:    #for循环遍历则不会，但没有东西可供遍历\n",
    "    print(\"看到我代表有遍历\")\n",
    "    print(i)"
   ]
  },
  {
   "cell_type": "markdown",
   "id": "3d606610",
   "metadata": {},
   "source": [
    "### 将一个类作为迭代器使用\n",
    "根据迭代器协议,需实现这两个方法__iter__() 与 __next__() \n",
    "- _ _iter_ _() \n",
    "- - 将被iter函数调用，返回一个迭代器\n",
    "- _ _next_ _()\n",
    "- - 将被next函数调用，用来访问迭代器"
   ]
  },
  {
   "cell_type": "code",
   "execution_count": 18,
   "id": "9375a3f8",
   "metadata": {},
   "outputs": [],
   "source": [
    "import random\n",
    "class Randomnum:\n",
    "    def __iter__(self):\n",
    "        self.rnum=0\n",
    "        return self\n",
    "    def __next__(self):\n",
    "        self.rnum=random.randint(0,10)\n",
    "        return self.rnum"
   ]
  },
  {
   "cell_type": "code",
   "execution_count": 19,
   "id": "116a3cca",
   "metadata": {},
   "outputs": [],
   "source": [
    "ddq=iter(Randomnum())   #实例化后传入iter函数"
   ]
  },
  {
   "cell_type": "code",
   "execution_count": 24,
   "id": "61e06d2e",
   "metadata": {},
   "outputs": [
    {
     "data": {
      "text/plain": [
       "4"
      ]
     },
     "execution_count": 24,
     "metadata": {},
     "output_type": "execute_result"
    }
   ],
   "source": [
    "next(ddq)   #每次迭代生成一个随机整数"
   ]
  },
  {
   "cell_type": "code",
   "execution_count": 25,
   "id": "178c1002",
   "metadata": {},
   "outputs": [
    {
     "data": {
      "text/plain": [
       "7"
      ]
     },
     "execution_count": 25,
     "metadata": {},
     "output_type": "execute_result"
    }
   ],
   "source": [
    "next(ddq)"
   ]
  },
  {
   "cell_type": "markdown",
   "id": "97497a8c",
   "metadata": {},
   "source": [
    "# 生成器\n",
    "一个带 yield语句的函数就是一个生成器(generator function/generator expression)，调用它会返回一个generator类型的对象，可以把它当作一个迭代器<br>\n",
    "与return返回并退出不同，每当遇到yield函数时会暂停操作，并保存当前运行的环境(变量以及其他)，返回值\n",
    "# 什么时候会用上生成器(generator)\n",
    "1. 当需要按需返回特定结果而不是一下子放回全部结果时\n",
    "1. 当我们需要先执行一部分任务，事后再执行一部分任务时\n",
    "### #生成器函数(generator function)"
   ]
  },
  {
   "cell_type": "code",
   "execution_count": 7,
   "id": "30a9b857",
   "metadata": {},
   "outputs": [],
   "source": [
    "def num():\n",
    "    print(\"执行了一次next\")\n",
    "    yield 1\n",
    "    print(\"执行了两次next\")\n",
    "    yield 2"
   ]
  },
  {
   "cell_type": "code",
   "execution_count": 8,
   "id": "ee196f6b",
   "metadata": {},
   "outputs": [
    {
     "data": {
      "text/plain": [
       "generator"
      ]
     },
     "execution_count": 8,
     "metadata": {},
     "output_type": "execute_result"
    }
   ],
   "source": [
    "n=num()\n",
    "type(n)"
   ]
  },
  {
   "cell_type": "code",
   "execution_count": 9,
   "id": "efd898f8",
   "metadata": {},
   "outputs": [
    {
     "name": "stdout",
     "output_type": "stream",
     "text": [
      "执行了一次next\n"
     ]
    },
    {
     "data": {
      "text/plain": [
       "1"
      ]
     },
     "execution_count": 9,
     "metadata": {},
     "output_type": "execute_result"
    }
   ],
   "source": [
    "next(n)"
   ]
  },
  {
   "cell_type": "code",
   "execution_count": 10,
   "id": "d40b572f",
   "metadata": {},
   "outputs": [
    {
     "name": "stdout",
     "output_type": "stream",
     "text": [
      "执行了两次next\n"
     ]
    },
    {
     "data": {
      "text/plain": [
       "2"
      ]
     },
     "execution_count": 10,
     "metadata": {},
     "output_type": "execute_result"
    }
   ],
   "source": [
    "next(n)"
   ]
  },
  {
   "cell_type": "markdown",
   "id": "66fb39c4",
   "metadata": {},
   "source": [
    "### 生成器表达式(generator expression)"
   ]
  },
  {
   "cell_type": "code",
   "execution_count": 13,
   "id": "4f841a47",
   "metadata": {},
   "outputs": [
    {
     "data": {
      "text/plain": [
       "generator"
      ]
     },
     "execution_count": 13,
     "metadata": {},
     "output_type": "execute_result"
    }
   ],
   "source": [
    "n=(x*x for x in range(-1,2))   #与[x*x for x in range(-1,2)]区别，这返回的是一个列表\n",
    "type(n)"
   ]
  },
  {
   "cell_type": "code",
   "execution_count": 14,
   "id": "3e01bf3d",
   "metadata": {},
   "outputs": [
    {
     "data": {
      "text/plain": [
       "1"
      ]
     },
     "execution_count": 14,
     "metadata": {},
     "output_type": "execute_result"
    }
   ],
   "source": [
    "next(n)"
   ]
  },
  {
   "cell_type": "code",
   "execution_count": 15,
   "id": "8966af6c",
   "metadata": {},
   "outputs": [
    {
     "data": {
      "text/plain": [
       "0"
      ]
     },
     "execution_count": 15,
     "metadata": {},
     "output_type": "execute_result"
    }
   ],
   "source": [
    "next(n)"
   ]
  },
  {
   "cell_type": "code",
   "execution_count": 16,
   "id": "85ff0584",
   "metadata": {},
   "outputs": [
    {
     "data": {
      "text/plain": [
       "1"
      ]
     },
     "execution_count": 16,
     "metadata": {},
     "output_type": "execute_result"
    }
   ],
   "source": [
    "next(n)"
   ]
  },
  {
   "cell_type": "code",
   "execution_count": null,
   "id": "868d20b7",
   "metadata": {},
   "outputs": [],
   "source": []
  },
  {
   "cell_type": "code",
   "execution_count": null,
   "id": "02f9a894",
   "metadata": {},
   "outputs": [],
   "source": []
  },
  {
   "cell_type": "code",
   "execution_count": null,
   "id": "85332f2c",
   "metadata": {},
   "outputs": [],
   "source": []
  }
 ],
 "metadata": {
  "kernelspec": {
   "display_name": "Python 3",
   "language": "python",
   "name": "python3"
  },
  "language_info": {
   "codemirror_mode": {
    "name": "ipython",
    "version": 3
   },
   "file_extension": ".py",
   "mimetype": "text/x-python",
   "name": "python",
   "nbconvert_exporter": "python",
   "pygments_lexer": "ipython3",
   "version": "3.8.8"
  }
 },
 "nbformat": 4,
 "nbformat_minor": 5
}
