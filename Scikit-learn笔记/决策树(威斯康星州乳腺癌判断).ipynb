{
 "cells": [
  {
   "cell_type": "code",
   "execution_count": 1,
   "id": "01124459",
   "metadata": {},
   "outputs": [],
   "source": [
    "import numpy as np   #导入常用包\n",
    "import pandas as pd"
   ]
  },
  {
   "cell_type": "code",
   "execution_count": 2,
   "id": "01d50332",
   "metadata": {
    "scrolled": false
   },
   "outputs": [],
   "source": [
    "data = pd.read_csv(\"../data/breast-cancer-wisconsin-data.csv\")  #读取本地数据\n",
    "#中文列名\n",
    "ch_name=[\"样本编码\",\"团块厚度\",\"细胞大小的均匀性\",\"细胞形状的均匀性\",\"边缘附着力\",\n",
    "         \"单层上皮细胞大小\",\"裸核\",\"乏味染色质\",\"正常和仁\",\"线粒体\",\"类别\"]\n",
    "data.columns = [x for x in ch_name]  #列名中文化"
   ]
  },
  {
   "cell_type": "code",
   "execution_count": 3,
   "id": "322be22c",
   "metadata": {},
   "outputs": [
    {
     "data": {
      "text/plain": [
       "样本编码         0\n",
       "团块厚度         0\n",
       "细胞大小的均匀性     0\n",
       "细胞形状的均匀性     0\n",
       "边缘附着力        0\n",
       "单层上皮细胞大小     0\n",
       "裸核          16\n",
       "乏味染色质        0\n",
       "正常和仁         0\n",
       "线粒体          0\n",
       "类别           0\n",
       "dtype: int64"
      ]
     },
     "execution_count": 3,
     "metadata": {},
     "output_type": "execute_result"
    }
   ],
   "source": [
    "(data[ch_name]==\"?\").sum()   #发现裸核中有异常数据"
   ]
  },
  {
   "cell_type": "code",
   "execution_count": 4,
   "id": "aa95d9f2",
   "metadata": {},
   "outputs": [
    {
     "data": {
      "text/plain": [
       "样本编码        0\n",
       "团块厚度        0\n",
       "细胞大小的均匀性    0\n",
       "细胞形状的均匀性    0\n",
       "边缘附着力       0\n",
       "单层上皮细胞大小    0\n",
       "裸核          0\n",
       "乏味染色质       0\n",
       "正常和仁        0\n",
       "线粒体         0\n",
       "类别          0\n",
       "dtype: int64"
      ]
     },
     "execution_count": 4,
     "metadata": {},
     "output_type": "execute_result"
    }
   ],
   "source": [
    "#数据清洗（删除异常数据）\n",
    "delindex = data[data[\"裸核\"]==\"?\"].index  #得到异常值所在行索引\n",
    "data.drop(delindex,inplace=True)   #删除，覆盖原数据\n",
    "(data[ch_name]==\"?\").sum()   #异常数据被删除"
   ]
  },
  {
   "cell_type": "code",
   "execution_count": 8,
   "id": "faed0532",
   "metadata": {},
   "outputs": [],
   "source": [
    "X = np.array(data[ch_name[1:10]])   #提取特征\n",
    "y = np.array(data[ch_name[10]])    #提取标签"
   ]
  },
  {
   "cell_type": "code",
   "execution_count": 9,
   "id": "c6e6ad4b",
   "metadata": {},
   "outputs": [],
   "source": [
    "from sklearn.model_selection import train_test_split  #拆分训练集与测试集\n",
    "Xtrain,Xtest,ytrain,ytest = train_test_split(X,y,test_size=0.2)  #2：8原则"
   ]
  },
  {
   "cell_type": "code",
   "execution_count": 10,
   "id": "cd661030",
   "metadata": {},
   "outputs": [],
   "source": [
    "from sklearn import tree\n",
    "clf = tree.DecisionTreeClassifier(criterion=\"entropy\",\n",
    "                                    random_state=66,     # 设置随机数种子\n",
    "                                    #splitter=\"random\"   #就不更随机了\n",
    "                                    ) # 控制决策树中的随机选项\n",
    "clf=clf.fit(Xtrain,ytrain)"
   ]
  },
  {
   "cell_type": "code",
   "execution_count": 11,
   "id": "8bbde060",
   "metadata": {},
   "outputs": [
    {
     "data": {
      "text/plain": [
       "0.9370545298411337"
      ]
     },
     "execution_count": 11,
     "metadata": {},
     "output_type": "execute_result"
    }
   ],
   "source": [
    "from sklearn.model_selection import cross_val_score  #交叉验证\n",
    "score=cross_val_score(clf,X,y   #交叉验证评分\n",
    "                ,cv=5     #分成五组(K=5)\n",
    "                ,scoring=\"accuracy\"     #判断准确度\n",
    "               ).mean()   #取平均值\n",
    "score"
   ]
  },
  {
   "cell_type": "code",
   "execution_count": 13,
   "id": "1d1fd560",
   "metadata": {},
   "outputs": [
    {
     "data": {
      "text/html": [
       "<div>\n",
       "<style scoped>\n",
       "    .dataframe tbody tr th:only-of-type {\n",
       "        vertical-align: middle;\n",
       "    }\n",
       "\n",
       "    .dataframe tbody tr th {\n",
       "        vertical-align: top;\n",
       "    }\n",
       "\n",
       "    .dataframe thead th {\n",
       "        text-align: right;\n",
       "    }\n",
       "</style>\n",
       "<table border=\"1\" class=\"dataframe\">\n",
       "  <thead>\n",
       "    <tr style=\"text-align: right;\">\n",
       "      <th></th>\n",
       "      <th>团块厚度</th>\n",
       "      <th>细胞大小的均匀性</th>\n",
       "      <th>细胞形状的均匀性</th>\n",
       "      <th>边缘附着力</th>\n",
       "      <th>单层上皮细胞大小</th>\n",
       "      <th>裸核</th>\n",
       "      <th>乏味染色质</th>\n",
       "      <th>正常和仁</th>\n",
       "      <th>线粒体</th>\n",
       "      <th>预测分类</th>\n",
       "      <th>实际分类</th>\n",
       "    </tr>\n",
       "  </thead>\n",
       "  <tbody>\n",
       "    <tr>\n",
       "      <th>0</th>\n",
       "      <td>1</td>\n",
       "      <td>1</td>\n",
       "      <td>3</td>\n",
       "      <td>1</td>\n",
       "      <td>2</td>\n",
       "      <td>1</td>\n",
       "      <td>1</td>\n",
       "      <td>1</td>\n",
       "      <td>1</td>\n",
       "      <td>良性</td>\n",
       "      <td>良性</td>\n",
       "    </tr>\n",
       "    <tr>\n",
       "      <th>1</th>\n",
       "      <td>5</td>\n",
       "      <td>3</td>\n",
       "      <td>6</td>\n",
       "      <td>1</td>\n",
       "      <td>2</td>\n",
       "      <td>1</td>\n",
       "      <td>1</td>\n",
       "      <td>1</td>\n",
       "      <td>1</td>\n",
       "      <td>良性</td>\n",
       "      <td>良性</td>\n",
       "    </tr>\n",
       "    <tr>\n",
       "      <th>2</th>\n",
       "      <td>1</td>\n",
       "      <td>1</td>\n",
       "      <td>1</td>\n",
       "      <td>1</td>\n",
       "      <td>2</td>\n",
       "      <td>1</td>\n",
       "      <td>3</td>\n",
       "      <td>1</td>\n",
       "      <td>1</td>\n",
       "      <td>良性</td>\n",
       "      <td>良性</td>\n",
       "    </tr>\n",
       "    <tr>\n",
       "      <th>3</th>\n",
       "      <td>1</td>\n",
       "      <td>1</td>\n",
       "      <td>1</td>\n",
       "      <td>1</td>\n",
       "      <td>2</td>\n",
       "      <td>1</td>\n",
       "      <td>3</td>\n",
       "      <td>1</td>\n",
       "      <td>1</td>\n",
       "      <td>良性</td>\n",
       "      <td>良性</td>\n",
       "    </tr>\n",
       "    <tr>\n",
       "      <th>4</th>\n",
       "      <td>4</td>\n",
       "      <td>1</td>\n",
       "      <td>2</td>\n",
       "      <td>1</td>\n",
       "      <td>2</td>\n",
       "      <td>1</td>\n",
       "      <td>2</td>\n",
       "      <td>1</td>\n",
       "      <td>1</td>\n",
       "      <td>良性</td>\n",
       "      <td>良性</td>\n",
       "    </tr>\n",
       "    <tr>\n",
       "      <th>...</th>\n",
       "      <td>...</td>\n",
       "      <td>...</td>\n",
       "      <td>...</td>\n",
       "      <td>...</td>\n",
       "      <td>...</td>\n",
       "      <td>...</td>\n",
       "      <td>...</td>\n",
       "      <td>...</td>\n",
       "      <td>...</td>\n",
       "      <td>...</td>\n",
       "      <td>...</td>\n",
       "    </tr>\n",
       "    <tr>\n",
       "      <th>132</th>\n",
       "      <td>9</td>\n",
       "      <td>5</td>\n",
       "      <td>5</td>\n",
       "      <td>2</td>\n",
       "      <td>2</td>\n",
       "      <td>2</td>\n",
       "      <td>5</td>\n",
       "      <td>1</td>\n",
       "      <td>1</td>\n",
       "      <td>恶性</td>\n",
       "      <td>恶性</td>\n",
       "    </tr>\n",
       "    <tr>\n",
       "      <th>133</th>\n",
       "      <td>4</td>\n",
       "      <td>1</td>\n",
       "      <td>1</td>\n",
       "      <td>1</td>\n",
       "      <td>3</td>\n",
       "      <td>1</td>\n",
       "      <td>2</td>\n",
       "      <td>2</td>\n",
       "      <td>1</td>\n",
       "      <td>良性</td>\n",
       "      <td>良性</td>\n",
       "    </tr>\n",
       "    <tr>\n",
       "      <th>134</th>\n",
       "      <td>1</td>\n",
       "      <td>1</td>\n",
       "      <td>1</td>\n",
       "      <td>1</td>\n",
       "      <td>2</td>\n",
       "      <td>1</td>\n",
       "      <td>1</td>\n",
       "      <td>1</td>\n",
       "      <td>1</td>\n",
       "      <td>良性</td>\n",
       "      <td>良性</td>\n",
       "    </tr>\n",
       "    <tr>\n",
       "      <th>135</th>\n",
       "      <td>4</td>\n",
       "      <td>1</td>\n",
       "      <td>1</td>\n",
       "      <td>1</td>\n",
       "      <td>2</td>\n",
       "      <td>1</td>\n",
       "      <td>2</td>\n",
       "      <td>1</td>\n",
       "      <td>1</td>\n",
       "      <td>良性</td>\n",
       "      <td>良性</td>\n",
       "    </tr>\n",
       "    <tr>\n",
       "      <th>136</th>\n",
       "      <td>3</td>\n",
       "      <td>1</td>\n",
       "      <td>1</td>\n",
       "      <td>1</td>\n",
       "      <td>2</td>\n",
       "      <td>1</td>\n",
       "      <td>2</td>\n",
       "      <td>1</td>\n",
       "      <td>1</td>\n",
       "      <td>良性</td>\n",
       "      <td>良性</td>\n",
       "    </tr>\n",
       "  </tbody>\n",
       "</table>\n",
       "<p>137 rows × 11 columns</p>\n",
       "</div>"
      ],
      "text/plain": [
       "    团块厚度 细胞大小的均匀性 细胞形状的均匀性 边缘附着力 单层上皮细胞大小 裸核 乏味染色质 正常和仁 线粒体 预测分类 实际分类\n",
       "0      1        1        3     1        2  1     1    1   1   良性   良性\n",
       "1      5        3        6     1        2  1     1    1   1   良性   良性\n",
       "2      1        1        1     1        2  1     3    1   1   良性   良性\n",
       "3      1        1        1     1        2  1     3    1   1   良性   良性\n",
       "4      4        1        2     1        2  1     2    1   1   良性   良性\n",
       "..   ...      ...      ...   ...      ... ..   ...  ...  ..  ...  ...\n",
       "132    9        5        5     2        2  2     5    1   1   恶性   恶性\n",
       "133    4        1        1     1        3  1     2    2   1   良性   良性\n",
       "134    1        1        1     1        2  1     1    1   1   良性   良性\n",
       "135    4        1        1     1        2  1     2    1   1   良性   良性\n",
       "136    3        1        1     1        2  1     2    1   1   良性   良性\n",
       "\n",
       "[137 rows x 11 columns]"
      ]
     },
     "execution_count": 13,
     "metadata": {},
     "output_type": "execute_result"
    }
   ],
   "source": [
    "'''测试集分类结果的整理与打印'''\n",
    "predict,test=[],[]\n",
    "class_names={2:\"良性\",4:\"恶性\"}\n",
    "\n",
    "for i in range(len(clf.predict(Xtest))):  #预测结果转文字\n",
    "    predict.append(class_names[clf.predict(Xtest)[i]])\n",
    "    \n",
    "for i in range(len(ytest)):     #实际结果转文字\n",
    "    test.append(class_names[ytest[i]])\n",
    "    \n",
    "pd.concat([pd.DataFrame(Xtest,columns=ch_name[1:10]),\n",
    "           pd.DataFrame(predict,columns=[\"预测分类\"]),\n",
    "           pd.DataFrame(test,columns=[\"实际分类\"])],\n",
    "           axis=1)"
   ]
  },
  {
   "cell_type": "code",
   "execution_count": null,
   "id": "8ef48781",
   "metadata": {},
   "outputs": [],
   "source": []
  }
 ],
 "metadata": {
  "kernelspec": {
   "display_name": "Python 3",
   "language": "python",
   "name": "python3"
  },
  "language_info": {
   "codemirror_mode": {
    "name": "ipython",
    "version": 3
   },
   "file_extension": ".py",
   "mimetype": "text/x-python",
   "name": "python",
   "nbconvert_exporter": "python",
   "pygments_lexer": "ipython3",
   "version": "3.8.8"
  }
 },
 "nbformat": 4,
 "nbformat_minor": 5
}
