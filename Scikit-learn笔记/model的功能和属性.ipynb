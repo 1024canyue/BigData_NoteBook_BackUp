{
 "cells": [
  {
   "cell_type": "code",
   "execution_count": 1,
   "id": "22897112",
   "metadata": {},
   "outputs": [],
   "source": [
    "from sklearn import datasets   #导入自带数据集\n",
    "from sklearn.model_selection import train_test_split #用来随机划分样本数据为训练集和测试集 #注意：fsklearn.cross_validation包已弃用\n",
    "from sklearn.linear_model import LinearRegression"
   ]
  },
  {
   "cell_type": "code",
   "execution_count": 2,
   "id": "7a9a99ef",
   "metadata": {},
   "outputs": [],
   "source": [
    "boston = datasets.load_boston()   #使用指定数据\n",
    "data_X=boston.data\n",
    "data_Y=boston.target\n",
    "X_train,X_test,Y_train,Y_test=train_test_split(data_X,data_Y,test_size=0.2)"
   ]
  },
  {
   "cell_type": "code",
   "execution_count": 3,
   "id": "89161e84",
   "metadata": {},
   "outputs": [],
   "source": [
    "model = LinearRegression()"
   ]
  },
  {
   "cell_type": "markdown",
   "id": "5e3d22ec",
   "metadata": {},
   "source": [
    "## model 的功能"
   ]
  },
  {
   "cell_type": "code",
   "execution_count": 4,
   "id": "e6b62eb9",
   "metadata": {},
   "outputs": [
    {
     "data": {
      "text/plain": [
       "LinearRegression()"
      ]
     },
     "execution_count": 4,
     "metadata": {},
     "output_type": "execute_result"
    }
   ],
   "source": [
    "# 拟合(训练)模型\n",
    "model.fit(X_train, Y_train)"
   ]
  },
  {
   "cell_type": "code",
   "execution_count": 8,
   "id": "8f688ad6",
   "metadata": {},
   "outputs": [
    {
     "data": {
      "text/plain": [
       "array([23.47028105, 29.59682117, 14.37344546,  5.02933846, 16.0785459 ,\n",
       "       28.54566448, 18.56184436, 33.39796625, 21.48273697, 24.38446013])"
      ]
     },
     "execution_count": 8,
     "metadata": {},
     "output_type": "execute_result"
    }
   ],
   "source": [
    "# 模型预测\n",
    "model.predict(X_test)[:10]"
   ]
  },
  {
   "cell_type": "code",
   "execution_count": 9,
   "id": "e048e505",
   "metadata": {},
   "outputs": [
    {
     "data": {
      "text/plain": [
       "{'copy_X': True,\n",
       " 'fit_intercept': True,\n",
       " 'n_jobs': None,\n",
       " 'normalize': False,\n",
       " 'positive': False}"
      ]
     },
     "execution_count": 9,
     "metadata": {},
     "output_type": "execute_result"
    }
   ],
   "source": [
    "# 获得这个模型定义时的参数\n",
    "model.get_params()"
   ]
  },
  {
   "cell_type": "code",
   "execution_count": 11,
   "id": "0c6d8fbc",
   "metadata": {},
   "outputs": [
    {
     "data": {
      "text/plain": [
       "0.7396138004448181"
      ]
     },
     "execution_count": 11,
     "metadata": {},
     "output_type": "execute_result"
    }
   ],
   "source": [
    "# 为模型进行打分\n",
    "model.score(data_X, data_Y)"
   ]
  },
  {
   "cell_type": "markdown",
   "id": "82850286",
   "metadata": {},
   "source": [
    "## model 的属性"
   ]
  },
  {
   "cell_type": "code",
   "execution_count": 14,
   "id": "36e48adf",
   "metadata": {},
   "outputs": [
    {
     "data": {
      "text/plain": [
       "array([-1.06955895e-01,  5.15547368e-02,  3.07728810e-02,  2.72952388e+00,\n",
       "       -1.49569172e+01,  3.91941539e+00, -1.01074563e-02, -1.53917832e+00,\n",
       "        3.15153206e-01, -1.38415707e-02, -9.53665605e-01,  8.99704288e-03,\n",
       "       -5.30790856e-01])"
      ]
     },
     "execution_count": 14,
     "metadata": {},
     "output_type": "execute_result"
    }
   ],
   "source": [
    "model.coef_  #输出权重weight"
   ]
  },
  {
   "cell_type": "code",
   "execution_count": 15,
   "id": "8fae1e99",
   "metadata": {},
   "outputs": [
    {
     "data": {
      "text/plain": [
       "35.78837779617518"
      ]
     },
     "execution_count": 15,
     "metadata": {},
     "output_type": "execute_result"
    }
   ],
   "source": [
    "model.intercept_   #输出偏置bias"
   ]
  },
  {
   "cell_type": "code",
   "execution_count": null,
   "id": "8477326f",
   "metadata": {},
   "outputs": [],
   "source": []
  }
 ],
 "metadata": {
  "kernelspec": {
   "display_name": "Python 3",
   "language": "python",
   "name": "python3"
  },
  "language_info": {
   "codemirror_mode": {
    "name": "ipython",
    "version": 3
   },
   "file_extension": ".py",
   "mimetype": "text/x-python",
   "name": "python",
   "nbconvert_exporter": "python",
   "pygments_lexer": "ipython3",
   "version": "3.8.8"
  }
 },
 "nbformat": 4,
 "nbformat_minor": 5
}
