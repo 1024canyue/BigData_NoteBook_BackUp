{
 "cells": [
  {
   "cell_type": "code",
   "execution_count": 25,
   "id": "bca25340",
   "metadata": {},
   "outputs": [],
   "source": [
    "from sklearn import datasets   #导入自带数据集\n",
    "from sklearn.model_selection import train_test_split #用来随机划分样本数据为训练集和测试集 #注意：fsklearn.cross_validation包已弃用\n",
    "from sklearn.linear_model import LinearRegression   #导入需要的算法（回归算法）"
   ]
  },
  {
   "cell_type": "code",
   "execution_count": 5,
   "id": "05cc8cc9",
   "metadata": {},
   "outputs": [],
   "source": [
    "boston = datasets.load_boston()   #使用指定数据\n",
    "#scikit-learn导入自带数据都是datasets.load_xxx(),生成相应数据都是datasets.make_xxxx()"
   ]
  },
  {
   "cell_type": "code",
   "execution_count": 16,
   "id": "8e55c398",
   "metadata": {},
   "outputs": [
    {
     "data": {
      "text/plain": [
       "array([[6.3200e-03, 1.8000e+01, 2.3100e+00, 0.0000e+00, 5.3800e-01,\n",
       "        6.5750e+00, 6.5200e+01, 4.0900e+00, 1.0000e+00, 2.9600e+02,\n",
       "        1.5300e+01, 3.9690e+02, 4.9800e+00],\n",
       "       [2.7310e-02, 0.0000e+00, 7.0700e+00, 0.0000e+00, 4.6900e-01,\n",
       "        6.4210e+00, 7.8900e+01, 4.9671e+00, 2.0000e+00, 2.4200e+02,\n",
       "        1.7800e+01, 3.9690e+02, 9.1400e+00]])"
      ]
     },
     "execution_count": 16,
     "metadata": {},
     "output_type": "execute_result"
    }
   ],
   "source": [
    "data_X=boston.data   #数据特征属性部分都在data里面\n",
    "data_X[:2]"
   ]
  },
  {
   "cell_type": "code",
   "execution_count": 13,
   "id": "68b933ca",
   "metadata": {},
   "outputs": [
    {
     "data": {
      "text/plain": [
       "array([24. , 21.6, 34.7, 33.4, 36.2, 28.7, 22.9, 27.1, 16.5, 18.9, 15. ,\n",
       "       18.9, 21.7, 20.4, 18.2, 19.9, 23.1, 17.5, 20.2, 18.2])"
      ]
     },
     "execution_count": 13,
     "metadata": {},
     "output_type": "execute_result"
    }
   ],
   "source": [
    "data_Y=boston.target   #数据类别部分都在target里面\n",
    "data_Y[:20]"
   ]
  },
  {
   "cell_type": "code",
   "execution_count": 29,
   "id": "5fc442b5",
   "metadata": {},
   "outputs": [],
   "source": [
    "#区分训练集与测试集，测试集比例为20%\n",
    "X_train,X_test,Y_train,Y_test=train_test_split(data_X,data_Y,test_size=0.2)"
   ]
  },
  {
   "cell_type": "code",
   "execution_count": 30,
   "id": "3a8dbda3",
   "metadata": {},
   "outputs": [],
   "source": [
    "model = LinearRegression()  #将指定算法定义成一个对象"
   ]
  },
  {
   "cell_type": "code",
   "execution_count": 31,
   "id": "af819711",
   "metadata": {},
   "outputs": [],
   "source": [
    "clf = model.fit(X_train,Y_train)    #传入训练，返回训练结果"
   ]
  },
  {
   "cell_type": "code",
   "execution_count": 34,
   "id": "777b9c9b",
   "metadata": {},
   "outputs": [
    {
     "data": {
      "text/plain": [
       "array([30.78972502, 15.53868183, 19.09603292, 25.59784681, 20.48340371,\n",
       "       19.82919304, 21.66718195, 34.78112957, 26.69554213, 24.86662988,\n",
       "       24.09211513, 22.26436515, 26.73671045, 20.27064665,  6.36432692,\n",
       "       23.16238499, 17.6278835 , 21.27186802, 21.85681602, 12.55957212])"
      ]
     },
     "execution_count": 34,
     "metadata": {},
     "output_type": "execute_result"
    }
   ],
   "source": [
    "clf.predict(X_test)[:20]  #将测试集传入，返回np.array结果"
   ]
  },
  {
   "cell_type": "code",
   "execution_count": 35,
   "id": "8bb87de9",
   "metadata": {},
   "outputs": [
    {
     "data": {
      "text/plain": [
       "0.627076782428176"
      ]
     },
     "execution_count": 35,
     "metadata": {},
     "output_type": "execute_result"
    }
   ],
   "source": [
    "clf.score(X_test,Y_test)  #传入测试集特征与类别，返回准确率（0-1）"
   ]
  },
  {
   "cell_type": "code",
   "execution_count": null,
   "id": "9bcd038b",
   "metadata": {},
   "outputs": [],
   "source": []
  }
 ],
 "metadata": {
  "kernelspec": {
   "display_name": "Python 3",
   "language": "python",
   "name": "python3"
  },
  "language_info": {
   "codemirror_mode": {
    "name": "ipython",
    "version": 3
   },
   "file_extension": ".py",
   "mimetype": "text/x-python",
   "name": "python",
   "nbconvert_exporter": "python",
   "pygments_lexer": "ipython3",
   "version": "3.8.8"
  }
 },
 "nbformat": 4,
 "nbformat_minor": 5
}
