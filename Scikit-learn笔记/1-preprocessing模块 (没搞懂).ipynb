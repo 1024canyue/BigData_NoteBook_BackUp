{
 "cells": [
  {
   "cell_type": "markdown",
   "id": "6a5a1a7a",
   "metadata": {},
   "source": [
    "# preprocessing模块  (没搞懂)\n",
    "##### preprocessing 是sklearn库的一个数据预处理模块，它提供了一些实用的数据预处理函数和预处理类\n",
    "* 官方文档：https://scikit-learn.org/stable/modules/preprocessing.html\n",
    "* 参考： https://blog.csdn.net/lizhen8285/article/details/82713828"
   ]
  },
  {
   "cell_type": "code",
   "execution_count": 9,
   "id": "68630443",
   "metadata": {},
   "outputs": [],
   "source": [
    "from sklearn import preprocessing\n",
    "import numpy as np"
   ]
  },
  {
   "cell_type": "code",
   "execution_count": 10,
   "id": "482a21c1",
   "metadata": {},
   "outputs": [],
   "source": [
    "data =np.array([[10,2.7,3.6],\n",
    "             [-100,5,-2],\n",
    "            [120,23,45]])"
   ]
  },
  {
   "cell_type": "code",
   "execution_count": 11,
   "id": "c8c93cd1",
   "metadata": {},
   "outputs": [
    {
     "data": {
      "text/plain": [
       "array([[  10. ,    2.7,    3.6],\n",
       "       [-100. ,    5. ,   -2. ],\n",
       "       [ 120. ,   23. ,   45. ]])"
      ]
     },
     "execution_count": 11,
     "metadata": {},
     "output_type": "execute_result"
    }
   ],
   "source": [
    "data"
   ]
  },
  {
   "cell_type": "markdown",
   "id": "57b012ba",
   "metadata": {},
   "source": [
    "## scale函数  （标准化数据）\n",
    "sp.scale(原始样本矩阵X, with_mean=True, with_std=True, copy=True)    \n",
    "均值移除样本矩阵（转为标准正态分布-均值为0，标准差为1，默认按列axis=0）"
   ]
  },
  {
   "cell_type": "code",
   "execution_count": 12,
   "id": "72457ddd",
   "metadata": {},
   "outputs": [
    {
     "data": {
      "text/plain": [
       "array([[ 0.        , -0.83001895, -0.56930778],\n",
       "       [-1.22474487, -0.57660608, -0.83646898],\n",
       "       [ 1.22474487,  1.40662503,  1.40577676]])"
      ]
     },
     "execution_count": 12,
     "metadata": {},
     "output_type": "execute_result"
    }
   ],
   "source": [
    "preprocessing.scale(data)"
   ]
  },
  {
   "cell_type": "markdown",
   "id": "e7d80c0f",
   "metadata": {},
   "source": [
    "官方文档：https://scikit-learn.org/stable/modules/generated/sklearn.preprocessing.scale.html"
   ]
  },
  {
   "cell_type": "markdown",
   "id": "61f1b8d9",
   "metadata": {},
   "source": [
    "## minmax_scale函数(缩放范围)\n",
    "sp.minmax_scale(X,feature_range=(0, 1), axis=0, copy=True)    \n",
    "将数据在缩放在固定区间，默认缩放到区间 [0, 1]"
   ]
  },
  {
   "cell_type": "code",
   "execution_count": 13,
   "id": "a409f781",
   "metadata": {},
   "outputs": [
    {
     "data": {
      "text/plain": [
       "array([[0.5       , 0.        , 0.11914894],\n",
       "       [0.        , 0.11330049, 0.        ],\n",
       "       [1.        , 1.        , 1.        ]])"
      ]
     },
     "execution_count": 13,
     "metadata": {},
     "output_type": "execute_result"
    }
   ],
   "source": [
    "preprocessing.minmax_scale(data)"
   ]
  },
  {
   "cell_type": "markdown",
   "id": "9b9c8873",
   "metadata": {},
   "source": [
    "## maxabs_scale函数（针对稀疏矩阵）\n",
    "sp.maxabs_scale(X,axis=0, copy=True)        \n",
    "数据的缩放比例为绝对值最大值，并保留正负号，即在区间 [-1.0, 1.0] 内。\n",
    "* 唯一可用于稀疏数据 scipy.sparse的标准化 *"
   ]
  },
  {
   "cell_type": "code",
   "execution_count": 14,
   "id": "aa734639",
   "metadata": {},
   "outputs": [
    {
     "data": {
      "text/plain": [
       "array([[ 0.08333333,  0.1173913 ,  0.08      ],\n",
       "       [-0.83333333,  0.2173913 , -0.04444444],\n",
       "       [ 1.        ,  1.        ,  1.        ]])"
      ]
     },
     "execution_count": 14,
     "metadata": {},
     "output_type": "execute_result"
    }
   ],
   "source": [
    "preprocessing.maxabs_scale(data)"
   ]
  },
  {
   "cell_type": "markdown",
   "id": "aacf1521",
   "metadata": {},
   "source": [
    "## robust_scale函数（针对异常值）\n",
    "sp.robust_scale(X,axis=0, with_centering=True, with_scaling=True,copy=True)\n",
    "通过 Interquartile Range (IQR) 标准化数据，即四分之一和四分之三分位点之间"
   ]
  },
  {
   "cell_type": "code",
   "execution_count": 15,
   "id": "c86fb7ec",
   "metadata": {},
   "outputs": [
    {
     "data": {
      "text/plain": [
       "array([[ 0.        , -0.22660099,  0.        ],\n",
       "       [-1.        ,  0.        , -0.23829787],\n",
       "       [ 1.        ,  1.77339901,  1.76170213]])"
      ]
     },
     "execution_count": 15,
     "metadata": {},
     "output_type": "execute_result"
    }
   ],
   "source": [
    "preprocessing.robust_scale(data)"
   ]
  },
  {
   "cell_type": "code",
   "execution_count": null,
   "id": "f1cce14d",
   "metadata": {},
   "outputs": [],
   "source": []
  }
 ],
 "metadata": {
  "kernelspec": {
   "display_name": "Python 3",
   "language": "python",
   "name": "python3"
  },
  "language_info": {
   "codemirror_mode": {
    "name": "ipython",
    "version": 3
   },
   "file_extension": ".py",
   "mimetype": "text/x-python",
   "name": "python",
   "nbconvert_exporter": "python",
   "pygments_lexer": "ipython3",
   "version": "3.8.8"
  }
 },
 "nbformat": 4,
 "nbformat_minor": 5
}
