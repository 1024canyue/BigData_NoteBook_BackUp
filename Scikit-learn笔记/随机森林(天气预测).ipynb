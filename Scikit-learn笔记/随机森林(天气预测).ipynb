{
 "cells": [
  {
   "cell_type": "markdown",
   "id": "fd1004e0",
   "metadata": {},
   "source": [
    "# 通过大数据和人工智能预测今天气温"
   ]
  },
  {
   "cell_type": "markdown",
   "id": "4fd23a32",
   "metadata": {},
   "source": [
    "## 分析数据与预处理"
   ]
  },
  {
   "cell_type": "code",
   "execution_count": 1,
   "id": "1a79eb0c",
   "metadata": {},
   "outputs": [
    {
     "data": {
      "text/html": [
       "<div>\n",
       "<style scoped>\n",
       "    .dataframe tbody tr th:only-of-type {\n",
       "        vertical-align: middle;\n",
       "    }\n",
       "\n",
       "    .dataframe tbody tr th {\n",
       "        vertical-align: top;\n",
       "    }\n",
       "\n",
       "    .dataframe thead th {\n",
       "        text-align: right;\n",
       "    }\n",
       "</style>\n",
       "<table border=\"1\" class=\"dataframe\">\n",
       "  <thead>\n",
       "    <tr style=\"text-align: right;\">\n",
       "      <th></th>\n",
       "      <th>年</th>\n",
       "      <th>月</th>\n",
       "      <th>日</th>\n",
       "      <th>时</th>\n",
       "      <th>气温</th>\n",
       "      <th>露点温度</th>\n",
       "      <th>海平面压力</th>\n",
       "      <th>风向</th>\n",
       "      <th>风速</th>\n",
       "      <th>天气条件覆盖代码</th>\n",
       "      <th>液体沉淀深度(一小时)</th>\n",
       "      <th>液体沉淀深度(六小时)</th>\n",
       "    </tr>\n",
       "  </thead>\n",
       "  <tbody>\n",
       "    <tr>\n",
       "      <th>0</th>\n",
       "      <td>2020</td>\n",
       "      <td>1</td>\n",
       "      <td>1</td>\n",
       "      <td>0</td>\n",
       "      <td>87</td>\n",
       "      <td>53</td>\n",
       "      <td>10328</td>\n",
       "      <td>340</td>\n",
       "      <td>20</td>\n",
       "      <td>1</td>\n",
       "      <td>-9999</td>\n",
       "      <td>0</td>\n",
       "    </tr>\n",
       "    <tr>\n",
       "      <th>1</th>\n",
       "      <td>2020</td>\n",
       "      <td>1</td>\n",
       "      <td>1</td>\n",
       "      <td>1</td>\n",
       "      <td>110</td>\n",
       "      <td>50</td>\n",
       "      <td>-9999</td>\n",
       "      <td>10</td>\n",
       "      <td>30</td>\n",
       "      <td>-9999</td>\n",
       "      <td>-9999</td>\n",
       "      <td>-9999</td>\n",
       "    </tr>\n",
       "    <tr>\n",
       "      <th>2</th>\n",
       "      <td>2020</td>\n",
       "      <td>1</td>\n",
       "      <td>1</td>\n",
       "      <td>2</td>\n",
       "      <td>120</td>\n",
       "      <td>60</td>\n",
       "      <td>-9999</td>\n",
       "      <td>360</td>\n",
       "      <td>30</td>\n",
       "      <td>-9999</td>\n",
       "      <td>-9999</td>\n",
       "      <td>-9999</td>\n",
       "    </tr>\n",
       "    <tr>\n",
       "      <th>3</th>\n",
       "      <td>2020</td>\n",
       "      <td>1</td>\n",
       "      <td>1</td>\n",
       "      <td>3</td>\n",
       "      <td>135</td>\n",
       "      <td>33</td>\n",
       "      <td>10323</td>\n",
       "      <td>47</td>\n",
       "      <td>12</td>\n",
       "      <td>4</td>\n",
       "      <td>-9999</td>\n",
       "      <td>-9999</td>\n",
       "    </tr>\n",
       "    <tr>\n",
       "      <th>4</th>\n",
       "      <td>2020</td>\n",
       "      <td>1</td>\n",
       "      <td>1</td>\n",
       "      <td>4</td>\n",
       "      <td>140</td>\n",
       "      <td>70</td>\n",
       "      <td>-9999</td>\n",
       "      <td>20</td>\n",
       "      <td>40</td>\n",
       "      <td>-9999</td>\n",
       "      <td>-9999</td>\n",
       "      <td>-9999</td>\n",
       "    </tr>\n",
       "  </tbody>\n",
       "</table>\n",
       "</div>"
      ],
      "text/plain": [
       "      年  月  日  时   气温  露点温度  海平面压力   风向  风速  天气条件覆盖代码  液体沉淀深度(一小时)  \\\n",
       "0  2020  1  1  0   87    53  10328  340  20         1        -9999   \n",
       "1  2020  1  1  1  110    50  -9999   10  30     -9999        -9999   \n",
       "2  2020  1  1  2  120    60  -9999  360  30     -9999        -9999   \n",
       "3  2020  1  1  3  135    33  10323   47  12         4        -9999   \n",
       "4  2020  1  1  4  140    70  -9999   20  40     -9999        -9999   \n",
       "\n",
       "   液体沉淀深度(六小时)  \n",
       "0            0  \n",
       "1        -9999  \n",
       "2        -9999  \n",
       "3        -9999  \n",
       "4        -9999  "
      ]
     },
     "execution_count": 1,
     "metadata": {},
     "output_type": "execute_result"
    }
   ],
   "source": [
    "import pandas as pd\n",
    "import numpy as np\n",
    "import matplotlib.pyplot as plt\n",
    "plt.rcParams['font.sans-serif'] = ['SimHei']  #更改一个有中文的字体\n",
    "plt.rcParams['axes.unicode_minus']=False  #解决符号不显示问题\n",
    "df = pd.read_csv(\"福州天气.csv\",sep=\"\\\\s+\")\n",
    "df.head()  #-9999是缺失值"
   ]
  },
  {
   "cell_type": "code",
   "execution_count": 2,
   "id": "e7c84d29",
   "metadata": {},
   "outputs": [
    {
     "data": {
      "text/html": [
       "<div>\n",
       "<style scoped>\n",
       "    .dataframe tbody tr th:only-of-type {\n",
       "        vertical-align: middle;\n",
       "    }\n",
       "\n",
       "    .dataframe tbody tr th {\n",
       "        vertical-align: top;\n",
       "    }\n",
       "\n",
       "    .dataframe thead th {\n",
       "        text-align: right;\n",
       "    }\n",
       "</style>\n",
       "<table border=\"1\" class=\"dataframe\">\n",
       "  <thead>\n",
       "    <tr style=\"text-align: right;\">\n",
       "      <th></th>\n",
       "      <th>月</th>\n",
       "      <th>日</th>\n",
       "      <th>时</th>\n",
       "      <th>气温</th>\n",
       "    </tr>\n",
       "  </thead>\n",
       "  <tbody>\n",
       "    <tr>\n",
       "      <th>0</th>\n",
       "      <td>1</td>\n",
       "      <td>1</td>\n",
       "      <td>0</td>\n",
       "      <td>87</td>\n",
       "    </tr>\n",
       "    <tr>\n",
       "      <th>1</th>\n",
       "      <td>1</td>\n",
       "      <td>1</td>\n",
       "      <td>1</td>\n",
       "      <td>110</td>\n",
       "    </tr>\n",
       "    <tr>\n",
       "      <th>2</th>\n",
       "      <td>1</td>\n",
       "      <td>1</td>\n",
       "      <td>2</td>\n",
       "      <td>120</td>\n",
       "    </tr>\n",
       "    <tr>\n",
       "      <th>3</th>\n",
       "      <td>1</td>\n",
       "      <td>1</td>\n",
       "      <td>3</td>\n",
       "      <td>135</td>\n",
       "    </tr>\n",
       "    <tr>\n",
       "      <th>4</th>\n",
       "      <td>1</td>\n",
       "      <td>1</td>\n",
       "      <td>4</td>\n",
       "      <td>140</td>\n",
       "    </tr>\n",
       "  </tbody>\n",
       "</table>\n",
       "</div>"
      ],
      "text/plain": [
       "   月  日  时   气温\n",
       "0  1  1  0   87\n",
       "1  1  1  1  110\n",
       "2  1  1  2  120\n",
       "3  1  1  3  135\n",
       "4  1  1  4  140"
      ]
     },
     "execution_count": 2,
     "metadata": {},
     "output_type": "execute_result"
    }
   ],
   "source": [
    "data=df[['月','日','时','气温']]\n",
    "data.head()  #我们只需要这些就行"
   ]
  },
  {
   "cell_type": "code",
   "execution_count": 3,
   "id": "0bbe4c6a",
   "metadata": {},
   "outputs": [
    {
     "data": {
      "text/plain": [
       "月     int64\n",
       "日     int64\n",
       "时     int64\n",
       "气温    int64\n",
       "dtype: object"
      ]
     },
     "execution_count": 3,
     "metadata": {},
     "output_type": "execute_result"
    }
   ],
   "source": [
    "data.dtypes"
   ]
  },
  {
   "cell_type": "code",
   "execution_count": 4,
   "id": "c68cc6a9",
   "metadata": {},
   "outputs": [
    {
     "data": {
      "text/plain": [
       "29"
      ]
     },
     "execution_count": 4,
     "metadata": {},
     "output_type": "execute_result"
    }
   ],
   "source": [
    "data[data[\"月\"]==2].max().日"
   ]
  },
  {
   "cell_type": "code",
   "execution_count": 5,
   "id": "cc0af0bd",
   "metadata": {},
   "outputs": [
    {
     "data": {
      "text/plain": [
       "月     0\n",
       "日     0\n",
       "时     0\n",
       "气温    0\n",
       "dtype: int64"
      ]
     },
     "execution_count": 5,
     "metadata": {},
     "output_type": "execute_result"
    }
   ],
   "source": [
    "data.isnull().sum()"
   ]
  },
  {
   "cell_type": "code",
   "execution_count": 6,
   "id": "0d40f789",
   "metadata": {
    "scrolled": true
   },
   "outputs": [
    {
     "data": {
      "text/plain": [
       "月     0.0\n",
       "日     0.0\n",
       "时     0.0\n",
       "气温    0.0\n",
       "dtype: float64"
      ]
     },
     "execution_count": 6,
     "metadata": {},
     "output_type": "execute_result"
    }
   ],
   "source": [
    "data[data==-9999].sum()   #居然没有缺失值，那最好"
   ]
  },
  {
   "cell_type": "code",
   "execution_count": 7,
   "id": "54fd584f",
   "metadata": {},
   "outputs": [],
   "source": [
    "weather = pd.DataFrame(columns=('月', '日', '最低温℃' , '最高温℃'))\n",
    "def get_max(x,month,day):   #获取最高温\n",
    "    return x[(x.月==m) & (x.日==d)].气温.max()/10  #原数据\n",
    "def get_min(x,month,day):    #获取最低温\n",
    "    return x[(x.月==m) & (x.日==d)].气温.min()/10\n",
    "\n",
    "for m in range(1,13):\n",
    "    d_max=int(data[data[\"月\"]==m].max().日)  #轻松得到每个月最大的日期\n",
    "    for d in range(1,d_max+1):\n",
    "        weather.loc[weather.index.size] = [m,d,get_min(data,month=m,day=d),get_max(data,month=m,day=d)]"
   ]
  },
  {
   "cell_type": "code",
   "execution_count": 8,
   "id": "a6a00c83",
   "metadata": {},
   "outputs": [
    {
     "data": {
      "text/plain": [
       "17.9"
      ]
     },
     "execution_count": 8,
     "metadata": {},
     "output_type": "execute_result"
    }
   ],
   "source": [
    "get_max(data,month=1,day=1)"
   ]
  },
  {
   "cell_type": "code",
   "execution_count": 9,
   "id": "3c2eb10f",
   "metadata": {},
   "outputs": [
    {
     "data": {
      "text/html": [
       "<div>\n",
       "<style scoped>\n",
       "    .dataframe tbody tr th:only-of-type {\n",
       "        vertical-align: middle;\n",
       "    }\n",
       "\n",
       "    .dataframe tbody tr th {\n",
       "        vertical-align: top;\n",
       "    }\n",
       "\n",
       "    .dataframe thead th {\n",
       "        text-align: right;\n",
       "    }\n",
       "</style>\n",
       "<table border=\"1\" class=\"dataframe\">\n",
       "  <thead>\n",
       "    <tr style=\"text-align: right;\">\n",
       "      <th></th>\n",
       "      <th>月</th>\n",
       "      <th>日</th>\n",
       "      <th>最低温℃</th>\n",
       "      <th>最高温℃</th>\n",
       "    </tr>\n",
       "  </thead>\n",
       "  <tbody>\n",
       "    <tr>\n",
       "      <th>0</th>\n",
       "      <td>1.0</td>\n",
       "      <td>1.0</td>\n",
       "      <td>8.5</td>\n",
       "      <td>21.0</td>\n",
       "    </tr>\n",
       "    <tr>\n",
       "      <th>1</th>\n",
       "      <td>1.0</td>\n",
       "      <td>2.0</td>\n",
       "      <td>9.9</td>\n",
       "      <td>25.1</td>\n",
       "    </tr>\n",
       "    <tr>\n",
       "      <th>2</th>\n",
       "      <td>1.0</td>\n",
       "      <td>3.0</td>\n",
       "      <td>11.4</td>\n",
       "      <td>22.2</td>\n",
       "    </tr>\n",
       "    <tr>\n",
       "      <th>3</th>\n",
       "      <td>1.0</td>\n",
       "      <td>4.0</td>\n",
       "      <td>12.7</td>\n",
       "      <td>23.4</td>\n",
       "    </tr>\n",
       "    <tr>\n",
       "      <th>4</th>\n",
       "      <td>1.0</td>\n",
       "      <td>5.0</td>\n",
       "      <td>10.0</td>\n",
       "      <td>23.0</td>\n",
       "    </tr>\n",
       "  </tbody>\n",
       "</table>\n",
       "</div>"
      ],
      "text/plain": [
       "     月    日  最低温℃  最高温℃\n",
       "0  1.0  1.0   8.5  21.0\n",
       "1  1.0  2.0   9.9  25.1\n",
       "2  1.0  3.0  11.4  22.2\n",
       "3  1.0  4.0  12.7  23.4\n",
       "4  1.0  5.0  10.0  23.0"
      ]
     },
     "execution_count": 9,
     "metadata": {},
     "output_type": "execute_result"
    }
   ],
   "source": [
    "weather.head()"
   ]
  },
  {
   "cell_type": "code",
   "execution_count": 10,
   "id": "161bba0d",
   "metadata": {},
   "outputs": [
    {
     "data": {
      "text/plain": [
       "RandomForestRegressor(n_estimators=500, n_jobs=-1)"
      ]
     },
     "execution_count": 10,
     "metadata": {},
     "output_type": "execute_result"
    }
   ],
   "source": [
    "# 先训练一个模型，让机器学习最低温与日期的关系\n",
    "X = weather.values[:,:2]   #日期\n",
    "Y = weather.values[:,2]    #最低温\n",
    "\n",
    "from sklearn.model_selection import train_test_split  #随机拆分数据集与测试集\n",
    "X_train,X_test,Y_train,Y_test = train_test_split(X,Y,test_size=0.2,random_state=66)  #二八原则\n",
    "\n",
    "#from sklearn.svm import SVR #支持向量机回归器  60%不行\n",
    "#svr_min = SVR()\n",
    "\n",
    "#from sklearn.tree import DecisionTreeRegressor  #决策树回归器  #也不行\n",
    "#reg_min = DecisionTreeRegressor()\n",
    "\n",
    "from sklearn.ensemble import RandomForestRegressor  #随机森林回归器  yyds\n",
    "reg_min = RandomForestRegressor(n_estimators=500,n_jobs=-1)   #500棵树，用上电脑全部算力\n",
    "\n",
    "reg_min.fit(X_test,Y_test)"
   ]
  },
  {
   "cell_type": "code",
   "execution_count": 11,
   "id": "a6870c79",
   "metadata": {},
   "outputs": [
    {
     "data": {
      "text/plain": [
       "0.98805504980663"
      ]
     },
     "execution_count": 11,
     "metadata": {},
     "output_type": "execute_result"
    }
   ],
   "source": [
    "reg_min.score(X_test,Y_test)"
   ]
  },
  {
   "cell_type": "code",
   "execution_count": 12,
   "id": "9fbae631",
   "metadata": {},
   "outputs": [
    {
     "data": {
      "text/plain": [
       "RandomForestRegressor(n_estimators=500, n_jobs=-1)"
      ]
     },
     "execution_count": 12,
     "metadata": {},
     "output_type": "execute_result"
    }
   ],
   "source": [
    "# 如法炮制，让机器学习最高温与日期的关系\n",
    "X = weather.values[:,:2]   #日期\n",
    "Y = weather.values[:,3]    #最低温\n",
    "\n",
    "from sklearn.model_selection import train_test_split  #随机拆分数据集与测试集\n",
    "X_train,X_test,Y_train,Y_test = train_test_split(X,Y,test_size=0.2,random_state=66)  #二八原则\n",
    "\n",
    "from sklearn.ensemble import RandomForestRegressor  #随机森林回归器  yyds\n",
    "reg_max = RandomForestRegressor(n_estimators=500,n_jobs=-1)   #500棵树，用上电脑全部算力\n",
    "\n",
    "reg_max.fit(X_test,Y_test)"
   ]
  },
  {
   "cell_type": "code",
   "execution_count": 13,
   "id": "c02309ba",
   "metadata": {},
   "outputs": [
    {
     "data": {
      "text/plain": [
       "0.9746338220261244"
      ]
     },
     "execution_count": 13,
     "metadata": {},
     "output_type": "execute_result"
    }
   ],
   "source": [
    "reg_max.score(X_test,Y_test)"
   ]
  },
  {
   "cell_type": "code",
   "execution_count": 18,
   "id": "a466b0f5",
   "metadata": {},
   "outputs": [
    {
     "name": "stdout",
     "output_type": "stream",
     "text": [
      "预计今天最高温:36.44℃,最低温25.16℃\n"
     ]
    }
   ],
   "source": [
    "import time\n",
    "m = time.localtime(time.time()).tm_mon\n",
    "d = time.localtime(time.time()).tm_mday\n",
    "print(\"预计今天最高温:{:.2f}℃,最低温{:.2f}℃\".format(reg_max.predict([[m,d]])[0],reg_min.predict([[m,d]])[0]))"
   ]
  },
  {
   "cell_type": "code",
   "execution_count": 46,
   "id": "fea33d10",
   "metadata": {},
   "outputs": [
    {
     "data": {
      "text/plain": [
       "['__add__',\n",
       " '__class__',\n",
       " '__delattr__',\n",
       " '__dir__',\n",
       " '__doc__',\n",
       " '__eq__',\n",
       " '__format__',\n",
       " '__ge__',\n",
       " '__getattribute__',\n",
       " '__gt__',\n",
       " '__hash__',\n",
       " '__init__',\n",
       " '__init_subclass__',\n",
       " '__le__',\n",
       " '__lt__',\n",
       " '__ne__',\n",
       " '__new__',\n",
       " '__radd__',\n",
       " '__reduce__',\n",
       " '__reduce_ex__',\n",
       " '__repr__',\n",
       " '__rsub__',\n",
       " '__setattr__',\n",
       " '__sizeof__',\n",
       " '__str__',\n",
       " '__sub__',\n",
       " '__subclasshook__',\n",
       " 'ctime',\n",
       " 'day',\n",
       " 'fromisocalendar',\n",
       " 'fromisoformat',\n",
       " 'fromordinal',\n",
       " 'fromtimestamp',\n",
       " 'isocalendar',\n",
       " 'isoformat',\n",
       " 'isoweekday',\n",
       " 'max',\n",
       " 'min',\n",
       " 'month',\n",
       " 'replace',\n",
       " 'resolution',\n",
       " 'strftime',\n",
       " 'timetuple',\n",
       " 'today',\n",
       " 'toordinal',\n",
       " 'weekday',\n",
       " 'year']"
      ]
     },
     "execution_count": 46,
     "metadata": {},
     "output_type": "execute_result"
    }
   ],
   "source": [
    "import datetime\n",
    "localtime = datetime.datetime.now()+datetime.timedelta(days=1)\n",
    "dir(localtime.date())"
   ]
  },
  {
   "cell_type": "code",
   "execution_count": 50,
   "id": "d55f7972",
   "metadata": {},
   "outputs": [
    {
     "data": {
      "text/plain": [
       "8"
      ]
     },
     "execution_count": 50,
     "metadata": {},
     "output_type": "execute_result"
    }
   ],
   "source": [
    "localtime.month"
   ]
  }
 ],
 "metadata": {
  "kernelspec": {
   "display_name": "Python 3",
   "language": "python",
   "name": "python3"
  },
  "language_info": {
   "codemirror_mode": {
    "name": "ipython",
    "version": 3
   },
   "file_extension": ".py",
   "mimetype": "text/x-python",
   "name": "python",
   "nbconvert_exporter": "python",
   "pygments_lexer": "ipython3",
   "version": "3.8.8"
  }
 },
 "nbformat": 4,
 "nbformat_minor": 5
}
