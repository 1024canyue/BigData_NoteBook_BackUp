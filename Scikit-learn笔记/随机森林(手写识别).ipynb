{
 "cells": [
  {
   "cell_type": "code",
   "execution_count": 9,
   "id": "609771cf",
   "metadata": {},
   "outputs": [],
   "source": [
    "from sklearn.datasets import fetch_openml  #导入手写数字数据集\n",
    "mnist = fetch_openml(\"mnist_784\",version=1,cache=True)\n",
    "import numpy as np       #导入常用库\n",
    "import pandas as pd\n",
    "import matplotlib.pyplot as plt\n",
    "plt.rcParams[\"font.sans-serif\"]=[\"SimHei\"]\n",
    "plt.rcParams[\"axes.unicode_minus\"]=False"
   ]
  },
  {
   "cell_type": "code",
   "execution_count": 23,
   "id": "137c0486",
   "metadata": {},
   "outputs": [],
   "source": [
    "datas = mnist[\"data\"].values    #划分数据与标签\n",
    "targets = np.array(mnist[\"target\"]).astype(np.int8)"
   ]
  },
  {
   "cell_type": "code",
   "execution_count": 33,
   "id": "f51848bc",
   "metadata": {},
   "outputs": [],
   "source": [
    "from sklearn.model_selection import train_test_split  #划分测试集与训练集\n",
    "X_train,X_test,Y_train,Y_test = train_test_split(datas,targets)"
   ]
  },
  {
   "cell_type": "code",
   "execution_count": 37,
   "id": "5dfaa963",
   "metadata": {},
   "outputs": [
    {
     "data": {
      "text/plain": [
       "RandomForestClassifier(n_estimators=500, random_state=42)"
      ]
     },
     "execution_count": 37,
     "metadata": {},
     "output_type": "execute_result"
    }
   ],
   "source": [
    "from sklearn.ensemble import RandomForestClassifier as RFC  #导入随机森林\n",
    "clf=RFC(n_estimators=500,random_state=42)\n",
    "clf.fit(X_train,Y_train)   #训练模型"
   ]
  },
  {
   "cell_type": "raw",
   "id": "de208a0b",
   "metadata": {},
   "source": [
    "from sklearn.model_selection import cross_val_score  #5折交叉验证（耗时巨大）\n",
    "score = cross_val_score(clf,datas,targets,\n",
    "                        cv=5,\n",
    "                        scoring=\"accuracy\"\n",
    ").mean()\n",
    "score"
   ]
  },
  {
   "cell_type": "code",
   "execution_count": 43,
   "id": "c9d82bfc",
   "metadata": {},
   "outputs": [
    {
     "data": {
      "text/plain": [
       "0.9709142857142857"
      ]
     },
     "execution_count": 43,
     "metadata": {},
     "output_type": "execute_result"
    }
   ],
   "source": [
    "score = clf.score(X_test,Y_test)  #用这代替\n",
    "score"
   ]
  },
  {
   "cell_type": "code",
   "execution_count": 62,
   "id": "a6fb124b",
   "metadata": {},
   "outputs": [
    {
     "data": {
      "image/png": "[encoded data removed]",
      "text/plain": [
       "<Figure size 640x480 with 1 Axes>"
      ]
     },
     "metadata": {},
     "output_type": "display_data"
    },
    {
     "name": "stdout",
     "output_type": "stream",
     "text": [
      "这是一个3\n",
      "模型准确度97.09%\n"
     ]
    }
   ],
   "source": [
    "import matplotlib as mpl\n",
    "plt.imshow(datas[12].reshape(28,28),cmap = mpl.cm.binary,interpolation=\"nearest\")\n",
    "plt.show()\n",
    "print(\"这是一个{}\".format(clf.predict([datas[12]])[0]))\n",
    "print(\"模型准确度{:.2f}%\".format(score*100))"
   ]
  },
  {
   "cell_type": "code",
   "execution_count": null,
   "id": "f97cfe05",
   "metadata": {},
   "outputs": [],
   "source": []
  }
 ],
 "metadata": {
  "kernelspec": {
   "display_name": "Python 3",
   "language": "python",
   "name": "python3"
  },
  "language_info": {
   "codemirror_mode": {
    "name": "ipython",
    "version": 3
   },
   "file_extension": ".py",
   "mimetype": "text/x-python",
   "name": "python",
   "nbconvert_exporter": "python",
   "pygments_lexer": "ipython3",
   "version": "3.8.8"
  }
 },
 "nbformat": 4,
 "nbformat_minor": 5
}
