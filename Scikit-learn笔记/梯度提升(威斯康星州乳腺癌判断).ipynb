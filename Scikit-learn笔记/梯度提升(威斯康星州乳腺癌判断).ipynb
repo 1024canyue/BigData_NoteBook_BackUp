{
 "cells": [
  {
   "cell_type": "code",
   "execution_count": 1,
   "id": "68bb77c3",
   "metadata": {},
   "outputs": [],
   "source": [
    "#两件套\n",
    "import numpy as np\n",
    "import pandas as pd"
   ]
  },
  {
   "cell_type": "code",
   "execution_count": 2,
   "id": "f55edb7f",
   "metadata": {},
   "outputs": [],
   "source": [
    "data = pd.read_csv(\"../data/breast-cancer-wisconsin-data.csv\")  #读取本地数据\n",
    "#中文列名\n",
    "ch_name=[\"样本编码\",\"团块厚度\",\"细胞大小的均匀性\",\"细胞形状的均匀性\",\"边缘附着力\",\n",
    "         \"单层上皮细胞大小\",\"裸核\",\"乏味染色质\",\"正常和仁\",\"线粒体\",\"类别\"]\n",
    "data.columns = [x for x in ch_name]  #列名中文化"
   ]
  },
  {
   "cell_type": "code",
   "execution_count": 3,
   "id": "9c0184d7",
   "metadata": {},
   "outputs": [
    {
     "data": {
      "text/plain": [
       "样本编码         0\n",
       "团块厚度         0\n",
       "细胞大小的均匀性     0\n",
       "细胞形状的均匀性     0\n",
       "边缘附着力        0\n",
       "单层上皮细胞大小     0\n",
       "裸核          16\n",
       "乏味染色质        0\n",
       "正常和仁         0\n",
       "线粒体          0\n",
       "类别           0\n",
       "dtype: int64"
      ]
     },
     "execution_count": 3,
     "metadata": {},
     "output_type": "execute_result"
    }
   ],
   "source": [
    "(data[ch_name]==\"?\").sum()   #发现裸核中有异常数据(?)"
   ]
  },
  {
   "cell_type": "code",
   "execution_count": 4,
   "id": "aa489688",
   "metadata": {},
   "outputs": [
    {
     "name": "stdout",
     "output_type": "stream",
     "text": [
      "[ 23  40 139 145 158 164 235 249 275 292 294 297 315 321 411 617]\n"
     ]
    }
   ],
   "source": [
    "#数据清洗，这里选择将异常值所在行删除(没有填充依据)\n",
    "delindex = data[data[\"裸核\"]==\"?\"].index\n",
    "print(delindex.values)   #保留需要删除的行索引\n",
    "data.drop(delindex,inplace=True)"
   ]
  },
  {
   "cell_type": "code",
   "execution_count": 5,
   "id": "7e3dbdc5",
   "metadata": {},
   "outputs": [
    {
     "data": {
      "text/plain": [
       "样本编码        0\n",
       "团块厚度        0\n",
       "细胞大小的均匀性    0\n",
       "细胞形状的均匀性    0\n",
       "边缘附着力       0\n",
       "单层上皮细胞大小    0\n",
       "裸核          0\n",
       "乏味染色质       0\n",
       "正常和仁        0\n",
       "线粒体         0\n",
       "类别          0\n",
       "dtype: int64"
      ]
     },
     "execution_count": 5,
     "metadata": {},
     "output_type": "execute_result"
    }
   ],
   "source": [
    "(data[ch_name]==\"?\").sum()  #异常数据已删除"
   ]
  },
  {
   "cell_type": "code",
   "execution_count": 58,
   "id": "bb0ce636",
   "metadata": {},
   "outputs": [],
   "source": [
    "#分离特征与标签\n",
    "X = np.array(data[ch_name[1:10]])   #中文列名又派上用场\n",
    "Y = np.array(data[ch_name[10]])"
   ]
  },
  {
   "cell_type": "code",
   "execution_count": 59,
   "id": "27a31b11",
   "metadata": {},
   "outputs": [],
   "source": [
    "#拆分训练集与数据集\n",
    "from sklearn.model_selection import train_test_split\n",
    "X_train,X_test,Y_train,Y_test = train_test_split(X,Y,test_size=0.2)  #二八原则"
   ]
  },
  {
   "cell_type": "code",
   "execution_count": 93,
   "id": "8257af37",
   "metadata": {},
   "outputs": [
    {
     "data": {
      "text/plain": [
       "DecisionTreeClassifier(max_depth=4, random_state=66)"
      ]
     },
     "execution_count": 93,
     "metadata": {},
     "output_type": "execute_result"
    }
   ],
   "source": [
    "#拟合预测器\n",
    "from sklearn.ensemble import GradientBoostingClassifier\n",
    "clf = DecisionTreeClassifier(max_depth=4,random_state=66)\n",
    "clf.fit(X_train,Y_train)"
   ]
  },
  {
   "cell_type": "code",
   "execution_count": 94,
   "id": "d550301d",
   "metadata": {},
   "outputs": [
    {
     "data": {
      "text/plain": [
       "0.950257621296694"
      ]
     },
     "execution_count": 94,
     "metadata": {},
     "output_type": "execute_result"
    }
   ],
   "source": [
    "#交叉验证\n",
    "from sklearn.model_selection import cross_val_score\n",
    "score = cross_val_score(clf,X,Y\n",
    "                       ,cv=5\n",
    "                       ,scoring=\"accuracy\").mean()\n",
    "score"
   ]
  },
  {
   "cell_type": "code",
   "execution_count": 69,
   "id": "564085f8",
   "metadata": {
    "scrolled": false
   },
   "outputs": [
    {
     "data": {
      "text/html": [
       "<div>\n",
       "<style scoped>\n",
       "    .dataframe tbody tr th:only-of-type {\n",
       "        vertical-align: middle;\n",
       "    }\n",
       "\n",
       "    .dataframe tbody tr th {\n",
       "        vertical-align: top;\n",
       "    }\n",
       "\n",
       "    .dataframe thead th {\n",
       "        text-align: right;\n",
       "    }\n",
       "</style>\n",
       "<table border=\"1\" class=\"dataframe\">\n",
       "  <thead>\n",
       "    <tr style=\"text-align: right;\">\n",
       "      <th></th>\n",
       "      <th>团块厚度</th>\n",
       "      <th>细胞大小的均匀性</th>\n",
       "      <th>细胞形状的均匀性</th>\n",
       "      <th>边缘附着力</th>\n",
       "      <th>单层上皮细胞大小</th>\n",
       "      <th>裸核</th>\n",
       "      <th>乏味染色质</th>\n",
       "      <th>正常和仁</th>\n",
       "      <th>线粒体</th>\n",
       "      <th>预测分类</th>\n",
       "      <th>实际分类</th>\n",
       "    </tr>\n",
       "  </thead>\n",
       "  <tbody>\n",
       "    <tr>\n",
       "      <th>0</th>\n",
       "      <td>3</td>\n",
       "      <td>2</td>\n",
       "      <td>2</td>\n",
       "      <td>1</td>\n",
       "      <td>2</td>\n",
       "      <td>1</td>\n",
       "      <td>2</td>\n",
       "      <td>3</td>\n",
       "      <td>1</td>\n",
       "      <td>良性</td>\n",
       "      <td>良性</td>\n",
       "    </tr>\n",
       "    <tr>\n",
       "      <th>1</th>\n",
       "      <td>10</td>\n",
       "      <td>3</td>\n",
       "      <td>3</td>\n",
       "      <td>1</td>\n",
       "      <td>2</td>\n",
       "      <td>10</td>\n",
       "      <td>7</td>\n",
       "      <td>6</td>\n",
       "      <td>1</td>\n",
       "      <td>恶性</td>\n",
       "      <td>恶性</td>\n",
       "    </tr>\n",
       "    <tr>\n",
       "      <th>2</th>\n",
       "      <td>2</td>\n",
       "      <td>1</td>\n",
       "      <td>1</td>\n",
       "      <td>1</td>\n",
       "      <td>1</td>\n",
       "      <td>1</td>\n",
       "      <td>3</td>\n",
       "      <td>1</td>\n",
       "      <td>1</td>\n",
       "      <td>良性</td>\n",
       "      <td>良性</td>\n",
       "    </tr>\n",
       "    <tr>\n",
       "      <th>3</th>\n",
       "      <td>1</td>\n",
       "      <td>1</td>\n",
       "      <td>1</td>\n",
       "      <td>1</td>\n",
       "      <td>1</td>\n",
       "      <td>1</td>\n",
       "      <td>3</td>\n",
       "      <td>1</td>\n",
       "      <td>1</td>\n",
       "      <td>良性</td>\n",
       "      <td>良性</td>\n",
       "    </tr>\n",
       "    <tr>\n",
       "      <th>4</th>\n",
       "      <td>1</td>\n",
       "      <td>3</td>\n",
       "      <td>3</td>\n",
       "      <td>2</td>\n",
       "      <td>2</td>\n",
       "      <td>1</td>\n",
       "      <td>7</td>\n",
       "      <td>2</td>\n",
       "      <td>1</td>\n",
       "      <td>良性</td>\n",
       "      <td>良性</td>\n",
       "    </tr>\n",
       "    <tr>\n",
       "      <th>...</th>\n",
       "      <td>...</td>\n",
       "      <td>...</td>\n",
       "      <td>...</td>\n",
       "      <td>...</td>\n",
       "      <td>...</td>\n",
       "      <td>...</td>\n",
       "      <td>...</td>\n",
       "      <td>...</td>\n",
       "      <td>...</td>\n",
       "      <td>...</td>\n",
       "      <td>...</td>\n",
       "    </tr>\n",
       "    <tr>\n",
       "      <th>132</th>\n",
       "      <td>6</td>\n",
       "      <td>10</td>\n",
       "      <td>10</td>\n",
       "      <td>10</td>\n",
       "      <td>8</td>\n",
       "      <td>10</td>\n",
       "      <td>7</td>\n",
       "      <td>10</td>\n",
       "      <td>7</td>\n",
       "      <td>恶性</td>\n",
       "      <td>恶性</td>\n",
       "    </tr>\n",
       "    <tr>\n",
       "      <th>133</th>\n",
       "      <td>1</td>\n",
       "      <td>3</td>\n",
       "      <td>1</td>\n",
       "      <td>2</td>\n",
       "      <td>2</td>\n",
       "      <td>2</td>\n",
       "      <td>5</td>\n",
       "      <td>3</td>\n",
       "      <td>2</td>\n",
       "      <td>良性</td>\n",
       "      <td>良性</td>\n",
       "    </tr>\n",
       "    <tr>\n",
       "      <th>134</th>\n",
       "      <td>3</td>\n",
       "      <td>1</td>\n",
       "      <td>1</td>\n",
       "      <td>1</td>\n",
       "      <td>2</td>\n",
       "      <td>1</td>\n",
       "      <td>3</td>\n",
       "      <td>1</td>\n",
       "      <td>1</td>\n",
       "      <td>良性</td>\n",
       "      <td>良性</td>\n",
       "    </tr>\n",
       "    <tr>\n",
       "      <th>135</th>\n",
       "      <td>1</td>\n",
       "      <td>1</td>\n",
       "      <td>1</td>\n",
       "      <td>1</td>\n",
       "      <td>2</td>\n",
       "      <td>1</td>\n",
       "      <td>1</td>\n",
       "      <td>1</td>\n",
       "      <td>8</td>\n",
       "      <td>良性</td>\n",
       "      <td>良性</td>\n",
       "    </tr>\n",
       "    <tr>\n",
       "      <th>136</th>\n",
       "      <td>4</td>\n",
       "      <td>1</td>\n",
       "      <td>1</td>\n",
       "      <td>1</td>\n",
       "      <td>2</td>\n",
       "      <td>1</td>\n",
       "      <td>2</td>\n",
       "      <td>1</td>\n",
       "      <td>1</td>\n",
       "      <td>良性</td>\n",
       "      <td>良性</td>\n",
       "    </tr>\n",
       "  </tbody>\n",
       "</table>\n",
       "<p>137 rows × 11 columns</p>\n",
       "</div>"
      ],
      "text/plain": [
       "    团块厚度 细胞大小的均匀性 细胞形状的均匀性 边缘附着力 单层上皮细胞大小  裸核 乏味染色质 正常和仁 线粒体 预测分类 实际分类\n",
       "0      3        2        2     1        2   1     2    3   1   良性   良性\n",
       "1     10        3        3     1        2  10     7    6   1   恶性   恶性\n",
       "2      2        1        1     1        1   1     3    1   1   良性   良性\n",
       "3      1        1        1     1        1   1     3    1   1   良性   良性\n",
       "4      1        3        3     2        2   1     7    2   1   良性   良性\n",
       "..   ...      ...      ...   ...      ...  ..   ...  ...  ..  ...  ...\n",
       "132    6       10       10    10        8  10     7   10   7   恶性   恶性\n",
       "133    1        3        1     2        2   2     5    3   2   良性   良性\n",
       "134    3        1        1     1        2   1     3    1   1   良性   良性\n",
       "135    1        1        1     1        2   1     1    1   8   良性   良性\n",
       "136    4        1        1     1        2   1     2    1   1   良性   良性\n",
       "\n",
       "[137 rows x 11 columns]"
      ]
     },
     "execution_count": 69,
     "metadata": {},
     "output_type": "execute_result"
    }
   ],
   "source": [
    "'''测试集分类结果的整理与打印'''\n",
    "predict,test=[],[]\n",
    "class_names={2:\"良性\",4:\"恶性\"}\n",
    "\n",
    "for i in range(len(clf.predict(X_test))):  #预测结果转文字\n",
    "    predict.append(class_names[clf.predict(X_test)[i]])\n",
    "    \n",
    "for i in range(len(Y_test)):     #实际结果转文字\n",
    "    test.append(class_names[Y_test[i]])\n",
    "    \n",
    "pd.concat([pd.DataFrame(X_test,columns=ch_name[1:10]),\n",
    "           pd.DataFrame(predict,columns=[\"预测分类\"]),\n",
    "           pd.DataFrame(test,columns=[\"实际分类\"])],\n",
    "           axis=1)"
   ]
  },
  {
   "cell_type": "code",
   "execution_count": null,
   "id": "ce269114",
   "metadata": {},
   "outputs": [],
   "source": []
  }
 ],
 "metadata": {
  "kernelspec": {
   "display_name": "Python 3",
   "language": "python",
   "name": "python3"
  },
  "language_info": {
   "codemirror_mode": {
    "name": "ipython",
    "version": 3
   },
   "file_extension": ".py",
   "mimetype": "text/x-python",
   "name": "python",
   "nbconvert_exporter": "python",
   "pygments_lexer": "ipython3",
   "version": "3.8.8"
  }
 },
 "nbformat": 4,
 "nbformat_minor": 5
}
