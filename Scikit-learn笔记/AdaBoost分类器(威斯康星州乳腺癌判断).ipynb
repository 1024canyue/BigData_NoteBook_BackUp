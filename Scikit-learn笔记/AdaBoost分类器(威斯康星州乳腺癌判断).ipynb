{
 "cells": [
  {
   "cell_type": "code",
   "execution_count": 1,
   "id": "97eec41b",
   "metadata": {},
   "outputs": [],
   "source": [
    "#两件套\n",
    "import numpy as np\n",
    "import pandas as pd"
   ]
  },
  {
   "cell_type": "code",
   "execution_count": 2,
   "id": "bd23a45e",
   "metadata": {},
   "outputs": [],
   "source": [
    "data = pd.read_csv(\"../data/breast-cancer-wisconsin-data.csv\")  #读取本地数据\n",
    "#中文列名\n",
    "ch_name=[\"样本编码\",\"团块厚度\",\"细胞大小的均匀性\",\"细胞形状的均匀性\",\"边缘附着力\",\n",
    "         \"单层上皮细胞大小\",\"裸核\",\"乏味染色质\",\"正常和仁\",\"线粒体\",\"类别\"]\n",
    "data.columns = [x for x in ch_name]  #列名中文化"
   ]
  },
  {
   "cell_type": "code",
   "execution_count": 3,
   "id": "6ec34072",
   "metadata": {},
   "outputs": [
    {
     "data": {
      "text/plain": [
       "样本编码         0\n",
       "团块厚度         0\n",
       "细胞大小的均匀性     0\n",
       "细胞形状的均匀性     0\n",
       "边缘附着力        0\n",
       "单层上皮细胞大小     0\n",
       "裸核          16\n",
       "乏味染色质        0\n",
       "正常和仁         0\n",
       "线粒体          0\n",
       "类别           0\n",
       "dtype: int64"
      ]
     },
     "execution_count": 3,
     "metadata": {},
     "output_type": "execute_result"
    }
   ],
   "source": [
    "(data[ch_name]==\"?\").sum()   #裸核中有异常数据"
   ]
  },
  {
   "cell_type": "code",
   "execution_count": 4,
   "id": "743d5ab5",
   "metadata": {},
   "outputs": [
    {
     "data": {
      "text/plain": [
       "样本编码        0\n",
       "团块厚度        0\n",
       "细胞大小的均匀性    0\n",
       "细胞形状的均匀性    0\n",
       "边缘附着力       0\n",
       "单层上皮细胞大小    0\n",
       "裸核          0\n",
       "乏味染色质       0\n",
       "正常和仁        0\n",
       "线粒体         0\n",
       "类别          0\n",
       "dtype: int64"
      ]
     },
     "execution_count": 4,
     "metadata": {},
     "output_type": "execute_result"
    }
   ],
   "source": [
    "#数据清洗（删除异常数据）\n",
    "delindex = data[data[\"裸核\"]==\"?\"].index  #得到异常值所在行索引\n",
    "data.drop(delindex,inplace=True)   #删除，覆盖原数据\n",
    "(data[ch_name]==\"?\").sum()   #异常数据被删除"
   ]
  },
  {
   "cell_type": "code",
   "execution_count": 5,
   "id": "f87def51",
   "metadata": {},
   "outputs": [],
   "source": [
    "X = np.array(data[ch_name[1:10]])   #提取特征\n",
    "Y = np.array(data[ch_name[10]])    #提取标签"
   ]
  },
  {
   "cell_type": "code",
   "execution_count": 6,
   "id": "b414b7e8",
   "metadata": {},
   "outputs": [],
   "source": [
    "from sklearn.model_selection import train_test_split\n",
    "X_train,X_test,Y_train,Y_test = train_test_split(X,Y,test_size=0.2)  #2：8原则"
   ]
  },
  {
   "cell_type": "code",
   "execution_count": 13,
   "id": "dbb2fdac",
   "metadata": {},
   "outputs": [
    {
     "data": {
      "text/plain": [
       "AdaBoostClassifier(base_estimator=DecisionTreeClassifier(random_state=66),\n",
       "                   learning_rate=0.5, n_estimators=200, random_state=66)"
      ]
     },
     "execution_count": 13,
     "metadata": {},
     "output_type": "execute_result"
    }
   ],
   "source": [
    "from sklearn.ensemble import AdaBoostClassifier  #导入AdaBoost分类器\n",
    "from sklearn.tree import DecisionTreeClassifier #导入决策树分类器\n",
    "clf = AdaBoostClassifier(\n",
    "    DecisionTreeClassifier(random_state=66),    #使用决策树分类器作为基础预测器\n",
    "    n_estimators=200,   #最大迭代次数\n",
    "    algorithm=\"SAMME.R\",#SAMME即用对样本集分类效果作为弱学习器权重，\n",
    "                        #而SAMME.R使用了对样本集分类的预测概率大小来作为弱学习器权重。\n",
    "                        #由于SAMME.R使用了概率度量的连续值，迭代一般比SAMME快。\n",
    "    learning_rate=0.5,   #每个弱学习器的权重缩减系数\n",
    "    #loss=\"linear\"       #有线性‘linear’(默认), 平方‘square’和指数 ‘exponential’三种选择\n",
    "    random_state=66)    #随机种子\n",
    "clf.fit(X_train,Y_train)"
   ]
  },
  {
   "cell_type": "markdown",
   "id": "88176dfa",
   "metadata": {},
   "source": [
    "![jupyte](../机器学习实战(书本笔记)/图片/AdaBoost原理.jpg)"
   ]
  },
  {
   "cell_type": "code",
   "execution_count": 16,
   "id": "268c25ba",
   "metadata": {},
   "outputs": [
    {
     "data": {
      "text/plain": [
       "0.9562043795620438"
      ]
     },
     "execution_count": 16,
     "metadata": {},
     "output_type": "execute_result"
    }
   ],
   "source": [
    "score = clf.score(X_test,Y_test)\n",
    "score"
   ]
  },
  {
   "cell_type": "code",
   "execution_count": 19,
   "id": "b4e67458",
   "metadata": {},
   "outputs": [
    {
     "data": {
      "text/html": [
       "<div>\n",
       "<style scoped>\n",
       "    .dataframe tbody tr th:only-of-type {\n",
       "        vertical-align: middle;\n",
       "    }\n",
       "\n",
       "    .dataframe tbody tr th {\n",
       "        vertical-align: top;\n",
       "    }\n",
       "\n",
       "    .dataframe thead th {\n",
       "        text-align: right;\n",
       "    }\n",
       "</style>\n",
       "<table border=\"1\" class=\"dataframe\">\n",
       "  <thead>\n",
       "    <tr style=\"text-align: right;\">\n",
       "      <th></th>\n",
       "      <th>团块厚度</th>\n",
       "      <th>细胞大小的均匀性</th>\n",
       "      <th>细胞形状的均匀性</th>\n",
       "      <th>边缘附着力</th>\n",
       "      <th>单层上皮细胞大小</th>\n",
       "      <th>裸核</th>\n",
       "      <th>乏味染色质</th>\n",
       "      <th>正常和仁</th>\n",
       "      <th>线粒体</th>\n",
       "      <th>预测分类</th>\n",
       "      <th>实际分类</th>\n",
       "    </tr>\n",
       "  </thead>\n",
       "  <tbody>\n",
       "    <tr>\n",
       "      <th>0</th>\n",
       "      <td>8</td>\n",
       "      <td>6</td>\n",
       "      <td>4</td>\n",
       "      <td>3</td>\n",
       "      <td>5</td>\n",
       "      <td>9</td>\n",
       "      <td>3</td>\n",
       "      <td>1</td>\n",
       "      <td>1</td>\n",
       "      <td>恶性</td>\n",
       "      <td>恶性</td>\n",
       "    </tr>\n",
       "    <tr>\n",
       "      <th>1</th>\n",
       "      <td>2</td>\n",
       "      <td>1</td>\n",
       "      <td>1</td>\n",
       "      <td>1</td>\n",
       "      <td>2</td>\n",
       "      <td>1</td>\n",
       "      <td>2</td>\n",
       "      <td>2</td>\n",
       "      <td>1</td>\n",
       "      <td>良性</td>\n",
       "      <td>良性</td>\n",
       "    </tr>\n",
       "    <tr>\n",
       "      <th>2</th>\n",
       "      <td>2</td>\n",
       "      <td>1</td>\n",
       "      <td>1</td>\n",
       "      <td>2</td>\n",
       "      <td>2</td>\n",
       "      <td>1</td>\n",
       "      <td>3</td>\n",
       "      <td>1</td>\n",
       "      <td>1</td>\n",
       "      <td>良性</td>\n",
       "      <td>良性</td>\n",
       "    </tr>\n",
       "    <tr>\n",
       "      <th>3</th>\n",
       "      <td>1</td>\n",
       "      <td>1</td>\n",
       "      <td>1</td>\n",
       "      <td>1</td>\n",
       "      <td>2</td>\n",
       "      <td>1</td>\n",
       "      <td>3</td>\n",
       "      <td>1</td>\n",
       "      <td>1</td>\n",
       "      <td>良性</td>\n",
       "      <td>良性</td>\n",
       "    </tr>\n",
       "    <tr>\n",
       "      <th>4</th>\n",
       "      <td>1</td>\n",
       "      <td>1</td>\n",
       "      <td>1</td>\n",
       "      <td>1</td>\n",
       "      <td>2</td>\n",
       "      <td>1</td>\n",
       "      <td>2</td>\n",
       "      <td>1</td>\n",
       "      <td>1</td>\n",
       "      <td>良性</td>\n",
       "      <td>良性</td>\n",
       "    </tr>\n",
       "    <tr>\n",
       "      <th>...</th>\n",
       "      <td>...</td>\n",
       "      <td>...</td>\n",
       "      <td>...</td>\n",
       "      <td>...</td>\n",
       "      <td>...</td>\n",
       "      <td>...</td>\n",
       "      <td>...</td>\n",
       "      <td>...</td>\n",
       "      <td>...</td>\n",
       "      <td>...</td>\n",
       "      <td>...</td>\n",
       "    </tr>\n",
       "    <tr>\n",
       "      <th>132</th>\n",
       "      <td>2</td>\n",
       "      <td>3</td>\n",
       "      <td>1</td>\n",
       "      <td>1</td>\n",
       "      <td>5</td>\n",
       "      <td>1</td>\n",
       "      <td>1</td>\n",
       "      <td>1</td>\n",
       "      <td>1</td>\n",
       "      <td>恶性</td>\n",
       "      <td>良性</td>\n",
       "    </tr>\n",
       "    <tr>\n",
       "      <th>133</th>\n",
       "      <td>1</td>\n",
       "      <td>6</td>\n",
       "      <td>8</td>\n",
       "      <td>10</td>\n",
       "      <td>8</td>\n",
       "      <td>10</td>\n",
       "      <td>5</td>\n",
       "      <td>7</td>\n",
       "      <td>1</td>\n",
       "      <td>恶性</td>\n",
       "      <td>恶性</td>\n",
       "    </tr>\n",
       "    <tr>\n",
       "      <th>134</th>\n",
       "      <td>1</td>\n",
       "      <td>1</td>\n",
       "      <td>1</td>\n",
       "      <td>1</td>\n",
       "      <td>2</td>\n",
       "      <td>1</td>\n",
       "      <td>1</td>\n",
       "      <td>1</td>\n",
       "      <td>1</td>\n",
       "      <td>良性</td>\n",
       "      <td>良性</td>\n",
       "    </tr>\n",
       "    <tr>\n",
       "      <th>135</th>\n",
       "      <td>10</td>\n",
       "      <td>10</td>\n",
       "      <td>10</td>\n",
       "      <td>8</td>\n",
       "      <td>6</td>\n",
       "      <td>1</td>\n",
       "      <td>8</td>\n",
       "      <td>9</td>\n",
       "      <td>1</td>\n",
       "      <td>恶性</td>\n",
       "      <td>恶性</td>\n",
       "    </tr>\n",
       "    <tr>\n",
       "      <th>136</th>\n",
       "      <td>5</td>\n",
       "      <td>3</td>\n",
       "      <td>4</td>\n",
       "      <td>1</td>\n",
       "      <td>8</td>\n",
       "      <td>10</td>\n",
       "      <td>4</td>\n",
       "      <td>9</td>\n",
       "      <td>1</td>\n",
       "      <td>良性</td>\n",
       "      <td>恶性</td>\n",
       "    </tr>\n",
       "  </tbody>\n",
       "</table>\n",
       "<p>137 rows × 11 columns</p>\n",
       "</div>"
      ],
      "text/plain": [
       "    团块厚度 细胞大小的均匀性 细胞形状的均匀性 边缘附着力 单层上皮细胞大小  裸核 乏味染色质 正常和仁 线粒体 预测分类 实际分类\n",
       "0      8        6        4     3        5   9     3    1   1   恶性   恶性\n",
       "1      2        1        1     1        2   1     2    2   1   良性   良性\n",
       "2      2        1        1     2        2   1     3    1   1   良性   良性\n",
       "3      1        1        1     1        2   1     3    1   1   良性   良性\n",
       "4      1        1        1     1        2   1     2    1   1   良性   良性\n",
       "..   ...      ...      ...   ...      ...  ..   ...  ...  ..  ...  ...\n",
       "132    2        3        1     1        5   1     1    1   1   恶性   良性\n",
       "133    1        6        8    10        8  10     5    7   1   恶性   恶性\n",
       "134    1        1        1     1        2   1     1    1   1   良性   良性\n",
       "135   10       10       10     8        6   1     8    9   1   恶性   恶性\n",
       "136    5        3        4     1        8  10     4    9   1   良性   恶性\n",
       "\n",
       "[137 rows x 11 columns]"
      ]
     },
     "execution_count": 19,
     "metadata": {},
     "output_type": "execute_result"
    }
   ],
   "source": [
    "'''测试集分类结果的整理与打印'''\n",
    "predict,test=[],[]\n",
    "class_names={2:\"良性\",4:\"恶性\"}\n",
    "\n",
    "for i in range(len(clf.predict(X_test))):  #预测结果转文字\n",
    "    predict.append(class_names[clf.predict(X_test)[i]])\n",
    "    \n",
    "for i in range(len(Y_test)):     #实际结果转文字\n",
    "    test.append(class_names[Y_test[i]])\n",
    "    \n",
    "pd.concat([pd.DataFrame(X_test,columns=ch_name[1:10]),\n",
    "           pd.DataFrame(predict,columns=[\"预测分类\"]),\n",
    "           pd.DataFrame(test,columns=[\"实际分类\"])],\n",
    "           axis=1)"
   ]
  },
  {
   "cell_type": "code",
   "execution_count": null,
   "id": "afbd9a45",
   "metadata": {},
   "outputs": [],
   "source": []
  }
 ],
 "metadata": {
  "kernelspec": {
   "display_name": "Python 3",
   "language": "python",
   "name": "python3"
  },
  "language_info": {
   "codemirror_mode": {
    "name": "ipython",
    "version": 3
   },
   "file_extension": ".py",
   "mimetype": "text/x-python",
   "name": "python",
   "nbconvert_exporter": "python",
   "pygments_lexer": "ipython3",
   "version": "3.8.8"
  }
 },
 "nbformat": 4,
 "nbformat_minor": 5
}
