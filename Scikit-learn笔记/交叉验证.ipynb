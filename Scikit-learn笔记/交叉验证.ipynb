{
 "cells": [
  {
   "cell_type": "markdown",
   "id": "12f457ec",
   "metadata": {},
   "source": [
    "# 交叉验证\n",
    "西瓜书上是这么解释：交叉验证法先将数据集D划分为k个大小相似的互斥子集，每个子集Di都尽可能保持数据分布的一致性，即从D中通过分层采样得到。然后每次用k-1个子集的并集做为训练集，余下的子集做为测试集，这样就可以获得K组训练/测试集，从而可以进行k次训练和测试，最终返回的是这个k个测试结果的均值。k通常的取值是10，其他常用取值为2，5，20等。\n",
    "* 交叉验证可以“充分利用”有限的数据找到合适的模型参数，防止过度拟合。一般用于数据集较小时\n",
    "* 原先是将数据分成K分，选取K-1分进行训练，会出现K中情况\n",
    "* 而交叉验证则是将那N种情况都训练一次，所以训练时间预计要比之前长K倍\n",
    "* K的取值范围为2~样本数(一份一个样本)"
   ]
  },
  {
   "cell_type": "markdown",
   "id": "a720b09c",
   "metadata": {},
   "source": [
    "![jupyter](./交叉验证原理图.jpg)"
   ]
  },
  {
   "cell_type": "code",
   "execution_count": 14,
   "id": "9de06cf3",
   "metadata": {},
   "outputs": [],
   "source": [
    "from sklearn.datasets import load_iris   #导入自带数据集(只导入鸢尾花)\n",
    "from sklearn.model_selection import train_test_split #用来随机划分样本数据\n",
    "from sklearn.neighbors import KNeighborsClassifier  #导入需要的算法"
   ]
  },
  {
   "cell_type": "code",
   "execution_count": 15,
   "id": "84c65d54",
   "metadata": {},
   "outputs": [],
   "source": [
    "iris = load_iris() #鸢尾花数据\n",
    "X=iris.data\n",
    "Y=iris.target"
   ]
  },
  {
   "cell_type": "markdown",
   "id": "17009891",
   "metadata": {},
   "source": [
    "## 正常情况\n",
    "只训练了一种情况"
   ]
  },
  {
   "cell_type": "code",
   "execution_count": 16,
   "id": "95767dab",
   "metadata": {},
   "outputs": [],
   "source": [
    "X_train,X_test,Y_train,Y_test=train_test_split(X,Y,test_size=0.3,random_state=4)"
   ]
  },
  {
   "cell_type": "code",
   "execution_count": 17,
   "id": "827f08f6",
   "metadata": {
    "scrolled": true
   },
   "outputs": [
    {
     "data": {
      "text/plain": [
       "array([2, 0, 2, 2, 2, 1, 2, 0, 0, 2, 0, 0, 0, 1, 2, 0, 1, 0, 0, 2, 0, 2,\n",
       "       1, 0, 0, 0, 0, 0, 0, 2, 1, 0, 2, 0, 1, 2, 2, 1, 1, 0, 2, 0, 1, 0,\n",
       "       2])"
      ]
     },
     "execution_count": 17,
     "metadata": {},
     "output_type": "execute_result"
    }
   ],
   "source": [
    "knn = KNeighborsClassifier(n_neighbors=5)  #将算法定义成一个对象（临近点个数为5）\n",
    "clf = knn.fit(X_train,Y_train)\n",
    "knn.predict(X_test)"
   ]
  },
  {
   "cell_type": "code",
   "execution_count": 18,
   "id": "e6d669e0",
   "metadata": {},
   "outputs": [
    {
     "data": {
      "text/plain": [
       "0.9777777777777777"
      ]
     },
     "execution_count": 18,
     "metadata": {},
     "output_type": "execute_result"
    }
   ],
   "source": [
    "clf.score(X_test,Y_test)"
   ]
  },
  {
   "cell_type": "markdown",
   "id": "a74f5c31",
   "metadata": {},
   "source": [
    "这个分数比较片面"
   ]
  },
  {
   "cell_type": "markdown",
   "id": "07a7c142",
   "metadata": {},
   "source": [
    "## 交叉验证(k折交叉验证)\n",
    "将K中情况都进行验证，取平均值"
   ]
  },
  {
   "cell_type": "code",
   "execution_count": 19,
   "id": "4716a719",
   "metadata": {},
   "outputs": [],
   "source": [
    "from sklearn.model_selection import cross_val_score  #sklearn.cross_validation已弃用"
   ]
  },
  {
   "cell_type": "code",
   "execution_count": 20,
   "id": "062a8065",
   "metadata": {},
   "outputs": [],
   "source": [
    "X_train,X_test,Y_train,Y_test=train_test_split(X,Y,test_size=0.3,random_state=4)"
   ]
  },
  {
   "cell_type": "code",
   "execution_count": 21,
   "id": "97acec9d",
   "metadata": {},
   "outputs": [
    {
     "data": {
      "text/plain": [
       "array([2, 0, 2, 2, 2, 1, 2, 0, 0, 2, 0, 0, 0, 1, 2, 0, 1, 0, 0, 2, 0, 2,\n",
       "       1, 0, 0, 0, 0, 0, 0, 2, 1, 0, 2, 0, 1, 2, 2, 1, 1, 0, 2, 0, 1, 0,\n",
       "       2])"
      ]
     },
     "execution_count": 21,
     "metadata": {},
     "output_type": "execute_result"
    }
   ],
   "source": [
    "knn = KNeighborsClassifier(n_neighbors=5)  #将算法定义成一个对象（临近点个数为5）\n",
    "clf = knn.fit(X_train,Y_train)\n",
    "clf.predict(X_test)"
   ]
  },
  {
   "cell_type": "code",
   "execution_count": 22,
   "id": "3299bd27",
   "metadata": {},
   "outputs": [
    {
     "data": {
      "text/plain": [
       "0.9733333333333334"
      ]
     },
     "execution_count": 22,
     "metadata": {},
     "output_type": "execute_result"
    }
   ],
   "source": [
    "cross_val_score(clf,X,Y   #交叉验证评分\n",
    "                ,cv=5     #分成五组(K=5)\n",
    "                ,scoring=\"accuracy\"     #判断准确度\n",
    "               ).mean()   #取平均值"
   ]
  },
  {
   "cell_type": "markdown",
   "id": "f44b06f7",
   "metadata": {},
   "source": [
    "这个分数更准确"
   ]
  },
  {
   "cell_type": "markdown",
   "id": "25a8d06f",
   "metadata": {},
   "source": [
    "### 1--如何选择参数\n",
    "研究临近点范围从1-30取值范围中分数的变化"
   ]
  },
  {
   "cell_type": "code",
   "execution_count": 23,
   "id": "75e53986",
   "metadata": {},
   "outputs": [],
   "source": [
    "import matplotlib.pyplot as plt"
   ]
  },
  {
   "cell_type": "code",
   "execution_count": 33,
   "id": "4ab37bbe",
   "metadata": {},
   "outputs": [],
   "source": [
    "n_scores = []   #存放分数\n",
    "for n in range(1,31):   #将1-30分别传入并训练，得到分数\n",
    "    knn = KNeighborsClassifier(n_neighbors=n)  #临近点个数1-30\n",
    "    scores = cross_val_score(knn,X,Y,cv=10,scoring=\"accuracy\")  #这里分成10份\n",
    "    #loss = -cross_val_score(knn,X,Y,cv=10,scoring=\"mean_squared_error\")\n",
    "    n_scores.append(scores.mean())"
   ]
  },
  {
   "cell_type": "code",
   "execution_count": 34,
   "id": "7f6c4ef5",
   "metadata": {},
   "outputs": [
    {
     "data": {
      "image/png": "[encoded data removed]",
      "text/plain": [
       "<Figure size 432x288 with 1 Axes>"
      ]
     },
     "metadata": {
      "needs_background": "light"
     },
     "output_type": "display_data"
    }
   ],
   "source": [
    "plt.plot(range(1,31),n_scores)\n",
    "plt.xlabel(\"n_neighbors\")\n",
    "plt.ylabel(\"scores\")\n",
    "plt.show()"
   ]
  },
  {
   "cell_type": "markdown",
   "id": "da042daf",
   "metadata": {},
   "source": [
    "* 这个例子的n是指n_neighbors ，交叉验证能更加准确客观的体现模型的准确度\n",
    "* 图中分析得出，当n=14时(可能每次运行会有差异)训练准确度已经达到最高值。单n值（临近点个数过小），会导致过耦合，过大会导致欠耦合，这都会影响模型的准确度"
   ]
  },
  {
   "cell_type": "code",
   "execution_count": null,
   "id": "ccdc35ca",
   "metadata": {},
   "outputs": [],
   "source": []
  },
  {
   "cell_type": "code",
   "execution_count": null,
   "id": "c07e0bda",
   "metadata": {},
   "outputs": [],
   "source": []
  }
 ],
 "metadata": {
  "kernelspec": {
   "display_name": "Python 3",
   "language": "python",
   "name": "python3"
  },
  "language_info": {
   "codemirror_mode": {
    "name": "ipython",
    "version": 3
   },
   "file_extension": ".py",
   "mimetype": "text/x-python",
   "name": "python",
   "nbconvert_exporter": "python",
   "pygments_lexer": "ipython3",
   "version": "3.8.8"
  }
 },
 "nbformat": 4,
 "nbformat_minor": 5
}
